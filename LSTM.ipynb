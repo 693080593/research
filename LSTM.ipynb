{
  "nbformat": 4,
  "nbformat_minor": 0,
  "metadata": {
    "kernelspec": {
      "display_name": "Python 3",
      "language": "python",
      "name": "python3"
    },
    "language_info": {
      "codemirror_mode": {
        "name": "ipython",
        "version": 3
      },
      "file_extension": ".py",
      "mimetype": "text/x-python",
      "name": "python",
      "nbconvert_exporter": "python",
      "pygments_lexer": "ipython3",
      "version": "3.7.2"
    },
    "latex_envs": {
      "LaTeX_envs_menu_present": true,
      "autoclose": false,
      "autocomplete": true,
      "bibliofile": "biblio.bib",
      "cite_by": "apalike",
      "current_citInitial": 1,
      "eqLabelWithNumbers": true,
      "eqNumInitial": 1,
      "hotkeys": {
        "equation": "Ctrl-E",
        "itemize": "Ctrl-I"
      },
      "labels_anchors": false,
      "latex_user_defs": false,
      "report_style_numbering": false,
      "user_envs_cfg": false
    },
    "toc": {
      "base_numbering": 1,
      "nav_menu": {},
      "number_sections": true,
      "sideBar": true,
      "skip_h1_title": false,
      "title_cell": "Table of Contents",
      "title_sidebar": "Contents",
      "toc_cell": false,
      "toc_position": {},
      "toc_section_display": true,
      "toc_window_display": false
    },
    "varInspector": {
      "cols": {
        "lenName": 16,
        "lenType": 16,
        "lenVar": 40
      },
      "kernels_config": {
        "python": {
          "delete_cmd_postfix": "",
          "delete_cmd_prefix": "del ",
          "library": "var_list.py",
          "varRefreshCmd": "print(var_dic_list())"
        },
        "r": {
          "delete_cmd_postfix": ") ",
          "delete_cmd_prefix": "rm(",
          "library": "var_list.r",
          "varRefreshCmd": "cat(var_dic_list()) "
        }
      },
      "types_to_exclude": [
        "module",
        "function",
        "builtin_function_or_method",
        "instance",
        "_Feature"
      ],
      "window_display": false
    },
    "colab": {
      "name": "LSTM.ipynb",
      "provenance": [],
      "collapsed_sections": [
        "vcEVkpl12axN",
        "OhFGK66b2axp",
        "W7uINqy52ayJ",
        "ssjkvGZD2aym"
      ],
      "include_colab_link": true
    },
    "widgets": {
      "application/vnd.jupyter.widget-state+json": {
        "f17f26719e7e4c708ee24a8476c00b57": {
          "model_module": "@jupyter-widgets/controls",
          "model_name": "HBoxModel",
          "state": {
            "_view_name": "HBoxView",
            "_dom_classes": [],
            "_model_name": "HBoxModel",
            "_view_module": "@jupyter-widgets/controls",
            "_model_module_version": "1.5.0",
            "_view_count": null,
            "_view_module_version": "1.5.0",
            "box_style": "",
            "layout": "IPY_MODEL_0bc9968b7e7d4ffdb0f4f7a2c653aaee",
            "_model_module": "@jupyter-widgets/controls",
            "children": [
              "IPY_MODEL_ad38b7415fe34a37bc398c8c1efdc61a",
              "IPY_MODEL_830ede811b8e483cab079e6cb826ac3a"
            ]
          }
        },
        "0bc9968b7e7d4ffdb0f4f7a2c653aaee": {
          "model_module": "@jupyter-widgets/base",
          "model_name": "LayoutModel",
          "state": {
            "_view_name": "LayoutView",
            "grid_template_rows": null,
            "right": null,
            "justify_content": null,
            "_view_module": "@jupyter-widgets/base",
            "overflow": null,
            "_model_module_version": "1.2.0",
            "_view_count": null,
            "flex_flow": null,
            "width": null,
            "min_width": null,
            "border": null,
            "align_items": null,
            "bottom": null,
            "_model_module": "@jupyter-widgets/base",
            "top": null,
            "grid_column": null,
            "overflow_y": null,
            "overflow_x": null,
            "grid_auto_flow": null,
            "grid_area": null,
            "grid_template_columns": null,
            "flex": null,
            "_model_name": "LayoutModel",
            "justify_items": null,
            "grid_row": null,
            "max_height": null,
            "align_content": null,
            "visibility": null,
            "align_self": null,
            "height": null,
            "min_height": null,
            "padding": null,
            "grid_auto_rows": null,
            "grid_gap": null,
            "max_width": null,
            "order": null,
            "_view_module_version": "1.2.0",
            "grid_template_areas": null,
            "object_position": null,
            "object_fit": null,
            "grid_auto_columns": null,
            "margin": null,
            "display": null,
            "left": null
          }
        },
        "ad38b7415fe34a37bc398c8c1efdc61a": {
          "model_module": "@jupyter-widgets/controls",
          "model_name": "FloatProgressModel",
          "state": {
            "_view_name": "ProgressView",
            "style": "IPY_MODEL_fe0134cecd194c31b7bd9137333f5102",
            "_dom_classes": [],
            "description": "100%",
            "_model_name": "FloatProgressModel",
            "bar_style": "success",
            "max": 27,
            "_view_module": "@jupyter-widgets/controls",
            "_model_module_version": "1.5.0",
            "value": 27,
            "_view_count": null,
            "_view_module_version": "1.5.0",
            "orientation": "horizontal",
            "min": 0,
            "description_tooltip": null,
            "_model_module": "@jupyter-widgets/controls",
            "layout": "IPY_MODEL_f55f87c076bb4714a150f926ca6cf86d"
          }
        },
        "830ede811b8e483cab079e6cb826ac3a": {
          "model_module": "@jupyter-widgets/controls",
          "model_name": "HTMLModel",
          "state": {
            "_view_name": "HTMLView",
            "style": "IPY_MODEL_b8af506e5bb141deada546b21f4c15c5",
            "_dom_classes": [],
            "description": "",
            "_model_name": "HTMLModel",
            "placeholder": "​",
            "_view_module": "@jupyter-widgets/controls",
            "_model_module_version": "1.5.0",
            "value": " 27/27 [04:18&lt;00:00,  9.58s/it]",
            "_view_count": null,
            "_view_module_version": "1.5.0",
            "description_tooltip": null,
            "_model_module": "@jupyter-widgets/controls",
            "layout": "IPY_MODEL_a0f378580b644bfabf21e95ac0b8db74"
          }
        },
        "fe0134cecd194c31b7bd9137333f5102": {
          "model_module": "@jupyter-widgets/controls",
          "model_name": "ProgressStyleModel",
          "state": {
            "_view_name": "StyleView",
            "_model_name": "ProgressStyleModel",
            "description_width": "initial",
            "_view_module": "@jupyter-widgets/base",
            "_model_module_version": "1.5.0",
            "_view_count": null,
            "_view_module_version": "1.2.0",
            "bar_color": null,
            "_model_module": "@jupyter-widgets/controls"
          }
        },
        "f55f87c076bb4714a150f926ca6cf86d": {
          "model_module": "@jupyter-widgets/base",
          "model_name": "LayoutModel",
          "state": {
            "_view_name": "LayoutView",
            "grid_template_rows": null,
            "right": null,
            "justify_content": null,
            "_view_module": "@jupyter-widgets/base",
            "overflow": null,
            "_model_module_version": "1.2.0",
            "_view_count": null,
            "flex_flow": null,
            "width": null,
            "min_width": null,
            "border": null,
            "align_items": null,
            "bottom": null,
            "_model_module": "@jupyter-widgets/base",
            "top": null,
            "grid_column": null,
            "overflow_y": null,
            "overflow_x": null,
            "grid_auto_flow": null,
            "grid_area": null,
            "grid_template_columns": null,
            "flex": null,
            "_model_name": "LayoutModel",
            "justify_items": null,
            "grid_row": null,
            "max_height": null,
            "align_content": null,
            "visibility": null,
            "align_self": null,
            "height": null,
            "min_height": null,
            "padding": null,
            "grid_auto_rows": null,
            "grid_gap": null,
            "max_width": null,
            "order": null,
            "_view_module_version": "1.2.0",
            "grid_template_areas": null,
            "object_position": null,
            "object_fit": null,
            "grid_auto_columns": null,
            "margin": null,
            "display": null,
            "left": null
          }
        },
        "b8af506e5bb141deada546b21f4c15c5": {
          "model_module": "@jupyter-widgets/controls",
          "model_name": "DescriptionStyleModel",
          "state": {
            "_view_name": "StyleView",
            "_model_name": "DescriptionStyleModel",
            "description_width": "",
            "_view_module": "@jupyter-widgets/base",
            "_model_module_version": "1.5.0",
            "_view_count": null,
            "_view_module_version": "1.2.0",
            "_model_module": "@jupyter-widgets/controls"
          }
        },
        "a0f378580b644bfabf21e95ac0b8db74": {
          "model_module": "@jupyter-widgets/base",
          "model_name": "LayoutModel",
          "state": {
            "_view_name": "LayoutView",
            "grid_template_rows": null,
            "right": null,
            "justify_content": null,
            "_view_module": "@jupyter-widgets/base",
            "overflow": null,
            "_model_module_version": "1.2.0",
            "_view_count": null,
            "flex_flow": null,
            "width": null,
            "min_width": null,
            "border": null,
            "align_items": null,
            "bottom": null,
            "_model_module": "@jupyter-widgets/base",
            "top": null,
            "grid_column": null,
            "overflow_y": null,
            "overflow_x": null,
            "grid_auto_flow": null,
            "grid_area": null,
            "grid_template_columns": null,
            "flex": null,
            "_model_name": "LayoutModel",
            "justify_items": null,
            "grid_row": null,
            "max_height": null,
            "align_content": null,
            "visibility": null,
            "align_self": null,
            "height": null,
            "min_height": null,
            "padding": null,
            "grid_auto_rows": null,
            "grid_gap": null,
            "max_width": null,
            "order": null,
            "_view_module_version": "1.2.0",
            "grid_template_areas": null,
            "object_position": null,
            "object_fit": null,
            "grid_auto_columns": null,
            "margin": null,
            "display": null,
            "left": null
          }
        },
        "86c972edc25641209e94b82c57e188b6": {
          "model_module": "@jupyter-widgets/controls",
          "model_name": "HBoxModel",
          "state": {
            "_view_name": "HBoxView",
            "_dom_classes": [],
            "_model_name": "HBoxModel",
            "_view_module": "@jupyter-widgets/controls",
            "_model_module_version": "1.5.0",
            "_view_count": null,
            "_view_module_version": "1.5.0",
            "box_style": "",
            "layout": "IPY_MODEL_d08aa525730041ceb167426d8b16c7d9",
            "_model_module": "@jupyter-widgets/controls",
            "children": [
              "IPY_MODEL_7797b4dde59249dcb0a32af7cc42bf62",
              "IPY_MODEL_7ef0738f722f45e3a292e73f1c766d43"
            ]
          }
        },
        "d08aa525730041ceb167426d8b16c7d9": {
          "model_module": "@jupyter-widgets/base",
          "model_name": "LayoutModel",
          "state": {
            "_view_name": "LayoutView",
            "grid_template_rows": null,
            "right": null,
            "justify_content": null,
            "_view_module": "@jupyter-widgets/base",
            "overflow": null,
            "_model_module_version": "1.2.0",
            "_view_count": null,
            "flex_flow": null,
            "width": null,
            "min_width": null,
            "border": null,
            "align_items": null,
            "bottom": null,
            "_model_module": "@jupyter-widgets/base",
            "top": null,
            "grid_column": null,
            "overflow_y": null,
            "overflow_x": null,
            "grid_auto_flow": null,
            "grid_area": null,
            "grid_template_columns": null,
            "flex": null,
            "_model_name": "LayoutModel",
            "justify_items": null,
            "grid_row": null,
            "max_height": null,
            "align_content": null,
            "visibility": null,
            "align_self": null,
            "height": null,
            "min_height": null,
            "padding": null,
            "grid_auto_rows": null,
            "grid_gap": null,
            "max_width": null,
            "order": null,
            "_view_module_version": "1.2.0",
            "grid_template_areas": null,
            "object_position": null,
            "object_fit": null,
            "grid_auto_columns": null,
            "margin": null,
            "display": null,
            "left": null
          }
        },
        "7797b4dde59249dcb0a32af7cc42bf62": {
          "model_module": "@jupyter-widgets/controls",
          "model_name": "FloatProgressModel",
          "state": {
            "_view_name": "ProgressView",
            "style": "IPY_MODEL_c2282a66c02244cd97e42cfbb8b89177",
            "_dom_classes": [],
            "description": " 67%",
            "_model_name": "FloatProgressModel",
            "bar_style": "",
            "max": 6,
            "_view_module": "@jupyter-widgets/controls",
            "_model_module_version": "1.5.0",
            "value": 4,
            "_view_count": null,
            "_view_module_version": "1.5.0",
            "orientation": "horizontal",
            "min": 0,
            "description_tooltip": null,
            "_model_module": "@jupyter-widgets/controls",
            "layout": "IPY_MODEL_efca2e050db149f18187c1c3ced14c9c"
          }
        },
        "7ef0738f722f45e3a292e73f1c766d43": {
          "model_module": "@jupyter-widgets/controls",
          "model_name": "HTMLModel",
          "state": {
            "_view_name": "HTMLView",
            "style": "IPY_MODEL_5762a42a74d3421c82e5ba8584ca19a7",
            "_dom_classes": [],
            "description": "",
            "_model_name": "HTMLModel",
            "placeholder": "​",
            "_view_module": "@jupyter-widgets/controls",
            "_model_module_version": "1.5.0",
            "value": " 4/6 [01:25&lt;00:42, 21.15s/it]",
            "_view_count": null,
            "_view_module_version": "1.5.0",
            "description_tooltip": null,
            "_model_module": "@jupyter-widgets/controls",
            "layout": "IPY_MODEL_d635072d39db4121bb75d4b0c403e9cc"
          }
        },
        "c2282a66c02244cd97e42cfbb8b89177": {
          "model_module": "@jupyter-widgets/controls",
          "model_name": "ProgressStyleModel",
          "state": {
            "_view_name": "StyleView",
            "_model_name": "ProgressStyleModel",
            "description_width": "initial",
            "_view_module": "@jupyter-widgets/base",
            "_model_module_version": "1.5.0",
            "_view_count": null,
            "_view_module_version": "1.2.0",
            "bar_color": null,
            "_model_module": "@jupyter-widgets/controls"
          }
        },
        "efca2e050db149f18187c1c3ced14c9c": {
          "model_module": "@jupyter-widgets/base",
          "model_name": "LayoutModel",
          "state": {
            "_view_name": "LayoutView",
            "grid_template_rows": null,
            "right": null,
            "justify_content": null,
            "_view_module": "@jupyter-widgets/base",
            "overflow": null,
            "_model_module_version": "1.2.0",
            "_view_count": null,
            "flex_flow": null,
            "width": null,
            "min_width": null,
            "border": null,
            "align_items": null,
            "bottom": null,
            "_model_module": "@jupyter-widgets/base",
            "top": null,
            "grid_column": null,
            "overflow_y": null,
            "overflow_x": null,
            "grid_auto_flow": null,
            "grid_area": null,
            "grid_template_columns": null,
            "flex": null,
            "_model_name": "LayoutModel",
            "justify_items": null,
            "grid_row": null,
            "max_height": null,
            "align_content": null,
            "visibility": null,
            "align_self": null,
            "height": null,
            "min_height": null,
            "padding": null,
            "grid_auto_rows": null,
            "grid_gap": null,
            "max_width": null,
            "order": null,
            "_view_module_version": "1.2.0",
            "grid_template_areas": null,
            "object_position": null,
            "object_fit": null,
            "grid_auto_columns": null,
            "margin": null,
            "display": null,
            "left": null
          }
        },
        "5762a42a74d3421c82e5ba8584ca19a7": {
          "model_module": "@jupyter-widgets/controls",
          "model_name": "DescriptionStyleModel",
          "state": {
            "_view_name": "StyleView",
            "_model_name": "DescriptionStyleModel",
            "description_width": "",
            "_view_module": "@jupyter-widgets/base",
            "_model_module_version": "1.5.0",
            "_view_count": null,
            "_view_module_version": "1.2.0",
            "_model_module": "@jupyter-widgets/controls"
          }
        },
        "d635072d39db4121bb75d4b0c403e9cc": {
          "model_module": "@jupyter-widgets/base",
          "model_name": "LayoutModel",
          "state": {
            "_view_name": "LayoutView",
            "grid_template_rows": null,
            "right": null,
            "justify_content": null,
            "_view_module": "@jupyter-widgets/base",
            "overflow": null,
            "_model_module_version": "1.2.0",
            "_view_count": null,
            "flex_flow": null,
            "width": null,
            "min_width": null,
            "border": null,
            "align_items": null,
            "bottom": null,
            "_model_module": "@jupyter-widgets/base",
            "top": null,
            "grid_column": null,
            "overflow_y": null,
            "overflow_x": null,
            "grid_auto_flow": null,
            "grid_area": null,
            "grid_template_columns": null,
            "flex": null,
            "_model_name": "LayoutModel",
            "justify_items": null,
            "grid_row": null,
            "max_height": null,
            "align_content": null,
            "visibility": null,
            "align_self": null,
            "height": null,
            "min_height": null,
            "padding": null,
            "grid_auto_rows": null,
            "grid_gap": null,
            "max_width": null,
            "order": null,
            "_view_module_version": "1.2.0",
            "grid_template_areas": null,
            "object_position": null,
            "object_fit": null,
            "grid_auto_columns": null,
            "margin": null,
            "display": null,
            "left": null
          }
        },
        "8d48f3f67d6d479fa660b227d4e9019b": {
          "model_module": "@jupyter-widgets/controls",
          "model_name": "HBoxModel",
          "state": {
            "_view_name": "HBoxView",
            "_dom_classes": [],
            "_model_name": "HBoxModel",
            "_view_module": "@jupyter-widgets/controls",
            "_model_module_version": "1.5.0",
            "_view_count": null,
            "_view_module_version": "1.5.0",
            "box_style": "",
            "layout": "IPY_MODEL_5fbb5235e4254bc3a9174579c34411af",
            "_model_module": "@jupyter-widgets/controls",
            "children": [
              "IPY_MODEL_8e2b09a10a8a4dbf94190c044f8f34c6",
              "IPY_MODEL_7c76e84cb4af41a490928ec7fb90401f"
            ]
          }
        },
        "5fbb5235e4254bc3a9174579c34411af": {
          "model_module": "@jupyter-widgets/base",
          "model_name": "LayoutModel",
          "state": {
            "_view_name": "LayoutView",
            "grid_template_rows": null,
            "right": null,
            "justify_content": null,
            "_view_module": "@jupyter-widgets/base",
            "overflow": null,
            "_model_module_version": "1.2.0",
            "_view_count": null,
            "flex_flow": null,
            "width": null,
            "min_width": null,
            "border": null,
            "align_items": null,
            "bottom": null,
            "_model_module": "@jupyter-widgets/base",
            "top": null,
            "grid_column": null,
            "overflow_y": null,
            "overflow_x": null,
            "grid_auto_flow": null,
            "grid_area": null,
            "grid_template_columns": null,
            "flex": null,
            "_model_name": "LayoutModel",
            "justify_items": null,
            "grid_row": null,
            "max_height": null,
            "align_content": null,
            "visibility": null,
            "align_self": null,
            "height": null,
            "min_height": null,
            "padding": null,
            "grid_auto_rows": null,
            "grid_gap": null,
            "max_width": null,
            "order": null,
            "_view_module_version": "1.2.0",
            "grid_template_areas": null,
            "object_position": null,
            "object_fit": null,
            "grid_auto_columns": null,
            "margin": null,
            "display": null,
            "left": null
          }
        },
        "8e2b09a10a8a4dbf94190c044f8f34c6": {
          "model_module": "@jupyter-widgets/controls",
          "model_name": "FloatProgressModel",
          "state": {
            "_view_name": "ProgressView",
            "style": "IPY_MODEL_ef8e0e7e14cc4363a5d6a67f3253eae8",
            "_dom_classes": [],
            "description": "100%",
            "_model_name": "FloatProgressModel",
            "bar_style": "success",
            "max": 5,
            "_view_module": "@jupyter-widgets/controls",
            "_model_module_version": "1.5.0",
            "value": 5,
            "_view_count": null,
            "_view_module_version": "1.5.0",
            "orientation": "horizontal",
            "min": 0,
            "description_tooltip": null,
            "_model_module": "@jupyter-widgets/controls",
            "layout": "IPY_MODEL_bf1618a593874c1793bdadb7ff3ee652"
          }
        },
        "7c76e84cb4af41a490928ec7fb90401f": {
          "model_module": "@jupyter-widgets/controls",
          "model_name": "HTMLModel",
          "state": {
            "_view_name": "HTMLView",
            "style": "IPY_MODEL_3d0ac727cc0e4a7bba9882e6d5a33b6a",
            "_dom_classes": [],
            "description": "",
            "_model_name": "HTMLModel",
            "placeholder": "​",
            "_view_module": "@jupyter-widgets/controls",
            "_model_module_version": "1.5.0",
            "value": " 5/5 [00:48&lt;00:00,  9.72s/it]",
            "_view_count": null,
            "_view_module_version": "1.5.0",
            "description_tooltip": null,
            "_model_module": "@jupyter-widgets/controls",
            "layout": "IPY_MODEL_4d0fa99b6a804f80a977fac557549889"
          }
        },
        "ef8e0e7e14cc4363a5d6a67f3253eae8": {
          "model_module": "@jupyter-widgets/controls",
          "model_name": "ProgressStyleModel",
          "state": {
            "_view_name": "StyleView",
            "_model_name": "ProgressStyleModel",
            "description_width": "initial",
            "_view_module": "@jupyter-widgets/base",
            "_model_module_version": "1.5.0",
            "_view_count": null,
            "_view_module_version": "1.2.0",
            "bar_color": null,
            "_model_module": "@jupyter-widgets/controls"
          }
        },
        "bf1618a593874c1793bdadb7ff3ee652": {
          "model_module": "@jupyter-widgets/base",
          "model_name": "LayoutModel",
          "state": {
            "_view_name": "LayoutView",
            "grid_template_rows": null,
            "right": null,
            "justify_content": null,
            "_view_module": "@jupyter-widgets/base",
            "overflow": null,
            "_model_module_version": "1.2.0",
            "_view_count": null,
            "flex_flow": null,
            "width": null,
            "min_width": null,
            "border": null,
            "align_items": null,
            "bottom": null,
            "_model_module": "@jupyter-widgets/base",
            "top": null,
            "grid_column": null,
            "overflow_y": null,
            "overflow_x": null,
            "grid_auto_flow": null,
            "grid_area": null,
            "grid_template_columns": null,
            "flex": null,
            "_model_name": "LayoutModel",
            "justify_items": null,
            "grid_row": null,
            "max_height": null,
            "align_content": null,
            "visibility": null,
            "align_self": null,
            "height": null,
            "min_height": null,
            "padding": null,
            "grid_auto_rows": null,
            "grid_gap": null,
            "max_width": null,
            "order": null,
            "_view_module_version": "1.2.0",
            "grid_template_areas": null,
            "object_position": null,
            "object_fit": null,
            "grid_auto_columns": null,
            "margin": null,
            "display": null,
            "left": null
          }
        },
        "3d0ac727cc0e4a7bba9882e6d5a33b6a": {
          "model_module": "@jupyter-widgets/controls",
          "model_name": "DescriptionStyleModel",
          "state": {
            "_view_name": "StyleView",
            "_model_name": "DescriptionStyleModel",
            "description_width": "",
            "_view_module": "@jupyter-widgets/base",
            "_model_module_version": "1.5.0",
            "_view_count": null,
            "_view_module_version": "1.2.0",
            "_model_module": "@jupyter-widgets/controls"
          }
        },
        "4d0fa99b6a804f80a977fac557549889": {
          "model_module": "@jupyter-widgets/base",
          "model_name": "LayoutModel",
          "state": {
            "_view_name": "LayoutView",
            "grid_template_rows": null,
            "right": null,
            "justify_content": null,
            "_view_module": "@jupyter-widgets/base",
            "overflow": null,
            "_model_module_version": "1.2.0",
            "_view_count": null,
            "flex_flow": null,
            "width": null,
            "min_width": null,
            "border": null,
            "align_items": null,
            "bottom": null,
            "_model_module": "@jupyter-widgets/base",
            "top": null,
            "grid_column": null,
            "overflow_y": null,
            "overflow_x": null,
            "grid_auto_flow": null,
            "grid_area": null,
            "grid_template_columns": null,
            "flex": null,
            "_model_name": "LayoutModel",
            "justify_items": null,
            "grid_row": null,
            "max_height": null,
            "align_content": null,
            "visibility": null,
            "align_self": null,
            "height": null,
            "min_height": null,
            "padding": null,
            "grid_auto_rows": null,
            "grid_gap": null,
            "max_width": null,
            "order": null,
            "_view_module_version": "1.2.0",
            "grid_template_areas": null,
            "object_position": null,
            "object_fit": null,
            "grid_auto_columns": null,
            "margin": null,
            "display": null,
            "left": null
          }
        },
        "7d6831dab2c04851a6e7e8c9f4cc29d7": {
          "model_module": "@jupyter-widgets/controls",
          "model_name": "HBoxModel",
          "state": {
            "_view_name": "HBoxView",
            "_dom_classes": [],
            "_model_name": "HBoxModel",
            "_view_module": "@jupyter-widgets/controls",
            "_model_module_version": "1.5.0",
            "_view_count": null,
            "_view_module_version": "1.5.0",
            "box_style": "",
            "layout": "IPY_MODEL_233bc9fddf434bfb8cfadcdaaf382c21",
            "_model_module": "@jupyter-widgets/controls",
            "children": [
              "IPY_MODEL_440d1ddcd3c34e61beec90c23465f288",
              "IPY_MODEL_468ccc90ab6f4aa5a8d7b2a842c46bb7"
            ]
          }
        },
        "233bc9fddf434bfb8cfadcdaaf382c21": {
          "model_module": "@jupyter-widgets/base",
          "model_name": "LayoutModel",
          "state": {
            "_view_name": "LayoutView",
            "grid_template_rows": null,
            "right": null,
            "justify_content": null,
            "_view_module": "@jupyter-widgets/base",
            "overflow": null,
            "_model_module_version": "1.2.0",
            "_view_count": null,
            "flex_flow": null,
            "width": null,
            "min_width": null,
            "border": null,
            "align_items": null,
            "bottom": null,
            "_model_module": "@jupyter-widgets/base",
            "top": null,
            "grid_column": null,
            "overflow_y": null,
            "overflow_x": null,
            "grid_auto_flow": null,
            "grid_area": null,
            "grid_template_columns": null,
            "flex": null,
            "_model_name": "LayoutModel",
            "justify_items": null,
            "grid_row": null,
            "max_height": null,
            "align_content": null,
            "visibility": null,
            "align_self": null,
            "height": null,
            "min_height": null,
            "padding": null,
            "grid_auto_rows": null,
            "grid_gap": null,
            "max_width": null,
            "order": null,
            "_view_module_version": "1.2.0",
            "grid_template_areas": null,
            "object_position": null,
            "object_fit": null,
            "grid_auto_columns": null,
            "margin": null,
            "display": null,
            "left": null
          }
        },
        "440d1ddcd3c34e61beec90c23465f288": {
          "model_module": "@jupyter-widgets/controls",
          "model_name": "FloatProgressModel",
          "state": {
            "_view_name": "ProgressView",
            "style": "IPY_MODEL_15fd2d56c1d14e90bea0a3f2cf2d1de0",
            "_dom_classes": [],
            "description": "100%",
            "_model_name": "FloatProgressModel",
            "bar_style": "success",
            "max": 5,
            "_view_module": "@jupyter-widgets/controls",
            "_model_module_version": "1.5.0",
            "value": 5,
            "_view_count": null,
            "_view_module_version": "1.5.0",
            "orientation": "horizontal",
            "min": 0,
            "description_tooltip": null,
            "_model_module": "@jupyter-widgets/controls",
            "layout": "IPY_MODEL_33bccb97c3a64af1a70952ff2daef1b0"
          }
        },
        "468ccc90ab6f4aa5a8d7b2a842c46bb7": {
          "model_module": "@jupyter-widgets/controls",
          "model_name": "HTMLModel",
          "state": {
            "_view_name": "HTMLView",
            "style": "IPY_MODEL_a7704240588447a4bef1992db73e46df",
            "_dom_classes": [],
            "description": "",
            "_model_name": "HTMLModel",
            "placeholder": "​",
            "_view_module": "@jupyter-widgets/controls",
            "_model_module_version": "1.5.0",
            "value": " 5/5 [00:37&lt;00:00,  7.45s/it]",
            "_view_count": null,
            "_view_module_version": "1.5.0",
            "description_tooltip": null,
            "_model_module": "@jupyter-widgets/controls",
            "layout": "IPY_MODEL_458303be973d416e95e04332080f2650"
          }
        },
        "15fd2d56c1d14e90bea0a3f2cf2d1de0": {
          "model_module": "@jupyter-widgets/controls",
          "model_name": "ProgressStyleModel",
          "state": {
            "_view_name": "StyleView",
            "_model_name": "ProgressStyleModel",
            "description_width": "initial",
            "_view_module": "@jupyter-widgets/base",
            "_model_module_version": "1.5.0",
            "_view_count": null,
            "_view_module_version": "1.2.0",
            "bar_color": null,
            "_model_module": "@jupyter-widgets/controls"
          }
        },
        "33bccb97c3a64af1a70952ff2daef1b0": {
          "model_module": "@jupyter-widgets/base",
          "model_name": "LayoutModel",
          "state": {
            "_view_name": "LayoutView",
            "grid_template_rows": null,
            "right": null,
            "justify_content": null,
            "_view_module": "@jupyter-widgets/base",
            "overflow": null,
            "_model_module_version": "1.2.0",
            "_view_count": null,
            "flex_flow": null,
            "width": null,
            "min_width": null,
            "border": null,
            "align_items": null,
            "bottom": null,
            "_model_module": "@jupyter-widgets/base",
            "top": null,
            "grid_column": null,
            "overflow_y": null,
            "overflow_x": null,
            "grid_auto_flow": null,
            "grid_area": null,
            "grid_template_columns": null,
            "flex": null,
            "_model_name": "LayoutModel",
            "justify_items": null,
            "grid_row": null,
            "max_height": null,
            "align_content": null,
            "visibility": null,
            "align_self": null,
            "height": null,
            "min_height": null,
            "padding": null,
            "grid_auto_rows": null,
            "grid_gap": null,
            "max_width": null,
            "order": null,
            "_view_module_version": "1.2.0",
            "grid_template_areas": null,
            "object_position": null,
            "object_fit": null,
            "grid_auto_columns": null,
            "margin": null,
            "display": null,
            "left": null
          }
        },
        "a7704240588447a4bef1992db73e46df": {
          "model_module": "@jupyter-widgets/controls",
          "model_name": "DescriptionStyleModel",
          "state": {
            "_view_name": "StyleView",
            "_model_name": "DescriptionStyleModel",
            "description_width": "",
            "_view_module": "@jupyter-widgets/base",
            "_model_module_version": "1.5.0",
            "_view_count": null,
            "_view_module_version": "1.2.0",
            "_model_module": "@jupyter-widgets/controls"
          }
        },
        "458303be973d416e95e04332080f2650": {
          "model_module": "@jupyter-widgets/base",
          "model_name": "LayoutModel",
          "state": {
            "_view_name": "LayoutView",
            "grid_template_rows": null,
            "right": null,
            "justify_content": null,
            "_view_module": "@jupyter-widgets/base",
            "overflow": null,
            "_model_module_version": "1.2.0",
            "_view_count": null,
            "flex_flow": null,
            "width": null,
            "min_width": null,
            "border": null,
            "align_items": null,
            "bottom": null,
            "_model_module": "@jupyter-widgets/base",
            "top": null,
            "grid_column": null,
            "overflow_y": null,
            "overflow_x": null,
            "grid_auto_flow": null,
            "grid_area": null,
            "grid_template_columns": null,
            "flex": null,
            "_model_name": "LayoutModel",
            "justify_items": null,
            "grid_row": null,
            "max_height": null,
            "align_content": null,
            "visibility": null,
            "align_self": null,
            "height": null,
            "min_height": null,
            "padding": null,
            "grid_auto_rows": null,
            "grid_gap": null,
            "max_width": null,
            "order": null,
            "_view_module_version": "1.2.0",
            "grid_template_areas": null,
            "object_position": null,
            "object_fit": null,
            "grid_auto_columns": null,
            "margin": null,
            "display": null,
            "left": null
          }
        },
        "da3d9619fb51461da9f7d4c5f6608137": {
          "model_module": "@jupyter-widgets/controls",
          "model_name": "HBoxModel",
          "state": {
            "_view_name": "HBoxView",
            "_dom_classes": [],
            "_model_name": "HBoxModel",
            "_view_module": "@jupyter-widgets/controls",
            "_model_module_version": "1.5.0",
            "_view_count": null,
            "_view_module_version": "1.5.0",
            "box_style": "",
            "layout": "IPY_MODEL_d494d4dfff1748c5bb74b1cde913df6e",
            "_model_module": "@jupyter-widgets/controls",
            "children": [
              "IPY_MODEL_ba518dc986b74c988dc0fc16e6ef049b",
              "IPY_MODEL_d55e636e961844d3bf72ddabd3645233"
            ]
          }
        },
        "d494d4dfff1748c5bb74b1cde913df6e": {
          "model_module": "@jupyter-widgets/base",
          "model_name": "LayoutModel",
          "state": {
            "_view_name": "LayoutView",
            "grid_template_rows": null,
            "right": null,
            "justify_content": null,
            "_view_module": "@jupyter-widgets/base",
            "overflow": null,
            "_model_module_version": "1.2.0",
            "_view_count": null,
            "flex_flow": null,
            "width": null,
            "min_width": null,
            "border": null,
            "align_items": null,
            "bottom": null,
            "_model_module": "@jupyter-widgets/base",
            "top": null,
            "grid_column": null,
            "overflow_y": null,
            "overflow_x": null,
            "grid_auto_flow": null,
            "grid_area": null,
            "grid_template_columns": null,
            "flex": null,
            "_model_name": "LayoutModel",
            "justify_items": null,
            "grid_row": null,
            "max_height": null,
            "align_content": null,
            "visibility": null,
            "align_self": null,
            "height": null,
            "min_height": null,
            "padding": null,
            "grid_auto_rows": null,
            "grid_gap": null,
            "max_width": null,
            "order": null,
            "_view_module_version": "1.2.0",
            "grid_template_areas": null,
            "object_position": null,
            "object_fit": null,
            "grid_auto_columns": null,
            "margin": null,
            "display": null,
            "left": null
          }
        },
        "ba518dc986b74c988dc0fc16e6ef049b": {
          "model_module": "@jupyter-widgets/controls",
          "model_name": "FloatProgressModel",
          "state": {
            "_view_name": "ProgressView",
            "style": "IPY_MODEL_8d9d441513cd45fca8f975f540483619",
            "_dom_classes": [],
            "description": "100%",
            "_model_name": "FloatProgressModel",
            "bar_style": "success",
            "max": 5,
            "_view_module": "@jupyter-widgets/controls",
            "_model_module_version": "1.5.0",
            "value": 5,
            "_view_count": null,
            "_view_module_version": "1.5.0",
            "orientation": "horizontal",
            "min": 0,
            "description_tooltip": null,
            "_model_module": "@jupyter-widgets/controls",
            "layout": "IPY_MODEL_59dd42d0334147c7b061a383154baf83"
          }
        },
        "d55e636e961844d3bf72ddabd3645233": {
          "model_module": "@jupyter-widgets/controls",
          "model_name": "HTMLModel",
          "state": {
            "_view_name": "HTMLView",
            "style": "IPY_MODEL_ce9b4b259b264aaf80a371fc88d81663",
            "_dom_classes": [],
            "description": "",
            "_model_name": "HTMLModel",
            "placeholder": "​",
            "_view_module": "@jupyter-widgets/controls",
            "_model_module_version": "1.5.0",
            "value": " 5/5 [00:24&lt;00:00,  4.97s/it]",
            "_view_count": null,
            "_view_module_version": "1.5.0",
            "description_tooltip": null,
            "_model_module": "@jupyter-widgets/controls",
            "layout": "IPY_MODEL_1e090f5396b64814817ea31cd4399883"
          }
        },
        "8d9d441513cd45fca8f975f540483619": {
          "model_module": "@jupyter-widgets/controls",
          "model_name": "ProgressStyleModel",
          "state": {
            "_view_name": "StyleView",
            "_model_name": "ProgressStyleModel",
            "description_width": "initial",
            "_view_module": "@jupyter-widgets/base",
            "_model_module_version": "1.5.0",
            "_view_count": null,
            "_view_module_version": "1.2.0",
            "bar_color": null,
            "_model_module": "@jupyter-widgets/controls"
          }
        },
        "59dd42d0334147c7b061a383154baf83": {
          "model_module": "@jupyter-widgets/base",
          "model_name": "LayoutModel",
          "state": {
            "_view_name": "LayoutView",
            "grid_template_rows": null,
            "right": null,
            "justify_content": null,
            "_view_module": "@jupyter-widgets/base",
            "overflow": null,
            "_model_module_version": "1.2.0",
            "_view_count": null,
            "flex_flow": null,
            "width": null,
            "min_width": null,
            "border": null,
            "align_items": null,
            "bottom": null,
            "_model_module": "@jupyter-widgets/base",
            "top": null,
            "grid_column": null,
            "overflow_y": null,
            "overflow_x": null,
            "grid_auto_flow": null,
            "grid_area": null,
            "grid_template_columns": null,
            "flex": null,
            "_model_name": "LayoutModel",
            "justify_items": null,
            "grid_row": null,
            "max_height": null,
            "align_content": null,
            "visibility": null,
            "align_self": null,
            "height": null,
            "min_height": null,
            "padding": null,
            "grid_auto_rows": null,
            "grid_gap": null,
            "max_width": null,
            "order": null,
            "_view_module_version": "1.2.0",
            "grid_template_areas": null,
            "object_position": null,
            "object_fit": null,
            "grid_auto_columns": null,
            "margin": null,
            "display": null,
            "left": null
          }
        },
        "ce9b4b259b264aaf80a371fc88d81663": {
          "model_module": "@jupyter-widgets/controls",
          "model_name": "DescriptionStyleModel",
          "state": {
            "_view_name": "StyleView",
            "_model_name": "DescriptionStyleModel",
            "description_width": "",
            "_view_module": "@jupyter-widgets/base",
            "_model_module_version": "1.5.0",
            "_view_count": null,
            "_view_module_version": "1.2.0",
            "_model_module": "@jupyter-widgets/controls"
          }
        },
        "1e090f5396b64814817ea31cd4399883": {
          "model_module": "@jupyter-widgets/base",
          "model_name": "LayoutModel",
          "state": {
            "_view_name": "LayoutView",
            "grid_template_rows": null,
            "right": null,
            "justify_content": null,
            "_view_module": "@jupyter-widgets/base",
            "overflow": null,
            "_model_module_version": "1.2.0",
            "_view_count": null,
            "flex_flow": null,
            "width": null,
            "min_width": null,
            "border": null,
            "align_items": null,
            "bottom": null,
            "_model_module": "@jupyter-widgets/base",
            "top": null,
            "grid_column": null,
            "overflow_y": null,
            "overflow_x": null,
            "grid_auto_flow": null,
            "grid_area": null,
            "grid_template_columns": null,
            "flex": null,
            "_model_name": "LayoutModel",
            "justify_items": null,
            "grid_row": null,
            "max_height": null,
            "align_content": null,
            "visibility": null,
            "align_self": null,
            "height": null,
            "min_height": null,
            "padding": null,
            "grid_auto_rows": null,
            "grid_gap": null,
            "max_width": null,
            "order": null,
            "_view_module_version": "1.2.0",
            "grid_template_areas": null,
            "object_position": null,
            "object_fit": null,
            "grid_auto_columns": null,
            "margin": null,
            "display": null,
            "left": null
          }
        },
        "507905e3e69b411fafbde88c3d38a1ab": {
          "model_module": "@jupyter-widgets/controls",
          "model_name": "HBoxModel",
          "state": {
            "_view_name": "HBoxView",
            "_dom_classes": [],
            "_model_name": "HBoxModel",
            "_view_module": "@jupyter-widgets/controls",
            "_model_module_version": "1.5.0",
            "_view_count": null,
            "_view_module_version": "1.5.0",
            "box_style": "",
            "layout": "IPY_MODEL_a6736b1b27014a5ba16983928f1116ab",
            "_model_module": "@jupyter-widgets/controls",
            "children": [
              "IPY_MODEL_523e7554a71941acac4e3cb48ef9daf8",
              "IPY_MODEL_cd2d0dc000df4e209dd52089922c576a"
            ]
          }
        },
        "a6736b1b27014a5ba16983928f1116ab": {
          "model_module": "@jupyter-widgets/base",
          "model_name": "LayoutModel",
          "state": {
            "_view_name": "LayoutView",
            "grid_template_rows": null,
            "right": null,
            "justify_content": null,
            "_view_module": "@jupyter-widgets/base",
            "overflow": null,
            "_model_module_version": "1.2.0",
            "_view_count": null,
            "flex_flow": null,
            "width": null,
            "min_width": null,
            "border": null,
            "align_items": null,
            "bottom": null,
            "_model_module": "@jupyter-widgets/base",
            "top": null,
            "grid_column": null,
            "overflow_y": null,
            "overflow_x": null,
            "grid_auto_flow": null,
            "grid_area": null,
            "grid_template_columns": null,
            "flex": null,
            "_model_name": "LayoutModel",
            "justify_items": null,
            "grid_row": null,
            "max_height": null,
            "align_content": null,
            "visibility": null,
            "align_self": null,
            "height": null,
            "min_height": null,
            "padding": null,
            "grid_auto_rows": null,
            "grid_gap": null,
            "max_width": null,
            "order": null,
            "_view_module_version": "1.2.0",
            "grid_template_areas": null,
            "object_position": null,
            "object_fit": null,
            "grid_auto_columns": null,
            "margin": null,
            "display": null,
            "left": null
          }
        },
        "523e7554a71941acac4e3cb48ef9daf8": {
          "model_module": "@jupyter-widgets/controls",
          "model_name": "FloatProgressModel",
          "state": {
            "_view_name": "ProgressView",
            "style": "IPY_MODEL_22dbacc73e6f42aa88fd3d777b011e4a",
            "_dom_classes": [],
            "description": "100%",
            "_model_name": "FloatProgressModel",
            "bar_style": "success",
            "max": 5,
            "_view_module": "@jupyter-widgets/controls",
            "_model_module_version": "1.5.0",
            "value": 5,
            "_view_count": null,
            "_view_module_version": "1.5.0",
            "orientation": "horizontal",
            "min": 0,
            "description_tooltip": null,
            "_model_module": "@jupyter-widgets/controls",
            "layout": "IPY_MODEL_45f012865f75453387867512a00b7115"
          }
        },
        "cd2d0dc000df4e209dd52089922c576a": {
          "model_module": "@jupyter-widgets/controls",
          "model_name": "HTMLModel",
          "state": {
            "_view_name": "HTMLView",
            "style": "IPY_MODEL_b4b5460176544bd4a7630ca128859247",
            "_dom_classes": [],
            "description": "",
            "_model_name": "HTMLModel",
            "placeholder": "​",
            "_view_module": "@jupyter-widgets/controls",
            "_model_module_version": "1.5.0",
            "value": " 5/5 [00:31&lt;00:00,  6.24s/it]",
            "_view_count": null,
            "_view_module_version": "1.5.0",
            "description_tooltip": null,
            "_model_module": "@jupyter-widgets/controls",
            "layout": "IPY_MODEL_fbae14b37c9b4cd99aa099f0b38549a3"
          }
        },
        "22dbacc73e6f42aa88fd3d777b011e4a": {
          "model_module": "@jupyter-widgets/controls",
          "model_name": "ProgressStyleModel",
          "state": {
            "_view_name": "StyleView",
            "_model_name": "ProgressStyleModel",
            "description_width": "initial",
            "_view_module": "@jupyter-widgets/base",
            "_model_module_version": "1.5.0",
            "_view_count": null,
            "_view_module_version": "1.2.0",
            "bar_color": null,
            "_model_module": "@jupyter-widgets/controls"
          }
        },
        "45f012865f75453387867512a00b7115": {
          "model_module": "@jupyter-widgets/base",
          "model_name": "LayoutModel",
          "state": {
            "_view_name": "LayoutView",
            "grid_template_rows": null,
            "right": null,
            "justify_content": null,
            "_view_module": "@jupyter-widgets/base",
            "overflow": null,
            "_model_module_version": "1.2.0",
            "_view_count": null,
            "flex_flow": null,
            "width": null,
            "min_width": null,
            "border": null,
            "align_items": null,
            "bottom": null,
            "_model_module": "@jupyter-widgets/base",
            "top": null,
            "grid_column": null,
            "overflow_y": null,
            "overflow_x": null,
            "grid_auto_flow": null,
            "grid_area": null,
            "grid_template_columns": null,
            "flex": null,
            "_model_name": "LayoutModel",
            "justify_items": null,
            "grid_row": null,
            "max_height": null,
            "align_content": null,
            "visibility": null,
            "align_self": null,
            "height": null,
            "min_height": null,
            "padding": null,
            "grid_auto_rows": null,
            "grid_gap": null,
            "max_width": null,
            "order": null,
            "_view_module_version": "1.2.0",
            "grid_template_areas": null,
            "object_position": null,
            "object_fit": null,
            "grid_auto_columns": null,
            "margin": null,
            "display": null,
            "left": null
          }
        },
        "b4b5460176544bd4a7630ca128859247": {
          "model_module": "@jupyter-widgets/controls",
          "model_name": "DescriptionStyleModel",
          "state": {
            "_view_name": "StyleView",
            "_model_name": "DescriptionStyleModel",
            "description_width": "",
            "_view_module": "@jupyter-widgets/base",
            "_model_module_version": "1.5.0",
            "_view_count": null,
            "_view_module_version": "1.2.0",
            "_model_module": "@jupyter-widgets/controls"
          }
        },
        "fbae14b37c9b4cd99aa099f0b38549a3": {
          "model_module": "@jupyter-widgets/base",
          "model_name": "LayoutModel",
          "state": {
            "_view_name": "LayoutView",
            "grid_template_rows": null,
            "right": null,
            "justify_content": null,
            "_view_module": "@jupyter-widgets/base",
            "overflow": null,
            "_model_module_version": "1.2.0",
            "_view_count": null,
            "flex_flow": null,
            "width": null,
            "min_width": null,
            "border": null,
            "align_items": null,
            "bottom": null,
            "_model_module": "@jupyter-widgets/base",
            "top": null,
            "grid_column": null,
            "overflow_y": null,
            "overflow_x": null,
            "grid_auto_flow": null,
            "grid_area": null,
            "grid_template_columns": null,
            "flex": null,
            "_model_name": "LayoutModel",
            "justify_items": null,
            "grid_row": null,
            "max_height": null,
            "align_content": null,
            "visibility": null,
            "align_self": null,
            "height": null,
            "min_height": null,
            "padding": null,
            "grid_auto_rows": null,
            "grid_gap": null,
            "max_width": null,
            "order": null,
            "_view_module_version": "1.2.0",
            "grid_template_areas": null,
            "object_position": null,
            "object_fit": null,
            "grid_auto_columns": null,
            "margin": null,
            "display": null,
            "left": null
          }
        },
        "8d961312edc74101854f4e25874f5a13": {
          "model_module": "@jupyter-widgets/controls",
          "model_name": "HBoxModel",
          "state": {
            "_view_name": "HBoxView",
            "_dom_classes": [],
            "_model_name": "HBoxModel",
            "_view_module": "@jupyter-widgets/controls",
            "_model_module_version": "1.5.0",
            "_view_count": null,
            "_view_module_version": "1.5.0",
            "box_style": "",
            "layout": "IPY_MODEL_0f43c3a6445c491bad0bc6f680fe7c35",
            "_model_module": "@jupyter-widgets/controls",
            "children": [
              "IPY_MODEL_765706e23fd74d038330d060d64eb26d",
              "IPY_MODEL_7545ac1e5a764d50b5a228b51c6a9933"
            ]
          }
        },
        "0f43c3a6445c491bad0bc6f680fe7c35": {
          "model_module": "@jupyter-widgets/base",
          "model_name": "LayoutModel",
          "state": {
            "_view_name": "LayoutView",
            "grid_template_rows": null,
            "right": null,
            "justify_content": null,
            "_view_module": "@jupyter-widgets/base",
            "overflow": null,
            "_model_module_version": "1.2.0",
            "_view_count": null,
            "flex_flow": null,
            "width": null,
            "min_width": null,
            "border": null,
            "align_items": null,
            "bottom": null,
            "_model_module": "@jupyter-widgets/base",
            "top": null,
            "grid_column": null,
            "overflow_y": null,
            "overflow_x": null,
            "grid_auto_flow": null,
            "grid_area": null,
            "grid_template_columns": null,
            "flex": null,
            "_model_name": "LayoutModel",
            "justify_items": null,
            "grid_row": null,
            "max_height": null,
            "align_content": null,
            "visibility": null,
            "align_self": null,
            "height": null,
            "min_height": null,
            "padding": null,
            "grid_auto_rows": null,
            "grid_gap": null,
            "max_width": null,
            "order": null,
            "_view_module_version": "1.2.0",
            "grid_template_areas": null,
            "object_position": null,
            "object_fit": null,
            "grid_auto_columns": null,
            "margin": null,
            "display": null,
            "left": null
          }
        },
        "765706e23fd74d038330d060d64eb26d": {
          "model_module": "@jupyter-widgets/controls",
          "model_name": "FloatProgressModel",
          "state": {
            "_view_name": "ProgressView",
            "style": "IPY_MODEL_cbe88ab426b74b0a9a34ed93c935c3f7",
            "_dom_classes": [],
            "description": "  0%",
            "_model_name": "FloatProgressModel",
            "bar_style": "",
            "max": 5,
            "_view_module": "@jupyter-widgets/controls",
            "_model_module_version": "1.5.0",
            "value": 0,
            "_view_count": null,
            "_view_module_version": "1.5.0",
            "orientation": "horizontal",
            "min": 0,
            "description_tooltip": null,
            "_model_module": "@jupyter-widgets/controls",
            "layout": "IPY_MODEL_844d2ddcbb654e2e90b3e40f8ddbb5c6"
          }
        },
        "7545ac1e5a764d50b5a228b51c6a9933": {
          "model_module": "@jupyter-widgets/controls",
          "model_name": "HTMLModel",
          "state": {
            "_view_name": "HTMLView",
            "style": "IPY_MODEL_788ee4dc427f4e26a0a347aeb74fd12b",
            "_dom_classes": [],
            "description": "",
            "_model_name": "HTMLModel",
            "placeholder": "​",
            "_view_module": "@jupyter-widgets/controls",
            "_model_module_version": "1.5.0",
            "value": " 0/5 [00:00&lt;?, ?it/s]",
            "_view_count": null,
            "_view_module_version": "1.5.0",
            "description_tooltip": null,
            "_model_module": "@jupyter-widgets/controls",
            "layout": "IPY_MODEL_2b975be7a36a40afb248b48306f7025a"
          }
        },
        "cbe88ab426b74b0a9a34ed93c935c3f7": {
          "model_module": "@jupyter-widgets/controls",
          "model_name": "ProgressStyleModel",
          "state": {
            "_view_name": "StyleView",
            "_model_name": "ProgressStyleModel",
            "description_width": "initial",
            "_view_module": "@jupyter-widgets/base",
            "_model_module_version": "1.5.0",
            "_view_count": null,
            "_view_module_version": "1.2.0",
            "bar_color": null,
            "_model_module": "@jupyter-widgets/controls"
          }
        },
        "844d2ddcbb654e2e90b3e40f8ddbb5c6": {
          "model_module": "@jupyter-widgets/base",
          "model_name": "LayoutModel",
          "state": {
            "_view_name": "LayoutView",
            "grid_template_rows": null,
            "right": null,
            "justify_content": null,
            "_view_module": "@jupyter-widgets/base",
            "overflow": null,
            "_model_module_version": "1.2.0",
            "_view_count": null,
            "flex_flow": null,
            "width": null,
            "min_width": null,
            "border": null,
            "align_items": null,
            "bottom": null,
            "_model_module": "@jupyter-widgets/base",
            "top": null,
            "grid_column": null,
            "overflow_y": null,
            "overflow_x": null,
            "grid_auto_flow": null,
            "grid_area": null,
            "grid_template_columns": null,
            "flex": null,
            "_model_name": "LayoutModel",
            "justify_items": null,
            "grid_row": null,
            "max_height": null,
            "align_content": null,
            "visibility": null,
            "align_self": null,
            "height": null,
            "min_height": null,
            "padding": null,
            "grid_auto_rows": null,
            "grid_gap": null,
            "max_width": null,
            "order": null,
            "_view_module_version": "1.2.0",
            "grid_template_areas": null,
            "object_position": null,
            "object_fit": null,
            "grid_auto_columns": null,
            "margin": null,
            "display": null,
            "left": null
          }
        },
        "788ee4dc427f4e26a0a347aeb74fd12b": {
          "model_module": "@jupyter-widgets/controls",
          "model_name": "DescriptionStyleModel",
          "state": {
            "_view_name": "StyleView",
            "_model_name": "DescriptionStyleModel",
            "description_width": "",
            "_view_module": "@jupyter-widgets/base",
            "_model_module_version": "1.5.0",
            "_view_count": null,
            "_view_module_version": "1.2.0",
            "_model_module": "@jupyter-widgets/controls"
          }
        },
        "2b975be7a36a40afb248b48306f7025a": {
          "model_module": "@jupyter-widgets/base",
          "model_name": "LayoutModel",
          "state": {
            "_view_name": "LayoutView",
            "grid_template_rows": null,
            "right": null,
            "justify_content": null,
            "_view_module": "@jupyter-widgets/base",
            "overflow": null,
            "_model_module_version": "1.2.0",
            "_view_count": null,
            "flex_flow": null,
            "width": null,
            "min_width": null,
            "border": null,
            "align_items": null,
            "bottom": null,
            "_model_module": "@jupyter-widgets/base",
            "top": null,
            "grid_column": null,
            "overflow_y": null,
            "overflow_x": null,
            "grid_auto_flow": null,
            "grid_area": null,
            "grid_template_columns": null,
            "flex": null,
            "_model_name": "LayoutModel",
            "justify_items": null,
            "grid_row": null,
            "max_height": null,
            "align_content": null,
            "visibility": null,
            "align_self": null,
            "height": null,
            "min_height": null,
            "padding": null,
            "grid_auto_rows": null,
            "grid_gap": null,
            "max_width": null,
            "order": null,
            "_view_module_version": "1.2.0",
            "grid_template_areas": null,
            "object_position": null,
            "object_fit": null,
            "grid_auto_columns": null,
            "margin": null,
            "display": null,
            "left": null
          }
        }
      }
    }
  },
  "cells": [
    {
      "cell_type": "markdown",
      "metadata": {
        "id": "view-in-github",
        "colab_type": "text"
      },
      "source": [
        "<a href=\"https://colab.research.google.com/github/693080593/research/blob/master/LSTM.ipynb\" target=\"_parent\"><img src=\"https://colab.research.google.com/assets/colab-badge.svg\" alt=\"Open In Colab\"/></a>"
      ]
    },
    {
      "cell_type": "markdown",
      "metadata": {
        "id": "u4YtorYn2ats",
        "colab_type": "text"
      },
      "source": [
        "# LSTM Algorithm\n",
        "* object: \n",
        "    * Predict ETF closed price in next day using long short term memory(LSTM).\n",
        "    * Given prices for the last N days, we do prediction for day N+1\n",
        "    * Find the best N to predict the adjusted close price\n",
        "    * Get the prediction precision based the rule RMSE and MAPE"
      ]
    },
    {
      "cell_type": "code",
      "metadata": {
        "id": "ctCIvbhr2atv",
        "colab_type": "code",
        "colab": {}
      },
      "source": [
        "%matplotlib inline\n",
        "\n",
        "import math\n",
        "import matplotlib\n",
        "import numpy as np\n",
        "import pandas as pd\n",
        "import seaborn as sns\n",
        "import time\n",
        "\n",
        "from datetime import date\n",
        "from matplotlib import pyplot as plt\n",
        "from numpy.random import seed\n",
        "from pylab import rcParams\n",
        "from sklearn.metrics import mean_squared_error\n",
        "from tqdm import tqdm_notebook\n",
        "from sklearn.preprocessing import StandardScaler\n",
        "# from tensorflow import set_random_seed\n",
        "from keras.models import Sequential\n",
        "from keras.layers import Dense, Dropout, LSTM\n",
        "from keras.utils import plot_model\n",
        "\n",
        "# Ignore useless warnings\n",
        "import warnings\n",
        "warnings.filterwarnings(\"ignore\")\n",
        "\n",
        "#### Input params ##################\n",
        "stk_path = \"/content/SPY.csv\"\n",
        "test_size = 0.2  # proportion of dataset to be used as test set\n",
        "cv_size = 0.2  # proportion of dataset to be used as cross-validation set\n",
        "\n",
        "#### The orignal parameters befor tuning #############\n",
        "N = 9  # for feature at day t, we use lags from t-1, t-2, ..., t-N as features.\n",
        "lstm_units = 50  # lstm param. initial value before tuning.\n",
        "dropout_prob = 1  # lstm param. initial value before tuning.\n",
        "optimizer = 'adam'  # lstm param. initial value before tuning.\n",
        "epochs = 1  # lstm param. initial value before tuning.\n",
        "batch_size = 1  # lstm param. initial value before tuning.\n",
        "\n",
        "model_seed = 100\n",
        "fontsize = 14\n",
        "ticklabelsize = 14\n",
        "####################################\n",
        "\n",
        "# Set seeds to ensure same output results\n",
        "seed(101)\n",
        "#set_random_seed(model_seed)"
      ],
      "execution_count": null,
      "outputs": []
    },
    {
      "cell_type": "markdown",
      "metadata": {
        "id": "BAHWw8ep2auC",
        "colab_type": "text"
      },
      "source": [
        "## Functions for LSTM"
      ]
    },
    {
      "cell_type": "code",
      "metadata": {
        "id": "q9dLDjGg2auE",
        "colab_type": "code",
        "colab": {}
      },
      "source": [
        "## Compute mean absolute percentage error (MAPE)\n",
        "def get_mape(y_true, y_pred):\n",
        "    y_true, y_pred = np.array(y_true), np.array(y_pred)\n",
        "    return np.mean(np.abs((y_true - y_pred) / y_true)) * 100\n",
        "\n",
        "\n",
        "## Split data into x (features) and y (target)\n",
        "def get_x_y(data, N, offset):\n",
        "    x, y = [], []\n",
        "    for i in range(offset, len(data)):\n",
        "        x.append(data[i - N:i])\n",
        "        y.append(data[i])\n",
        "    x = np.array(x)\n",
        "    y = np.array(y)\n",
        "\n",
        "    return x, y\n",
        "\n",
        "\n",
        "def get_x_scaled_y(data, N, offset):\n",
        "    \"\"\"\n",
        "    Split data into x (features) and y (target)\n",
        "    We scale x to have mean 0 and std dev 1, and return this.\n",
        "    We do not scale y here.\n",
        "    Inputs\n",
        "        data     : pandas series to extract x and y\n",
        "        N\n",
        "        offset\n",
        "    Outputs\n",
        "        x_scaled : features used to predict y. Scaled such that each element has mean 0 and std dev 1\n",
        "        y        : target values. Not scaled\n",
        "        mu_list  : list of the means. Same length as x_scaled and y\n",
        "        std_list : list of the std devs. Same length as x_scaled and y\n",
        "    \"\"\"\n",
        "    x_scaled, y, mu_list, std_list = [], [], [], []\n",
        "    for i in range(offset, len(data)):\n",
        "        mu_list.append(np.mean(data[i - N:i]))\n",
        "        std_list.append(np.std(data[i - N:i]))\n",
        "        x_scaled.append(\n",
        "            (data[i - N:i] - mu_list[i - offset]) / std_list[i - offset])\n",
        "        y.append(data[i])\n",
        "    x_scaled = np.array(x_scaled)\n",
        "    y = np.array(y)\n",
        "\n",
        "    return x_scaled, y, mu_list, std_list\n",
        "\n",
        "def train_pred_eval_model(x_train_scaled, \\\n",
        "                          y_train_scaled, \\\n",
        "                          x_cv_scaled, \\\n",
        "                          y_cv, \\\n",
        "                          mu_cv_list, \\\n",
        "                          std_cv_list, \\\n",
        "                          lstm_units=50, \\\n",
        "                          dropout_prob=0.5, \\\n",
        "                          optimizer='adam', \\\n",
        "                          epochs=1, \\\n",
        "                          batch_size=1):\n",
        "    '''\n",
        "    Train model, do prediction, scale back to original range and do evaluation\n",
        "    Use LSTM here.\n",
        "    Returns rmse, mape and predicted values\n",
        "    Inputs\n",
        "        x_train_scaled\n",
        "        y_train_scaled\n",
        "        x_cv_scaled        : use this to do predictions \n",
        "        y_cv               : actual value of the predictions\n",
        "        mu_cv_list         : list of the means. Same length as x_scaled and y\n",
        "        std_cv_list        : list of the std devs. Same length as x_scaled and y \n",
        "        lstm_units         : lstm param\n",
        "        dropout_prob       : lstm param\n",
        "        optimizer          : lstm param\n",
        "        epochs             : lstm param\n",
        "        batch_size         : lstm param\n",
        "    Outputs\n",
        "        rmse               : root mean square error\n",
        "        mape               : mean absolute percentage error\n",
        "        est                : predictions\n",
        "    '''\n",
        "    # Create the LSTM network\n",
        "    model = Sequential()\n",
        "    model.add(\n",
        "        LSTM(\n",
        "            units=lstm_units,\n",
        "            return_sequences=True,\n",
        "            input_shape=(x_train_scaled.shape[1], 1)))\n",
        "    model.add(Dropout(dropout_prob))  # Add dropout with a probability of 0.5\n",
        "    model.add(LSTM(units=lstm_units))\n",
        "    model.add(Dropout(dropout_prob))  # Add dropout with a probability of 0.5\n",
        "    model.add(Dense(1))\n",
        "\n",
        "    # Compile and fit the LSTM network\n",
        "    model.compile(loss='mean_squared_error', optimizer=optimizer)\n",
        "    model.fit(\n",
        "        x_train_scaled,\n",
        "        y_train_scaled,\n",
        "        epochs=epochs,\n",
        "        batch_size=batch_size,\n",
        "        verbose=0)\n",
        "\n",
        "    # Do prediction\n",
        "    est_scaled = model.predict(x_cv_scaled)\n",
        "    est = (est_scaled * np.array(std_cv_list).reshape(\n",
        "        -1, 1)) + np.array(mu_cv_list).reshape(-1, 1)\n",
        "\n",
        "    # Calculate RMSE and MAPE\n",
        "    #     print(\"x_cv_scaled = \" + str(x_cv_scaled))\n",
        "    #     print(\"est_scaled = \" + str(est_scaled))\n",
        "    #     print(\"est = \" + str(est))\n",
        "    rmse = math.sqrt(mean_squared_error(y_cv, est))\n",
        "    mape = get_mape(y_cv, est)\n",
        "\n",
        "    return rmse, mape, est"
      ],
      "execution_count": null,
      "outputs": []
    },
    {
      "cell_type": "markdown",
      "metadata": {
        "id": "zrdvHq2Z2auP",
        "colab_type": "text"
      },
      "source": [
        "## Loading data"
      ]
    },
    {
      "cell_type": "code",
      "metadata": {
        "id": "NYEWEpDv2auR",
        "colab_type": "code",
        "colab": {
          "base_uri": "https://localhost:8080/",
          "height": 204
        },
        "outputId": "61b47003-81b6-462b-8204-9106a9d70e46"
      },
      "source": [
        "df = pd.read_csv(stk_path, sep=\",\")\n",
        "\n",
        "# Convert Date column to datetime\n",
        "df.loc[:, 'Date'] = pd.to_datetime(df['Date'], format='%Y-%m-%d')\n",
        "\n",
        "# Change all column headings to be lower case, and remove spacing\n",
        "df.columns = [str(x).lower().replace(' ', '_') for x in df.columns]\n",
        "\n",
        "# Get month of each sample\n",
        "df['month'] = df['date'].dt.month\n",
        "\n",
        "# Sort by datetime\n",
        "df.sort_values(by='date', inplace=True, ascending=True)\n",
        "\n",
        "df.head()"
      ],
      "execution_count": null,
      "outputs": [
        {
          "output_type": "execute_result",
          "data": {
            "text/html": [
              "<div>\n",
              "<style scoped>\n",
              "    .dataframe tbody tr th:only-of-type {\n",
              "        vertical-align: middle;\n",
              "    }\n",
              "\n",
              "    .dataframe tbody tr th {\n",
              "        vertical-align: top;\n",
              "    }\n",
              "\n",
              "    .dataframe thead th {\n",
              "        text-align: right;\n",
              "    }\n",
              "</style>\n",
              "<table border=\"1\" class=\"dataframe\">\n",
              "  <thead>\n",
              "    <tr style=\"text-align: right;\">\n",
              "      <th></th>\n",
              "      <th>date</th>\n",
              "      <th>open</th>\n",
              "      <th>high</th>\n",
              "      <th>low</th>\n",
              "      <th>close</th>\n",
              "      <th>adj_close</th>\n",
              "      <th>volume</th>\n",
              "      <th>month</th>\n",
              "    </tr>\n",
              "  </thead>\n",
              "  <tbody>\n",
              "    <tr>\n",
              "      <th>0</th>\n",
              "      <td>2014-03-31</td>\n",
              "      <td>186.669998</td>\n",
              "      <td>187.300003</td>\n",
              "      <td>185.520004</td>\n",
              "      <td>187.009995</td>\n",
              "      <td>169.368149</td>\n",
              "      <td>99745000</td>\n",
              "      <td>3</td>\n",
              "    </tr>\n",
              "    <tr>\n",
              "      <th>1</th>\n",
              "      <td>2014-04-01</td>\n",
              "      <td>187.619995</td>\n",
              "      <td>188.360001</td>\n",
              "      <td>187.000000</td>\n",
              "      <td>188.250000</td>\n",
              "      <td>170.491180</td>\n",
              "      <td>89193000</td>\n",
              "      <td>4</td>\n",
              "    </tr>\n",
              "    <tr>\n",
              "      <th>2</th>\n",
              "      <td>2014-04-02</td>\n",
              "      <td>188.490005</td>\n",
              "      <td>189.130005</td>\n",
              "      <td>188.139999</td>\n",
              "      <td>188.880005</td>\n",
              "      <td>171.061722</td>\n",
              "      <td>78774000</td>\n",
              "      <td>4</td>\n",
              "    </tr>\n",
              "    <tr>\n",
              "      <th>3</th>\n",
              "      <td>2014-04-03</td>\n",
              "      <td>189.169998</td>\n",
              "      <td>189.220001</td>\n",
              "      <td>188.050003</td>\n",
              "      <td>188.630005</td>\n",
              "      <td>170.835327</td>\n",
              "      <td>77435000</td>\n",
              "      <td>4</td>\n",
              "    </tr>\n",
              "    <tr>\n",
              "      <th>4</th>\n",
              "      <td>2014-04-04</td>\n",
              "      <td>189.660004</td>\n",
              "      <td>189.699997</td>\n",
              "      <td>186.100006</td>\n",
              "      <td>186.399994</td>\n",
              "      <td>168.815704</td>\n",
              "      <td>169381000</td>\n",
              "      <td>4</td>\n",
              "    </tr>\n",
              "  </tbody>\n",
              "</table>\n",
              "</div>"
            ],
            "text/plain": [
              "        date        open        high  ...   adj_close     volume  month\n",
              "0 2014-03-31  186.669998  187.300003  ...  169.368149   99745000      3\n",
              "1 2014-04-01  187.619995  188.360001  ...  170.491180   89193000      4\n",
              "2 2014-04-02  188.490005  189.130005  ...  171.061722   78774000      4\n",
              "3 2014-04-03  189.169998  189.220001  ...  170.835327   77435000      4\n",
              "4 2014-04-04  189.660004  189.699997  ...  168.815704  169381000      4\n",
              "\n",
              "[5 rows x 8 columns]"
            ]
          },
          "metadata": {
            "tags": []
          },
          "execution_count": 10
        }
      ]
    },
    {
      "cell_type": "code",
      "metadata": {
        "id": "izOIp4P52aub",
        "colab_type": "code",
        "colab": {
          "base_uri": "https://localhost:8080/",
          "height": 287
        },
        "outputId": "395c7b28-b7a3-49a3-bea5-eb7e1015646d"
      },
      "source": [
        "df.info()"
      ],
      "execution_count": null,
      "outputs": [
        {
          "output_type": "stream",
          "text": [
            "<class 'pandas.core.frame.DataFrame'>\n",
            "Int64Index: 1259 entries, 0 to 1258\n",
            "Data columns (total 8 columns):\n",
            " #   Column     Non-Null Count  Dtype         \n",
            "---  ------     --------------  -----         \n",
            " 0   date       1259 non-null   datetime64[ns]\n",
            " 1   open       1259 non-null   float64       \n",
            " 2   high       1259 non-null   float64       \n",
            " 3   low        1259 non-null   float64       \n",
            " 4   close      1259 non-null   float64       \n",
            " 5   adj_close  1259 non-null   float64       \n",
            " 6   volume     1259 non-null   int64         \n",
            " 7   month      1259 non-null   int64         \n",
            "dtypes: datetime64[ns](1), float64(5), int64(2)\n",
            "memory usage: 88.5 KB\n"
          ],
          "name": "stdout"
        }
      ]
    },
    {
      "cell_type": "code",
      "metadata": {
        "id": "Pf_0poz12aum",
        "colab_type": "code",
        "colab": {
          "base_uri": "https://localhost:8080/",
          "height": 297
        },
        "outputId": "b17cb2fb-fb65-4a10-9a37-20ead7e9097a"
      },
      "source": [
        "df.describe()"
      ],
      "execution_count": null,
      "outputs": [
        {
          "output_type": "execute_result",
          "data": {
            "text/html": [
              "<div>\n",
              "<style scoped>\n",
              "    .dataframe tbody tr th:only-of-type {\n",
              "        vertical-align: middle;\n",
              "    }\n",
              "\n",
              "    .dataframe tbody tr th {\n",
              "        vertical-align: top;\n",
              "    }\n",
              "\n",
              "    .dataframe thead th {\n",
              "        text-align: right;\n",
              "    }\n",
              "</style>\n",
              "<table border=\"1\" class=\"dataframe\">\n",
              "  <thead>\n",
              "    <tr style=\"text-align: right;\">\n",
              "      <th></th>\n",
              "      <th>open</th>\n",
              "      <th>high</th>\n",
              "      <th>low</th>\n",
              "      <th>close</th>\n",
              "      <th>adj_close</th>\n",
              "      <th>volume</th>\n",
              "      <th>month</th>\n",
              "    </tr>\n",
              "  </thead>\n",
              "  <tbody>\n",
              "    <tr>\n",
              "      <th>count</th>\n",
              "      <td>1259.000000</td>\n",
              "      <td>1259.000000</td>\n",
              "      <td>1259.000000</td>\n",
              "      <td>1259.000000</td>\n",
              "      <td>1259.000000</td>\n",
              "      <td>1.259000e+03</td>\n",
              "      <td>1259.000000</td>\n",
              "    </tr>\n",
              "    <tr>\n",
              "      <th>mean</th>\n",
              "      <td>229.749452</td>\n",
              "      <td>230.744519</td>\n",
              "      <td>228.618133</td>\n",
              "      <td>229.761771</td>\n",
              "      <td>219.240476</td>\n",
              "      <td>9.904178e+07</td>\n",
              "      <td>6.540111</td>\n",
              "    </tr>\n",
              "    <tr>\n",
              "      <th>std</th>\n",
              "      <td>31.225691</td>\n",
              "      <td>31.319175</td>\n",
              "      <td>31.100454</td>\n",
              "      <td>31.192640</td>\n",
              "      <td>35.836418</td>\n",
              "      <td>4.879860e+07</td>\n",
              "      <td>3.422864</td>\n",
              "    </tr>\n",
              "    <tr>\n",
              "      <th>min</th>\n",
              "      <td>182.139999</td>\n",
              "      <td>183.369995</td>\n",
              "      <td>181.020004</td>\n",
              "      <td>181.509995</td>\n",
              "      <td>164.387024</td>\n",
              "      <td>2.785650e+07</td>\n",
              "      <td>1.000000</td>\n",
              "    </tr>\n",
              "    <tr>\n",
              "      <th>25%</th>\n",
              "      <td>204.849998</td>\n",
              "      <td>206.100006</td>\n",
              "      <td>203.959999</td>\n",
              "      <td>204.994996</td>\n",
              "      <td>189.990547</td>\n",
              "      <td>6.653075e+07</td>\n",
              "      <td>4.000000</td>\n",
              "    </tr>\n",
              "    <tr>\n",
              "      <th>50%</th>\n",
              "      <td>216.529999</td>\n",
              "      <td>217.119995</td>\n",
              "      <td>215.750000</td>\n",
              "      <td>216.589996</td>\n",
              "      <td>205.805191</td>\n",
              "      <td>8.627080e+07</td>\n",
              "      <td>7.000000</td>\n",
              "    </tr>\n",
              "    <tr>\n",
              "      <th>75%</th>\n",
              "      <td>259.970001</td>\n",
              "      <td>261.029999</td>\n",
              "      <td>258.044998</td>\n",
              "      <td>259.794999</td>\n",
              "      <td>255.438476</td>\n",
              "      <td>1.169876e+08</td>\n",
              "      <td>10.000000</td>\n",
              "    </tr>\n",
              "    <tr>\n",
              "      <th>max</th>\n",
              "      <td>293.089996</td>\n",
              "      <td>293.940002</td>\n",
              "      <td>291.809998</td>\n",
              "      <td>293.579987</td>\n",
              "      <td>289.286011</td>\n",
              "      <td>5.072443e+08</td>\n",
              "      <td>12.000000</td>\n",
              "    </tr>\n",
              "  </tbody>\n",
              "</table>\n",
              "</div>"
            ],
            "text/plain": [
              "              open         high  ...        volume        month\n",
              "count  1259.000000  1259.000000  ...  1.259000e+03  1259.000000\n",
              "mean    229.749452   230.744519  ...  9.904178e+07     6.540111\n",
              "std      31.225691    31.319175  ...  4.879860e+07     3.422864\n",
              "min     182.139999   183.369995  ...  2.785650e+07     1.000000\n",
              "25%     204.849998   206.100006  ...  6.653075e+07     4.000000\n",
              "50%     216.529999   217.119995  ...  8.627080e+07     7.000000\n",
              "75%     259.970001   261.029999  ...  1.169876e+08    10.000000\n",
              "max     293.089996   293.940002  ...  5.072443e+08    12.000000\n",
              "\n",
              "[8 rows x 7 columns]"
            ]
          },
          "metadata": {
            "tags": []
          },
          "execution_count": 12
        }
      ]
    },
    {
      "cell_type": "code",
      "metadata": {
        "id": "pTtFQqAL2auw",
        "colab_type": "code",
        "colab": {
          "base_uri": "https://localhost:8080/",
          "height": 483
        },
        "outputId": "11b85ca1-3ef5-460e-b2f1-4f74ebebb772"
      },
      "source": [
        "# Plot adjusted close over time\n",
        "rcParams['figure.figsize'] = 10, 8  # width 10, height 8\n",
        "\n",
        "ax = df.plot(x='date', y='adj_close', style='b-')\n",
        "ax.set_xlabel(\"date\")\n",
        "ax.set_ylabel(\"USD\")"
      ],
      "execution_count": null,
      "outputs": [
        {
          "output_type": "execute_result",
          "data": {
            "text/plain": [
              "Text(0, 0.5, 'USD')"
            ]
          },
          "metadata": {
            "tags": []
          },
          "execution_count": 13
        },
        {
          "output_type": "display_data",
          "data": {
            "image/png": "[encoded data removed]",
            "text/plain": [
              "<Figure size 720x576 with 1 Axes>"
            ]
          },
          "metadata": {
            "tags": [],
            "needs_background": "light"
          }
        }
      ]
    },
    {
      "cell_type": "markdown",
      "metadata": {
        "id": "KlEd5lV22au8",
        "colab_type": "text"
      },
      "source": [
        "## Split into training, validation and test sets"
      ]
    },
    {
      "cell_type": "markdown",
      "metadata": {
        "id": "VmoABgv22au_",
        "colab_type": "text"
      },
      "source": [
        "We use lags up to N number of days to use as features."
      ]
    },
    {
      "cell_type": "code",
      "metadata": {
        "id": "VRY_zplH2avC",
        "colab_type": "code",
        "colab": {
          "base_uri": "https://localhost:8080/",
          "height": 143
        },
        "outputId": "87e69ff0-3b61-4554-81d9-e1a6e468a58f"
      },
      "source": [
        "# Get sizes of each of the datasets\n",
        "num_cv = int(cv_size * len(df))\n",
        "num_test = int(test_size * len(df))\n",
        "num_train = len(df) - num_cv - num_test\n",
        "print(\"num_train = \" + str(num_train))\n",
        "print(\"num_cv = \" + str(num_cv))\n",
        "print(\"num_test = \" + str(num_test))\n",
        "\n",
        "# Split into train, cv, and test\n",
        "train = df[:num_train][['date', 'adj_close']]\n",
        "cv = df[num_train:num_train + num_cv][['date', 'adj_close']]\n",
        "train_cv = df[:num_train + num_cv][['date', 'adj_close']]\n",
        "test = df[num_train + num_cv:][['date', 'adj_close']]\n",
        "\n",
        "print(\"train.shape = \" + str(train.shape))\n",
        "print(\"cv.shape = \" + str(cv.shape))\n",
        "print(\"train_cv.shape = \" + str(train_cv.shape))\n",
        "print(\"test.shape = \" + str(test.shape))"
      ],
      "execution_count": null,
      "outputs": [
        {
          "output_type": "stream",
          "text": [
            "num_train = 757\n",
            "num_cv = 251\n",
            "num_test = 251\n",
            "train.shape = (757, 2)\n",
            "cv.shape = (251, 2)\n",
            "train_cv.shape = (1008, 2)\n",
            "test.shape = (251, 2)\n"
          ],
          "name": "stdout"
        }
      ]
    },
    {
      "cell_type": "code",
      "metadata": {
        "id": "K7mK65P32avP",
        "colab_type": "code",
        "colab": {
          "base_uri": "https://localhost:8080/",
          "height": 89
        },
        "outputId": "93e1384f-67da-4ec2-c2d9-8b31983248a6"
      },
      "source": [
        "# Converting dataset into x_train and y_train\n",
        "# Here we only scale the train dataset, and not the entire dataset to prevent information leak\n",
        "scaler = StandardScaler()\n",
        "train_scaled = scaler.fit_transform(\n",
        "    np.array(train['adj_close']).reshape(-1, 1))\n",
        "print(\"scaler.mean_ = \" + str(scaler.mean_))\n",
        "print(\"scaler.var_ = \" + str(scaler.var_))\n",
        "\n",
        "# Split into x and y\n",
        "x_train_scaled, y_train_scaled = get_x_y(train_scaled, N, N)\n",
        "print(\"x_train_scaled.shape = \" + str(x_train_scaled.shape))\n",
        "print(\"y_train_scaled.shape = \" + str(y_train_scaled.shape))"
      ],
      "execution_count": null,
      "outputs": [
        {
          "output_type": "stream",
          "text": [
            "scaler.mean_ = [192.87917151]\n",
            "scaler.var_ = [191.67779078]\n",
            "x_train_scaled.shape = (748, 9, 1)\n",
            "y_train_scaled.shape = (748, 1)\n"
          ],
          "name": "stdout"
        }
      ]
    },
    {
      "cell_type": "code",
      "metadata": {
        "scrolled": true,
        "id": "9ZLy6WlO2ava",
        "colab_type": "code",
        "colab": {
          "base_uri": "https://localhost:8080/",
          "height": 89
        },
        "outputId": "5227fe17-b573-4e15-eea4-cccaf845d098"
      },
      "source": [
        "# Scale the cv dataset\n",
        "# Split into x and y\n",
        "x_cv_scaled, y_cv, mu_cv_list, std_cv_list = get_x_scaled_y(\n",
        "    np.array(train_cv['adj_close']).reshape(-1, 1), N, num_train)\n",
        "print(\"x_cv_scaled.shape = \" + str(x_cv_scaled.shape))\n",
        "print(\"y_cv.shape = \" + str(y_cv.shape))\n",
        "print(\"len(mu_cv_list) = \" + str(len(mu_cv_list)))\n",
        "print(\"len(std_cv_list) = \" + str(len(std_cv_list)))"
      ],
      "execution_count": null,
      "outputs": [
        {
          "output_type": "stream",
          "text": [
            "x_cv_scaled.shape = (251, 9, 1)\n",
            "y_cv.shape = (251, 1)\n",
            "len(mu_cv_list) = 251\n",
            "len(std_cv_list) = 251\n"
          ],
          "name": "stdout"
        }
      ]
    },
    {
      "cell_type": "code",
      "metadata": {
        "id": "nccRZgX22avk",
        "colab_type": "code",
        "colab": {
          "base_uri": "https://localhost:8080/",
          "height": 53
        },
        "outputId": "f1720fd6-7a09-40d3-9f27-f41648f23b2e"
      },
      "source": [
        "# Here we scale the train_cv set, for the final model\n",
        "scaler_final = StandardScaler()\n",
        "train_cv_scaled_final = scaler_final.fit_transform(\n",
        "    np.array(train_cv['adj_close']).reshape(-1, 1))\n",
        "print(\"scaler_final.mean_ = \" + str(scaler_final.mean_))\n",
        "print(\"scaler_final.var_ = \" + str(scaler_final.var_))\n",
        "\n",
        "# # Scale the test dataset\n",
        "# x_test_scaled, y_test, mu_test_list, std_test_list = get_x_scaled_y(np.array(df['adj_close']).reshape(-1,1), N, num_train+num_cv)\n",
        "# print(\"x_test_scaled.shape = \" + str(x_test_scaled.shape))\n",
        "# print(\"y_test.shape = \" + str(y_test.shape))\n",
        "# print(\"len(mu_test_list) = \" + str(len(mu_test_list)))\n",
        "# print(\"len(std_test_list) = \" + str(len(std_test_list)))"
      ],
      "execution_count": null,
      "outputs": [
        {
          "output_type": "stream",
          "text": [
            "scaler_final.mean_ = [206.38325401]\n",
            "scaler_final.var_ = [746.24550139]\n"
          ],
          "name": "stdout"
        }
      ]
    },
    {
      "cell_type": "markdown",
      "metadata": {
        "id": "q6B_i-IG2avv",
        "colab_type": "text"
      },
      "source": [
        "## Create and fit the LSTM network\n",
        "\n",
        "using the original parameters before tuning."
      ]
    },
    {
      "cell_type": "code",
      "metadata": {
        "id": "RdQPI2O42avx",
        "colab_type": "code",
        "colab": {
          "base_uri": "https://localhost:8080/",
          "height": 71
        },
        "outputId": "db10691d-3f5c-4989-f623-62bf9450fa33"
      },
      "source": [
        "# Create the LSTM network\n",
        "model = Sequential()\n",
        "model.add(\n",
        "    LSTM(\n",
        "        units=lstm_units,\n",
        "        return_sequences=True,\n",
        "        input_shape=(x_train_scaled.shape[1], 1)))\n",
        "model.add(Dropout(dropout_prob))  # Add dropout with a probability of 0.5\n",
        "model.add(LSTM(units=lstm_units))\n",
        "model.add(Dropout(dropout_prob))  # Add dropout with a probability of 0.5\n",
        "model.add(Dense(1))\n",
        "\n",
        "model.compile(loss='mean_squared_error', optimizer=optimizer)\n",
        "model.fit(\n",
        "    x_train_scaled,\n",
        "    y_train_scaled,\n",
        "    epochs=epochs,\n",
        "    batch_size=batch_size,\n",
        "    verbose=2)"
      ],
      "execution_count": null,
      "outputs": [
        {
          "output_type": "stream",
          "text": [
            "Epoch 1/1\n",
            " - 5s - loss: 0.0620\n"
          ],
          "name": "stdout"
        },
        {
          "output_type": "execute_result",
          "data": {
            "text/plain": [
              "<keras.callbacks.callbacks.History at 0x7f80da56ef98>"
            ]
          },
          "metadata": {
            "tags": []
          },
          "execution_count": 18
        }
      ]
    },
    {
      "cell_type": "code",
      "metadata": {
        "id": "mMi2LIix2av9",
        "colab_type": "code",
        "colab": {
          "base_uri": "https://localhost:8080/",
          "height": 341
        },
        "outputId": "dd042b6b-df4f-4ab6-aeeb-9e01e0667035"
      },
      "source": [
        "# Print model summary\n",
        "model.summary()"
      ],
      "execution_count": null,
      "outputs": [
        {
          "output_type": "stream",
          "text": [
            "Model: \"sequential_1\"\n",
            "_________________________________________________________________\n",
            "Layer (type)                 Output Shape              Param #   \n",
            "=================================================================\n",
            "lstm_1 (LSTM)                (None, 9, 50)             10400     \n",
            "_________________________________________________________________\n",
            "dropout_1 (Dropout)          (None, 9, 50)             0         \n",
            "_________________________________________________________________\n",
            "lstm_2 (LSTM)                (None, 50)                20200     \n",
            "_________________________________________________________________\n",
            "dropout_2 (Dropout)          (None, 50)                0         \n",
            "_________________________________________________________________\n",
            "dense_1 (Dense)              (None, 1)                 51        \n",
            "=================================================================\n",
            "Total params: 30,651\n",
            "Trainable params: 30,651\n",
            "Non-trainable params: 0\n",
            "_________________________________________________________________\n"
          ],
          "name": "stdout"
        }
      ]
    },
    {
      "cell_type": "code",
      "metadata": {
        "id": "crzBztso2awG",
        "colab_type": "code",
        "colab": {
          "base_uri": "https://localhost:8080/",
          "height": 749
        },
        "outputId": "45534b61-59a0-41ae-cbf6-0239f4a99b29"
      },
      "source": [
        "# Plot model and save to file\n",
        "from IPython.display import SVG\n",
        "from keras.utils import plot_model\n",
        "from keras.utils.vis_utils import model_to_dot\n",
        "\n",
        "plot_model(model, to_file='model_v4a.png')\n",
        "SVG(model_to_dot(model).create(prog='dot', format='svg'))"
      ],
      "execution_count": null,
      "outputs": [
        {
          "output_type": "execute_result",
          "data": {
            "text/plain": [
              "<IPython.core.display.SVG object>"
            ],
            "image/svg+xml": "<svg height=\"547pt\" viewBox=\"0.00 0.00 172.00 410.00\" width=\"229pt\" xmlns=\"http://www.w3.org/2000/svg\" xmlns:xlink=\"http://www.w3.org/1999/xlink\">\n<g class=\"graph\" id=\"graph0\" transform=\"scale(1.3333 1.3333) rotate(0) translate(4 406)\">\n<title>G</title>\n<polygon fill=\"#ffffff\" points=\"-4,4 -4,-406 168,-406 168,4 -4,4\" stroke=\"transparent\"/>\n<!-- 140191395671624 -->\n<g class=\"node\" id=\"node1\">\n<title>140191395671624</title>\n<polygon fill=\"none\" points=\"0,-365.5 0,-401.5 164,-401.5 164,-365.5 0,-365.5\" stroke=\"#000000\"/>\n<text fill=\"#000000\" font-family=\"Times,serif\" font-size=\"14.00\" text-anchor=\"middle\" x=\"82\" y=\"-379.8\">lstm_1_input: InputLayer</text>\n</g>\n<!-- 140191395742328 -->\n<g class=\"node\" id=\"node2\">\n<title>140191395742328</title>\n<polygon fill=\"none\" points=\"31,-292.5 31,-328.5 133,-328.5 133,-292.5 31,-292.5\" stroke=\"#000000\"/>\n<text fill=\"#000000\" font-family=\"Times,serif\" font-size=\"14.00\" text-anchor=\"middle\" x=\"82\" y=\"-306.8\">lstm_1: LSTM</text>\n</g>\n<!-- 140191395671624&#45;&gt;140191395742328 -->\n<g class=\"edge\" id=\"edge1\">\n<title>140191395671624-&gt;140191395742328</title>\n<path d=\"M82,-365.4551C82,-357.3828 82,-347.6764 82,-338.6817\" fill=\"none\" stroke=\"#000000\"/>\n<polygon fill=\"#000000\" points=\"85.5001,-338.5903 82,-328.5904 78.5001,-338.5904 85.5001,-338.5903\" stroke=\"#000000\"/>\n</g>\n<!-- 140191395671288 -->\n<g class=\"node\" id=\"node3\">\n<title>140191395671288</title>\n<polygon fill=\"none\" points=\"15,-219.5 15,-255.5 149,-255.5 149,-219.5 15,-219.5\" stroke=\"#000000\"/>\n<text fill=\"#000000\" font-family=\"Times,serif\" font-size=\"14.00\" text-anchor=\"middle\" x=\"82\" y=\"-233.8\">dropout_1: Dropout</text>\n</g>\n<!-- 140191395742328&#45;&gt;140191395671288 -->\n<g class=\"edge\" id=\"edge2\">\n<title>140191395742328-&gt;140191395671288</title>\n<path d=\"M82,-292.4551C82,-284.3828 82,-274.6764 82,-265.6817\" fill=\"none\" stroke=\"#000000\"/>\n<polygon fill=\"#000000\" points=\"85.5001,-265.5903 82,-255.5904 78.5001,-265.5904 85.5001,-265.5903\" stroke=\"#000000\"/>\n</g>\n<!-- 140191395671344 -->\n<g class=\"node\" id=\"node4\">\n<title>140191395671344</title>\n<polygon fill=\"none\" points=\"31,-146.5 31,-182.5 133,-182.5 133,-146.5 31,-146.5\" stroke=\"#000000\"/>\n<text fill=\"#000000\" font-family=\"Times,serif\" font-size=\"14.00\" text-anchor=\"middle\" x=\"82\" y=\"-160.8\">lstm_2: LSTM</text>\n</g>\n<!-- 140191395671288&#45;&gt;140191395671344 -->\n<g class=\"edge\" id=\"edge3\">\n<title>140191395671288-&gt;140191395671344</title>\n<path d=\"M82,-219.4551C82,-211.3828 82,-201.6764 82,-192.6817\" fill=\"none\" stroke=\"#000000\"/>\n<polygon fill=\"#000000\" points=\"85.5001,-192.5903 82,-182.5904 78.5001,-192.5904 85.5001,-192.5903\" stroke=\"#000000\"/>\n</g>\n<!-- 140191395671568 -->\n<g class=\"node\" id=\"node5\">\n<title>140191395671568</title>\n<polygon fill=\"none\" points=\"15,-73.5 15,-109.5 149,-109.5 149,-73.5 15,-73.5\" stroke=\"#000000\"/>\n<text fill=\"#000000\" font-family=\"Times,serif\" font-size=\"14.00\" text-anchor=\"middle\" x=\"82\" y=\"-87.8\">dropout_2: Dropout</text>\n</g>\n<!-- 140191395671344&#45;&gt;140191395671568 -->\n<g class=\"edge\" id=\"edge4\">\n<title>140191395671344-&gt;140191395671568</title>\n<path d=\"M82,-146.4551C82,-138.3828 82,-128.6764 82,-119.6817\" fill=\"none\" stroke=\"#000000\"/>\n<polygon fill=\"#000000\" points=\"85.5001,-119.5903 82,-109.5904 78.5001,-119.5904 85.5001,-119.5903\" stroke=\"#000000\"/>\n</g>\n<!-- 140191242612240 -->\n<g class=\"node\" id=\"node6\">\n<title>140191242612240</title>\n<polygon fill=\"none\" points=\"28.5,-.5 28.5,-36.5 135.5,-36.5 135.5,-.5 28.5,-.5\" stroke=\"#000000\"/>\n<text fill=\"#000000\" font-family=\"Times,serif\" font-size=\"14.00\" text-anchor=\"middle\" x=\"82\" y=\"-14.8\">dense_1: Dense</text>\n</g>\n<!-- 140191395671568&#45;&gt;140191242612240 -->\n<g class=\"edge\" id=\"edge5\">\n<title>140191395671568-&gt;140191242612240</title>\n<path d=\"M82,-73.4551C82,-65.3828 82,-55.6764 82,-46.6817\" fill=\"none\" stroke=\"#000000\"/>\n<polygon fill=\"#000000\" points=\"85.5001,-46.5903 82,-36.5904 78.5001,-46.5904 85.5001,-46.5903\" stroke=\"#000000\"/>\n</g>\n</g>\n</svg>"
          },
          "metadata": {
            "tags": []
          },
          "execution_count": 20
        }
      ]
    },
    {
      "cell_type": "markdown",
      "metadata": {
        "id": "Y6FzQHSt2awP",
        "colab_type": "text"
      },
      "source": [
        "## Prediction on validation set"
      ]
    },
    {
      "cell_type": "code",
      "metadata": {
        "id": "BFU4_hMd2awR",
        "colab_type": "code",
        "colab": {
          "base_uri": "https://localhost:8080/",
          "height": 71
        },
        "outputId": "6d820407-40a2-4f82-b793-fe4cc01905f4"
      },
      "source": [
        "# Do prediction\n",
        "est_scaled = model.predict(x_cv_scaled)\n",
        "est = (est_scaled * np.array(std_cv_list).reshape(\n",
        "    -1, 1)) + np.array(mu_cv_list).reshape(-1, 1)\n",
        "print(\"est.shape = \" + str(est.shape))\n",
        "\n",
        "# Calculate RMSE\n",
        "rmse_bef_tuning = math.sqrt(mean_squared_error(y_cv, est))\n",
        "print(\"RMSE = %0.3f\" % rmse_bef_tuning)\n",
        "\n",
        "# Calculate MAPE\n",
        "mape_pct_bef_tuning = get_mape(y_cv, est)\n",
        "print(\"MAPE = %0.3f%%\" % mape_pct_bef_tuning)"
      ],
      "execution_count": null,
      "outputs": [
        {
          "output_type": "stream",
          "text": [
            "est.shape = (251, 1)\n",
            "RMSE = 2.943\n",
            "MAPE = 0.730%\n"
          ],
          "name": "stdout"
        }
      ]
    },
    {
      "cell_type": "code",
      "metadata": {
        "id": "gd-8Ibeq2awc",
        "colab_type": "code",
        "colab": {
          "base_uri": "https://localhost:8080/",
          "height": 483
        },
        "outputId": "3f744d6e-f7f7-49f6-ac6d-2b9f82658dad"
      },
      "source": [
        "# Plot adjusted close over time\n",
        "rcParams['figure.figsize'] = 10, 8  # width 10, height 8\n",
        "\n",
        "est_df = pd.DataFrame({\n",
        "    'est': est.reshape(-1),\n",
        "    'y_cv': y_cv.reshape(-1),\n",
        "    'date': cv['date']\n",
        "})\n",
        "\n",
        "ax = train.plot(x='date', y='adj_close', style='b-')\n",
        "ax = cv.plot(x='date', y='adj_close', style='y-', ax=ax)\n",
        "ax = test.plot(x='date', y='adj_close', style='g-', ax=ax)\n",
        "ax = est_df.plot(x='date', y='est', style='r-', ax=ax)\n",
        "ax.legend(['train', 'dev', 'test', 'est'])\n",
        "ax.set_xlabel(\"date\")\n",
        "ax.set_ylabel(\"USD\")"
      ],
      "execution_count": null,
      "outputs": [
        {
          "output_type": "execute_result",
          "data": {
            "text/plain": [
              "Text(0, 0.5, 'USD')"
            ]
          },
          "metadata": {
            "tags": []
          },
          "execution_count": 22
        },
        {
          "output_type": "display_data",
          "data": {
            "image/png": "[encoded data removed]",
            "text/plain": [
              "<Figure size 720x576 with 1 Axes>"
            ]
          },
          "metadata": {
            "tags": [],
            "needs_background": "light"
          }
        }
      ]
    },
    {
      "cell_type": "markdown",
      "metadata": {
        "id": "7pNGvfwP2awn",
        "colab_type": "text"
      },
      "source": [
        "## Tuning parameters\n",
        "\n",
        "### Tuning N (number of days to use as features)\n",
        "\n",
        "**parameters**:\n",
        "\n",
        "* N = range(3,30)"
      ]
    },
    {
      "cell_type": "code",
      "metadata": {
        "scrolled": false,
        "id": "nSi7FjfO2awp",
        "colab_type": "code",
        "colab": {
          "base_uri": "https://localhost:8080/",
          "height": 954,
          "referenced_widgets": [
            "f17f26719e7e4c708ee24a8476c00b57",
            "0bc9968b7e7d4ffdb0f4f7a2c653aaee",
            "ad38b7415fe34a37bc398c8c1efdc61a",
            "830ede811b8e483cab079e6cb826ac3a",
            "fe0134cecd194c31b7bd9137333f5102",
            "f55f87c076bb4714a150f926ca6cf86d",
            "b8af506e5bb141deada546b21f4c15c5",
            "a0f378580b644bfabf21e95ac0b8db74"
          ]
        },
        "outputId": "9ab86de6-ec8e-469f-8ba6-ffa62308a3e5"
      },
      "source": [
        "param_label = 'N'\n",
        "param_list = range(3, 30)\n",
        "\n",
        "error_rate = {param_label: [], 'rmse': [], 'mape_pct': []}\n",
        "tic = time.time()\n",
        "for param in tqdm_notebook(param_list):\n",
        "\n",
        "    # Split train into x and y\n",
        "    x_train_scaled, y_train_scaled = get_x_y(train_scaled, param, param)\n",
        "\n",
        "    # Split cv into x and y\n",
        "    x_cv_scaled, y_cv, mu_cv_list, std_cv_list = get_x_scaled_y(\n",
        "        np.array(train_cv['adj_close']).reshape(-1, 1), param, num_train)\n",
        "\n",
        "    # Train, predict and eval model\n",
        "    rmse, mape, _ = train_pred_eval_model(x_train_scaled, \\\n",
        "                                          y_train_scaled, \\\n",
        "                                          x_cv_scaled, \\\n",
        "                                          y_cv, \\\n",
        "                                          mu_cv_list, \\\n",
        "                                          std_cv_list, \\\n",
        "                                          lstm_units=lstm_units, \\\n",
        "                                          dropout_prob=dropout_prob, \\\n",
        "                                          optimizer=optimizer, \\\n",
        "                                          epochs=epochs, \\\n",
        "                                          batch_size=batch_size)\n",
        "\n",
        "    # Collect results\n",
        "    error_rate[param_label].append(param)\n",
        "    error_rate['rmse'].append(rmse)\n",
        "    error_rate['mape_pct'].append(mape)\n",
        "\n",
        "error_rate = pd.DataFrame(error_rate)\n",
        "toc = time.time()\n",
        "print(\"Minutes taken = \" + str((toc - tic) / 60.0))\n",
        "error_rate"
      ],
      "execution_count": null,
      "outputs": [
        {
          "output_type": "display_data",
          "data": {
            "application/vnd.jupyter.widget-view+json": {
              "model_id": "f17f26719e7e4c708ee24a8476c00b57",
              "version_minor": 0,
              "version_major": 2
            },
            "text/plain": [
              "HBox(children=(FloatProgress(value=0.0, max=27.0), HTML(value='')))"
            ]
          },
          "metadata": {
            "tags": []
          }
        },
        {
          "output_type": "stream",
          "text": [
            "\n",
            "Minutes taken = 4.09599928855896\n"
          ],
          "name": "stdout"
        },
        {
          "output_type": "execute_result",
          "data": {
            "text/html": [
              "<div>\n",
              "<style scoped>\n",
              "    .dataframe tbody tr th:only-of-type {\n",
              "        vertical-align: middle;\n",
              "    }\n",
              "\n",
              "    .dataframe tbody tr th {\n",
              "        vertical-align: top;\n",
              "    }\n",
              "\n",
              "    .dataframe thead th {\n",
              "        text-align: right;\n",
              "    }\n",
              "</style>\n",
              "<table border=\"1\" class=\"dataframe\">\n",
              "  <thead>\n",
              "    <tr style=\"text-align: right;\">\n",
              "      <th></th>\n",
              "      <th>N</th>\n",
              "      <th>rmse</th>\n",
              "      <th>mape_pct</th>\n",
              "    </tr>\n",
              "  </thead>\n",
              "  <tbody>\n",
              "    <tr>\n",
              "      <th>0</th>\n",
              "      <td>3</td>\n",
              "      <td>2.461162</td>\n",
              "      <td>0.620054</td>\n",
              "    </tr>\n",
              "    <tr>\n",
              "      <th>1</th>\n",
              "      <td>4</td>\n",
              "      <td>2.604064</td>\n",
              "      <td>0.653011</td>\n",
              "    </tr>\n",
              "    <tr>\n",
              "      <th>2</th>\n",
              "      <td>5</td>\n",
              "      <td>2.833179</td>\n",
              "      <td>0.710458</td>\n",
              "    </tr>\n",
              "    <tr>\n",
              "      <th>3</th>\n",
              "      <td>6</td>\n",
              "      <td>2.785185</td>\n",
              "      <td>0.688355</td>\n",
              "    </tr>\n",
              "    <tr>\n",
              "      <th>4</th>\n",
              "      <td>7</td>\n",
              "      <td>2.974729</td>\n",
              "      <td>0.734590</td>\n",
              "    </tr>\n",
              "    <tr>\n",
              "      <th>5</th>\n",
              "      <td>8</td>\n",
              "      <td>3.079683</td>\n",
              "      <td>0.759876</td>\n",
              "    </tr>\n",
              "    <tr>\n",
              "      <th>6</th>\n",
              "      <td>9</td>\n",
              "      <td>2.937567</td>\n",
              "      <td>0.727503</td>\n",
              "    </tr>\n",
              "    <tr>\n",
              "      <th>7</th>\n",
              "      <td>10</td>\n",
              "      <td>2.831814</td>\n",
              "      <td>0.708637</td>\n",
              "    </tr>\n",
              "    <tr>\n",
              "      <th>8</th>\n",
              "      <td>11</td>\n",
              "      <td>2.952167</td>\n",
              "      <td>0.721316</td>\n",
              "    </tr>\n",
              "    <tr>\n",
              "      <th>9</th>\n",
              "      <td>12</td>\n",
              "      <td>2.954498</td>\n",
              "      <td>0.751539</td>\n",
              "    </tr>\n",
              "    <tr>\n",
              "      <th>10</th>\n",
              "      <td>13</td>\n",
              "      <td>3.019155</td>\n",
              "      <td>0.735914</td>\n",
              "    </tr>\n",
              "    <tr>\n",
              "      <th>11</th>\n",
              "      <td>14</td>\n",
              "      <td>2.994314</td>\n",
              "      <td>0.739139</td>\n",
              "    </tr>\n",
              "    <tr>\n",
              "      <th>12</th>\n",
              "      <td>15</td>\n",
              "      <td>2.946343</td>\n",
              "      <td>0.749997</td>\n",
              "    </tr>\n",
              "    <tr>\n",
              "      <th>13</th>\n",
              "      <td>16</td>\n",
              "      <td>3.088533</td>\n",
              "      <td>0.774454</td>\n",
              "    </tr>\n",
              "    <tr>\n",
              "      <th>14</th>\n",
              "      <td>17</td>\n",
              "      <td>2.938378</td>\n",
              "      <td>0.726233</td>\n",
              "    </tr>\n",
              "    <tr>\n",
              "      <th>15</th>\n",
              "      <td>18</td>\n",
              "      <td>2.956811</td>\n",
              "      <td>0.736576</td>\n",
              "    </tr>\n",
              "    <tr>\n",
              "      <th>16</th>\n",
              "      <td>19</td>\n",
              "      <td>2.833938</td>\n",
              "      <td>0.699224</td>\n",
              "    </tr>\n",
              "    <tr>\n",
              "      <th>17</th>\n",
              "      <td>20</td>\n",
              "      <td>3.053816</td>\n",
              "      <td>0.726791</td>\n",
              "    </tr>\n",
              "    <tr>\n",
              "      <th>18</th>\n",
              "      <td>21</td>\n",
              "      <td>2.835705</td>\n",
              "      <td>0.720405</td>\n",
              "    </tr>\n",
              "    <tr>\n",
              "      <th>19</th>\n",
              "      <td>22</td>\n",
              "      <td>2.940703</td>\n",
              "      <td>0.735503</td>\n",
              "    </tr>\n",
              "    <tr>\n",
              "      <th>20</th>\n",
              "      <td>23</td>\n",
              "      <td>2.960093</td>\n",
              "      <td>0.707980</td>\n",
              "    </tr>\n",
              "    <tr>\n",
              "      <th>21</th>\n",
              "      <td>24</td>\n",
              "      <td>2.988197</td>\n",
              "      <td>0.746421</td>\n",
              "    </tr>\n",
              "    <tr>\n",
              "      <th>22</th>\n",
              "      <td>25</td>\n",
              "      <td>3.001918</td>\n",
              "      <td>0.743599</td>\n",
              "    </tr>\n",
              "    <tr>\n",
              "      <th>23</th>\n",
              "      <td>26</td>\n",
              "      <td>2.935159</td>\n",
              "      <td>0.725177</td>\n",
              "    </tr>\n",
              "    <tr>\n",
              "      <th>24</th>\n",
              "      <td>27</td>\n",
              "      <td>2.905747</td>\n",
              "      <td>0.702996</td>\n",
              "    </tr>\n",
              "    <tr>\n",
              "      <th>25</th>\n",
              "      <td>28</td>\n",
              "      <td>3.039206</td>\n",
              "      <td>0.717179</td>\n",
              "    </tr>\n",
              "    <tr>\n",
              "      <th>26</th>\n",
              "      <td>29</td>\n",
              "      <td>2.942654</td>\n",
              "      <td>0.726655</td>\n",
              "    </tr>\n",
              "  </tbody>\n",
              "</table>\n",
              "</div>"
            ],
            "text/plain": [
              "     N      rmse  mape_pct\n",
              "0    3  2.461162  0.620054\n",
              "1    4  2.604064  0.653011\n",
              "2    5  2.833179  0.710458\n",
              "3    6  2.785185  0.688355\n",
              "4    7  2.974729  0.734590\n",
              "5    8  3.079683  0.759876\n",
              "6    9  2.937567  0.727503\n",
              "7   10  2.831814  0.708637\n",
              "8   11  2.952167  0.721316\n",
              "9   12  2.954498  0.751539\n",
              "10  13  3.019155  0.735914\n",
              "11  14  2.994314  0.739139\n",
              "12  15  2.946343  0.749997\n",
              "13  16  3.088533  0.774454\n",
              "14  17  2.938378  0.726233\n",
              "15  18  2.956811  0.736576\n",
              "16  19  2.833938  0.699224\n",
              "17  20  3.053816  0.726791\n",
              "18  21  2.835705  0.720405\n",
              "19  22  2.940703  0.735503\n",
              "20  23  2.960093  0.707980\n",
              "21  24  2.988197  0.746421\n",
              "22  25  3.001918  0.743599\n",
              "23  26  2.935159  0.725177\n",
              "24  27  2.905747  0.702996\n",
              "25  28  3.039206  0.717179\n",
              "26  29  2.942654  0.726655"
            ]
          },
          "metadata": {
            "tags": []
          },
          "execution_count": 23
        }
      ]
    },
    {
      "cell_type": "code",
      "metadata": {
        "scrolled": false,
        "id": "xY044CyT2aw4",
        "colab_type": "code",
        "colab": {
          "base_uri": "https://localhost:8080/",
          "height": 515
        },
        "outputId": "c4518937-6586-40e0-c359-a3eeba137740"
      },
      "source": [
        "# Plot RMSE\n",
        "rcParams['figure.figsize'] = 10, 8  # width 10, height 8\n",
        "\n",
        "ax = error_rate.plot(x='N', y='rmse', style='bx-')\n",
        "ax = error_rate.plot(x='N', y='mape_pct', style='rx-', ax=ax)\n",
        "ax.set_xlabel(\"N\")\n",
        "ax.set_ylabel(\"RMSE/MAPE(%)\")"
      ],
      "execution_count": null,
      "outputs": [
        {
          "output_type": "execute_result",
          "data": {
            "text/plain": [
              "Text(0, 0.5, 'RMSE/MAPE(%)')"
            ]
          },
          "metadata": {
            "tags": []
          },
          "execution_count": 24
        },
        {
          "output_type": "display_data",
          "data": {
            "image/png": "[encoded data removed]",
            "text/plain": [
              "<Figure size 720x576 with 1 Axes>"
            ]
          },
          "metadata": {
            "tags": [],
            "needs_background": "light"
          }
        }
      ]
    },
    {
      "cell_type": "code",
      "metadata": {
        "scrolled": true,
        "id": "7daYVyxe2axE",
        "colab_type": "code",
        "colab": {
          "base_uri": "https://localhost:8080/"
        },
        "outputId": "0eb1b3bd-811c-4831-cea8-5e8d586980ef"
      },
      "source": [
        "# Get optimum value for param\n",
        "temp = error_rate[error_rate['rmse'] == error_rate['rmse'].min()]\n",
        "N_opt = temp['N'].values[0]\n",
        "print(\"min RMSE = %0.3f\" % error_rate['rmse'].min())\n",
        "print(\"min MAPE = %0.3f%%\" % error_rate['mape_pct'].min())\n",
        "print(\"optimum \" + param_label + \" = \" + str(N_opt))"
      ],
      "execution_count": null,
      "outputs": [
        {
          "output_type": "stream",
          "text": [
            "min RMSE = 2.461\n",
            "min MAPE = 0.620%\n",
            "optimum N = 3\n"
          ],
          "name": "stdout"
        }
      ]
    },
    {
      "cell_type": "markdown",
      "metadata": {
        "id": "vcEVkpl12axN",
        "colab_type": "text"
      },
      "source": [
        "### Tuning model: epochs and batch size\n",
        "\n",
        "**parameters**:\n",
        "* epochs = {1, 10, 20, 30, 40, 50}\n",
        "* batch size = {8, 16, 32, 64, 128}"
      ]
    },
    {
      "cell_type": "code",
      "metadata": {
        "scrolled": true,
        "id": "va3fWahO2axP",
        "colab_type": "code",
        "colab": {
          "base_uri": "https://localhost:8080/",
          "referenced_widgets": [
            "86c972edc25641209e94b82c57e188b6",
            "d08aa525730041ceb167426d8b16c7d9",
            "7797b4dde59249dcb0a32af7cc42bf62",
            "7ef0738f722f45e3a292e73f1c766d43",
            "c2282a66c02244cd97e42cfbb8b89177",
            "efca2e050db149f18187c1c3ced14c9c",
            "5762a42a74d3421c82e5ba8584ca19a7",
            "d635072d39db4121bb75d4b0c403e9cc",
            "8d48f3f67d6d479fa660b227d4e9019b",
            "5fbb5235e4254bc3a9174579c34411af",
            "8e2b09a10a8a4dbf94190c044f8f34c6",
            "7c76e84cb4af41a490928ec7fb90401f",
            "ef8e0e7e14cc4363a5d6a67f3253eae8",
            "bf1618a593874c1793bdadb7ff3ee652",
            "3d0ac727cc0e4a7bba9882e6d5a33b6a",
            "4d0fa99b6a804f80a977fac557549889",
            "7d6831dab2c04851a6e7e8c9f4cc29d7",
            "233bc9fddf434bfb8cfadcdaaf382c21",
            "440d1ddcd3c34e61beec90c23465f288",
            "468ccc90ab6f4aa5a8d7b2a842c46bb7",
            "15fd2d56c1d14e90bea0a3f2cf2d1de0",
            "33bccb97c3a64af1a70952ff2daef1b0",
            "a7704240588447a4bef1992db73e46df",
            "458303be973d416e95e04332080f2650",
            "da3d9619fb51461da9f7d4c5f6608137",
            "d494d4dfff1748c5bb74b1cde913df6e",
            "ba518dc986b74c988dc0fc16e6ef049b",
            "d55e636e961844d3bf72ddabd3645233",
            "8d9d441513cd45fca8f975f540483619",
            "59dd42d0334147c7b061a383154baf83",
            "ce9b4b259b264aaf80a371fc88d81663",
            "1e090f5396b64814817ea31cd4399883",
            "507905e3e69b411fafbde88c3d38a1ab",
            "a6736b1b27014a5ba16983928f1116ab",
            "523e7554a71941acac4e3cb48ef9daf8",
            "cd2d0dc000df4e209dd52089922c576a",
            "22dbacc73e6f42aa88fd3d777b011e4a",
            "45f012865f75453387867512a00b7115",
            "b4b5460176544bd4a7630ca128859247",
            "fbae14b37c9b4cd99aa099f0b38549a3",
            "8d961312edc74101854f4e25874f5a13",
            "0f43c3a6445c491bad0bc6f680fe7c35",
            "765706e23fd74d038330d060d64eb26d",
            "7545ac1e5a764d50b5a228b51c6a9933",
            "cbe88ab426b74b0a9a34ed93c935c3f7",
            "844d2ddcbb654e2e90b3e40f8ddbb5c6",
            "788ee4dc427f4e26a0a347aeb74fd12b",
            "2b975be7a36a40afb248b48306f7025a"
          ]
        },
        "outputId": "d534e0ed-a577-4df8-f08f-5b02746d4bde"
      },
      "source": [
        "param_label = 'epochs'\n",
        "param_list = [1, 10, 20, 30, 40, 50]\n",
        "\n",
        "param2_label = 'batch_size'\n",
        "param2_list = [8, 16, 32, 64, 128]\n",
        "\n",
        "# Split train into x and y\n",
        "x_train_scaled, y_train_scaled = get_x_y(train_scaled, N_opt, N_opt)\n",
        "\n",
        "# Split cv into x and y\n",
        "x_cv_scaled, y_cv, mu_cv_list, std_cv_list = get_x_scaled_y(\n",
        "    np.array(train_cv['adj_close']).reshape(-1, 1), N_opt, num_train)\n",
        "\n",
        "error_rate = {param_label: [], param2_label: [], 'rmse': [], 'mape_pct': []}\n",
        "tic = time.time()\n",
        "for param in tqdm_notebook(param_list):\n",
        "\n",
        "    for param2 in tqdm_notebook(param2_list):\n",
        "\n",
        "        # Train, predict and eval model\n",
        "        rmse, mape, _ = train_pred_eval_model(x_train_scaled, \\\n",
        "                                              y_train_scaled, \\\n",
        "                                              x_cv_scaled, \\\n",
        "                                              y_cv, \\\n",
        "                                              mu_cv_list, \\\n",
        "                                              std_cv_list, \\\n",
        "                                              lstm_units=lstm_units, \\\n",
        "                                              dropout_prob=dropout_prob, \\\n",
        "                                              optimizer=optimizer, \\\n",
        "                                              epochs=param, \\\n",
        "                                              batch_size=param2)\n",
        "\n",
        "        # Collect results\n",
        "        error_rate[param_label].append(param)\n",
        "        error_rate[param2_label].append(param2)\n",
        "        error_rate['rmse'].append(rmse)\n",
        "        error_rate['mape_pct'].append(mape)\n",
        "\n",
        "error_rate = pd.DataFrame(error_rate)\n",
        "toc = time.time()\n",
        "print(\"Minutes taken = \" + str((toc - tic) / 60.0))\n",
        "error_rate"
      ],
      "execution_count": null,
      "outputs": [
        {
          "output_type": "display_data",
          "data": {
            "application/vnd.jupyter.widget-view+json": {
              "model_id": "86c972edc25641209e94b82c57e188b6",
              "version_minor": 0,
              "version_major": 2
            },
            "text/plain": [
              "HBox(children=(FloatProgress(value=0.0, max=6.0), HTML(value='')))"
            ]
          },
          "metadata": {
            "tags": []
          }
        },
        {
          "output_type": "display_data",
          "data": {
            "application/vnd.jupyter.widget-view+json": {
              "model_id": "8d48f3f67d6d479fa660b227d4e9019b",
              "version_minor": 0,
              "version_major": 2
            },
            "text/plain": [
              "HBox(children=(FloatProgress(value=0.0, max=5.0), HTML(value='')))"
            ]
          },
          "metadata": {
            "tags": []
          }
        },
        {
          "output_type": "stream",
          "text": [
            "\n"
          ],
          "name": "stdout"
        },
        {
          "output_type": "display_data",
          "data": {
            "application/vnd.jupyter.widget-view+json": {
              "model_id": "7d6831dab2c04851a6e7e8c9f4cc29d7",
              "version_minor": 0,
              "version_major": 2
            },
            "text/plain": [
              "HBox(children=(FloatProgress(value=0.0, max=5.0), HTML(value='')))"
            ]
          },
          "metadata": {
            "tags": []
          }
        },
        {
          "output_type": "stream",
          "text": [
            "\n"
          ],
          "name": "stdout"
        },
        {
          "output_type": "display_data",
          "data": {
            "application/vnd.jupyter.widget-view+json": {
              "model_id": "da3d9619fb51461da9f7d4c5f6608137",
              "version_minor": 0,
              "version_major": 2
            },
            "text/plain": [
              "HBox(children=(FloatProgress(value=0.0, max=5.0), HTML(value='')))"
            ]
          },
          "metadata": {
            "tags": []
          }
        },
        {
          "output_type": "stream",
          "text": [
            "\n"
          ],
          "name": "stdout"
        },
        {
          "output_type": "display_data",
          "data": {
            "application/vnd.jupyter.widget-view+json": {
              "model_id": "507905e3e69b411fafbde88c3d38a1ab",
              "version_minor": 0,
              "version_major": 2
            },
            "text/plain": [
              "HBox(children=(FloatProgress(value=0.0, max=5.0), HTML(value='')))"
            ]
          },
          "metadata": {
            "tags": []
          }
        },
        {
          "output_type": "stream",
          "text": [
            "\n"
          ],
          "name": "stdout"
        },
        {
          "output_type": "display_data",
          "data": {
            "application/vnd.jupyter.widget-view+json": {
              "model_id": "8d961312edc74101854f4e25874f5a13",
              "version_minor": 0,
              "version_major": 2
            },
            "text/plain": [
              "HBox(children=(FloatProgress(value=0.0, max=5.0), HTML(value='')))"
            ]
          },
          "metadata": {
            "tags": []
          }
        }
      ]
    },
    {
      "cell_type": "code",
      "metadata": {
        "id": "wtF6JCEi2axX",
        "colab_type": "code",
        "colab": {}
      },
      "source": [
        "# Plot performance versus params\n",
        "rcParams['figure.figsize'] = 10, 8  # width 10, height 8\n",
        "temp = error_rate[error_rate[param2_label] == param2_list[0]]\n",
        "ax = temp.plot(x=param_label, y='rmse', style='bs-')\n",
        "legend_list = [param2_label + '_' + str(param2_list[0])]\n",
        "\n",
        "color_list = ['r', 'g', 'k', 'y', 'm', 'c', '0.75']\n",
        "for i in range(1, len(param2_list)):\n",
        "    temp = error_rate[error_rate[param2_label] == param2_list[i]]\n",
        "    ax = temp.plot(\n",
        "        x=param_label,\n",
        "        y='rmse',\n",
        "        color=color_list[i % len(color_list)],\n",
        "        marker='s',\n",
        "        ax=ax)\n",
        "    legend_list.append(param2_label + '_' + str(param2_list[i]))\n",
        "\n",
        "ax.set_xlabel(param_label)\n",
        "ax.set_ylabel(\"RMSE\")\n",
        "matplotlib.rcParams.update({'font.size': 14})\n",
        "plt.legend(\n",
        "    legend_list, loc='center left',\n",
        "    bbox_to_anchor=(1.0, 0.5))  # positions legend outside figure\n",
        "# ax.set_xlim([10, 50])\n",
        "# ax.set_ylim([0, 5])"
      ],
      "execution_count": null,
      "outputs": []
    },
    {
      "cell_type": "code",
      "metadata": {
        "id": "B5lxMv3I2axg",
        "colab_type": "code",
        "colab": {}
      },
      "source": [
        "# Get optimum value for param and param2\n",
        "temp = error_rate[error_rate['rmse'] == error_rate['rmse'].min()]\n",
        "epochs_opt = temp[param_label].values[0]\n",
        "batch_size_opt = temp[param2_label].values[0]\n",
        "print(\"min RMSE = %0.3f\" % error_rate['rmse'].min())\n",
        "print(\"min MAPE = %0.3f%%\" % error_rate['mape_pct'].min())\n",
        "print(\"optimum \" + param_label + \" = \" + str(epochs_opt))\n",
        "print(\"optimum \" + param2_label + \" = \" + str(batch_size_opt))"
      ],
      "execution_count": null,
      "outputs": []
    },
    {
      "cell_type": "markdown",
      "metadata": {
        "id": "OhFGK66b2axp",
        "colab_type": "text"
      },
      "source": [
        "### Tuning model: LSTM units and dropout probability\n",
        "\n",
        "**parameters**:\n",
        "\n",
        "* LSTM units = {10, 50, 64, 128}\n",
        "* dropout probability = {0.5, 0.6, 0.7, 0.8, 0.9, 1}"
      ]
    },
    {
      "cell_type": "code",
      "metadata": {
        "id": "XDcPvO9A2axr",
        "colab_type": "code",
        "colab": {}
      },
      "source": [
        "param_label = 'lstm_units'\n",
        "param_list = [10, 50, 64, 128]\n",
        "\n",
        "param2_label = 'dropout_prob'\n",
        "param2_list = [0.5, 0.6, 0.7, 0.8, 0.9, 1]\n",
        "\n",
        "error_rate = {param_label: [], param2_label: [], 'rmse': [], 'mape_pct': []}\n",
        "tic = time.time()\n",
        "for param in tqdm_notebook(param_list):\n",
        "\n",
        "    for param2 in tqdm_notebook(param2_list):\n",
        "\n",
        "        # Train, predict and eval model\n",
        "        rmse, mape, _ = train_pred_eval_model(x_train_scaled, \\\n",
        "                                              y_train_scaled, \\\n",
        "                                              x_cv_scaled, \\\n",
        "                                              y_cv, \\\n",
        "                                              mu_cv_list, \\\n",
        "                                              std_cv_list, \\\n",
        "                                              lstm_units=param, \\\n",
        "                                              dropout_prob=param2, \\\n",
        "                                              optimizer=optimizer, \\\n",
        "                                              epochs=epochs_opt, \\\n",
        "                                              batch_size=batch_size_opt)\n",
        "\n",
        "        # Collect results\n",
        "        error_rate[param_label].append(param)\n",
        "        error_rate[param2_label].append(param2)\n",
        "        error_rate['rmse'].append(rmse)\n",
        "        error_rate['mape_pct'].append(mape)\n",
        "\n",
        "error_rate = pd.DataFrame(error_rate)\n",
        "toc = time.time()\n",
        "print(\"Minutes taken = \" + str((toc - tic) / 60.0))\n",
        "error_rate"
      ],
      "execution_count": null,
      "outputs": []
    },
    {
      "cell_type": "code",
      "metadata": {
        "id": "nB0TE13Y2ax3",
        "colab_type": "code",
        "colab": {}
      },
      "source": [
        "# Plot performance versus params\n",
        "rcParams['figure.figsize'] = 10, 8  # width 10, height 8\n",
        "temp = error_rate[error_rate[param2_label] == param2_list[0]]\n",
        "ax = temp.plot(x=param_label, y='rmse', style='bs-')\n",
        "legend_list = [param2_label + '_' + str(param2_list[0])]\n",
        "\n",
        "color_list = ['r', 'g', 'k', 'y', 'm', 'c', '0.75']\n",
        "for i in range(1, len(param2_list)):\n",
        "    temp = error_rate[error_rate[param2_label] == param2_list[i]]\n",
        "    ax = temp.plot(\n",
        "        x=param_label,\n",
        "        y='rmse',\n",
        "        color=color_list[i % len(color_list)],\n",
        "        marker='s',\n",
        "        ax=ax)\n",
        "    legend_list.append(param2_label + '_' + str(param2_list[i]))\n",
        "\n",
        "ax.set_xlabel(param_label)\n",
        "ax.set_ylabel(\"RMSE\")\n",
        "matplotlib.rcParams.update({'font.size': 14})\n",
        "plt.legend(\n",
        "    legend_list, loc='center left',\n",
        "    bbox_to_anchor=(1.0, 0.5))  # positions legend outside figure"
      ],
      "execution_count": null,
      "outputs": []
    },
    {
      "cell_type": "code",
      "metadata": {
        "id": "dtbkDdmg2ayB",
        "colab_type": "code",
        "colab": {}
      },
      "source": [
        "# Get optimum value for param and param2\n",
        "temp = error_rate[error_rate['rmse'] == error_rate['rmse'].min()]\n",
        "lstm_units_opt = temp[param_label].values[0]\n",
        "dropout_prob_opt = temp[param2_label].values[0]\n",
        "print(\"min RMSE = %0.3f\" % error_rate['rmse'].min())\n",
        "print(\"min MAPE = %0.3f%%\" % error_rate['mape_pct'].min())\n",
        "print(\"optimum \" + param_label + \" = \" + str(lstm_units_opt))\n",
        "print(\"optimum \" + param2_label + \" = \" + str(dropout_prob_opt))"
      ],
      "execution_count": null,
      "outputs": []
    },
    {
      "cell_type": "markdown",
      "metadata": {
        "id": "W7uINqy52ayJ",
        "colab_type": "text"
      },
      "source": [
        "### Tuning model: optimizer\n",
        "\n",
        "**parameters**\n",
        "\n",
        "* optimizer = {'adam', 'sgd', 'rmsprop', 'adagrad', 'adadelta', 'adamax', 'nadam'}"
      ]
    },
    {
      "cell_type": "code",
      "metadata": {
        "id": "UROkZEHa2ayL",
        "colab_type": "code",
        "colab": {}
      },
      "source": [
        "param_label = 'optimizer'\n",
        "param_list = [\n",
        "    'adam', 'sgd', 'rmsprop', 'adagrad', 'adadelta', 'adamax', 'nadam'\n",
        "]\n",
        "\n",
        "error_rate = {param_label: [], 'rmse': [], 'mape_pct': []}\n",
        "tic = time.time()\n",
        "for param in tqdm_notebook(param_list):\n",
        "\n",
        "    # Train, predict and eval model\n",
        "    rmse, mape, _ = train_pred_eval_model(x_train_scaled, \\\n",
        "                                          y_train_scaled, \\\n",
        "                                          x_cv_scaled, \\\n",
        "                                          y_cv, \\\n",
        "                                          mu_cv_list, \\\n",
        "                                          std_cv_list, \\\n",
        "                                          lstm_units=lstm_units_opt, \\\n",
        "                                          dropout_prob=dropout_prob_opt, \\\n",
        "                                          optimizer=param, \\\n",
        "                                          epochs=epochs_opt, \\\n",
        "                                          batch_size=batch_size_opt)\n",
        "\n",
        "    # Collect results\n",
        "    error_rate[param_label].append(param)\n",
        "    error_rate['rmse'].append(rmse)\n",
        "    error_rate['mape_pct'].append(mape)\n",
        "\n",
        "error_rate = pd.DataFrame(error_rate)\n",
        "toc = time.time()\n",
        "print(\"Minutes taken = \" + str((toc - tic) / 60.0))\n",
        "error_rate"
      ],
      "execution_count": null,
      "outputs": []
    },
    {
      "cell_type": "code",
      "metadata": {
        "id": "8wTBjoth2ayU",
        "colab_type": "code",
        "colab": {}
      },
      "source": [
        "# Plot RMSE\n",
        "rcParams['figure.figsize'] = 10, 8  # width 10, height 8\n",
        "\n",
        "ax = error_rate.plot(x='optimizer', y='rmse', style='bx-')\n",
        "ax = error_rate.plot(x='optimizer', y='mape_pct', style='rx-', ax=ax)\n",
        "ax.set_xticklabels(param_list)\n",
        "ax.set_xlabel(\"Optimizer\")\n",
        "ax.set_ylabel(\"RMSE/MAPE(%)\")"
      ],
      "execution_count": null,
      "outputs": []
    },
    {
      "cell_type": "code",
      "metadata": {
        "id": "OJPBbGqd2ayd",
        "colab_type": "code",
        "colab": {}
      },
      "source": [
        "# Get optimum value for param and param2\n",
        "temp = error_rate[error_rate['rmse'] == error_rate['rmse'].min()]\n",
        "optimizer_opt = temp[param_label].values[0]\n",
        "print(\"min RMSE = %0.3f\" % error_rate['rmse'].min())\n",
        "print(\"min MAPE = %0.3f%%\" % error_rate['mape_pct'].min())\n",
        "print(\"optimum \" + param_label + \" = \" + str(optimizer_opt))"
      ],
      "execution_count": null,
      "outputs": []
    },
    {
      "cell_type": "markdown",
      "metadata": {
        "id": "ssjkvGZD2aym",
        "colab_type": "text"
      },
      "source": [
        "### Tuned parameters\n",
        "\n",
        "Comparison between the original parameters and tuned parameters"
      ]
    },
    {
      "cell_type": "code",
      "metadata": {
        "id": "ASH4LCXA2ayo",
        "colab_type": "code",
        "colab": {}
      },
      "source": [
        "d = {\n",
        "    'param': [\n",
        "        'N', 'lstm_units', 'dropout_prob', 'optimizer', 'epochs', 'batch_size',\n",
        "        'rmse', 'mape_pct'\n",
        "    ],\n",
        "    'original': [\n",
        "        N, lstm_units, dropout_prob, optimizer, epochs, batch_size,\n",
        "        rmse_bef_tuning, mape_pct_bef_tuning\n",
        "    ],\n",
        "    'after_tuning': [\n",
        "        N_opt, lstm_units_opt, dropout_prob_opt, optimizer_opt, epochs_opt,\n",
        "        batch_size_opt, error_rate['rmse'].min(), error_rate['mape_pct'].min()\n",
        "    ]\n",
        "}\n",
        "tuned_params = pd.DataFrame(d)\n",
        "tuned_params"
      ],
      "execution_count": null,
      "outputs": []
    },
    {
      "cell_type": "markdown",
      "metadata": {
        "id": "pMROgQY_2ayy",
        "colab_type": "text"
      },
      "source": [
        "## Final model"
      ]
    },
    {
      "cell_type": "code",
      "metadata": {
        "id": "Hegd-40K2ay0",
        "colab_type": "code",
        "colab": {}
      },
      "source": [
        "# Split train_cv into x and y\n",
        "x_train_cv_scaled, y_train_cv_scaled = get_x_y(train_cv_scaled_final, N_opt,\n",
        "                                               N_opt)\n",
        "\n",
        "# Split test into x and y\n",
        "x_test_scaled, y_test, mu_test_list, std_test_list = get_x_scaled_y(\n",
        "    np.array(df['adj_close']).reshape(-1, 1), N_opt, num_train + num_cv)\n",
        "\n",
        "# Train, predict and eval model\n",
        "rmse, mape, est = train_pred_eval_model(x_train_cv_scaled, \\\n",
        "                                        y_train_cv_scaled, \\\n",
        "                                        x_test_scaled, \\\n",
        "                                        y_test, \\\n",
        "                                        mu_test_list, \\\n",
        "                                        std_test_list, \\\n",
        "                                        lstm_units=lstm_units_opt, \\\n",
        "                                        dropout_prob=dropout_prob_opt, \\\n",
        "                                        optimizer=optimizer_opt, \\\n",
        "                                        epochs=epochs_opt, \\\n",
        "                                        batch_size=batch_size_opt)\n",
        "\n",
        "# Calculate RMSE\n",
        "print(\"RMSE on test set = %0.3f\" % rmse)\n",
        "\n",
        "# Calculate MAPE\n",
        "print(\"MAPE on test set = %0.3f%%\" % mape)"
      ],
      "execution_count": null,
      "outputs": []
    },
    {
      "cell_type": "code",
      "metadata": {
        "id": "9KoY86Qj2ay-",
        "colab_type": "code",
        "colab": {}
      },
      "source": [
        "# Plot adjusted close over time\n",
        "rcParams['figure.figsize'] = 10, 8  # width 10, height 8\n",
        "\n",
        "est_df = pd.DataFrame({\n",
        "    'est': est.reshape(-1),\n",
        "    'date': df[num_train + num_cv:]['date']\n",
        "})\n",
        "\n",
        "ax = train.plot(x='date', y='adj_close', style='b-', grid=True)\n",
        "ax = cv.plot(x='date', y='adj_close', style='y-', grid=True, ax=ax)\n",
        "ax = test.plot(x='date', y='adj_close', style='g-', grid=True, ax=ax)\n",
        "ax = est_df.plot(x='date', y='est', style='r-', grid=True, ax=ax)\n",
        "ax.legend(['train', 'dev', 'test', 'predictions'])\n",
        "ax.set_xlabel(\"date\")\n",
        "ax.set_ylabel(\"USD\")"
      ],
      "execution_count": null,
      "outputs": []
    },
    {
      "cell_type": "code",
      "metadata": {
        "id": "f3nR9osp2azI",
        "colab_type": "code",
        "colab": {}
      },
      "source": [
        "# Plot adjusted close over time, for test set only\n",
        "rcParams['figure.figsize'] = 10, 8  # width 10, height 8\n",
        "ax = train.plot(x='date', y='adj_close', style='b-', grid=True)\n",
        "ax = cv.plot(x='date', y='adj_close', style='y-', grid=True, ax=ax)\n",
        "ax = test.plot(x='date', y='adj_close', style='g-', grid=True, ax=ax)\n",
        "ax = est_df.plot(x='date', y='est', style='r-', grid=True, ax=ax)\n",
        "ax.legend(['train', 'dev', 'test', 'predictions'])\n",
        "ax.set_xlabel(\"date\")\n",
        "ax.set_ylabel(\"USD\")\n",
        "ax.set_xlim([date(2018, 4, 2), date(2019, 3, 29)])\n",
        "ax.set_ylim([220, 300])\n",
        "ax.set_title(\"Zoom in to test set\")"
      ],
      "execution_count": null,
      "outputs": []
    },
    {
      "cell_type": "code",
      "metadata": {
        "id": "Lm0qcbBd2azS",
        "colab_type": "code",
        "colab": {}
      },
      "source": [
        "# Plot adjusted close over time, only for test set\n",
        "rcParams['figure.figsize'] = 10, 8  # width 10, height 8\n",
        "matplotlib.rcParams.update({'font.size': 14})\n",
        "\n",
        "ax = test.plot(x='date', y='adj_close', style='gx-', grid=True)\n",
        "ax = est_df.plot(x='date', y='est', style='rx-', grid=True, ax=ax)\n",
        "ax.legend(['test', 'predictions using lstm'], loc='upper left')\n",
        "ax.set_xlabel(\"date\")\n",
        "ax.set_ylabel(\"USD\")\n",
        "ax.set_xlim([date(2018, 4, 2), date(2019, 3, 29)])\n",
        "ax.set_ylim([220, 300])"
      ],
      "execution_count": null,
      "outputs": []
    },
    {
      "cell_type": "code",
      "metadata": {
        "id": "bT3rwKXN2azb",
        "colab_type": "code",
        "colab": {}
      },
      "source": [
        "# Save as csv\n",
        "test_lstm = est_df\n",
        "test_lstm.to_csv(\"/content/test_lstm.csv\")"
      ],
      "execution_count": null,
      "outputs": []
    },
    {
      "cell_type": "markdown",
      "metadata": {
        "collapsed": true,
        "id": "vc-eStL02azk",
        "colab_type": "text"
      },
      "source": [
        "## Result:\n",
        "* On the test set, the RMSE is 2.632 and MAPE is 0.698% using N_opt=3"
      ]
    }
  ]
}