{
  "nbformat": 4,
  "nbformat_minor": 0,
  "metadata": {
    "colab": {
      "name": "[6]_HHV_cHB_SVM_KFold.ipynb",
      "provenance": [],
      "authorship_tag": "ABX9TyMbrb+IXQlk0pn5TDzzjVjR",
      "include_colab_link": true
    },
    "kernelspec": {
      "name": "python3",
      "display_name": "Python 3"
    }
  },
  "cells": [
    {
      "cell_type": "markdown",
      "metadata": {
        "id": "view-in-github",
        "colab_type": "text"
      },
      "source": [
        "<a href=\"https://colab.research.google.com/github/693080593/research/blob/master/%5B6%5D_HHV_cHB_SVM_KFold.ipynb\" target=\"_parent\"><img src=\"https://colab.research.google.com/assets/colab-badge.svg\" alt=\"Open In Colab\"/></a>"
      ]
    },
    {
      "cell_type": "code",
      "metadata": {
        "id": "evBJ1jDFzAPW",
        "colab": {
          "base_uri": "https://localhost:8080/",
          "height": 214
        },
        "outputId": "28d5769b-e5d3-4165-9651-272fb2a20ace"
      },
      "source": [
        "# Import libraries necessary for this project\n",
        "import numpy as np\n",
        "import pandas as pd\n",
        "\n",
        "# Import supplementary visualizations code visuals.py\n",
        "import visuals as vs\n",
        "\n",
        "\n",
        "# Pretty display for notebooks\n",
        "%matplotlib inline\n",
        "\n",
        "# Load the dataset\n",
        "data = pd.read_csv('/content/Feed Effect on Biocrude HHV Data ML 111020.csv')\n",
        "Oil_HHV = data['Bio-crude Oil HHV']\n",
        "Features = data.drop('Bio-crude Oil HHV', axis = 1)\n",
        "\n",
        "# Success\n",
        "print (\"Bio-crude HHV dataset has {} data points with {} variables each.\".format(*data.shape))\n",
        "data.shape\n",
        "\n",
        "data[:240:30]\n"
      ],
      "execution_count": 1,
      "outputs": [
        {
          "output_type": "stream",
          "text": [
            "Bio-crude HHV dataset has 123 data points with 8 variables each.\n"
          ],
          "name": "stdout"
        },
        {
          "output_type": "execute_result",
          "data": {
            "text/html": [
              "<div>\n",
              "<style scoped>\n",
              "    .dataframe tbody tr th:only-of-type {\n",
              "        vertical-align: middle;\n",
              "    }\n",
              "\n",
              "    .dataframe tbody tr th {\n",
              "        vertical-align: top;\n",
              "    }\n",
              "\n",
              "    .dataframe thead th {\n",
              "        text-align: right;\n",
              "    }\n",
              "</style>\n",
              "<table border=\"1\" class=\"dataframe\">\n",
              "  <thead>\n",
              "    <tr style=\"text-align: right;\">\n",
              "      <th></th>\n",
              "      <th>Lipid</th>\n",
              "      <th>Protein</th>\n",
              "      <th>Cellulose</th>\n",
              "      <th>Hemicellulose</th>\n",
              "      <th>Carbohydrate</th>\n",
              "      <th>Lignin</th>\n",
              "      <th>Ash</th>\n",
              "      <th>Bio-crude Oil HHV</th>\n",
              "    </tr>\n",
              "  </thead>\n",
              "  <tbody>\n",
              "    <tr>\n",
              "      <th>0</th>\n",
              "      <td>1.7</td>\n",
              "      <td>27.2</td>\n",
              "      <td>14.4</td>\n",
              "      <td>3.5</td>\n",
              "      <td>0.0</td>\n",
              "      <td>5.7</td>\n",
              "      <td>47.5</td>\n",
              "      <td>25.8</td>\n",
              "    </tr>\n",
              "    <tr>\n",
              "      <th>30</th>\n",
              "      <td>0.0</td>\n",
              "      <td>0.0</td>\n",
              "      <td>45.5</td>\n",
              "      <td>45.5</td>\n",
              "      <td>0.0</td>\n",
              "      <td>9.1</td>\n",
              "      <td>0.0</td>\n",
              "      <td>39.2</td>\n",
              "    </tr>\n",
              "    <tr>\n",
              "      <th>60</th>\n",
              "      <td>0.0</td>\n",
              "      <td>6.5</td>\n",
              "      <td>52.8</td>\n",
              "      <td>0.0</td>\n",
              "      <td>0.0</td>\n",
              "      <td>38.7</td>\n",
              "      <td>1.1</td>\n",
              "      <td>26.2</td>\n",
              "    </tr>\n",
              "    <tr>\n",
              "      <th>90</th>\n",
              "      <td>23.6</td>\n",
              "      <td>42.0</td>\n",
              "      <td>0.0</td>\n",
              "      <td>0.0</td>\n",
              "      <td>5.9</td>\n",
              "      <td>0.0</td>\n",
              "      <td>26.4</td>\n",
              "      <td>34.5</td>\n",
              "    </tr>\n",
              "    <tr>\n",
              "      <th>120</th>\n",
              "      <td>0.1</td>\n",
              "      <td>71.3</td>\n",
              "      <td>0.5</td>\n",
              "      <td>0.3</td>\n",
              "      <td>22.0</td>\n",
              "      <td>0.2</td>\n",
              "      <td>5.6</td>\n",
              "      <td>38.5</td>\n",
              "    </tr>\n",
              "  </tbody>\n",
              "</table>\n",
              "</div>"
            ],
            "text/plain": [
              "     Lipid  Protein  Cellulose  ...  Lignin   Ash  Bio-crude Oil HHV\n",
              "0      1.7     27.2       14.4  ...     5.7  47.5               25.8\n",
              "30     0.0      0.0       45.5  ...     9.1   0.0               39.2\n",
              "60     0.0      6.5       52.8  ...    38.7   1.1               26.2\n",
              "90    23.6     42.0        0.0  ...     0.0  26.4               34.5\n",
              "120    0.1     71.3        0.5  ...     0.2   5.6               38.5\n",
              "\n",
              "[5 rows x 8 columns]"
            ]
          },
          "metadata": {
            "tags": []
          },
          "execution_count": 1
        }
      ]
    },
    {
      "cell_type": "code",
      "metadata": {
        "id": "7BH3XQcV0Mzl"
      },
      "source": [
        "import numpy as np\n",
        "# The mean relative error (MRE) is commonly used to measure the predictive accuracy of models.\n",
        "\n",
        "def performance_metric(y_true, y_predict):\n",
        "  \"\"\"Calculates and returns the performance score between \n",
        "        true and predicted values based on the metric chosen.\"\"\"\n",
        "  # TODO: Calculate the performance score between 'y_true' and 'y_predict'\n",
        "\n",
        "  return np.mean(np.abs(y_true-y_predict))/np.mean(y_true)"
      ],
      "execution_count": 2,
      "outputs": []
    },
    {
      "cell_type": "code",
      "metadata": {
        "id": "rHCABwjs0Xdf"
      },
      "source": [
        "# No use now.\n",
        "# Define predict score\n",
        "import numpy as np\n",
        "def performance_metric2(y_true, y_predict):\n",
        "  \"\"\"Calculate and reture the ratio of predict value to predict score\"\"\"\n",
        "  y_true_arr = np.arr(y_true)\n",
        "  y_predict_arr = np.arr(y_predict)\n",
        "\n",
        "  # Mean value of dataset\n",
        "  y_true_mean = np.mean(y_true_arr)\n",
        "\n",
        "  ss_tot = 0\n",
        "  ss_reg = 0\n",
        "  ss_res = 0\n",
        "\n",
        "  for index in range (y_true_arr):\n",
        "    ss_tot += (y_true_arr[index] - y_true_mean)**2\n",
        "  \n",
        "  for index in range (y_true_arr):\n",
        "    ss_reg += (y_predict_arr[index] - y_true_mean)**2\n",
        "  \n",
        "  for index in range (y_true_arr):\n",
        "    ss_res += (y_predict_arr[index] - y_true_arr[index])**2\n",
        "  \n",
        "  score = 1 - (ss_res/ss_tot)\n",
        "\n",
        "  return score"
      ],
      "execution_count": null,
      "outputs": []
    },
    {
      "cell_type": "code",
      "metadata": {
        "id": "GYSgXp14zlgh",
        "colab": {
          "base_uri": "https://localhost:8080/"
        },
        "outputId": "e154ef49-0b1b-4e2a-d431-80d3f43a519a"
      },
      "source": [
        "# TODO: Import 'SVM'\n",
        "from sklearn.svm import SVR\n",
        "\n",
        "# TODO: Import 'KFold'\n",
        "from sklearn.model_selection import KFold\n",
        "\n",
        "# TODO Calculate the r2 score between 'y_true' and 'y_predict'\n",
        "from math import sqrt\n",
        "from sklearn import metrics\n",
        "\n",
        "np.random.seed(seed = 154)\n",
        "data['random'] = np.random.random(size = len(data))\n",
        "\n",
        "# Lets split the data into 3 folds.  \n",
        "kf =KFold(n_splits=3, shuffle=True)\n",
        "\n",
        "cnt = 1\n",
        "\n",
        "MAE_train_all=[]\n",
        "MAE_test_all=[]\n",
        "y_train_rmse_all=[]\n",
        "y_test_rmse_all=[]\n",
        "r2_train_all=[]\n",
        "r2_test_all=[]\n",
        "MRE_train_all=[]\n",
        "MRE_test_all=[]\n",
        "y_test_list=[]\n",
        "y_pred_list=[]\n",
        "\n",
        "# split()  method generate indices to split data into training and test set.\n",
        "for train_index, test_index in kf.split(Features, Oil_HHV):\n",
        "    # print(f'Fold:{cnt}, Train set: {len(train_index)}, Test set:{len(test_index)}')\n",
        "    \n",
        "    #fixed by Wenjing\n",
        "    X_train, X_test = Features.iloc[train_index,:],Features.iloc[test_index,:]\n",
        "    y_train, y_test = Oil_HHV.iloc[train_index],Oil_HHV.iloc[test_index]\n",
        "    \n",
        "    svr = SVR(kernel='linear', C=100, gamma='auto')\n",
        "    svr.fit(X_train, y_train)\n",
        "    \n",
        "    y_train_predict = svr.predict(X_train)\n",
        "    y_test_predict = svr.predict(X_test)\n",
        "    \n",
        "    MAE_train = metrics.mean_absolute_error(y_train, y_train_predict)\n",
        "    MAE_test = metrics.mean_absolute_error(y_test, y_test_predict)\n",
        "\n",
        "    y_train_rmse = sqrt(metrics.mean_squared_error(y_train, y_train_predict))\n",
        "    y_test_rmse = sqrt(metrics.mean_squared_error(y_test, y_test_predict))\n",
        "\n",
        "    r2_train = metrics.r2_score(y_train, y_train_predict)\n",
        "    r2_test = metrics.r2_score(y_test, y_test_predict)\n",
        "\n",
        "    MRE_train = performance_metric(y_train, y_train_predict)\n",
        "    MRE_test = performance_metric(y_test, y_test_predict)\n",
        "\n",
        "    # print(\"Optimal model has MAE of training set:\", MAE_train)\n",
        "    # print(\"Optimal model has MAE of test set:\", MAE_test)\n",
        "    # print(\"Optimal model has RMSE of training set:\", y_train_rmse)\n",
        "    # print(\"Optimal model has RMSE of test set:\", y_test_rmse)\n",
        "    # print(\"Optimal model has R2 score of training set {:,.2f} on training data.\".format(r2_train))\n",
        "    # print(\"Optimal model has R2 score of test set {:,.2f} on test data.\".format(r2_test))\n",
        "    # print(\"Optimal model has MRE of training set:\", MRE_train)\n",
        "    # print(\"Optimal model has MRE of test set:\", MRE_test)\n",
        "    # print(\"\")\n",
        "\n",
        "    cnt += 1\n",
        "\n",
        "    MAE_train_all.append(MAE_train)\n",
        "    MAE_test_all.append(MAE_test)\n",
        "    y_train_rmse_all.append(y_train_rmse)\n",
        "    y_test_rmse_all.append(y_test_rmse)\n",
        "    r2_train_all.append(r2_train)\n",
        "    r2_test_all.append(r2_test)\n",
        "    MRE_train_all.append(MRE_train)\n",
        "    MRE_test_all.append(MRE_test)\n",
        "    y_test_list.append(y_test.values)\n",
        "    y_pred_list.append(y_test_predict)\n",
        "\n",
        "y_test_all=np.concatenate(y_test_list, axis=0)\n",
        "y_pred_all=np.concatenate(y_pred_list, axis=0)\n",
        "\n",
        "print(\"Mean value of MAE of training set\", np.mean(MAE_train_all))\n",
        "print(\"Standard deviation of MAE of training set\", np.std(MAE_train_all))\n",
        "print(\"Mean value of MAE of test set\", np.mean(MAE_test_all))\n",
        "print(\"Standard deviation of MAE of test set\", np.std(MAE_test_all))\n",
        "print(\"\")\n",
        "print(\"Mean value of RMSE of training set\", np.mean(y_train_rmse_all))\n",
        "print(\"Standard deviation of RMSE of training set\", np.std(y_train_rmse_all))\n",
        "print(\"Mean value of RMSE of test set\", np.mean(y_test_rmse_all))\n",
        "print(\"Standard deviation of RMSE of test set\", np.std(y_test_rmse_all))\n",
        "print(\"\")\n",
        "print(\"Mean value of R2 of training set\", np.mean(r2_train_all))\n",
        "print(\"Standard deviation of R2 of training set\", np.std(r2_train_all))\n",
        "print(\"Mean value of R2 of test set\", np.mean(r2_test_all))\n",
        "print(\"Standard deviation of R2 of test set\", np.std(r2_test_all))\n",
        "print(\"\")\n",
        "print(\"Mean value of MRE of training set\", np.mean(MRE_train_all))\n",
        "print(\"Standard deviation of MRE of training set\", np.std(MRE_train_all))\n",
        "print(\"Mean value of MRE of test set\", np.mean(MRE_test_all))\n",
        "print(\"Standard deviation of MRE of test set\", np.std(MRE_test_all))\n",
        "\n",
        "# print(len(np.concatenate(y_test_list, axis=0)))\n",
        "# print(len(np.concatenate(y_pred_list, axis=0)))"
      ],
      "execution_count": 3,
      "outputs": [
        {
          "output_type": "stream",
          "text": [
            "Mean value of MAE of training set 3.2624240774540945\n",
            "Standard deviation of MAE of training set 0.20570807495627969\n",
            "Mean value of MAE of test set 3.63587795676607\n",
            "Standard deviation of MAE of test set 0.4332000464748597\n",
            "\n",
            "Mean value of RMSE of training set 4.600915701605549\n",
            "Standard deviation of RMSE of training set 0.25722564202417764\n",
            "Mean value of RMSE of test set 4.82638754105499\n",
            "Standard deviation of RMSE of test set 0.6834381061818415\n",
            "\n",
            "Mean value of R2 of training set 0.17898129635857196\n",
            "Standard deviation of R2 of training set 0.023194512801092165\n",
            "Mean value of R2 of test set 0.08789856117578569\n",
            "Standard deviation of R2 of test set 0.1069480084275038\n",
            "\n",
            "Mean value of MRE of training set 0.09825924890213172\n",
            "Standard deviation of MRE of training set 0.006997373814369623\n",
            "Mean value of MRE of test set 0.10967437782969935\n",
            "Standard deviation of MRE of test set 0.014633361384162786\n"
          ],
          "name": "stdout"
        }
      ]
    },
    {
      "cell_type": "code",
      "metadata": {
        "colab": {
          "base_uri": "https://localhost:8080/",
          "height": 312
        },
        "id": "y0k9rMeZInHe",
        "outputId": "bbe6f141-2a28-4576-d9d6-bbe3d27c84a1"
      },
      "source": [
        "import matplotlib.pyplot as py\n",
        "py.plot(y_test_all, y_pred_all, 'bo')\n",
        "py.ylim(0, 49)\n",
        "py.xlabel('y_true')\n",
        "py.ylabel('y_pred')\n",
        "py.title('y_pred vs. y_true')"
      ],
      "execution_count": 4,
      "outputs": [
        {
          "output_type": "execute_result",
          "data": {
            "text/plain": [
              "Text(0.5, 1.0, 'y_pred vs. y_true')"
            ]
          },
          "metadata": {
            "tags": []
          },
          "execution_count": 4
        },
        {
          "output_type": "display_data",
          "data": {
            "image/png": "[encoded data removed]",
            "text/plain": [
              "<Figure size 432x288 with 1 Axes>"
            ]
          },
          "metadata": {
            "tags": [],
            "needs_background": "light"
          }
        }
      ]
    },
    {
      "cell_type": "code",
      "metadata": {
        "id": "zQlVenz1IqIB"
      },
      "source": [
        "Parity={'Predict Data':y_pred_all,'Test Data':y_test_all}\n",
        "df = pd.DataFrame(Parity, columns= ['Predict Data', 'Test Data'])\n",
        "df.to_csv (r'/content/export_dataframe_HHV_SVM.csv', index = False, header=True)"
      ],
      "execution_count": null,
      "outputs": []
    },
    {
      "cell_type": "code",
      "metadata": {
        "id": "iLg5QUS9Is_q"
      },
      "source": [
        ""
      ],
      "execution_count": null,
      "outputs": []
    },
    {
      "cell_type": "code",
      "metadata": {
        "id": "ari0aZL6Is2t"
      },
      "source": [
        ""
      ],
      "execution_count": null,
      "outputs": []
    },
    {
      "cell_type": "code",
      "metadata": {
        "colab": {
          "base_uri": "https://localhost:8080/"
        },
        "id": "AqxfYKf6TA1v",
        "outputId": "ef975b33-f6bd-4078-e916-13c0a62cd885"
      },
      "source": [
        "# No use now.\n",
        "# Predict Bio-crude Oil Yield\n",
        "# Produce a matrix for feedstock composition data\n",
        "feedstock_composition_data = [[21.9, 17.8, 0, 0, 58.9, 0, 1.1], # Model Food Waste\n",
        "                              [19.7, 13.5, 0, 0, 22.9, 0, 7.3],  # N.salina\n",
        "                              [5.5, 45.3, 0, 0, 14.5, 0, 10.4]]  # G.sulphuraria\n",
        "# Show predictions\n",
        "for i, Oil_Yield in enumerate(svr.predict(feedstock_composition_data)):\n",
        "  print(\"Predicted bio-crude oil yield for the composition of Feedstock {}: {:,.2f} wt%\".format(i+1,Oil_Yield))"
      ],
      "execution_count": null,
      "outputs": [
        {
          "output_type": "stream",
          "text": [
            "Predicted bio-crude oil yield for the composition of Feedstock 1: 32.25 wt%\n",
            "Predicted bio-crude oil yield for the composition of Feedstock 2: 34.50 wt%\n",
            "Predicted bio-crude oil yield for the composition of Feedstock 3: 27.57 wt%\n"
          ],
          "name": "stdout"
        }
      ]
    },
    {
      "cell_type": "code",
      "metadata": {
        "id": "5x8qJN4lYxXn",
        "colab": {
          "base_uri": "https://localhost:8080/"
        },
        "outputId": "93a3e7c9-1b24-47d9-aa75-39df506358a1"
      },
      "source": [
        "# No use now.\n",
        "for i in [0,1,2]:\n",
        "  vs.PredictTrials(Features, Oil_Yields, svr.fit, feedstock_composition_data[i:i+1])"
      ],
      "execution_count": null,
      "outputs": [
        {
          "output_type": "stream",
          "text": [
            "Trial 1: $32.23\n",
            "Trial 2: $33.22\n",
            "Trial 3: $32.68\n",
            "Trial 4: $35.14\n",
            "Trial 5: $32.97\n",
            "Trial 6: $33.46\n",
            "Trial 7: $32.92\n",
            "Trial 8: $34.91\n",
            "Trial 9: $32.71\n",
            "Trial 10: $32.59\n",
            "\n",
            "Range in prices: $2.91\n",
            "Trial 1: $35.10\n",
            "Trial 2: $35.25\n",
            "Trial 3: $36.33\n",
            "Trial 4: $34.24\n",
            "Trial 5: $35.55\n",
            "Trial 6: $35.83\n",
            "Trial 7: $35.01\n",
            "Trial 8: $37.20\n",
            "Trial 9: $35.99\n",
            "Trial 10: $34.90\n",
            "\n",
            "Range in prices: $2.96\n",
            "Trial 1: $27.63\n",
            "Trial 2: $28.00\n",
            "Trial 3: $27.79\n",
            "Trial 4: $27.49\n",
            "Trial 5: $27.76\n",
            "Trial 6: $27.62\n",
            "Trial 7: $27.16\n",
            "Trial 8: $28.11\n",
            "Trial 9: $27.62\n",
            "Trial 10: $27.17\n",
            "\n",
            "Range in prices: $0.95\n"
          ],
          "name": "stdout"
        }
      ]
    }
  ]
}