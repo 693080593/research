{
  "nbformat": 4,
  "nbformat_minor": 0,
  "metadata": {
    "colab": {
      "name": "[7]_HHV_cHB_ANN_KFold.ipynb",
      "provenance": [],
      "include_colab_link": true
    },
    "kernelspec": {
      "display_name": "Python 3",
      "language": "python",
      "name": "python3"
    },
    "language_info": {
      "codemirror_mode": {
        "name": "ipython",
        "version": 3
      },
      "file_extension": ".py",
      "mimetype": "text/x-python",
      "name": "python",
      "nbconvert_exporter": "python",
      "pygments_lexer": "ipython3",
      "version": "3.7.4"
    }
  },
  "cells": [
    {
      "cell_type": "markdown",
      "metadata": {
        "id": "view-in-github",
        "colab_type": "text"
      },
      "source": [
        "<a href=\"https://colab.research.google.com/github/693080593/research/blob/master/%5B7%5D_HHV_cHB_ANN_KFold.ipynb\" target=\"_parent\"><img src=\"https://colab.research.google.com/assets/colab-badge.svg\" alt=\"Open In Colab\"/></a>"
      ]
    },
    {
      "cell_type": "code",
      "metadata": {
        "id": "cJxqhn92z_ts",
        "colab": {
          "base_uri": "https://localhost:8080/"
        },
        "outputId": "1a676590-1413-491c-ac84-fcf1e1766f83"
      },
      "source": [
        "# Import libraries necessary for this project\n",
        "import numpy as np\n",
        "import pandas as pd\n",
        "\n",
        "# Import supplementary visualizations code visuals.py\n",
        "import visuals as vs\n",
        "\n",
        "\n",
        "# Pretty display for notebooks\n",
        "%matplotlib inline\n",
        "\n",
        "# Load the dataset\n",
        "data = pd.read_csv(r'/content/Feed Effect on Biocrude HHV Data ML 111020.csv')\n",
        "Oil_HHV = data['Bio-crude Oil HHV']\n",
        "Features = data.drop('Bio-crude Oil HHV', axis = 1)\n",
        "\n",
        "# Success\n",
        "print (\"Bio-crude HHV dataset has {} data points with {} variables each.\".format(*data.shape))\n",
        "data.shape\n",
        "\n",
        "# data[:240:30]\n"
      ],
      "execution_count": 1,
      "outputs": [
        {
          "output_type": "stream",
          "text": [
            "Bio-crude HHV dataset has 123 data points with 8 variables each.\n"
          ],
          "name": "stdout"
        },
        {
          "output_type": "execute_result",
          "data": {
            "text/plain": [
              "(123, 8)"
            ]
          },
          "metadata": {
            "tags": []
          },
          "execution_count": 1
        }
      ]
    },
    {
      "cell_type": "code",
      "metadata": {
        "id": "mjjLXjJXJNG2",
        "colab": {
          "base_uri": "https://localhost:8080/",
          "height": 404
        },
        "outputId": "15a4b191-5aad-4411-c07a-dd95b69ea55e"
      },
      "source": [
        "# TODO: Minimum price of the data\n",
        "minimum_Oil_HHV = np.min(Oil_HHV)\n",
        "\n",
        "# TODO: Maximum price of the data\n",
        "maximum_Oil_HHV = np.max(Oil_HHV)\n",
        "\n",
        "# TODO: Mean price of the data\n",
        "mean_Oil_HHV = np.mean(Oil_HHV)\n",
        "\n",
        "# TODO: Median price of the data\n",
        "median_Oil_HHV = np.median(Oil_HHV)\n",
        "\n",
        "# TODO: Standard deviation of prices of the data\n",
        "std_Oil_HHV = np.std(Oil_HHV)\n",
        "\n",
        "# Show the calculated statistics\n",
        "\n",
        "print(\"Statistics for bio-crude dataset:\\n\")\n",
        "print(\"Minimum bio-crude oil HHV:{: .2f} MJ/kg\".format(minimum_Oil_HHV))\n",
        "print(\"Maximum bio-crude oil HHV:{: .2f} MJ/kg\".format(maximum_Oil_HHV))\n",
        "print(\"Mean bio-crude oil HHV:{: .2f} MJ/kg\".format(mean_Oil_HHV))\n",
        "print(\"Median bio-crude oil HHV:{: .2f} MJ/kg\".format(median_Oil_HHV))\n",
        "print(\"Standard deviation of bio-crude oil HHV:{: .2f} MJ/kg\".format(std_Oil_HHV))\n",
        "\n",
        "data.describe()"
      ],
      "execution_count": 2,
      "outputs": [
        {
          "output_type": "stream",
          "text": [
            "Statistics for bio-crude dataset:\n",
            "\n",
            "Minimum bio-crude oil HHV: 17.70 MJ/kg\n",
            "Maximum bio-crude oil HHV: 44.40 MJ/kg\n",
            "Mean bio-crude oil HHV: 33.22 MJ/kg\n",
            "Median bio-crude oil HHV: 34.00 MJ/kg\n",
            "Standard deviation of bio-crude oil HHV: 5.09 MJ/kg\n"
          ],
          "name": "stdout"
        },
        {
          "output_type": "execute_result",
          "data": {
            "text/html": [
              "<div>\n",
              "<style scoped>\n",
              "    .dataframe tbody tr th:only-of-type {\n",
              "        vertical-align: middle;\n",
              "    }\n",
              "\n",
              "    .dataframe tbody tr th {\n",
              "        vertical-align: top;\n",
              "    }\n",
              "\n",
              "    .dataframe thead th {\n",
              "        text-align: right;\n",
              "    }\n",
              "</style>\n",
              "<table border=\"1\" class=\"dataframe\">\n",
              "  <thead>\n",
              "    <tr style=\"text-align: right;\">\n",
              "      <th></th>\n",
              "      <th>Lipid</th>\n",
              "      <th>Protein</th>\n",
              "      <th>Cellulose</th>\n",
              "      <th>Hemicellulose</th>\n",
              "      <th>Carbohydrate</th>\n",
              "      <th>Lignin</th>\n",
              "      <th>Ash</th>\n",
              "      <th>Bio-crude Oil HHV</th>\n",
              "    </tr>\n",
              "  </thead>\n",
              "  <tbody>\n",
              "    <tr>\n",
              "      <th>count</th>\n",
              "      <td>123.000000</td>\n",
              "      <td>123.000000</td>\n",
              "      <td>123.000000</td>\n",
              "      <td>123.000000</td>\n",
              "      <td>123.000000</td>\n",
              "      <td>123.000000</td>\n",
              "      <td>123.000000</td>\n",
              "      <td>123.000000</td>\n",
              "    </tr>\n",
              "    <tr>\n",
              "      <th>mean</th>\n",
              "      <td>8.754472</td>\n",
              "      <td>24.526016</td>\n",
              "      <td>20.039837</td>\n",
              "      <td>8.446341</td>\n",
              "      <td>18.629268</td>\n",
              "      <td>8.554472</td>\n",
              "      <td>7.239024</td>\n",
              "      <td>33.221138</td>\n",
              "    </tr>\n",
              "    <tr>\n",
              "      <th>std</th>\n",
              "      <td>16.802543</td>\n",
              "      <td>26.330998</td>\n",
              "      <td>27.646648</td>\n",
              "      <td>16.922036</td>\n",
              "      <td>25.908710</td>\n",
              "      <td>14.504868</td>\n",
              "      <td>11.343089</td>\n",
              "      <td>5.108098</td>\n",
              "    </tr>\n",
              "    <tr>\n",
              "      <th>min</th>\n",
              "      <td>0.000000</td>\n",
              "      <td>0.000000</td>\n",
              "      <td>0.000000</td>\n",
              "      <td>0.000000</td>\n",
              "      <td>0.000000</td>\n",
              "      <td>0.000000</td>\n",
              "      <td>0.000000</td>\n",
              "      <td>17.700000</td>\n",
              "    </tr>\n",
              "    <tr>\n",
              "      <th>25%</th>\n",
              "      <td>0.000000</td>\n",
              "      <td>0.000000</td>\n",
              "      <td>0.000000</td>\n",
              "      <td>0.000000</td>\n",
              "      <td>0.000000</td>\n",
              "      <td>0.000000</td>\n",
              "      <td>0.000000</td>\n",
              "      <td>30.250000</td>\n",
              "    </tr>\n",
              "    <tr>\n",
              "      <th>50%</th>\n",
              "      <td>1.700000</td>\n",
              "      <td>17.600000</td>\n",
              "      <td>1.000000</td>\n",
              "      <td>0.000000</td>\n",
              "      <td>9.000000</td>\n",
              "      <td>0.000000</td>\n",
              "      <td>3.000000</td>\n",
              "      <td>34.000000</td>\n",
              "    </tr>\n",
              "    <tr>\n",
              "      <th>75%</th>\n",
              "      <td>11.050000</td>\n",
              "      <td>44.050000</td>\n",
              "      <td>39.600000</td>\n",
              "      <td>9.200000</td>\n",
              "      <td>25.850000</td>\n",
              "      <td>14.300000</td>\n",
              "      <td>7.500000</td>\n",
              "      <td>36.550000</td>\n",
              "    </tr>\n",
              "    <tr>\n",
              "      <th>max</th>\n",
              "      <td>100.000000</td>\n",
              "      <td>100.000000</td>\n",
              "      <td>100.000000</td>\n",
              "      <td>100.000000</td>\n",
              "      <td>100.000000</td>\n",
              "      <td>100.000000</td>\n",
              "      <td>47.500000</td>\n",
              "      <td>44.400000</td>\n",
              "    </tr>\n",
              "  </tbody>\n",
              "</table>\n",
              "</div>"
            ],
            "text/plain": [
              "            Lipid     Protein  ...         Ash  Bio-crude Oil HHV\n",
              "count  123.000000  123.000000  ...  123.000000         123.000000\n",
              "mean     8.754472   24.526016  ...    7.239024          33.221138\n",
              "std     16.802543   26.330998  ...   11.343089           5.108098\n",
              "min      0.000000    0.000000  ...    0.000000          17.700000\n",
              "25%      0.000000    0.000000  ...    0.000000          30.250000\n",
              "50%      1.700000   17.600000  ...    3.000000          34.000000\n",
              "75%     11.050000   44.050000  ...    7.500000          36.550000\n",
              "max    100.000000  100.000000  ...   47.500000          44.400000\n",
              "\n",
              "[8 rows x 8 columns]"
            ]
          },
          "metadata": {
            "tags": []
          },
          "execution_count": 2
        }
      ]
    },
    {
      "cell_type": "code",
      "metadata": {
        "id": "92Ke84sZLagb",
        "colab": {
          "base_uri": "https://localhost:8080/",
          "height": 713
        },
        "outputId": "7d4c7442-5aa9-4e9c-8bb3-37ef35c2c8c2"
      },
      "source": [
        "# Load matplotlib\n",
        "import matplotlib.pyplot as plt\n",
        "\n",
        "# Show the figure with higher resolution\n",
        "%config InlineBackend.figure_format = 'retina'\n",
        "\n",
        "# Adjust the size of figure\n",
        "plt.figure(figsize=(12,12))\n",
        "\n",
        "plt.subplot(331)\n",
        "plt.xlabel('Lipid')\n",
        "plt.ylabel('Bio-crude Oil HHV (MJ/kg)')\n",
        "plt.scatter(data['Lipid'],data['Bio-crude Oil HHV'],alpha = 0.5)\n",
        "\n",
        "plt.subplot(332)\n",
        "plt.xlabel('Protein')\n",
        "plt.ylabel('Bio-crude Oil HHV (MJ/kg)')\n",
        "plt.scatter(data['Protein'],data['Bio-crude Oil HHV'],alpha = 0.5)\n",
        "\n",
        "plt.subplot(333)\n",
        "plt.xlabel('Cellulose')\n",
        "plt.ylabel('Bio-crude Oil HHV (MJ/kg)')\n",
        "plt.scatter(data['Cellulose'],data['Bio-crude Oil HHV'],alpha = 0.5)\n",
        "\n",
        "plt.subplot(334)\n",
        "plt.xlabel('Hemicellulose')\n",
        "plt.ylabel('Bio-crude Oil HHV (MJ/kg)')\n",
        "plt.scatter(data['Hemicellulose'],data['Bio-crude Oil HHV'],alpha = 0.5)\n",
        "\n",
        "plt.subplot(335)\n",
        "plt.xlabel('Carbohydrate')\n",
        "plt.ylabel('Bio-crude Oil HHV (MJ/kg)')\n",
        "plt.scatter(data['Carbohydrate'],data['Bio-crude Oil HHV'],alpha = 0.5)\n",
        "\n",
        "plt.subplot(336)\n",
        "plt.xlabel('Lignin')\n",
        "plt.ylabel('Bio-crude Oil HHV (MJ/kg)')\n",
        "plt.scatter(data['Lignin'],data['Bio-crude Oil HHV'],alpha = 0.5)\n",
        "\n",
        "plt.subplot(338)\n",
        "plt.xlabel('Ash')\n",
        "plt.ylabel('Bio-crude Oil HHV (MJ/kg)')\n",
        "plt.scatter(data['Ash'],data['Bio-crude Oil HHV'],alpha = 0.5)\n",
        "plt.show()"
      ],
      "execution_count": 3,
      "outputs": [
        {
          "output_type": "display_data",
          "data": {
            "image/png": "[encoded data removed]",
            "text/plain": [
              "<Figure size 864x864 with 7 Axes>"
            ]
          },
          "metadata": {
            "tags": [],
            "image/png": {
              "width": 717,
              "height": 696
            },
            "needs_background": "light"
          }
        }
      ]
    },
    {
      "cell_type": "code",
      "metadata": {
        "id": "4Nq93Ay_Ob5M",
        "colab": {
          "base_uri": "https://localhost:8080/",
          "height": 447
        },
        "outputId": "91a02972-2c42-4942-964f-33c00604d0c5"
      },
      "source": [
        "plt.hist(data['Bio-crude Oil HHV'],bins=50,color='orange')"
      ],
      "execution_count": 4,
      "outputs": [
        {
          "output_type": "execute_result",
          "data": {
            "text/plain": [
              "(array([1., 0., 0., 0., 0., 1., 0., 1., 1., 0., 1., 1., 1., 2., 2., 5., 0.,\n",
              "        2., 3., 3., 2., 3., 1., 3., 0., 4., 4., 6., 4., 7., 8., 5., 6., 7.,\n",
              "        7., 5., 4., 4., 4., 5., 1., 1., 1., 0., 4., 0., 0., 1., 0., 2.]),\n",
              " array([17.7  , 18.234, 18.768, 19.302, 19.836, 20.37 , 20.904, 21.438,\n",
              "        21.972, 22.506, 23.04 , 23.574, 24.108, 24.642, 25.176, 25.71 ,\n",
              "        26.244, 26.778, 27.312, 27.846, 28.38 , 28.914, 29.448, 29.982,\n",
              "        30.516, 31.05 , 31.584, 32.118, 32.652, 33.186, 33.72 , 34.254,\n",
              "        34.788, 35.322, 35.856, 36.39 , 36.924, 37.458, 37.992, 38.526,\n",
              "        39.06 , 39.594, 40.128, 40.662, 41.196, 41.73 , 42.264, 42.798,\n",
              "        43.332, 43.866, 44.4  ]),\n",
              " <a list of 50 Patch objects>)"
            ]
          },
          "metadata": {
            "tags": []
          },
          "execution_count": 4
        },
        {
          "output_type": "display_data",
          "data": {
            "image/png": "[encoded data removed]",
            "text/plain": [
              "<Figure size 432x288 with 1 Axes>"
            ]
          },
          "metadata": {
            "tags": [],
            "image/png": {
              "width": 362,
              "height": 248
            },
            "needs_background": "light"
          }
        }
      ]
    },
    {
      "cell_type": "code",
      "metadata": {
        "id": "7IR4EyV8PMp3",
        "colab": {
          "base_uri": "https://localhost:8080/",
          "height": 431
        },
        "outputId": "2a2aa3b5-dc34-4626-fafc-3b004b253630"
      },
      "source": [
        "plt.hist(data['Lipid'],bins=50,color='lightgreen')\n"
      ],
      "execution_count": 5,
      "outputs": [
        {
          "output_type": "execute_result",
          "data": {
            "text/plain": [
              "(array([63.,  7.,  9.,  5.,  3.,  7.,  5.,  5.,  1.,  3.,  2.,  3.,  0.,\n",
              "         0.,  1.,  1.,  1.,  0.,  2.,  0.,  1.,  0.,  0.,  0.,  0.,  0.,\n",
              "         0.,  0.,  0.,  1.,  0.,  0.,  0.,  0.,  0.,  0.,  0.,  1.,  0.,\n",
              "         0.,  0.,  0.,  0.,  0.,  0.,  0.,  0.,  0.,  0.,  2.]),\n",
              " array([  0.,   2.,   4.,   6.,   8.,  10.,  12.,  14.,  16.,  18.,  20.,\n",
              "         22.,  24.,  26.,  28.,  30.,  32.,  34.,  36.,  38.,  40.,  42.,\n",
              "         44.,  46.,  48.,  50.,  52.,  54.,  56.,  58.,  60.,  62.,  64.,\n",
              "         66.,  68.,  70.,  72.,  74.,  76.,  78.,  80.,  82.,  84.,  86.,\n",
              "         88.,  90.,  92.,  94.,  96.,  98., 100.]),\n",
              " <a list of 50 Patch objects>)"
            ]
          },
          "metadata": {
            "tags": []
          },
          "execution_count": 5
        },
        {
          "output_type": "display_data",
          "data": {
            "image/png": "[encoded data removed]",
            "text/plain": [
              "<Figure size 432x288 with 1 Axes>"
            ]
          },
          "metadata": {
            "tags": [],
            "image/png": {
              "width": 369,
              "height": 248
            },
            "needs_background": "light"
          }
        }
      ]
    },
    {
      "cell_type": "code",
      "metadata": {
        "id": "gvMgiKh8Pksl",
        "colab": {
          "base_uri": "https://localhost:8080/",
          "height": 725
        },
        "outputId": "a3d087d4-4666-4f9d-eb55-ec92f83da280"
      },
      "source": [
        "# Correlation\n",
        "import seaborn as sns\n",
        "fig=plt.figure(figsize=(12,12))\n",
        "sns.heatmap(data.corr(),vmax=1,square=True,annot=True)\n",
        "plt.show()"
      ],
      "execution_count": 6,
      "outputs": [
        {
          "output_type": "display_data",
          "data": {
            "image/png": "[encoded data removed]",
            "text/plain": [
              "<Figure size 864x864 with 2 Axes>"
            ]
          },
          "metadata": {
            "tags": [],
            "image/png": {
              "width": 744,
              "height": 709
            },
            "needs_background": "light"
          }
        }
      ]
    },
    {
      "cell_type": "code",
      "metadata": {
        "id": "GhbMxqOIQfmS"
      },
      "source": [
        "import numpy as np\n",
        "# The mean relative error (MRE) is commonly used to measure the predictive accuracy of models.\n",
        "\n",
        "def performance_metric(y_true, y_predict):\n",
        "  \"\"\"Calculates and returns the performance score between \n",
        "        true and predicted values based on the metric chosen.\"\"\"\n",
        "  # TODO: Calculate the performance score between 'y_true' and 'y_predict'\n",
        "\n",
        "  return np.mean(np.abs(y_true-y_predict))/np.mean(y_true)"
      ],
      "execution_count": 7,
      "outputs": []
    },
    {
      "cell_type": "code",
      "metadata": {
        "id": "sOgLV3DiqRyF"
      },
      "source": [
        "# No use now.\n",
        "#written by Wenjing.\n",
        "#apply multi-layer perceptron to data\n",
        "from sklearn.neural_network import MLPRegressor\n",
        "from sklearn.ensemble import RandomForestRegressor\n",
        "#https://scikit-learn.org/stable/modules/neural_networks_supervised.html\n",
        "\n",
        "# Lets split the data into 10 folds. \n",
        "from sklearn.model_selection import KFold\n",
        "kf =KFold(n_splits=10, shuffle=True, random_state=262)\n",
        "\n",
        "# R2_all=[]\n",
        "mape_all=[]\n",
        "mape_train_all=[]\n",
        "mape_rfr_all=[]\n",
        "y_test_list=[]\n",
        "y_pred_list=[]\n",
        "for train_index, test_index in kf.split(Features, Oil_Yields):\n",
        "    #fixed by Wenjing\n",
        "    X_train, X_test = Features.iloc[train_index,:],Features.iloc[test_index,:]\n",
        "    y_train, y_test = Oil_Yields.iloc[train_index],Oil_Yields.iloc[test_index]\n",
        "    #random forest regressor\n",
        "    rfr=RandomForestRegressor(max_depth=4, n_estimators=100,random_state=262).fit(X_train, y_train)\n",
        "    y_pred_rfr=rfr.predict(X_test)\n",
        "    mape_rfr=mean_absolute_percentage_error(y_test, y_pred_rfr)\n",
        "    mape_rfr_all.append(mape_rfr)\n",
        "    \n",
        "    #multi-layer perceptron (an example of ANN)\n",
        "    mlpr = MLPRegressor(random_state=262, hidden_layer_sizes=(100,),max_iter=500, \n",
        "                       learning_rate_init=0.001,early_stopping=True).fit(X_train, y_train)\n",
        "    y_pred=mlpr.predict(X_test)\n",
        "#     R2=regr.score(X_test, y_test)\n",
        "#     R2_all.append(R2)\n",
        "    mape=mean_absolute_percentage_error(y_test, y_pred) #test error\n",
        "    mape_all.append(mape) #test error for all folds\n",
        "    mape_train=mean_absolute_percentage_error(y_train, mlpr.predict(X_train)) #training error\n",
        "    mape_train_all.append(mape_train) #training error for all folds\n",
        "    \n",
        "    y_test_list.append(y_test.values)\n",
        "    y_pred_list.append(y_pred)\n",
        "    \n",
        "print(\"MAPE (test) from MLP\",mape_all)\n",
        "print(\"MAPE (train) from MLP\",mape_train_all)\n",
        "\n",
        "y_test_all=np.concatenate(y_test_list, axis=0)\n",
        "y_pred_all=np.concatenate(y_pred_list, axis=0)\n",
        "# print(\"y_true\", y_test_all)\n",
        "# print(\"y_pred\", y_pred_all)"
      ],
      "execution_count": null,
      "outputs": []
    },
    {
      "cell_type": "code",
      "metadata": {
        "colab": {
          "base_uri": "https://localhost:8080/"
        },
        "id": "RdWG4nTCpmy8",
        "outputId": "3ed839cf-0060-4f22-ec96-be5a7964153c"
      },
      "source": [
        "#apply multi-layer perceptron to data\n",
        "from sklearn.neural_network import MLPRegressor\n",
        "# https://scikit-learn.org/stable/modules/neural_networks_supervised.html\n",
        "\n",
        "# TODO: Import 'KFold'\n",
        "from sklearn.model_selection import KFold\n",
        "\n",
        "# TODO Calculate the r2 score between 'y_true' and 'y_predict'\n",
        "from math import sqrt\n",
        "from sklearn import metrics\n",
        "\n",
        "np.random.seed(seed = 154)\n",
        "data['random'] = np.random.random(size = len(data))\n",
        "\n",
        "# Lets split the data into 3 folds.  \n",
        "kf =KFold(n_splits=3, shuffle=True)\n",
        "\n",
        "cnt = 1\n",
        "\n",
        "MAE_train_all=[]\n",
        "MAE_test_all=[]\n",
        "y_train_rmse_all=[]\n",
        "y_test_rmse_all=[]\n",
        "r2_train_all=[]\n",
        "r2_test_all=[]\n",
        "MRE_train_all=[]\n",
        "MRE_test_all=[]\n",
        "y_test_list=[]\n",
        "y_pred_list=[]\n",
        "\n",
        "# split()  method generate indices to split data into training and test set.\n",
        "for train_index, test_index in kf.split(Features, Oil_HHV):\n",
        "    # print(f'Fold:{cnt}, Train set: {len(train_index)}, Test set:{len(test_index)}')\n",
        "    \n",
        "    #fixed by Wenjing\n",
        "    X_train, X_test = Features.iloc[train_index,:],Features.iloc[test_index,:]\n",
        "    y_train, y_test = Oil_HHV.iloc[train_index],Oil_HHV.iloc[test_index]\n",
        "    \n",
        "    #multi-layer perceptron (an example of ANN)\n",
        "    mlpr = MLPRegressor(hidden_layer_sizes=(100,),max_iter=500, \n",
        "                       learning_rate_init=0.001,early_stopping=True)\n",
        "    # Model training\n",
        "    mlpr.fit(X_train,y_train)\n",
        "\n",
        "    # Predict training set and test set\n",
        "    y_train_predict = mlpr.predict(X_train)\n",
        "    y_test_predict = mlpr.predict(X_test)\n",
        "\n",
        "    MAE_train = metrics.mean_absolute_error(y_train, y_train_predict)\n",
        "    MAE_test = metrics.mean_absolute_error(y_test, y_test_predict)\n",
        "\n",
        "    y_train_rmse = sqrt(metrics.mean_squared_error(y_train, y_train_predict))\n",
        "    y_test_rmse = sqrt(metrics.mean_squared_error(y_test, y_test_predict))\n",
        "\n",
        "    r2_train = metrics.r2_score(y_train, y_train_predict)\n",
        "    r2_test = metrics.r2_score(y_test, y_test_predict)\n",
        "\n",
        "    MRE_train = performance_metric(y_train, y_train_predict)\n",
        "    MRE_test = performance_metric(y_test, y_test_predict)\n",
        "\n",
        "    # print(\"Optimal model has MAE of training set:\", MAE_train)\n",
        "    # print(\"Optimal model has MAE of test set:\", MAE_test)\n",
        "    # print(\"Optimal model has RMSE of training set:\", y_train_rmse)\n",
        "    # print(\"Optimal model has RMSE of test set:\", y_test_rmse)\n",
        "    # print(\"Optimal model has R2 score of training set {:,.2f} on training data.\".format(r2_train))\n",
        "    # print(\"Optimal model has R2 score of test set {:,.2f} on test data.\".format(r2_test))\n",
        "    # print(\"Optimal model has MRE of training set:\", MRE_train)\n",
        "    # print(\"Optimal model has MRE of test set:\", MRE_test)\n",
        "    # print(\"\")\n",
        "\n",
        "    cnt += 1\n",
        "\n",
        "    MAE_train_all.append(MAE_train)\n",
        "    MAE_test_all.append(MAE_test)\n",
        "    y_train_rmse_all.append(y_train_rmse)\n",
        "    y_test_rmse_all.append(y_test_rmse)\n",
        "    r2_train_all.append(r2_train)\n",
        "    r2_test_all.append(r2_test)\n",
        "    MRE_train_all.append(MRE_train)\n",
        "    MRE_test_all.append(MRE_test)\n",
        "    y_test_list.append(y_test.values)\n",
        "    y_pred_list.append(y_test_predict)\n",
        "\n",
        "y_test_all=np.concatenate(y_test_list, axis=0)\n",
        "y_pred_all=np.concatenate(y_pred_list, axis=0)\n",
        "\n",
        "print(\"Mean value of MAE of training set\", np.mean(MAE_train_all))\n",
        "print(\"Standard deviation of MAE of training set\", np.std(MAE_train_all))\n",
        "print(\"Mean value of MAE of test set\", np.mean(MAE_test_all))\n",
        "print(\"Standard deviation of MAE of test set\", np.std(MAE_test_all))\n",
        "print(\"\")\n",
        "print(\"Mean value of RMSE of training set\", np.mean(y_train_rmse_all))\n",
        "print(\"Standard deviation of RMSE of training set\", np.std(y_train_rmse_all))\n",
        "print(\"Mean value of RMSE of test set\", np.mean(y_test_rmse_all))\n",
        "print(\"Standard deviation of RMSE of test set\", np.std(y_test_rmse_all))\n",
        "print(\"\")\n",
        "print(\"Mean value of R2 of training set\", np.mean(r2_train_all))\n",
        "print(\"Standard deviation of R2 of training set\", np.std(r2_train_all))\n",
        "print(\"Mean value of R2 of test set\", np.mean(r2_test_all))\n",
        "print(\"Standard deviation of R2 of test set\", np.std(r2_test_all))\n",
        "print(\"\")\n",
        "print(\"Mean value of MRE of training set\", np.mean(MRE_train_all))\n",
        "print(\"Standard deviation of MRE of training set\", np.std(MRE_train_all))\n",
        "print(\"Mean value of MRE of test set\", np.mean(MRE_test_all))\n",
        "print(\"Standard deviation of MRE of test set\", np.std(MRE_test_all))\n",
        "\n",
        "#print(len(np.concatenate(y_test_list, axis=0)))\n",
        "#print(len(np.concatenate(y_pred_list, axis=0)))"
      ],
      "execution_count": 9,
      "outputs": [
        {
          "output_type": "stream",
          "text": [
            "Mean value of MAE of training set 4.852505155218986\n",
            "Standard deviation of MAE of training set 0.8085178761213672\n",
            "Mean value of MAE of test set 5.197845656816979\n",
            "Standard deviation of MAE of test set 0.23345442781590423\n",
            "\n",
            "Mean value of RMSE of training set 6.255050693167756\n",
            "Standard deviation of RMSE of training set 0.8110190135523015\n",
            "Mean value of RMSE of test set 6.778959304486539\n",
            "Standard deviation of RMSE of test set 1.009185706909587\n",
            "\n",
            "Mean value of R2 of training set -0.5188350960038237\n",
            "Standard deviation of R2 of training set 0.2618889634021688\n",
            "Mean value of R2 of test set -0.8663493128091142\n",
            "Standard deviation of R2 of test set 0.5480932795389418\n",
            "\n",
            "Mean value of MRE of training set 0.14627114374063807\n",
            "Standard deviation of MRE of training set 0.025546629868920884\n",
            "Mean value of MRE of test set 0.15653145351296208\n",
            "Standard deviation of MRE of test set 0.00801787844401589\n"
          ],
          "name": "stdout"
        }
      ]
    },
    {
      "cell_type": "code",
      "metadata": {
        "colab": {
          "base_uri": "https://localhost:8080/",
          "height": 311
        },
        "id": "TCrlVqOqtAUw",
        "outputId": "a1d4705c-09cf-42a7-e9cf-fcbe8dd55ca1"
      },
      "source": [
        "import matplotlib.pyplot as py\n",
        "py.plot(y_test_all, y_pred_all, 'bo')\n",
        "py.ylim(0, 49)\n",
        "py.xlabel('y_true')\n",
        "py.ylabel('y_pred')\n",
        "py.title('y_pred vs. y_true')"
      ],
      "execution_count": 10,
      "outputs": [
        {
          "output_type": "execute_result",
          "data": {
            "text/plain": [
              "Text(0.5, 1.0, 'y_pred vs. y_true')"
            ]
          },
          "metadata": {
            "tags": []
          },
          "execution_count": 10
        },
        {
          "output_type": "display_data",
          "data": {
            "image/png": "[encoded data removed]",
            "text/plain": [
              "<Figure size 432x288 with 1 Axes>"
            ]
          },
          "metadata": {
            "tags": [],
            "image/png": {
              "width": 383,
              "height": 277
            },
            "needs_background": "light"
          }
        }
      ]
    },
    {
      "cell_type": "code",
      "metadata": {
        "id": "jptmSZpCtCcd"
      },
      "source": [
        "Parity={'Predict Data':y_pred_all,'Test Data':y_test_all}\n",
        "df = pd.DataFrame(Parity, columns= ['Predict Data', 'Test Data'])\n",
        "df.to_csv (r'/content/export_dataframe_HHV_ANN.csv', index = False, header=True)"
      ],
      "execution_count": null,
      "outputs": []
    },
    {
      "cell_type": "code",
      "metadata": {
        "colab": {
          "base_uri": "https://localhost:8080/"
        },
        "id": "3czowfcU18HP",
        "outputId": "a8845c6e-a412-44bd-dc6e-8ff584f34446"
      },
      "source": [
        "# hidden_layer_sizes 参数的最佳取值(1, 201, 1)\n",
        "\n",
        "for i in range(1, 201, 1):\n",
        "  #apply multi-layer perceptron to data\n",
        "  from sklearn.neural_network import MLPRegressor\n",
        "  # https://scikit-learn.org/stable/modules/neural_networks_supervised.html\n",
        "  \n",
        "  # TODO: Import 'KFold'\n",
        "  from sklearn.model_selection import KFold\n",
        "  \n",
        "  # TODO Calculate the r2 score between 'y_true' and 'y_predict'\n",
        "  from math import sqrt\n",
        "  from sklearn import metrics\n",
        "  \n",
        "  np.random.seed(seed = 154)\n",
        "  data['random'] = np.random.random(size = len(data))\n",
        "  \n",
        "  # Lets split the data into 3 folds.  \n",
        "  kf =KFold(n_splits=3, shuffle=True)\n",
        "  \n",
        "  cnt = 1\n",
        "  r2_train_all=[]\n",
        "  r2_test_all=[]\n",
        "  \n",
        "  # split()  method generate indices to split data into training and test set.\n",
        "  for train_index, test_index in kf.split(Features, Oil_HHV):\n",
        "    # print(f'Fold:{cnt}, Train set: {len(train_index)}, Test set:{len(test_index)}')\n",
        "    \n",
        "    #fixed by Wenjing\n",
        "    X_train, X_test = Features.iloc[train_index,:],Features.iloc[test_index,:]\n",
        "    y_train, y_test = Oil_HHV.iloc[train_index],Oil_HHV.iloc[test_index]\n",
        "    \n",
        "    #multi-layer perceptron (an example of ANN)\n",
        "    mlpr = MLPRegressor(hidden_layer_sizes=(i,),max_iter=500, \n",
        "                       learning_rate_init=0.001,early_stopping=True)\n",
        "    # Model training\n",
        "    mlpr.fit(X_train,y_train)\n",
        "    \n",
        "    y_train_predict = mlpr.predict(X_train)\n",
        "    y_test_predict = mlpr.predict(X_test)\n",
        "    \n",
        "    r2_train = metrics.r2_score(y_train, y_train_predict)\n",
        "    r2_test = metrics.r2_score(y_test, y_test_predict)\n",
        "\n",
        "    # print(\"Optimal model has R2 score of training set {:,.2f} on training data.\".format(r2_train))\n",
        "    # print(\"Optimal model has R2 score of test set {:,.2f} on test data.\".format(r2_test))\n",
        "    # print(\"\")\n",
        "\n",
        "    cnt += 1\n",
        "    r2_train_all.append(r2_train)\n",
        "    r2_test_all.append(r2_test)\n",
        "  \n",
        "  print(i)\n",
        "  print(\"Mean value of R2 of training set\", np.mean(r2_train_all))\n",
        "  print(\"Standard deviation of R2 of training set\", np.std(r2_train_all))\n",
        "  print(\"Mean value of R2 of test set\", np.mean(r2_test_all))\n",
        "  print(\"Standard deviation of R2 of test set\", np.std(r2_test_all))"
      ],
      "execution_count": 12,
      "outputs": [
        {
          "output_type": "stream",
          "text": [
            "/usr/local/lib/python3.6/dist-packages/sklearn/neural_network/_multilayer_perceptron.py:571: ConvergenceWarning: Stochastic Optimizer: Maximum iterations (500) reached and the optimization hasn't converged yet.\n",
            "  % self.max_iter, ConvergenceWarning)\n",
            "/usr/local/lib/python3.6/dist-packages/sklearn/neural_network/_multilayer_perceptron.py:571: ConvergenceWarning: Stochastic Optimizer: Maximum iterations (500) reached and the optimization hasn't converged yet.\n",
            "  % self.max_iter, ConvergenceWarning)\n"
          ],
          "name": "stderr"
        },
        {
          "output_type": "stream",
          "text": [
            "1\n",
            "Mean value of R2 of training set -36.65174012975178\n",
            "Standard deviation of R2 of training set 13.331345654351393\n",
            "Mean value of R2 of test set -40.719644847945496\n",
            "Standard deviation of R2 of test set 21.320916777360495\n"
          ],
          "name": "stdout"
        },
        {
          "output_type": "stream",
          "text": [
            "/usr/local/lib/python3.6/dist-packages/sklearn/neural_network/_multilayer_perceptron.py:571: ConvergenceWarning: Stochastic Optimizer: Maximum iterations (500) reached and the optimization hasn't converged yet.\n",
            "  % self.max_iter, ConvergenceWarning)\n",
            "/usr/local/lib/python3.6/dist-packages/sklearn/neural_network/_multilayer_perceptron.py:571: ConvergenceWarning: Stochastic Optimizer: Maximum iterations (500) reached and the optimization hasn't converged yet.\n",
            "  % self.max_iter, ConvergenceWarning)\n",
            "/usr/local/lib/python3.6/dist-packages/sklearn/neural_network/_multilayer_perceptron.py:571: ConvergenceWarning: Stochastic Optimizer: Maximum iterations (500) reached and the optimization hasn't converged yet.\n",
            "  % self.max_iter, ConvergenceWarning)\n"
          ],
          "name": "stderr"
        },
        {
          "output_type": "stream",
          "text": [
            "2\n",
            "Mean value of R2 of training set -36.415915813537644\n",
            "Standard deviation of R2 of training set 44.052623674711946\n",
            "Mean value of R2 of test set -43.609722482240905\n",
            "Standard deviation of R2 of test set 52.94541789219919\n"
          ],
          "name": "stdout"
        },
        {
          "output_type": "stream",
          "text": [
            "/usr/local/lib/python3.6/dist-packages/sklearn/neural_network/_multilayer_perceptron.py:571: ConvergenceWarning: Stochastic Optimizer: Maximum iterations (500) reached and the optimization hasn't converged yet.\n",
            "  % self.max_iter, ConvergenceWarning)\n",
            "/usr/local/lib/python3.6/dist-packages/sklearn/neural_network/_multilayer_perceptron.py:571: ConvergenceWarning: Stochastic Optimizer: Maximum iterations (500) reached and the optimization hasn't converged yet.\n",
            "  % self.max_iter, ConvergenceWarning)\n",
            "/usr/local/lib/python3.6/dist-packages/sklearn/neural_network/_multilayer_perceptron.py:571: ConvergenceWarning: Stochastic Optimizer: Maximum iterations (500) reached and the optimization hasn't converged yet.\n",
            "  % self.max_iter, ConvergenceWarning)\n"
          ],
          "name": "stderr"
        },
        {
          "output_type": "stream",
          "text": [
            "3\n",
            "Mean value of R2 of training set -32.012382079127654\n",
            "Standard deviation of R2 of training set 35.815482238272956\n",
            "Mean value of R2 of test set -49.05995589049391\n",
            "Standard deviation of R2 of test set 59.7524254507614\n"
          ],
          "name": "stdout"
        },
        {
          "output_type": "stream",
          "text": [
            "/usr/local/lib/python3.6/dist-packages/sklearn/neural_network/_multilayer_perceptron.py:571: ConvergenceWarning: Stochastic Optimizer: Maximum iterations (500) reached and the optimization hasn't converged yet.\n",
            "  % self.max_iter, ConvergenceWarning)\n",
            "/usr/local/lib/python3.6/dist-packages/sklearn/neural_network/_multilayer_perceptron.py:571: ConvergenceWarning: Stochastic Optimizer: Maximum iterations (500) reached and the optimization hasn't converged yet.\n",
            "  % self.max_iter, ConvergenceWarning)\n",
            "/usr/local/lib/python3.6/dist-packages/sklearn/neural_network/_multilayer_perceptron.py:571: ConvergenceWarning: Stochastic Optimizer: Maximum iterations (500) reached and the optimization hasn't converged yet.\n",
            "  % self.max_iter, ConvergenceWarning)\n"
          ],
          "name": "stderr"
        },
        {
          "output_type": "stream",
          "text": [
            "4\n",
            "Mean value of R2 of training set -4.979171210785505\n",
            "Standard deviation of R2 of training set 2.67055804008943\n",
            "Mean value of R2 of test set -6.926062638140768\n",
            "Standard deviation of R2 of test set 3.4058559925901006\n"
          ],
          "name": "stdout"
        },
        {
          "output_type": "stream",
          "text": [
            "/usr/local/lib/python3.6/dist-packages/sklearn/neural_network/_multilayer_perceptron.py:571: ConvergenceWarning: Stochastic Optimizer: Maximum iterations (500) reached and the optimization hasn't converged yet.\n",
            "  % self.max_iter, ConvergenceWarning)\n",
            "/usr/local/lib/python3.6/dist-packages/sklearn/neural_network/_multilayer_perceptron.py:571: ConvergenceWarning: Stochastic Optimizer: Maximum iterations (500) reached and the optimization hasn't converged yet.\n",
            "  % self.max_iter, ConvergenceWarning)\n"
          ],
          "name": "stderr"
        },
        {
          "output_type": "stream",
          "text": [
            "5\n",
            "Mean value of R2 of training set -0.7177038235985936\n",
            "Standard deviation of R2 of training set 0.11655865772846993\n",
            "Mean value of R2 of test set -1.721657207143463\n",
            "Standard deviation of R2 of test set 1.1685944113444993\n"
          ],
          "name": "stdout"
        },
        {
          "output_type": "stream",
          "text": [
            "/usr/local/lib/python3.6/dist-packages/sklearn/neural_network/_multilayer_perceptron.py:571: ConvergenceWarning: Stochastic Optimizer: Maximum iterations (500) reached and the optimization hasn't converged yet.\n",
            "  % self.max_iter, ConvergenceWarning)\n",
            "/usr/local/lib/python3.6/dist-packages/sklearn/neural_network/_multilayer_perceptron.py:571: ConvergenceWarning: Stochastic Optimizer: Maximum iterations (500) reached and the optimization hasn't converged yet.\n",
            "  % self.max_iter, ConvergenceWarning)\n",
            "/usr/local/lib/python3.6/dist-packages/sklearn/neural_network/_multilayer_perceptron.py:571: ConvergenceWarning: Stochastic Optimizer: Maximum iterations (500) reached and the optimization hasn't converged yet.\n",
            "  % self.max_iter, ConvergenceWarning)\n"
          ],
          "name": "stderr"
        },
        {
          "output_type": "stream",
          "text": [
            "6\n",
            "Mean value of R2 of training set -2.2873705448705635\n",
            "Standard deviation of R2 of training set 1.0273021377034168\n",
            "Mean value of R2 of test set -3.746988445141706\n",
            "Standard deviation of R2 of test set 2.581434204110891\n"
          ],
          "name": "stdout"
        },
        {
          "output_type": "stream",
          "text": [
            "/usr/local/lib/python3.6/dist-packages/sklearn/neural_network/_multilayer_perceptron.py:571: ConvergenceWarning: Stochastic Optimizer: Maximum iterations (500) reached and the optimization hasn't converged yet.\n",
            "  % self.max_iter, ConvergenceWarning)\n",
            "/usr/local/lib/python3.6/dist-packages/sklearn/neural_network/_multilayer_perceptron.py:571: ConvergenceWarning: Stochastic Optimizer: Maximum iterations (500) reached and the optimization hasn't converged yet.\n",
            "  % self.max_iter, ConvergenceWarning)\n",
            "/usr/local/lib/python3.6/dist-packages/sklearn/neural_network/_multilayer_perceptron.py:571: ConvergenceWarning: Stochastic Optimizer: Maximum iterations (500) reached and the optimization hasn't converged yet.\n",
            "  % self.max_iter, ConvergenceWarning)\n"
          ],
          "name": "stderr"
        },
        {
          "output_type": "stream",
          "text": [
            "7\n",
            "Mean value of R2 of training set -1.2746319453855046\n",
            "Standard deviation of R2 of training set 1.531221484827249\n",
            "Mean value of R2 of test set -2.439767096840011\n",
            "Standard deviation of R2 of test set 2.7689828737526114\n"
          ],
          "name": "stdout"
        },
        {
          "output_type": "stream",
          "text": [
            "/usr/local/lib/python3.6/dist-packages/sklearn/neural_network/_multilayer_perceptron.py:571: ConvergenceWarning: Stochastic Optimizer: Maximum iterations (500) reached and the optimization hasn't converged yet.\n",
            "  % self.max_iter, ConvergenceWarning)\n",
            "/usr/local/lib/python3.6/dist-packages/sklearn/neural_network/_multilayer_perceptron.py:571: ConvergenceWarning: Stochastic Optimizer: Maximum iterations (500) reached and the optimization hasn't converged yet.\n",
            "  % self.max_iter, ConvergenceWarning)\n"
          ],
          "name": "stderr"
        },
        {
          "output_type": "stream",
          "text": [
            "8\n",
            "Mean value of R2 of training set -9.068400630692924\n",
            "Standard deviation of R2 of training set 11.800256983787357\n",
            "Mean value of R2 of test set -14.915259678821469\n",
            "Standard deviation of R2 of test set 19.29206297361745\n"
          ],
          "name": "stdout"
        },
        {
          "output_type": "stream",
          "text": [
            "/usr/local/lib/python3.6/dist-packages/sklearn/neural_network/_multilayer_perceptron.py:571: ConvergenceWarning: Stochastic Optimizer: Maximum iterations (500) reached and the optimization hasn't converged yet.\n",
            "  % self.max_iter, ConvergenceWarning)\n",
            "/usr/local/lib/python3.6/dist-packages/sklearn/neural_network/_multilayer_perceptron.py:571: ConvergenceWarning: Stochastic Optimizer: Maximum iterations (500) reached and the optimization hasn't converged yet.\n",
            "  % self.max_iter, ConvergenceWarning)\n"
          ],
          "name": "stderr"
        },
        {
          "output_type": "stream",
          "text": [
            "9\n",
            "Mean value of R2 of training set -0.5088079561256315\n",
            "Standard deviation of R2 of training set 0.3313572353010559\n",
            "Mean value of R2 of test set -0.5952910260686904\n",
            "Standard deviation of R2 of test set 0.2153836899179253\n"
          ],
          "name": "stdout"
        },
        {
          "output_type": "stream",
          "text": [
            "/usr/local/lib/python3.6/dist-packages/sklearn/neural_network/_multilayer_perceptron.py:571: ConvergenceWarning: Stochastic Optimizer: Maximum iterations (500) reached and the optimization hasn't converged yet.\n",
            "  % self.max_iter, ConvergenceWarning)\n"
          ],
          "name": "stderr"
        },
        {
          "output_type": "stream",
          "text": [
            "10\n",
            "Mean value of R2 of training set -0.622557967272239\n",
            "Standard deviation of R2 of training set 0.1746688800132468\n",
            "Mean value of R2 of test set -0.9762689474613243\n",
            "Standard deviation of R2 of test set 0.12326858407844205\n"
          ],
          "name": "stdout"
        },
        {
          "output_type": "stream",
          "text": [
            "/usr/local/lib/python3.6/dist-packages/sklearn/neural_network/_multilayer_perceptron.py:571: ConvergenceWarning: Stochastic Optimizer: Maximum iterations (500) reached and the optimization hasn't converged yet.\n",
            "  % self.max_iter, ConvergenceWarning)\n",
            "/usr/local/lib/python3.6/dist-packages/sklearn/neural_network/_multilayer_perceptron.py:571: ConvergenceWarning: Stochastic Optimizer: Maximum iterations (500) reached and the optimization hasn't converged yet.\n",
            "  % self.max_iter, ConvergenceWarning)\n"
          ],
          "name": "stderr"
        },
        {
          "output_type": "stream",
          "text": [
            "11\n",
            "Mean value of R2 of training set -0.37585054944381374\n",
            "Standard deviation of R2 of training set 0.0280672188164807\n",
            "Mean value of R2 of test set -0.9745948028420734\n",
            "Standard deviation of R2 of test set 0.6788597581867378\n"
          ],
          "name": "stdout"
        },
        {
          "output_type": "stream",
          "text": [
            "/usr/local/lib/python3.6/dist-packages/sklearn/neural_network/_multilayer_perceptron.py:571: ConvergenceWarning: Stochastic Optimizer: Maximum iterations (500) reached and the optimization hasn't converged yet.\n",
            "  % self.max_iter, ConvergenceWarning)\n"
          ],
          "name": "stderr"
        },
        {
          "output_type": "stream",
          "text": [
            "12\n",
            "Mean value of R2 of training set -0.35147172547001876\n",
            "Standard deviation of R2 of training set 0.0929200035397438\n",
            "Mean value of R2 of test set -0.732111068490144\n",
            "Standard deviation of R2 of test set 0.36519483436699374\n"
          ],
          "name": "stdout"
        },
        {
          "output_type": "stream",
          "text": [
            "/usr/local/lib/python3.6/dist-packages/sklearn/neural_network/_multilayer_perceptron.py:571: ConvergenceWarning: Stochastic Optimizer: Maximum iterations (500) reached and the optimization hasn't converged yet.\n",
            "  % self.max_iter, ConvergenceWarning)\n",
            "/usr/local/lib/python3.6/dist-packages/sklearn/neural_network/_multilayer_perceptron.py:571: ConvergenceWarning: Stochastic Optimizer: Maximum iterations (500) reached and the optimization hasn't converged yet.\n",
            "  % self.max_iter, ConvergenceWarning)\n",
            "/usr/local/lib/python3.6/dist-packages/sklearn/neural_network/_multilayer_perceptron.py:571: ConvergenceWarning: Stochastic Optimizer: Maximum iterations (500) reached and the optimization hasn't converged yet.\n",
            "  % self.max_iter, ConvergenceWarning)\n"
          ],
          "name": "stderr"
        },
        {
          "output_type": "stream",
          "text": [
            "13\n",
            "Mean value of R2 of training set -0.12032511112145454\n",
            "Standard deviation of R2 of training set 0.22856060055941527\n",
            "Mean value of R2 of test set -0.687412038914919\n",
            "Standard deviation of R2 of test set 0.3895990684813844\n"
          ],
          "name": "stdout"
        },
        {
          "output_type": "stream",
          "text": [
            "/usr/local/lib/python3.6/dist-packages/sklearn/neural_network/_multilayer_perceptron.py:571: ConvergenceWarning: Stochastic Optimizer: Maximum iterations (500) reached and the optimization hasn't converged yet.\n",
            "  % self.max_iter, ConvergenceWarning)\n",
            "/usr/local/lib/python3.6/dist-packages/sklearn/neural_network/_multilayer_perceptron.py:571: ConvergenceWarning: Stochastic Optimizer: Maximum iterations (500) reached and the optimization hasn't converged yet.\n",
            "  % self.max_iter, ConvergenceWarning)\n"
          ],
          "name": "stderr"
        },
        {
          "output_type": "stream",
          "text": [
            "14\n",
            "Mean value of R2 of training set -1.6194915691571465\n",
            "Standard deviation of R2 of training set 1.8783438601725777\n",
            "Mean value of R2 of test set -2.0778220734371553\n",
            "Standard deviation of R2 of test set 1.7721706823401835\n"
          ],
          "name": "stdout"
        },
        {
          "output_type": "stream",
          "text": [
            "/usr/local/lib/python3.6/dist-packages/sklearn/neural_network/_multilayer_perceptron.py:571: ConvergenceWarning: Stochastic Optimizer: Maximum iterations (500) reached and the optimization hasn't converged yet.\n",
            "  % self.max_iter, ConvergenceWarning)\n",
            "/usr/local/lib/python3.6/dist-packages/sklearn/neural_network/_multilayer_perceptron.py:571: ConvergenceWarning: Stochastic Optimizer: Maximum iterations (500) reached and the optimization hasn't converged yet.\n",
            "  % self.max_iter, ConvergenceWarning)\n"
          ],
          "name": "stderr"
        },
        {
          "output_type": "stream",
          "text": [
            "15\n",
            "Mean value of R2 of training set -0.17789193445566487\n",
            "Standard deviation of R2 of training set 0.05066198603353947\n",
            "Mean value of R2 of test set -0.4425474270805469\n",
            "Standard deviation of R2 of test set 0.28403381501426145\n"
          ],
          "name": "stdout"
        },
        {
          "output_type": "stream",
          "text": [
            "/usr/local/lib/python3.6/dist-packages/sklearn/neural_network/_multilayer_perceptron.py:571: ConvergenceWarning: Stochastic Optimizer: Maximum iterations (500) reached and the optimization hasn't converged yet.\n",
            "  % self.max_iter, ConvergenceWarning)\n"
          ],
          "name": "stderr"
        },
        {
          "output_type": "stream",
          "text": [
            "16\n",
            "Mean value of R2 of training set -0.2758777991897537\n",
            "Standard deviation of R2 of training set 0.15733894111663346\n",
            "Mean value of R2 of test set -0.7016386426023359\n",
            "Standard deviation of R2 of test set 0.282504201154365\n"
          ],
          "name": "stdout"
        },
        {
          "output_type": "stream",
          "text": [
            "/usr/local/lib/python3.6/dist-packages/sklearn/neural_network/_multilayer_perceptron.py:571: ConvergenceWarning: Stochastic Optimizer: Maximum iterations (500) reached and the optimization hasn't converged yet.\n",
            "  % self.max_iter, ConvergenceWarning)\n",
            "/usr/local/lib/python3.6/dist-packages/sklearn/neural_network/_multilayer_perceptron.py:571: ConvergenceWarning: Stochastic Optimizer: Maximum iterations (500) reached and the optimization hasn't converged yet.\n",
            "  % self.max_iter, ConvergenceWarning)\n"
          ],
          "name": "stderr"
        },
        {
          "output_type": "stream",
          "text": [
            "17\n",
            "Mean value of R2 of training set -0.06251589240605038\n",
            "Standard deviation of R2 of training set 0.22208222421658344\n",
            "Mean value of R2 of test set -0.3471267995600573\n",
            "Standard deviation of R2 of test set 0.23854887708240827\n"
          ],
          "name": "stdout"
        },
        {
          "output_type": "stream",
          "text": [
            "/usr/local/lib/python3.6/dist-packages/sklearn/neural_network/_multilayer_perceptron.py:571: ConvergenceWarning: Stochastic Optimizer: Maximum iterations (500) reached and the optimization hasn't converged yet.\n",
            "  % self.max_iter, ConvergenceWarning)\n"
          ],
          "name": "stderr"
        },
        {
          "output_type": "stream",
          "text": [
            "18\n",
            "Mean value of R2 of training set -0.06278689447489431\n",
            "Standard deviation of R2 of training set 0.1617513567246957\n",
            "Mean value of R2 of test set -0.5166497545490317\n",
            "Standard deviation of R2 of test set 0.10446168206299004\n"
          ],
          "name": "stdout"
        },
        {
          "output_type": "stream",
          "text": [
            "/usr/local/lib/python3.6/dist-packages/sklearn/neural_network/_multilayer_perceptron.py:571: ConvergenceWarning: Stochastic Optimizer: Maximum iterations (500) reached and the optimization hasn't converged yet.\n",
            "  % self.max_iter, ConvergenceWarning)\n"
          ],
          "name": "stderr"
        },
        {
          "output_type": "stream",
          "text": [
            "19\n",
            "Mean value of R2 of training set -1.1176852088852876\n",
            "Standard deviation of R2 of training set 0.714867095071161\n",
            "Mean value of R2 of test set -1.233853534552833\n",
            "Standard deviation of R2 of test set 0.335887949633864\n"
          ],
          "name": "stdout"
        },
        {
          "output_type": "stream",
          "text": [
            "/usr/local/lib/python3.6/dist-packages/sklearn/neural_network/_multilayer_perceptron.py:571: ConvergenceWarning: Stochastic Optimizer: Maximum iterations (500) reached and the optimization hasn't converged yet.\n",
            "  % self.max_iter, ConvergenceWarning)\n"
          ],
          "name": "stderr"
        },
        {
          "output_type": "stream",
          "text": [
            "20\n",
            "Mean value of R2 of training set -0.4764496803499296\n",
            "Standard deviation of R2 of training set 0.6319315574781486\n",
            "Mean value of R2 of test set -0.8475214803123844\n",
            "Standard deviation of R2 of test set 0.830273606327344\n",
            "21\n",
            "Mean value of R2 of training set -0.2155343174171123\n",
            "Standard deviation of R2 of training set 0.354029798079977\n",
            "Mean value of R2 of test set -0.6186898075852072\n",
            "Standard deviation of R2 of test set 0.42429312499562327\n",
            "22\n",
            "Mean value of R2 of training set -0.23265672636290113\n",
            "Standard deviation of R2 of training set 0.09793026049745496\n",
            "Mean value of R2 of test set -0.5593524653245213\n",
            "Standard deviation of R2 of test set 0.23718784607205987\n",
            "23\n",
            "Mean value of R2 of training set -0.5995781527591647\n",
            "Standard deviation of R2 of training set 0.7039066681468324\n",
            "Mean value of R2 of test set -0.482281805927554\n",
            "Standard deviation of R2 of test set 0.4672666355059539\n",
            "24\n",
            "Mean value of R2 of training set -0.7603738497139627\n",
            "Standard deviation of R2 of training set 0.5566729672815\n",
            "Mean value of R2 of test set -0.981770767973379\n",
            "Standard deviation of R2 of test set 0.7098758469200466\n"
          ],
          "name": "stdout"
        },
        {
          "output_type": "stream",
          "text": [
            "/usr/local/lib/python3.6/dist-packages/sklearn/neural_network/_multilayer_perceptron.py:571: ConvergenceWarning: Stochastic Optimizer: Maximum iterations (500) reached and the optimization hasn't converged yet.\n",
            "  % self.max_iter, ConvergenceWarning)\n"
          ],
          "name": "stderr"
        },
        {
          "output_type": "stream",
          "text": [
            "25\n",
            "Mean value of R2 of training set -0.0756967749626171\n",
            "Standard deviation of R2 of training set 0.18948116464100234\n",
            "Mean value of R2 of test set -0.7047461635945172\n",
            "Standard deviation of R2 of test set 0.24631192730135318\n"
          ],
          "name": "stdout"
        },
        {
          "output_type": "stream",
          "text": [
            "/usr/local/lib/python3.6/dist-packages/sklearn/neural_network/_multilayer_perceptron.py:571: ConvergenceWarning: Stochastic Optimizer: Maximum iterations (500) reached and the optimization hasn't converged yet.\n",
            "  % self.max_iter, ConvergenceWarning)\n"
          ],
          "name": "stderr"
        },
        {
          "output_type": "stream",
          "text": [
            "26\n",
            "Mean value of R2 of training set -0.516843639142809\n",
            "Standard deviation of R2 of training set 0.7317294994305914\n",
            "Mean value of R2 of test set -0.9981660756176659\n",
            "Standard deviation of R2 of test set 1.2281928378946716\n"
          ],
          "name": "stdout"
        },
        {
          "output_type": "stream",
          "text": [
            "/usr/local/lib/python3.6/dist-packages/sklearn/neural_network/_multilayer_perceptron.py:571: ConvergenceWarning: Stochastic Optimizer: Maximum iterations (500) reached and the optimization hasn't converged yet.\n",
            "  % self.max_iter, ConvergenceWarning)\n"
          ],
          "name": "stderr"
        },
        {
          "output_type": "stream",
          "text": [
            "27\n",
            "Mean value of R2 of training set -0.2871124093830946\n",
            "Standard deviation of R2 of training set 0.165356025882344\n",
            "Mean value of R2 of test set -0.6502150841747031\n",
            "Standard deviation of R2 of test set 0.29275617770114265\n",
            "28\n",
            "Mean value of R2 of training set -0.005733953234332197\n",
            "Standard deviation of R2 of training set 0.023383917733337086\n",
            "Mean value of R2 of test set -0.2271473315852651\n",
            "Standard deviation of R2 of test set 0.32045186235858786\n",
            "29\n",
            "Mean value of R2 of training set -0.19702213711797797\n",
            "Standard deviation of R2 of training set 0.09453652745374673\n",
            "Mean value of R2 of test set -0.5900034350288451\n",
            "Standard deviation of R2 of test set 0.2176681154794483\n"
          ],
          "name": "stdout"
        },
        {
          "output_type": "stream",
          "text": [
            "/usr/local/lib/python3.6/dist-packages/sklearn/neural_network/_multilayer_perceptron.py:571: ConvergenceWarning: Stochastic Optimizer: Maximum iterations (500) reached and the optimization hasn't converged yet.\n",
            "  % self.max_iter, ConvergenceWarning)\n"
          ],
          "name": "stderr"
        },
        {
          "output_type": "stream",
          "text": [
            "30\n",
            "Mean value of R2 of training set -0.17749591276283597\n",
            "Standard deviation of R2 of training set 0.29982055972109467\n",
            "Mean value of R2 of test set -0.5066481619133382\n",
            "Standard deviation of R2 of test set 0.2732184883808191\n",
            "31\n",
            "Mean value of R2 of training set -0.0862330256936954\n",
            "Standard deviation of R2 of training set 0.15055079309636835\n",
            "Mean value of R2 of test set -0.365532240339921\n",
            "Standard deviation of R2 of test set 0.11509775033451354\n"
          ],
          "name": "stdout"
        },
        {
          "output_type": "stream",
          "text": [
            "/usr/local/lib/python3.6/dist-packages/sklearn/neural_network/_multilayer_perceptron.py:571: ConvergenceWarning: Stochastic Optimizer: Maximum iterations (500) reached and the optimization hasn't converged yet.\n",
            "  % self.max_iter, ConvergenceWarning)\n"
          ],
          "name": "stderr"
        },
        {
          "output_type": "stream",
          "text": [
            "32\n",
            "Mean value of R2 of training set -0.16401454556456996\n",
            "Standard deviation of R2 of training set 0.3463418712928767\n",
            "Mean value of R2 of test set -0.4997465747982524\n",
            "Standard deviation of R2 of test set 0.3821058601628545\n",
            "33\n",
            "Mean value of R2 of training set -0.07301416105940801\n",
            "Standard deviation of R2 of training set 0.09028967508186093\n",
            "Mean value of R2 of test set -0.25232851291211156\n",
            "Standard deviation of R2 of test set 0.22502486211781508\n",
            "34\n",
            "Mean value of R2 of training set -2.093717939253315\n",
            "Standard deviation of R2 of training set 1.9898511619698784\n",
            "Mean value of R2 of test set -2.041130375519534\n",
            "Standard deviation of R2 of test set 1.7998264122957226\n"
          ],
          "name": "stdout"
        },
        {
          "output_type": "stream",
          "text": [
            "/usr/local/lib/python3.6/dist-packages/sklearn/neural_network/_multilayer_perceptron.py:571: ConvergenceWarning: Stochastic Optimizer: Maximum iterations (500) reached and the optimization hasn't converged yet.\n",
            "  % self.max_iter, ConvergenceWarning)\n"
          ],
          "name": "stderr"
        },
        {
          "output_type": "stream",
          "text": [
            "35\n",
            "Mean value of R2 of training set -0.19625986313742919\n",
            "Standard deviation of R2 of training set 0.12290113237284915\n",
            "Mean value of R2 of test set -0.3484623923287236\n",
            "Standard deviation of R2 of test set 0.14215339969431093\n",
            "36\n",
            "Mean value of R2 of training set -0.8410009686824321\n",
            "Standard deviation of R2 of training set 0.7643842087909257\n",
            "Mean value of R2 of test set -1.1728331135419097\n",
            "Standard deviation of R2 of test set 0.7795837166102983\n",
            "37\n",
            "Mean value of R2 of training set -2.1017841001090365\n",
            "Standard deviation of R2 of training set 2.670722539223324\n",
            "Mean value of R2 of test set -2.4734473335292666\n",
            "Standard deviation of R2 of test set 2.9060459989224006\n"
          ],
          "name": "stdout"
        },
        {
          "output_type": "stream",
          "text": [
            "/usr/local/lib/python3.6/dist-packages/sklearn/neural_network/_multilayer_perceptron.py:571: ConvergenceWarning: Stochastic Optimizer: Maximum iterations (500) reached and the optimization hasn't converged yet.\n",
            "  % self.max_iter, ConvergenceWarning)\n",
            "/usr/local/lib/python3.6/dist-packages/sklearn/neural_network/_multilayer_perceptron.py:571: ConvergenceWarning: Stochastic Optimizer: Maximum iterations (500) reached and the optimization hasn't converged yet.\n",
            "  % self.max_iter, ConvergenceWarning)\n"
          ],
          "name": "stderr"
        },
        {
          "output_type": "stream",
          "text": [
            "38\n",
            "Mean value of R2 of training set -0.014349631138549146\n",
            "Standard deviation of R2 of training set 0.18709815508393396\n",
            "Mean value of R2 of test set -0.36212200674358136\n",
            "Standard deviation of R2 of test set 0.2161360550756351\n",
            "39\n",
            "Mean value of R2 of training set -0.7158649272318652\n",
            "Standard deviation of R2 of training set 0.4677682894753071\n",
            "Mean value of R2 of test set -0.7742154189182222\n",
            "Standard deviation of R2 of test set 0.33381107468054705\n",
            "40\n",
            "Mean value of R2 of training set -0.13392963513795972\n",
            "Standard deviation of R2 of training set 0.2001378089397984\n",
            "Mean value of R2 of test set -0.3911783840308955\n",
            "Standard deviation of R2 of test set 0.22174293732744452\n",
            "41\n",
            "Mean value of R2 of training set -0.20028376461821693\n",
            "Standard deviation of R2 of training set 0.2625744968645228\n",
            "Mean value of R2 of test set -0.465492676245054\n",
            "Standard deviation of R2 of test set 0.2994324775177575\n",
            "42\n",
            "Mean value of R2 of training set -0.06186097083099159\n",
            "Standard deviation of R2 of training set 0.0968205142750192\n",
            "Mean value of R2 of test set -0.27239852573148277\n",
            "Standard deviation of R2 of test set 0.14436079052328374\n",
            "43\n",
            "Mean value of R2 of training set -0.2860605053800251\n",
            "Standard deviation of R2 of training set 0.2855948643085539\n",
            "Mean value of R2 of test set -0.4922465863775418\n",
            "Standard deviation of R2 of test set 0.5528995784855726\n"
          ],
          "name": "stdout"
        },
        {
          "output_type": "stream",
          "text": [
            "/usr/local/lib/python3.6/dist-packages/sklearn/neural_network/_multilayer_perceptron.py:571: ConvergenceWarning: Stochastic Optimizer: Maximum iterations (500) reached and the optimization hasn't converged yet.\n",
            "  % self.max_iter, ConvergenceWarning)\n"
          ],
          "name": "stderr"
        },
        {
          "output_type": "stream",
          "text": [
            "44\n",
            "Mean value of R2 of training set -0.3349401690836718\n",
            "Standard deviation of R2 of training set 0.6049331484289563\n",
            "Mean value of R2 of test set -0.6849004372824204\n",
            "Standard deviation of R2 of test set 0.6887632276929988\n",
            "45\n",
            "Mean value of R2 of training set -0.19047770571164405\n",
            "Standard deviation of R2 of training set 0.4619190591398773\n",
            "Mean value of R2 of test set -0.5068823901921978\n",
            "Standard deviation of R2 of test set 0.23817068662636512\n",
            "46\n",
            "Mean value of R2 of training set -0.09080164358931442\n",
            "Standard deviation of R2 of training set 0.06561316255249404\n",
            "Mean value of R2 of test set -0.47377463201026676\n",
            "Standard deviation of R2 of test set 0.08852947548050648\n",
            "47\n",
            "Mean value of R2 of training set -0.7739683615636567\n",
            "Standard deviation of R2 of training set 0.8801473033438777\n",
            "Mean value of R2 of test set -0.6721864963153376\n",
            "Standard deviation of R2 of test set 0.34364332533679204\n",
            "48\n",
            "Mean value of R2 of training set -0.4961223170988467\n",
            "Standard deviation of R2 of training set 0.22948239519185865\n",
            "Mean value of R2 of test set -0.5435976477456129\n",
            "Standard deviation of R2 of test set 0.2809996739845819\n",
            "49\n",
            "Mean value of R2 of training set -0.11943340552218022\n",
            "Standard deviation of R2 of training set 0.3308744314467988\n",
            "Mean value of R2 of test set -0.5375193200875408\n",
            "Standard deviation of R2 of test set 0.2722491075044484\n"
          ],
          "name": "stdout"
        },
        {
          "output_type": "stream",
          "text": [
            "/usr/local/lib/python3.6/dist-packages/sklearn/neural_network/_multilayer_perceptron.py:571: ConvergenceWarning: Stochastic Optimizer: Maximum iterations (500) reached and the optimization hasn't converged yet.\n",
            "  % self.max_iter, ConvergenceWarning)\n"
          ],
          "name": "stderr"
        },
        {
          "output_type": "stream",
          "text": [
            "50\n",
            "Mean value of R2 of training set -1.2027160158851817\n",
            "Standard deviation of R2 of training set 1.3137491559273207\n",
            "Mean value of R2 of test set -0.8555101347417122\n",
            "Standard deviation of R2 of test set 0.6218266071497952\n"
          ],
          "name": "stdout"
        },
        {
          "output_type": "stream",
          "text": [
            "/usr/local/lib/python3.6/dist-packages/sklearn/neural_network/_multilayer_perceptron.py:571: ConvergenceWarning: Stochastic Optimizer: Maximum iterations (500) reached and the optimization hasn't converged yet.\n",
            "  % self.max_iter, ConvergenceWarning)\n"
          ],
          "name": "stderr"
        },
        {
          "output_type": "stream",
          "text": [
            "51\n",
            "Mean value of R2 of training set -0.018105307001417992\n",
            "Standard deviation of R2 of training set 0.16000817192425718\n",
            "Mean value of R2 of test set -0.3421904210863305\n",
            "Standard deviation of R2 of test set 0.3752367771595363\n",
            "52\n",
            "Mean value of R2 of training set -0.15205040349103216\n",
            "Standard deviation of R2 of training set 0.0940341980732361\n",
            "Mean value of R2 of test set -0.23879571798295263\n",
            "Standard deviation of R2 of test set 0.32087821840669506\n"
          ],
          "name": "stdout"
        },
        {
          "output_type": "stream",
          "text": [
            "/usr/local/lib/python3.6/dist-packages/sklearn/neural_network/_multilayer_perceptron.py:571: ConvergenceWarning: Stochastic Optimizer: Maximum iterations (500) reached and the optimization hasn't converged yet.\n",
            "  % self.max_iter, ConvergenceWarning)\n"
          ],
          "name": "stderr"
        },
        {
          "output_type": "stream",
          "text": [
            "53\n",
            "Mean value of R2 of training set 0.09418624720905755\n",
            "Standard deviation of R2 of training set 0.10099139811406682\n",
            "Mean value of R2 of test set -0.17597498132696823\n",
            "Standard deviation of R2 of test set 0.3274361194371269\n",
            "54\n",
            "Mean value of R2 of training set -0.9726840723344837\n",
            "Standard deviation of R2 of training set 0.7738006325255394\n",
            "Mean value of R2 of test set -0.9754532087291551\n",
            "Standard deviation of R2 of test set 0.7834489991284612\n",
            "55\n",
            "Mean value of R2 of training set -0.20885218829310248\n",
            "Standard deviation of R2 of training set 0.11424480894904569\n",
            "Mean value of R2 of test set -0.4855097334296288\n",
            "Standard deviation of R2 of test set 0.3157383253443855\n"
          ],
          "name": "stdout"
        },
        {
          "output_type": "stream",
          "text": [
            "/usr/local/lib/python3.6/dist-packages/sklearn/neural_network/_multilayer_perceptron.py:571: ConvergenceWarning: Stochastic Optimizer: Maximum iterations (500) reached and the optimization hasn't converged yet.\n",
            "  % self.max_iter, ConvergenceWarning)\n"
          ],
          "name": "stderr"
        },
        {
          "output_type": "stream",
          "text": [
            "56\n",
            "Mean value of R2 of training set 0.030986806600414456\n",
            "Standard deviation of R2 of training set 0.16132328035336754\n",
            "Mean value of R2 of test set -0.31745132717456226\n",
            "Standard deviation of R2 of test set 0.32252977710454017\n",
            "57\n",
            "Mean value of R2 of training set -0.34703211921531313\n",
            "Standard deviation of R2 of training set 0.16416775432311284\n",
            "Mean value of R2 of test set -0.574133582174806\n",
            "Standard deviation of R2 of test set 0.5971975882232069\n",
            "58\n",
            "Mean value of R2 of training set -0.24414946922992495\n",
            "Standard deviation of R2 of training set 0.12798409597278687\n",
            "Mean value of R2 of test set -0.3472263120919308\n",
            "Standard deviation of R2 of test set 0.3586689315967403\n",
            "59\n",
            "Mean value of R2 of training set -0.9216022220300136\n",
            "Standard deviation of R2 of training set 0.40656452367015894\n",
            "Mean value of R2 of test set -1.22378160245792\n",
            "Standard deviation of R2 of test set 0.6058232527120482\n",
            "60\n",
            "Mean value of R2 of training set -0.2252527458275263\n",
            "Standard deviation of R2 of training set 0.28076558250649347\n",
            "Mean value of R2 of test set -0.4606259404972568\n",
            "Standard deviation of R2 of test set 0.44092586679419427\n"
          ],
          "name": "stdout"
        },
        {
          "output_type": "stream",
          "text": [
            "/usr/local/lib/python3.6/dist-packages/sklearn/neural_network/_multilayer_perceptron.py:571: ConvergenceWarning: Stochastic Optimizer: Maximum iterations (500) reached and the optimization hasn't converged yet.\n",
            "  % self.max_iter, ConvergenceWarning)\n"
          ],
          "name": "stderr"
        },
        {
          "output_type": "stream",
          "text": [
            "61\n",
            "Mean value of R2 of training set -0.2811859312233996\n",
            "Standard deviation of R2 of training set 0.6263856768309084\n",
            "Mean value of R2 of test set -0.5822450607291274\n",
            "Standard deviation of R2 of test set 0.3736898736750377\n",
            "62\n",
            "Mean value of R2 of training set -0.817904158344606\n",
            "Standard deviation of R2 of training set 0.12253439177290301\n",
            "Mean value of R2 of test set -1.4005801292549276\n",
            "Standard deviation of R2 of test set 0.41375727322536054\n",
            "63\n",
            "Mean value of R2 of training set -0.07716570099948365\n",
            "Standard deviation of R2 of training set 0.08289931811257217\n",
            "Mean value of R2 of test set -0.473006090449144\n",
            "Standard deviation of R2 of test set 0.3376514062076507\n",
            "64\n",
            "Mean value of R2 of training set -0.4666391187246733\n",
            "Standard deviation of R2 of training set 0.40043331324028203\n",
            "Mean value of R2 of test set -0.697695436233095\n",
            "Standard deviation of R2 of test set 0.29642281605746035\n",
            "65\n",
            "Mean value of R2 of training set -0.02672422738684858\n",
            "Standard deviation of R2 of training set 0.3331926620595685\n",
            "Mean value of R2 of test set -0.3473463199169193\n",
            "Standard deviation of R2 of test set 0.12448877784950768\n",
            "66\n",
            "Mean value of R2 of training set -0.45521144275909736\n",
            "Standard deviation of R2 of training set 0.3755507410118677\n",
            "Mean value of R2 of test set -0.9605344292926659\n",
            "Standard deviation of R2 of test set 0.752071371159252\n",
            "67\n",
            "Mean value of R2 of training set -0.19755855083982843\n",
            "Standard deviation of R2 of training set 0.26160705112887944\n",
            "Mean value of R2 of test set -0.4120525575099386\n",
            "Standard deviation of R2 of test set 0.49787188972563634\n",
            "68\n",
            "Mean value of R2 of training set -0.23593380178377898\n",
            "Standard deviation of R2 of training set 0.22463500367051464\n",
            "Mean value of R2 of test set -0.6180477411211217\n",
            "Standard deviation of R2 of test set 0.14913173095711013\n"
          ],
          "name": "stdout"
        },
        {
          "output_type": "stream",
          "text": [
            "/usr/local/lib/python3.6/dist-packages/sklearn/neural_network/_multilayer_perceptron.py:571: ConvergenceWarning: Stochastic Optimizer: Maximum iterations (500) reached and the optimization hasn't converged yet.\n",
            "  % self.max_iter, ConvergenceWarning)\n"
          ],
          "name": "stderr"
        },
        {
          "output_type": "stream",
          "text": [
            "69\n",
            "Mean value of R2 of training set -0.03212519881074671\n",
            "Standard deviation of R2 of training set 0.06325624400345421\n",
            "Mean value of R2 of test set -0.2132801709607024\n",
            "Standard deviation of R2 of test set 0.31212746320705675\n",
            "70\n",
            "Mean value of R2 of training set 0.06273926660930813\n",
            "Standard deviation of R2 of training set 0.21699816658607704\n",
            "Mean value of R2 of test set -0.31019116676814323\n",
            "Standard deviation of R2 of test set 0.09078025097538633\n",
            "71\n",
            "Mean value of R2 of training set -0.5272658656759625\n",
            "Standard deviation of R2 of training set 0.663174304697847\n",
            "Mean value of R2 of test set -0.9976085694951823\n",
            "Standard deviation of R2 of test set 0.47166542450676907\n",
            "72\n",
            "Mean value of R2 of training set -1.2389770591675202\n",
            "Standard deviation of R2 of training set 0.12806056684988004\n",
            "Mean value of R2 of test set -1.355357426520155\n",
            "Standard deviation of R2 of test set 0.5751269388540384\n",
            "73\n",
            "Mean value of R2 of training set -0.6754971263622438\n",
            "Standard deviation of R2 of training set 1.071940022477229\n",
            "Mean value of R2 of test set -1.0058351526903777\n",
            "Standard deviation of R2 of test set 0.848880988707106\n",
            "74\n",
            "Mean value of R2 of training set -0.9369689067693251\n",
            "Standard deviation of R2 of training set 0.6434819957694476\n",
            "Mean value of R2 of test set -1.2566542130074565\n",
            "Standard deviation of R2 of test set 0.6625806910326071\n",
            "75\n",
            "Mean value of R2 of training set -0.4247507788140925\n",
            "Standard deviation of R2 of training set 0.39751814481587694\n",
            "Mean value of R2 of test set -0.5948030249206647\n",
            "Standard deviation of R2 of test set 0.4437992828782867\n",
            "76\n",
            "Mean value of R2 of training set -0.2808386820252141\n",
            "Standard deviation of R2 of training set 0.24554521281948208\n",
            "Mean value of R2 of test set -0.6142633726261212\n",
            "Standard deviation of R2 of test set 0.3607583611674371\n"
          ],
          "name": "stdout"
        },
        {
          "output_type": "stream",
          "text": [
            "/usr/local/lib/python3.6/dist-packages/sklearn/neural_network/_multilayer_perceptron.py:571: ConvergenceWarning: Stochastic Optimizer: Maximum iterations (500) reached and the optimization hasn't converged yet.\n",
            "  % self.max_iter, ConvergenceWarning)\n"
          ],
          "name": "stderr"
        },
        {
          "output_type": "stream",
          "text": [
            "77\n",
            "Mean value of R2 of training set 0.00586282560850393\n",
            "Standard deviation of R2 of training set 0.16181733892784136\n",
            "Mean value of R2 of test set -0.3165803934829922\n",
            "Standard deviation of R2 of test set 0.3129687969969148\n"
          ],
          "name": "stdout"
        },
        {
          "output_type": "stream",
          "text": [
            "/usr/local/lib/python3.6/dist-packages/sklearn/neural_network/_multilayer_perceptron.py:571: ConvergenceWarning: Stochastic Optimizer: Maximum iterations (500) reached and the optimization hasn't converged yet.\n",
            "  % self.max_iter, ConvergenceWarning)\n"
          ],
          "name": "stderr"
        },
        {
          "output_type": "stream",
          "text": [
            "78\n",
            "Mean value of R2 of training set -0.26905089062637866\n",
            "Standard deviation of R2 of training set 0.46354108197190824\n",
            "Mean value of R2 of test set -0.6399895700117973\n",
            "Standard deviation of R2 of test set 0.8304688785625568\n"
          ],
          "name": "stdout"
        },
        {
          "output_type": "stream",
          "text": [
            "/usr/local/lib/python3.6/dist-packages/sklearn/neural_network/_multilayer_perceptron.py:571: ConvergenceWarning: Stochastic Optimizer: Maximum iterations (500) reached and the optimization hasn't converged yet.\n",
            "  % self.max_iter, ConvergenceWarning)\n"
          ],
          "name": "stderr"
        },
        {
          "output_type": "stream",
          "text": [
            "79\n",
            "Mean value of R2 of training set -0.18387892947609322\n",
            "Standard deviation of R2 of training set 0.3011333139927015\n",
            "Mean value of R2 of test set -0.30888216627966686\n",
            "Standard deviation of R2 of test set 0.2864766672990424\n",
            "80\n",
            "Mean value of R2 of training set -1.1860534232960946\n",
            "Standard deviation of R2 of training set 1.1422718337226463\n",
            "Mean value of R2 of test set -1.8778435250238132\n",
            "Standard deviation of R2 of test set 1.9278797188722554\n",
            "81\n",
            "Mean value of R2 of training set -0.5189030925171645\n",
            "Standard deviation of R2 of training set 0.6802949397552084\n",
            "Mean value of R2 of test set -0.3758444478973308\n",
            "Standard deviation of R2 of test set 0.37736915642281565\n",
            "82\n",
            "Mean value of R2 of training set -1.779521908100888\n",
            "Standard deviation of R2 of training set 2.803844569685548\n",
            "Mean value of R2 of test set -3.5070903665991593\n",
            "Standard deviation of R2 of test set 4.441984467908671\n"
          ],
          "name": "stdout"
        },
        {
          "output_type": "stream",
          "text": [
            "/usr/local/lib/python3.6/dist-packages/sklearn/neural_network/_multilayer_perceptron.py:571: ConvergenceWarning: Stochastic Optimizer: Maximum iterations (500) reached and the optimization hasn't converged yet.\n",
            "  % self.max_iter, ConvergenceWarning)\n"
          ],
          "name": "stderr"
        },
        {
          "output_type": "stream",
          "text": [
            "83\n",
            "Mean value of R2 of training set 0.056086923267456824\n",
            "Standard deviation of R2 of training set 0.19762656353195365\n",
            "Mean value of R2 of test set -0.25781265315624663\n",
            "Standard deviation of R2 of test set 0.29706185061714857\n"
          ],
          "name": "stdout"
        },
        {
          "output_type": "stream",
          "text": [
            "/usr/local/lib/python3.6/dist-packages/sklearn/neural_network/_multilayer_perceptron.py:571: ConvergenceWarning: Stochastic Optimizer: Maximum iterations (500) reached and the optimization hasn't converged yet.\n",
            "  % self.max_iter, ConvergenceWarning)\n"
          ],
          "name": "stderr"
        },
        {
          "output_type": "stream",
          "text": [
            "84\n",
            "Mean value of R2 of training set -0.011826493951564987\n",
            "Standard deviation of R2 of training set 0.17838952132238106\n",
            "Mean value of R2 of test set -0.3179873337145772\n",
            "Standard deviation of R2 of test set 0.3766892665202341\n",
            "85\n",
            "Mean value of R2 of training set -0.03616857847974072\n",
            "Standard deviation of R2 of training set 0.13673670657233397\n",
            "Mean value of R2 of test set -0.4047218781399861\n",
            "Standard deviation of R2 of test set 0.3086548407605906\n",
            "86\n",
            "Mean value of R2 of training set 0.08543206846200335\n",
            "Standard deviation of R2 of training set 0.1616657542204\n",
            "Mean value of R2 of test set -0.1452573444568915\n",
            "Standard deviation of R2 of test set 0.1768447478691004\n",
            "87\n",
            "Mean value of R2 of training set -1.3659322311977509\n",
            "Standard deviation of R2 of training set 1.5989070176708577\n",
            "Mean value of R2 of test set -1.6570266885093112\n",
            "Standard deviation of R2 of test set 1.5359077439821627\n",
            "88\n",
            "Mean value of R2 of training set -0.30222415129661523\n",
            "Standard deviation of R2 of training set 0.42615950302155153\n",
            "Mean value of R2 of test set -0.772926129227906\n",
            "Standard deviation of R2 of test set 0.4071396463971259\n"
          ],
          "name": "stdout"
        },
        {
          "output_type": "stream",
          "text": [
            "/usr/local/lib/python3.6/dist-packages/sklearn/neural_network/_multilayer_perceptron.py:571: ConvergenceWarning: Stochastic Optimizer: Maximum iterations (500) reached and the optimization hasn't converged yet.\n",
            "  % self.max_iter, ConvergenceWarning)\n"
          ],
          "name": "stderr"
        },
        {
          "output_type": "stream",
          "text": [
            "89\n",
            "Mean value of R2 of training set -0.24377724547370525\n",
            "Standard deviation of R2 of training set 0.4848682132784208\n",
            "Mean value of R2 of test set -0.5945047564795553\n",
            "Standard deviation of R2 of test set 0.3578199666931843\n"
          ],
          "name": "stdout"
        },
        {
          "output_type": "stream",
          "text": [
            "/usr/local/lib/python3.6/dist-packages/sklearn/neural_network/_multilayer_perceptron.py:571: ConvergenceWarning: Stochastic Optimizer: Maximum iterations (500) reached and the optimization hasn't converged yet.\n",
            "  % self.max_iter, ConvergenceWarning)\n"
          ],
          "name": "stderr"
        },
        {
          "output_type": "stream",
          "text": [
            "90\n",
            "Mean value of R2 of training set 0.1650032856045396\n",
            "Standard deviation of R2 of training set 0.12415820006869945\n",
            "Mean value of R2 of test set -0.18350551247795419\n",
            "Standard deviation of R2 of test set 0.3125771082056051\n",
            "91\n",
            "Mean value of R2 of training set -0.23547352197552582\n",
            "Standard deviation of R2 of training set 0.6025505735173436\n",
            "Mean value of R2 of test set -0.6077682449576428\n",
            "Standard deviation of R2 of test set 0.4472610604595373\n",
            "92\n",
            "Mean value of R2 of training set -0.6595006290885647\n",
            "Standard deviation of R2 of training set 0.6606548460669699\n",
            "Mean value of R2 of test set -0.44717861209042625\n",
            "Standard deviation of R2 of test set 0.34137302821134624\n"
          ],
          "name": "stdout"
        },
        {
          "output_type": "stream",
          "text": [
            "/usr/local/lib/python3.6/dist-packages/sklearn/neural_network/_multilayer_perceptron.py:571: ConvergenceWarning: Stochastic Optimizer: Maximum iterations (500) reached and the optimization hasn't converged yet.\n",
            "  % self.max_iter, ConvergenceWarning)\n"
          ],
          "name": "stderr"
        },
        {
          "output_type": "stream",
          "text": [
            "93\n",
            "Mean value of R2 of training set -0.6790817187580287\n",
            "Standard deviation of R2 of training set 0.6855986786323505\n",
            "Mean value of R2 of test set -1.0549593014722838\n",
            "Standard deviation of R2 of test set 0.828822302882342\n",
            "94\n",
            "Mean value of R2 of training set -1.2481646332362097\n",
            "Standard deviation of R2 of training set 0.6498386069135557\n",
            "Mean value of R2 of test set -2.0112366710191236\n",
            "Standard deviation of R2 of test set 1.0294588577983492\n",
            "95\n",
            "Mean value of R2 of training set -0.6590351876990718\n",
            "Standard deviation of R2 of training set 0.7014064663393028\n",
            "Mean value of R2 of test set -1.1139346611178322\n",
            "Standard deviation of R2 of test set 1.095557253407708\n",
            "96\n",
            "Mean value of R2 of training set -3.2448737580383367\n",
            "Standard deviation of R2 of training set 4.083049170374827\n",
            "Mean value of R2 of test set -2.4712563750546326\n",
            "Standard deviation of R2 of test set 2.587785622880118\n"
          ],
          "name": "stdout"
        },
        {
          "output_type": "stream",
          "text": [
            "/usr/local/lib/python3.6/dist-packages/sklearn/neural_network/_multilayer_perceptron.py:571: ConvergenceWarning: Stochastic Optimizer: Maximum iterations (500) reached and the optimization hasn't converged yet.\n",
            "  % self.max_iter, ConvergenceWarning)\n"
          ],
          "name": "stderr"
        },
        {
          "output_type": "stream",
          "text": [
            "97\n",
            "Mean value of R2 of training set -0.5336605492374341\n",
            "Standard deviation of R2 of training set 0.5818268774455869\n",
            "Mean value of R2 of test set -0.6679169558323733\n",
            "Standard deviation of R2 of test set 0.5047538581665298\n"
          ],
          "name": "stdout"
        },
        {
          "output_type": "stream",
          "text": [
            "/usr/local/lib/python3.6/dist-packages/sklearn/neural_network/_multilayer_perceptron.py:571: ConvergenceWarning: Stochastic Optimizer: Maximum iterations (500) reached and the optimization hasn't converged yet.\n",
            "  % self.max_iter, ConvergenceWarning)\n"
          ],
          "name": "stderr"
        },
        {
          "output_type": "stream",
          "text": [
            "98\n",
            "Mean value of R2 of training set -0.2073827467056698\n",
            "Standard deviation of R2 of training set 0.36483962709250933\n",
            "Mean value of R2 of test set -0.6070905537346957\n",
            "Standard deviation of R2 of test set 0.764551341566086\n",
            "99\n",
            "Mean value of R2 of training set -0.7609851236693413\n",
            "Standard deviation of R2 of training set 0.8061267285156138\n",
            "Mean value of R2 of test set -1.371205043474352\n",
            "Standard deviation of R2 of test set 1.1439952425906117\n",
            "100\n",
            "Mean value of R2 of training set -0.5188350960038237\n",
            "Standard deviation of R2 of training set 0.2618889634021688\n",
            "Mean value of R2 of test set -0.8663493128091142\n",
            "Standard deviation of R2 of test set 0.5480932795389418\n",
            "101\n",
            "Mean value of R2 of training set -1.606948393064304\n",
            "Standard deviation of R2 of training set 2.330539415557068\n",
            "Mean value of R2 of test set -1.0319686482238655\n",
            "Standard deviation of R2 of test set 1.2970178800055077\n",
            "102\n",
            "Mean value of R2 of training set -0.8110104616778391\n",
            "Standard deviation of R2 of training set 0.9218474827353407\n",
            "Mean value of R2 of test set -0.9622253171208118\n",
            "Standard deviation of R2 of test set 1.0172617142542153\n",
            "103\n",
            "Mean value of R2 of training set -2.605848528213325\n",
            "Standard deviation of R2 of training set 2.5473593354370374\n",
            "Mean value of R2 of test set -1.8770974497371087\n",
            "Standard deviation of R2 of test set 1.6238621101365018\n",
            "104\n",
            "Mean value of R2 of training set -0.47005921276820534\n",
            "Standard deviation of R2 of training set 0.5903762318864195\n",
            "Mean value of R2 of test set -0.8584997894114702\n",
            "Standard deviation of R2 of test set 0.7424769439081993\n",
            "105\n",
            "Mean value of R2 of training set -0.6180039866066924\n",
            "Standard deviation of R2 of training set 0.44669655687546955\n",
            "Mean value of R2 of test set -1.2327466261937692\n",
            "Standard deviation of R2 of test set 0.7012172885381972\n",
            "106\n",
            "Mean value of R2 of training set -0.740589562320901\n",
            "Standard deviation of R2 of training set 0.6830458968990794\n",
            "Mean value of R2 of test set -1.1384447881137516\n",
            "Standard deviation of R2 of test set 0.5935562164598664\n"
          ],
          "name": "stdout"
        },
        {
          "output_type": "stream",
          "text": [
            "/usr/local/lib/python3.6/dist-packages/sklearn/neural_network/_multilayer_perceptron.py:571: ConvergenceWarning: Stochastic Optimizer: Maximum iterations (500) reached and the optimization hasn't converged yet.\n",
            "  % self.max_iter, ConvergenceWarning)\n"
          ],
          "name": "stderr"
        },
        {
          "output_type": "stream",
          "text": [
            "107\n",
            "Mean value of R2 of training set -0.43310473145572015\n",
            "Standard deviation of R2 of training set 0.909308750763274\n",
            "Mean value of R2 of test set -0.9462126709035985\n",
            "Standard deviation of R2 of test set 0.9791695596135802\n",
            "108\n",
            "Mean value of R2 of training set -0.7163833670349665\n",
            "Standard deviation of R2 of training set 0.8503418348265365\n",
            "Mean value of R2 of test set -0.9538214437342204\n",
            "Standard deviation of R2 of test set 0.9306424102978005\n",
            "109\n",
            "Mean value of R2 of training set -0.3543600747752295\n",
            "Standard deviation of R2 of training set 0.4590211816595485\n",
            "Mean value of R2 of test set -0.6944712796771815\n",
            "Standard deviation of R2 of test set 0.40620293666077834\n",
            "110\n",
            "Mean value of R2 of training set -0.0027722244851432856\n",
            "Standard deviation of R2 of training set 0.08831972966182323\n",
            "Mean value of R2 of test set -0.2510481813785543\n",
            "Standard deviation of R2 of test set 0.2633280399972289\n"
          ],
          "name": "stdout"
        },
        {
          "output_type": "stream",
          "text": [
            "/usr/local/lib/python3.6/dist-packages/sklearn/neural_network/_multilayer_perceptron.py:571: ConvergenceWarning: Stochastic Optimizer: Maximum iterations (500) reached and the optimization hasn't converged yet.\n",
            "  % self.max_iter, ConvergenceWarning)\n"
          ],
          "name": "stderr"
        },
        {
          "output_type": "stream",
          "text": [
            "111\n",
            "Mean value of R2 of training set -0.021713708725626096\n",
            "Standard deviation of R2 of training set 0.31657881514091635\n",
            "Mean value of R2 of test set -0.22844632931856804\n",
            "Standard deviation of R2 of test set 0.16088910108658494\n"
          ],
          "name": "stdout"
        },
        {
          "output_type": "stream",
          "text": [
            "/usr/local/lib/python3.6/dist-packages/sklearn/neural_network/_multilayer_perceptron.py:571: ConvergenceWarning: Stochastic Optimizer: Maximum iterations (500) reached and the optimization hasn't converged yet.\n",
            "  % self.max_iter, ConvergenceWarning)\n"
          ],
          "name": "stderr"
        },
        {
          "output_type": "stream",
          "text": [
            "112\n",
            "Mean value of R2 of training set -0.3138749217145116\n",
            "Standard deviation of R2 of training set 0.6229920081591366\n",
            "Mean value of R2 of test set -0.7996175969721886\n",
            "Standard deviation of R2 of test set 0.7947381440690572\n",
            "113\n",
            "Mean value of R2 of training set -2.408198165778933\n",
            "Standard deviation of R2 of training set 1.6898931286446175\n",
            "Mean value of R2 of test set -1.8459862561471454\n",
            "Standard deviation of R2 of test set 0.98953091405705\n",
            "114\n",
            "Mean value of R2 of training set -1.432028614544012\n",
            "Standard deviation of R2 of training set 1.206932742143774\n",
            "Mean value of R2 of test set -1.3451251904433736\n",
            "Standard deviation of R2 of test set 1.1079394800736675\n",
            "115\n",
            "Mean value of R2 of training set -0.3331053781515467\n",
            "Standard deviation of R2 of training set 0.22588285043585007\n",
            "Mean value of R2 of test set -0.5064662860050867\n",
            "Standard deviation of R2 of test set 0.1473568691474796\n",
            "116\n",
            "Mean value of R2 of training set -0.8818667738016167\n",
            "Standard deviation of R2 of training set 0.5931011810123301\n",
            "Mean value of R2 of test set -1.2231140586145257\n",
            "Standard deviation of R2 of test set 0.6797042392953035\n",
            "117\n",
            "Mean value of R2 of training set -1.0184840591708997\n",
            "Standard deviation of R2 of training set 0.25444162981344676\n",
            "Mean value of R2 of test set -1.176240039263112\n",
            "Standard deviation of R2 of test set 0.32208684086877926\n",
            "118\n",
            "Mean value of R2 of training set -0.6727784691915426\n",
            "Standard deviation of R2 of training set 0.7625658354720346\n",
            "Mean value of R2 of test set -1.213959731849797\n",
            "Standard deviation of R2 of test set 1.060526112993443\n"
          ],
          "name": "stdout"
        },
        {
          "output_type": "stream",
          "text": [
            "/usr/local/lib/python3.6/dist-packages/sklearn/neural_network/_multilayer_perceptron.py:571: ConvergenceWarning: Stochastic Optimizer: Maximum iterations (500) reached and the optimization hasn't converged yet.\n",
            "  % self.max_iter, ConvergenceWarning)\n"
          ],
          "name": "stderr"
        },
        {
          "output_type": "stream",
          "text": [
            "119\n",
            "Mean value of R2 of training set -0.2666111131362113\n",
            "Standard deviation of R2 of training set 0.6024431994463658\n",
            "Mean value of R2 of test set -0.5797875157478896\n",
            "Standard deviation of R2 of test set 0.6555432584470705\n"
          ],
          "name": "stdout"
        },
        {
          "output_type": "stream",
          "text": [
            "/usr/local/lib/python3.6/dist-packages/sklearn/neural_network/_multilayer_perceptron.py:571: ConvergenceWarning: Stochastic Optimizer: Maximum iterations (500) reached and the optimization hasn't converged yet.\n",
            "  % self.max_iter, ConvergenceWarning)\n"
          ],
          "name": "stderr"
        },
        {
          "output_type": "stream",
          "text": [
            "120\n",
            "Mean value of R2 of training set -0.48504015616085133\n",
            "Standard deviation of R2 of training set 0.5028559620040917\n",
            "Mean value of R2 of test set -0.7643023342187067\n",
            "Standard deviation of R2 of test set 0.6827832417463804\n",
            "121\n",
            "Mean value of R2 of training set -0.6905081198761757\n",
            "Standard deviation of R2 of training set 0.4380060403608562\n",
            "Mean value of R2 of test set -0.6763647835144568\n",
            "Standard deviation of R2 of test set 0.4775121382429883\n",
            "122\n",
            "Mean value of R2 of training set -0.9981827889674258\n",
            "Standard deviation of R2 of training set 0.6784115449181811\n",
            "Mean value of R2 of test set -1.3789747514345638\n",
            "Standard deviation of R2 of test set 0.951689157194489\n",
            "123\n",
            "Mean value of R2 of training set -0.4843632959494886\n",
            "Standard deviation of R2 of training set 0.16083145427503395\n",
            "Mean value of R2 of test set -0.5308387005888052\n",
            "Standard deviation of R2 of test set 0.2719363538175931\n",
            "124\n",
            "Mean value of R2 of training set -0.4671143784068709\n",
            "Standard deviation of R2 of training set 0.6060306634715766\n",
            "Mean value of R2 of test set -0.7638760961519132\n",
            "Standard deviation of R2 of test set 0.5014492857643008\n",
            "125\n",
            "Mean value of R2 of training set -0.8376176265339114\n",
            "Standard deviation of R2 of training set 0.40080131006564435\n",
            "Mean value of R2 of test set -0.9545049602707899\n",
            "Standard deviation of R2 of test set 0.6348354822077354\n",
            "126\n",
            "Mean value of R2 of training set -0.22620976436808934\n",
            "Standard deviation of R2 of training set 0.28182324512228085\n",
            "Mean value of R2 of test set -0.35680175114732743\n",
            "Standard deviation of R2 of test set 0.39893089447728164\n",
            "127\n",
            "Mean value of R2 of training set -1.218623832003016\n",
            "Standard deviation of R2 of training set 0.7042144695100158\n",
            "Mean value of R2 of test set -1.4823555522466407\n",
            "Standard deviation of R2 of test set 0.8104432111292773\n",
            "128\n",
            "Mean value of R2 of training set -0.5831364028179052\n",
            "Standard deviation of R2 of training set 0.37536398880380123\n",
            "Mean value of R2 of test set -0.5556576873233828\n",
            "Standard deviation of R2 of test set 0.0938934094011419\n",
            "129\n",
            "Mean value of R2 of training set -0.6545866795051194\n",
            "Standard deviation of R2 of training set 0.37566158531854826\n",
            "Mean value of R2 of test set -0.9236133338398048\n",
            "Standard deviation of R2 of test set 0.3959324407877079\n",
            "130\n",
            "Mean value of R2 of training set -1.533841487946617\n",
            "Standard deviation of R2 of training set 0.7642041289578951\n",
            "Mean value of R2 of test set -1.4385531553899547\n",
            "Standard deviation of R2 of test set 1.0614383661673696\n"
          ],
          "name": "stdout"
        },
        {
          "output_type": "stream",
          "text": [
            "/usr/local/lib/python3.6/dist-packages/sklearn/neural_network/_multilayer_perceptron.py:571: ConvergenceWarning: Stochastic Optimizer: Maximum iterations (500) reached and the optimization hasn't converged yet.\n",
            "  % self.max_iter, ConvergenceWarning)\n"
          ],
          "name": "stderr"
        },
        {
          "output_type": "stream",
          "text": [
            "131\n",
            "Mean value of R2 of training set -1.223500222282987\n",
            "Standard deviation of R2 of training set 1.0001292323818625\n",
            "Mean value of R2 of test set -1.426151869479126\n",
            "Standard deviation of R2 of test set 1.0327374208475761\n",
            "132\n",
            "Mean value of R2 of training set -1.2245997828808075\n",
            "Standard deviation of R2 of training set 0.2645271932377654\n",
            "Mean value of R2 of test set -1.1845921951262932\n",
            "Standard deviation of R2 of test set 0.10019266984336332\n",
            "133\n",
            "Mean value of R2 of training set -1.0964334472903408\n",
            "Standard deviation of R2 of training set 0.41528945572803533\n",
            "Mean value of R2 of test set -1.4115714767347196\n",
            "Standard deviation of R2 of test set 0.851658063589134\n",
            "134\n",
            "Mean value of R2 of training set -1.193889738295961\n",
            "Standard deviation of R2 of training set 0.8698896424261843\n",
            "Mean value of R2 of test set -1.5240296014060017\n",
            "Standard deviation of R2 of test set 1.1236147704978472\n",
            "135\n",
            "Mean value of R2 of training set -0.26456870418753775\n",
            "Standard deviation of R2 of training set 0.13307966521261738\n",
            "Mean value of R2 of test set -0.4497990787236396\n",
            "Standard deviation of R2 of test set 0.3183089054406838\n",
            "136\n",
            "Mean value of R2 of training set -0.5662887937782094\n",
            "Standard deviation of R2 of training set 0.6021268392509419\n",
            "Mean value of R2 of test set -0.6720930984981407\n",
            "Standard deviation of R2 of test set 0.670635471968853\n",
            "137\n",
            "Mean value of R2 of training set -0.28428119352261133\n",
            "Standard deviation of R2 of training set 0.19850230872870975\n",
            "Mean value of R2 of test set -0.46607168748989575\n",
            "Standard deviation of R2 of test set 0.4253551682579739\n",
            "138\n",
            "Mean value of R2 of training set -1.0524815452526137\n",
            "Standard deviation of R2 of training set 0.16173202281254065\n",
            "Mean value of R2 of test set -1.3421355780132185\n",
            "Standard deviation of R2 of test set 0.5476137135757285\n",
            "139\n",
            "Mean value of R2 of training set -1.565804432901002\n",
            "Standard deviation of R2 of training set 0.24841821906339623\n",
            "Mean value of R2 of test set -1.5076750815126927\n",
            "Standard deviation of R2 of test set 0.61286339638997\n",
            "140\n",
            "Mean value of R2 of training set -1.0602454441709979\n",
            "Standard deviation of R2 of training set 0.8053247034677713\n",
            "Mean value of R2 of test set -1.4047858881749598\n",
            "Standard deviation of R2 of test set 0.9456496453307699\n",
            "141\n",
            "Mean value of R2 of training set -0.667039735574725\n",
            "Standard deviation of R2 of training set 0.07510502637362518\n",
            "Mean value of R2 of test set -0.8211895036171546\n",
            "Standard deviation of R2 of test set 0.4668758297103854\n",
            "142\n",
            "Mean value of R2 of training set -0.7421438984112814\n",
            "Standard deviation of R2 of training set 0.9203656416524154\n",
            "Mean value of R2 of test set -0.9976260456895361\n",
            "Standard deviation of R2 of test set 0.9157844063606174\n",
            "143\n",
            "Mean value of R2 of training set -1.826636709403247\n",
            "Standard deviation of R2 of training set 0.9910263255294999\n",
            "Mean value of R2 of test set -3.2605888013024686\n",
            "Standard deviation of R2 of test set 2.686484896668537\n",
            "144\n",
            "Mean value of R2 of training set -0.506223850451075\n",
            "Standard deviation of R2 of training set 0.07105351033523265\n",
            "Mean value of R2 of test set -0.8999874094892656\n",
            "Standard deviation of R2 of test set 0.43638061878339857\n",
            "145\n",
            "Mean value of R2 of training set -1.0387834588569815\n",
            "Standard deviation of R2 of training set 0.41411447827115716\n",
            "Mean value of R2 of test set -0.9996933520295195\n",
            "Standard deviation of R2 of test set 0.5949915182594816\n",
            "146\n",
            "Mean value of R2 of training set -0.956590210343102\n",
            "Standard deviation of R2 of training set 0.6442786765856672\n",
            "Mean value of R2 of test set -1.0242353751555349\n",
            "Standard deviation of R2 of test set 0.3125247012984009\n",
            "147\n",
            "Mean value of R2 of training set -0.6805389489657906\n",
            "Standard deviation of R2 of training set 0.4972384916848178\n",
            "Mean value of R2 of test set -0.7435643197159951\n",
            "Standard deviation of R2 of test set 0.41593207547811206\n",
            "148\n",
            "Mean value of R2 of training set -0.6593217845686988\n",
            "Standard deviation of R2 of training set 0.708221831300965\n",
            "Mean value of R2 of test set -1.3755969279074052\n",
            "Standard deviation of R2 of test set 1.0783675092862497\n"
          ],
          "name": "stdout"
        },
        {
          "output_type": "stream",
          "text": [
            "/usr/local/lib/python3.6/dist-packages/sklearn/neural_network/_multilayer_perceptron.py:571: ConvergenceWarning: Stochastic Optimizer: Maximum iterations (500) reached and the optimization hasn't converged yet.\n",
            "  % self.max_iter, ConvergenceWarning)\n"
          ],
          "name": "stderr"
        },
        {
          "output_type": "stream",
          "text": [
            "149\n",
            "Mean value of R2 of training set -0.5656107652946399\n",
            "Standard deviation of R2 of training set 0.6582206638759465\n",
            "Mean value of R2 of test set -0.8453083539708199\n",
            "Standard deviation of R2 of test set 0.6581898169739929\n",
            "150\n",
            "Mean value of R2 of training set -0.9749663619460032\n",
            "Standard deviation of R2 of training set 0.8660873361738289\n",
            "Mean value of R2 of test set -0.8299382371696798\n",
            "Standard deviation of R2 of test set 0.5718233253703601\n",
            "151\n",
            "Mean value of R2 of training set -0.8274065523323344\n",
            "Standard deviation of R2 of training set 0.6171022501964143\n",
            "Mean value of R2 of test set -1.2751820695468357\n",
            "Standard deviation of R2 of test set 0.7211224740314233\n",
            "152\n",
            "Mean value of R2 of training set -0.9497422378963197\n",
            "Standard deviation of R2 of training set 0.24275139883983243\n",
            "Mean value of R2 of test set -1.045091188120236\n",
            "Standard deviation of R2 of test set 0.6539266068241945\n",
            "153\n",
            "Mean value of R2 of training set -0.6807063647663649\n",
            "Standard deviation of R2 of training set 0.9978217452717348\n",
            "Mean value of R2 of test set -0.8370241004767781\n",
            "Standard deviation of R2 of test set 1.0411312420766585\n",
            "154\n",
            "Mean value of R2 of training set -1.4119969563026933\n",
            "Standard deviation of R2 of training set 1.535368891457386\n",
            "Mean value of R2 of test set -0.9713469841313168\n",
            "Standard deviation of R2 of test set 0.5290327316683524\n"
          ],
          "name": "stdout"
        },
        {
          "output_type": "stream",
          "text": [
            "/usr/local/lib/python3.6/dist-packages/sklearn/neural_network/_multilayer_perceptron.py:571: ConvergenceWarning: Stochastic Optimizer: Maximum iterations (500) reached and the optimization hasn't converged yet.\n",
            "  % self.max_iter, ConvergenceWarning)\n"
          ],
          "name": "stderr"
        },
        {
          "output_type": "stream",
          "text": [
            "155\n",
            "Mean value of R2 of training set -0.6545865027501364\n",
            "Standard deviation of R2 of training set 0.7998456582694077\n",
            "Mean value of R2 of test set -0.5848071761047954\n",
            "Standard deviation of R2 of test set 0.6056759292216095\n",
            "156\n",
            "Mean value of R2 of training set -0.9735963182961537\n",
            "Standard deviation of R2 of training set 0.36265136437359813\n",
            "Mean value of R2 of test set -1.1861130979430414\n",
            "Standard deviation of R2 of test set 0.653485531520161\n",
            "157\n",
            "Mean value of R2 of training set -0.8673497799790327\n",
            "Standard deviation of R2 of training set 0.6313390505866188\n",
            "Mean value of R2 of test set -0.6262816439477763\n",
            "Standard deviation of R2 of test set 0.337455943094168\n"
          ],
          "name": "stdout"
        },
        {
          "output_type": "stream",
          "text": [
            "/usr/local/lib/python3.6/dist-packages/sklearn/neural_network/_multilayer_perceptron.py:571: ConvergenceWarning: Stochastic Optimizer: Maximum iterations (500) reached and the optimization hasn't converged yet.\n",
            "  % self.max_iter, ConvergenceWarning)\n",
            "/usr/local/lib/python3.6/dist-packages/sklearn/neural_network/_multilayer_perceptron.py:571: ConvergenceWarning: Stochastic Optimizer: Maximum iterations (500) reached and the optimization hasn't converged yet.\n",
            "  % self.max_iter, ConvergenceWarning)\n"
          ],
          "name": "stderr"
        },
        {
          "output_type": "stream",
          "text": [
            "158\n",
            "Mean value of R2 of training set 0.024383243035565716\n",
            "Standard deviation of R2 of training set 0.49231852462683057\n",
            "Mean value of R2 of test set -0.44965666684853955\n",
            "Standard deviation of R2 of test set 0.5795701270830675\n",
            "159\n",
            "Mean value of R2 of training set -1.1428780139740342\n",
            "Standard deviation of R2 of training set 0.09523907814018649\n",
            "Mean value of R2 of test set -1.523156413104167\n",
            "Standard deviation of R2 of test set 0.41787690217715256\n",
            "160\n",
            "Mean value of R2 of training set -0.6531667258023507\n",
            "Standard deviation of R2 of training set 0.6983928638809148\n",
            "Mean value of R2 of test set -0.6261786648889575\n",
            "Standard deviation of R2 of test set 0.5476930842688942\n",
            "161\n",
            "Mean value of R2 of training set -1.066171918571486\n",
            "Standard deviation of R2 of training set 0.5224713702683087\n",
            "Mean value of R2 of test set -1.09210816419887\n",
            "Standard deviation of R2 of test set 0.21463802630846326\n",
            "162\n",
            "Mean value of R2 of training set -0.44311357232511345\n",
            "Standard deviation of R2 of training set 0.5422085257097319\n",
            "Mean value of R2 of test set -0.6917169386140863\n",
            "Standard deviation of R2 of test set 0.6373119921849897\n",
            "163\n",
            "Mean value of R2 of training set -2.245247041284827\n",
            "Standard deviation of R2 of training set 2.203917428471042\n",
            "Mean value of R2 of test set -4.312551494238625\n",
            "Standard deviation of R2 of test set 4.655199091413115\n",
            "164\n",
            "Mean value of R2 of training set -0.6975294205775652\n",
            "Standard deviation of R2 of training set 0.3605050332659106\n",
            "Mean value of R2 of test set -0.8308041588117386\n",
            "Standard deviation of R2 of test set 0.47777302748447426\n",
            "165\n",
            "Mean value of R2 of training set -0.5061452594952977\n",
            "Standard deviation of R2 of training set 0.10376356150113045\n",
            "Mean value of R2 of test set -0.8746757032298967\n",
            "Standard deviation of R2 of test set 0.4667976874290688\n",
            "166\n",
            "Mean value of R2 of training set -0.8944053368488266\n",
            "Standard deviation of R2 of training set 0.5033759107656683\n",
            "Mean value of R2 of test set -1.2948387389196754\n",
            "Standard deviation of R2 of test set 0.8735908086559007\n",
            "167\n",
            "Mean value of R2 of training set -1.1094390606600075\n",
            "Standard deviation of R2 of training set 1.2476607222095673\n",
            "Mean value of R2 of test set -1.617747832429863\n",
            "Standard deviation of R2 of test set 1.9389772769840898\n"
          ],
          "name": "stdout"
        },
        {
          "output_type": "stream",
          "text": [
            "/usr/local/lib/python3.6/dist-packages/sklearn/neural_network/_multilayer_perceptron.py:571: ConvergenceWarning: Stochastic Optimizer: Maximum iterations (500) reached and the optimization hasn't converged yet.\n",
            "  % self.max_iter, ConvergenceWarning)\n"
          ],
          "name": "stderr"
        },
        {
          "output_type": "stream",
          "text": [
            "168\n",
            "Mean value of R2 of training set -0.388736625736222\n",
            "Standard deviation of R2 of training set 0.45898118728299553\n",
            "Mean value of R2 of test set -0.6580810905077105\n",
            "Standard deviation of R2 of test set 0.5910179849706468\n",
            "169\n",
            "Mean value of R2 of training set -0.951945440293911\n",
            "Standard deviation of R2 of training set 0.3714257682778891\n",
            "Mean value of R2 of test set -1.0158218249085094\n",
            "Standard deviation of R2 of test set 0.6430664081609694\n",
            "170\n",
            "Mean value of R2 of training set -1.5640094422398771\n",
            "Standard deviation of R2 of training set 0.42063853998822864\n",
            "Mean value of R2 of test set -2.140295835194195\n",
            "Standard deviation of R2 of test set 1.0969450309068407\n",
            "171\n",
            "Mean value of R2 of training set -0.9299957786245271\n",
            "Standard deviation of R2 of training set 0.6788984535029634\n",
            "Mean value of R2 of test set -1.012803357534174\n",
            "Standard deviation of R2 of test set 0.8486011881229641\n",
            "172\n",
            "Mean value of R2 of training set -0.4539746326882017\n",
            "Standard deviation of R2 of training set 0.2588069019487548\n",
            "Mean value of R2 of test set -0.6075771926836312\n",
            "Standard deviation of R2 of test set 0.4150268347399811\n",
            "173\n",
            "Mean value of R2 of training set -0.29104603464057704\n",
            "Standard deviation of R2 of training set 0.1577620629758388\n",
            "Mean value of R2 of test set -0.5487731564578957\n",
            "Standard deviation of R2 of test set 0.10683446683595134\n",
            "174\n",
            "Mean value of R2 of training set -1.2542889029382687\n",
            "Standard deviation of R2 of training set 0.06188594882987043\n",
            "Mean value of R2 of test set -1.1059340305287009\n",
            "Standard deviation of R2 of test set 0.5482694159042713\n",
            "175\n",
            "Mean value of R2 of training set -0.5750366991003181\n",
            "Standard deviation of R2 of training set 0.5310813180011154\n",
            "Mean value of R2 of test set -0.7748205366452673\n",
            "Standard deviation of R2 of test set 0.7155261818256108\n",
            "176\n",
            "Mean value of R2 of training set -0.4257341988811487\n",
            "Standard deviation of R2 of training set 0.5771591758322622\n",
            "Mean value of R2 of test set -0.7539869843588267\n",
            "Standard deviation of R2 of test set 0.37932806081581927\n",
            "177\n",
            "Mean value of R2 of training set -0.42481097190350964\n",
            "Standard deviation of R2 of training set 0.29947477782464405\n",
            "Mean value of R2 of test set -0.6787438437215294\n",
            "Standard deviation of R2 of test set 0.5977960362965682\n",
            "178\n",
            "Mean value of R2 of training set -1.1295403253455996\n",
            "Standard deviation of R2 of training set 0.4433413041265056\n",
            "Mean value of R2 of test set -1.2365205714500351\n",
            "Standard deviation of R2 of test set 0.4990263991830566\n",
            "179\n",
            "Mean value of R2 of training set -1.1124893897386894\n",
            "Standard deviation of R2 of training set 0.6899828944161324\n",
            "Mean value of R2 of test set -1.4118605464713756\n",
            "Standard deviation of R2 of test set 0.7054726598294895\n",
            "180\n",
            "Mean value of R2 of training set -1.2814409109318146\n",
            "Standard deviation of R2 of training set 0.8657812826702047\n",
            "Mean value of R2 of test set -1.6814031021074545\n",
            "Standard deviation of R2 of test set 0.8233124233999899\n",
            "181\n",
            "Mean value of R2 of training set -0.7024964748229516\n",
            "Standard deviation of R2 of training set 0.7558725092855344\n",
            "Mean value of R2 of test set -0.7236996781574555\n",
            "Standard deviation of R2 of test set 0.6770510833356336\n",
            "182\n",
            "Mean value of R2 of training set -1.8225360872145193\n",
            "Standard deviation of R2 of training set 1.8829902439342618\n",
            "Mean value of R2 of test set -1.9401408766095531\n",
            "Standard deviation of R2 of test set 1.8800859365234166\n",
            "183\n",
            "Mean value of R2 of training set -0.14360357621942996\n",
            "Standard deviation of R2 of training set 0.26990639655336973\n",
            "Mean value of R2 of test set -0.24463119420458254\n",
            "Standard deviation of R2 of test set 0.0995587546395225\n",
            "184\n",
            "Mean value of R2 of training set -0.7790380498969327\n",
            "Standard deviation of R2 of training set 0.3610902704837885\n",
            "Mean value of R2 of test set -1.1008861974539788\n",
            "Standard deviation of R2 of test set 0.6543851610709503\n",
            "185\n",
            "Mean value of R2 of training set -0.588011393364566\n",
            "Standard deviation of R2 of training set 0.18292194236805862\n",
            "Mean value of R2 of test set -0.5299274465471521\n",
            "Standard deviation of R2 of test set 0.21080843199331006\n",
            "186\n",
            "Mean value of R2 of training set -0.6575987502568732\n",
            "Standard deviation of R2 of training set 0.3131029805285573\n",
            "Mean value of R2 of test set -0.6997021292405253\n",
            "Standard deviation of R2 of test set 0.2812362912327319\n",
            "187\n",
            "Mean value of R2 of training set -0.8554873012547564\n",
            "Standard deviation of R2 of training set 0.45698288913126367\n",
            "Mean value of R2 of test set -1.207221320668164\n",
            "Standard deviation of R2 of test set 0.5438569055393077\n",
            "188\n",
            "Mean value of R2 of training set -0.6771834014638537\n",
            "Standard deviation of R2 of training set 0.2733995227965092\n",
            "Mean value of R2 of test set -0.8677400921058872\n",
            "Standard deviation of R2 of test set 0.7026491109055971\n",
            "189\n",
            "Mean value of R2 of training set -0.9300943456933672\n",
            "Standard deviation of R2 of training set 0.5072827678623169\n",
            "Mean value of R2 of test set -0.899460685671318\n",
            "Standard deviation of R2 of test set 0.44859890757209225\n",
            "190\n",
            "Mean value of R2 of training set -0.5144020375352353\n",
            "Standard deviation of R2 of training set 0.09674801016626657\n",
            "Mean value of R2 of test set -0.5629095139938596\n",
            "Standard deviation of R2 of test set 0.13024585627933938\n",
            "191\n",
            "Mean value of R2 of training set -1.058246244031608\n",
            "Standard deviation of R2 of training set 0.10645682813673028\n",
            "Mean value of R2 of test set -1.3305830957192926\n",
            "Standard deviation of R2 of test set 0.10762658606195682\n",
            "192\n",
            "Mean value of R2 of training set -1.4002606211295525\n",
            "Standard deviation of R2 of training set 0.6024732920350144\n",
            "Mean value of R2 of test set -1.5122681240976463\n",
            "Standard deviation of R2 of test set 1.2710908704940014\n",
            "193\n",
            "Mean value of R2 of training set -1.041060537573996\n",
            "Standard deviation of R2 of training set 0.33375975288029563\n",
            "Mean value of R2 of test set -0.8838571806638136\n",
            "Standard deviation of R2 of test set 0.0583860834257854\n",
            "194\n",
            "Mean value of R2 of training set -0.6578360538499352\n",
            "Standard deviation of R2 of training set 0.24208608005839072\n",
            "Mean value of R2 of test set -0.8155728393120839\n",
            "Standard deviation of R2 of test set 0.5560380245407041\n",
            "195\n",
            "Mean value of R2 of training set -1.015256657658456\n",
            "Standard deviation of R2 of training set 0.4310135022658287\n",
            "Mean value of R2 of test set -1.5780808278503338\n",
            "Standard deviation of R2 of test set 0.26257966398015675\n",
            "196\n",
            "Mean value of R2 of training set -0.930469424530485\n",
            "Standard deviation of R2 of training set 0.40804950295200165\n",
            "Mean value of R2 of test set -1.6268194365313775\n",
            "Standard deviation of R2 of test set 0.8548798673545907\n",
            "197\n",
            "Mean value of R2 of training set -1.258567350654191\n",
            "Standard deviation of R2 of training set 0.712182916347882\n",
            "Mean value of R2 of test set -1.108415095420273\n",
            "Standard deviation of R2 of test set 0.8163366036538998\n",
            "198\n",
            "Mean value of R2 of training set -1.0019456193058276\n",
            "Standard deviation of R2 of training set 0.7792578630419238\n",
            "Mean value of R2 of test set -0.8515161003789852\n",
            "Standard deviation of R2 of test set 0.2147264233020967\n",
            "199\n",
            "Mean value of R2 of training set -0.7181192092787745\n",
            "Standard deviation of R2 of training set 0.5754384674524988\n",
            "Mean value of R2 of test set -0.7149841094596764\n",
            "Standard deviation of R2 of test set 0.2569331867003292\n",
            "200\n",
            "Mean value of R2 of training set -1.14458897498352\n",
            "Standard deviation of R2 of training set 0.16671510174417506\n",
            "Mean value of R2 of test set -1.1684543437318078\n",
            "Standard deviation of R2 of test set 0.2056844219459489\n"
          ],
          "name": "stdout"
        }
      ]
    },
    {
      "cell_type": "code",
      "metadata": {
        "colab": {
          "base_uri": "https://localhost:8080/"
        },
        "id": "q-BWoXuT6QN8",
        "outputId": "fee9f887-b135-402b-aa4f-02d2ebb6100a"
      },
      "source": [
        "# max_iter 参数的最佳取值(100, 1000, 100)\n",
        "\n",
        "for i in range(100, 1000, 100):\n",
        "  #apply multi-layer perceptron to data\n",
        "  from sklearn.neural_network import MLPRegressor\n",
        "  # https://scikit-learn.org/stable/modules/neural_networks_supervised.html\n",
        "  \n",
        "  # TODO: Import 'KFold'\n",
        "  from sklearn.model_selection import KFold\n",
        "  \n",
        "  # TODO Calculate the r2 score between 'y_true' and 'y_predict'\n",
        "  from math import sqrt\n",
        "  from sklearn import metrics\n",
        "  \n",
        "  np.random.seed(seed = 154)\n",
        "  data['random'] = np.random.random(size = len(data))\n",
        "  \n",
        "  # Lets split the data into 3 folds.  \n",
        "  kf =KFold(n_splits=3, shuffle=True)\n",
        "  \n",
        "  cnt = 1\n",
        "  r2_train_all=[]\n",
        "  r2_test_all=[]\n",
        "  \n",
        "  # split()  method generate indices to split data into training and test set.\n",
        "  for train_index, test_index in kf.split(Features, Oil_HHV):\n",
        "    # print(f'Fold:{cnt}, Train set: {len(train_index)}, Test set:{len(test_index)}')\n",
        "    \n",
        "    #fixed by Wenjing\n",
        "    X_train, X_test = Features.iloc[train_index,:],Features.iloc[test_index,:]\n",
        "    y_train, y_test = Oil_HHV.iloc[train_index],Oil_HHV.iloc[test_index]\n",
        "    \n",
        "    #multi-layer perceptron (an example of ANN)\n",
        "    mlpr = MLPRegressor(hidden_layer_sizes=(86,),max_iter=i, \n",
        "                       learning_rate_init=0.001,early_stopping=True)\n",
        "    # Model training\n",
        "    mlpr.fit(X_train,y_train)\n",
        "    \n",
        "    y_train_predict = mlpr.predict(X_train)\n",
        "    y_test_predict = mlpr.predict(X_test)\n",
        "    \n",
        "    r2_train = metrics.r2_score(y_train, y_train_predict)\n",
        "    r2_test = metrics.r2_score(y_test, y_test_predict)\n",
        "\n",
        "    # print(\"Optimal model has R2 score of training set {:,.2f} on training data.\".format(r2_train))\n",
        "    # print(\"Optimal model has R2 score of test set {:,.2f} on test data.\".format(r2_test))\n",
        "    # print(\"\")\n",
        "\n",
        "    cnt += 1\n",
        "    r2_train_all.append(r2_train)\n",
        "    r2_test_all.append(r2_test)\n",
        "  \n",
        "  print(i)\n",
        "  print(\"Mean value of R2 of training set\", np.mean(r2_train_all))\n",
        "  print(\"Standard deviation of R2 of training set\", np.std(r2_train_all))\n",
        "  print(\"Mean value of R2 of test set\", np.mean(r2_test_all))\n",
        "  print(\"Standard deviation of R2 of test set\", np.std(r2_test_all))"
      ],
      "execution_count": 13,
      "outputs": [
        {
          "output_type": "stream",
          "text": [
            "/usr/local/lib/python3.6/dist-packages/sklearn/neural_network/_multilayer_perceptron.py:571: ConvergenceWarning: Stochastic Optimizer: Maximum iterations (100) reached and the optimization hasn't converged yet.\n",
            "  % self.max_iter, ConvergenceWarning)\n",
            "/usr/local/lib/python3.6/dist-packages/sklearn/neural_network/_multilayer_perceptron.py:571: ConvergenceWarning: Stochastic Optimizer: Maximum iterations (100) reached and the optimization hasn't converged yet.\n",
            "  % self.max_iter, ConvergenceWarning)\n"
          ],
          "name": "stderr"
        },
        {
          "output_type": "stream",
          "text": [
            "100\n",
            "Mean value of R2 of training set -0.5865609070806677\n",
            "Standard deviation of R2 of training set 0.09460015719278057\n",
            "Mean value of R2 of test set -0.7175039710644956\n",
            "Standard deviation of R2 of test set 0.46705563281242635\n"
          ],
          "name": "stdout"
        },
        {
          "output_type": "stream",
          "text": [
            "/usr/local/lib/python3.6/dist-packages/sklearn/neural_network/_multilayer_perceptron.py:571: ConvergenceWarning: Stochastic Optimizer: Maximum iterations (200) reached and the optimization hasn't converged yet.\n",
            "  % self.max_iter, ConvergenceWarning)\n",
            "/usr/local/lib/python3.6/dist-packages/sklearn/neural_network/_multilayer_perceptron.py:571: ConvergenceWarning: Stochastic Optimizer: Maximum iterations (200) reached and the optimization hasn't converged yet.\n",
            "  % self.max_iter, ConvergenceWarning)\n"
          ],
          "name": "stderr"
        },
        {
          "output_type": "stream",
          "text": [
            "200\n",
            "Mean value of R2 of training set -0.13086537641835463\n",
            "Standard deviation of R2 of training set 0.16354583970122225\n",
            "Mean value of R2 of test set -0.5104621428820838\n",
            "Standard deviation of R2 of test set 0.5601369114051178\n"
          ],
          "name": "stdout"
        },
        {
          "output_type": "stream",
          "text": [
            "/usr/local/lib/python3.6/dist-packages/sklearn/neural_network/_multilayer_perceptron.py:571: ConvergenceWarning: Stochastic Optimizer: Maximum iterations (300) reached and the optimization hasn't converged yet.\n",
            "  % self.max_iter, ConvergenceWarning)\n"
          ],
          "name": "stderr"
        },
        {
          "output_type": "stream",
          "text": [
            "300\n",
            "Mean value of R2 of training set -0.035915892798813354\n",
            "Standard deviation of R2 of training set 0.31421093326872096\n",
            "Mean value of R2 of test set -0.32667309208254575\n",
            "Standard deviation of R2 of test set 0.07949822476303367\n",
            "400\n",
            "Mean value of R2 of training set 0.08543206846200335\n",
            "Standard deviation of R2 of training set 0.1616657542204\n",
            "Mean value of R2 of test set -0.1452573444568915\n",
            "Standard deviation of R2 of test set 0.1768447478691004\n",
            "500\n",
            "Mean value of R2 of training set 0.08543206846200335\n",
            "Standard deviation of R2 of training set 0.1616657542204\n",
            "Mean value of R2 of test set -0.1452573444568915\n",
            "Standard deviation of R2 of test set 0.1768447478691004\n",
            "600\n",
            "Mean value of R2 of training set 0.08543206846200335\n",
            "Standard deviation of R2 of training set 0.1616657542204\n",
            "Mean value of R2 of test set -0.1452573444568915\n",
            "Standard deviation of R2 of test set 0.1768447478691004\n",
            "700\n",
            "Mean value of R2 of training set 0.08543206846200335\n",
            "Standard deviation of R2 of training set 0.1616657542204\n",
            "Mean value of R2 of test set -0.1452573444568915\n",
            "Standard deviation of R2 of test set 0.1768447478691004\n",
            "800\n",
            "Mean value of R2 of training set 0.08543206846200335\n",
            "Standard deviation of R2 of training set 0.1616657542204\n",
            "Mean value of R2 of test set -0.1452573444568915\n",
            "Standard deviation of R2 of test set 0.1768447478691004\n",
            "900\n",
            "Mean value of R2 of training set 0.08543206846200335\n",
            "Standard deviation of R2 of training set 0.1616657542204\n",
            "Mean value of R2 of test set -0.1452573444568915\n",
            "Standard deviation of R2 of test set 0.1768447478691004\n"
          ],
          "name": "stdout"
        }
      ]
    },
    {
      "cell_type": "code",
      "metadata": {
        "colab": {
          "base_uri": "https://localhost:8080/"
        },
        "id": "xEBc-yEN7S9H",
        "outputId": "bee95c0d-c3c4-4348-fd7b-8c19ca3d1972"
      },
      "source": [
        "# learning_rate_init 参数的最佳取值(0.0005, 0.002, 0.0001)\n",
        "\n",
        "for i in range(5, 20, 1):\n",
        "  #apply multi-layer perceptron to data\n",
        "  from sklearn.neural_network import MLPRegressor\n",
        "  # https://scikit-learn.org/stable/modules/neural_networks_supervised.html\n",
        "  \n",
        "  # TODO: Import 'KFold'\n",
        "  from sklearn.model_selection import KFold\n",
        "  \n",
        "  # TODO Calculate the r2 score between 'y_true' and 'y_predict'\n",
        "  from math import sqrt\n",
        "  from sklearn import metrics\n",
        "  \n",
        "  np.random.seed(seed = 154)\n",
        "  data['random'] = np.random.random(size = len(data))\n",
        "  \n",
        "  # Lets split the data into 3 folds.  \n",
        "  kf =KFold(n_splits=3, shuffle=True)\n",
        "  \n",
        "  cnt = 1\n",
        "  r2_train_all=[]\n",
        "  r2_test_all=[]\n",
        "  \n",
        "  # split()  method generate indices to split data into training and test set.\n",
        "  for train_index, test_index in kf.split(Features, Oil_HHV):\n",
        "    # print(f'Fold:{cnt}, Train set: {len(train_index)}, Test set:{len(test_index)}')\n",
        "    \n",
        "    #fixed by Wenjing\n",
        "    X_train, X_test = Features.iloc[train_index,:],Features.iloc[test_index,:]\n",
        "    y_train, y_test = Oil_HHV.iloc[train_index],Oil_HHV.iloc[test_index]\n",
        "    \n",
        "    #multi-layer perceptron (an example of ANN)\n",
        "    mlpr = MLPRegressor(hidden_layer_sizes=(86,),max_iter=400, \n",
        "                       learning_rate_init=i/10000,early_stopping=True)\n",
        "    # Model training\n",
        "    mlpr.fit(X_train,y_train)\n",
        "    \n",
        "    y_train_predict = mlpr.predict(X_train)\n",
        "    y_test_predict = mlpr.predict(X_test)\n",
        "    \n",
        "    r2_train = metrics.r2_score(y_train, y_train_predict)\n",
        "    r2_test = metrics.r2_score(y_test, y_test_predict)\n",
        "\n",
        "    # print(\"Optimal model has R2 score of training set {:,.2f} on training data.\".format(r2_train))\n",
        "    # print(\"Optimal model has R2 score of test set {:,.2f} on test data.\".format(r2_test))\n",
        "    # print(\"\")\n",
        "\n",
        "    cnt += 1\n",
        "    r2_train_all.append(r2_train)\n",
        "    r2_test_all.append(r2_test)\n",
        "  \n",
        "  print(i/10000)\n",
        "  print(\"Mean value of R2 of training set\", np.mean(r2_train_all))\n",
        "  print(\"Standard deviation of R2 of training set\", np.std(r2_train_all))\n",
        "  print(\"Mean value of R2 of test set\", np.mean(r2_test_all))\n",
        "  print(\"Standard deviation of R2 of test set\", np.std(r2_test_all))"
      ],
      "execution_count": 14,
      "outputs": [
        {
          "output_type": "stream",
          "text": [
            "0.0005\n",
            "Mean value of R2 of training set -0.2236016161919\n",
            "Standard deviation of R2 of training set 0.22563626953371024\n",
            "Mean value of R2 of test set -0.6156359031448965\n",
            "Standard deviation of R2 of test set 0.2067597225517849\n"
          ],
          "name": "stdout"
        },
        {
          "output_type": "stream",
          "text": [
            "/usr/local/lib/python3.6/dist-packages/sklearn/neural_network/_multilayer_perceptron.py:571: ConvergenceWarning: Stochastic Optimizer: Maximum iterations (400) reached and the optimization hasn't converged yet.\n",
            "  % self.max_iter, ConvergenceWarning)\n"
          ],
          "name": "stderr"
        },
        {
          "output_type": "stream",
          "text": [
            "0.0006\n",
            "Mean value of R2 of training set -0.015066869529800705\n",
            "Standard deviation of R2 of training set 0.15015168497720985\n",
            "Mean value of R2 of test set -0.234272643670035\n",
            "Standard deviation of R2 of test set 0.09085838002544713\n",
            "0.0007\n",
            "Mean value of R2 of training set -0.16061891615929866\n",
            "Standard deviation of R2 of training set 0.3047284211910975\n",
            "Mean value of R2 of test set -0.5450898900690987\n",
            "Standard deviation of R2 of test set 0.25290916091143656\n"
          ],
          "name": "stdout"
        },
        {
          "output_type": "stream",
          "text": [
            "/usr/local/lib/python3.6/dist-packages/sklearn/neural_network/_multilayer_perceptron.py:571: ConvergenceWarning: Stochastic Optimizer: Maximum iterations (400) reached and the optimization hasn't converged yet.\n",
            "  % self.max_iter, ConvergenceWarning)\n"
          ],
          "name": "stderr"
        },
        {
          "output_type": "stream",
          "text": [
            "0.0008\n",
            "Mean value of R2 of training set 0.07770332544385783\n",
            "Standard deviation of R2 of training set 0.16009101253120037\n",
            "Mean value of R2 of test set -0.2199581856856551\n",
            "Standard deviation of R2 of test set 0.06517305621464292\n",
            "0.0009\n",
            "Mean value of R2 of training set -0.08997345583315235\n",
            "Standard deviation of R2 of training set 0.2707918623130264\n",
            "Mean value of R2 of test set -0.4060143986788187\n",
            "Standard deviation of R2 of test set 0.08843838854483013\n",
            "0.001\n",
            "Mean value of R2 of training set 0.08543206846200335\n",
            "Standard deviation of R2 of training set 0.1616657542204\n",
            "Mean value of R2 of test set -0.1452573444568915\n",
            "Standard deviation of R2 of test set 0.1768447478691004\n",
            "0.0011\n",
            "Mean value of R2 of training set -0.660960777111705\n",
            "Standard deviation of R2 of training set 0.5224899196990536\n",
            "Mean value of R2 of test set -1.1299280411829804\n",
            "Standard deviation of R2 of test set 0.8441949631871154\n",
            "0.0012\n",
            "Mean value of R2 of training set -0.307844116392398\n",
            "Standard deviation of R2 of training set 0.3655037761883748\n",
            "Mean value of R2 of test set -0.6012044936575565\n",
            "Standard deviation of R2 of test set 0.5394367818820973\n",
            "0.0013\n",
            "Mean value of R2 of training set -0.13177327422181884\n",
            "Standard deviation of R2 of training set 0.3385444089927859\n",
            "Mean value of R2 of test set -0.27337435228791346\n",
            "Standard deviation of R2 of test set 0.0738618499022794\n"
          ],
          "name": "stdout"
        },
        {
          "output_type": "stream",
          "text": [
            "/usr/local/lib/python3.6/dist-packages/sklearn/neural_network/_multilayer_perceptron.py:571: ConvergenceWarning: Stochastic Optimizer: Maximum iterations (400) reached and the optimization hasn't converged yet.\n",
            "  % self.max_iter, ConvergenceWarning)\n"
          ],
          "name": "stderr"
        },
        {
          "output_type": "stream",
          "text": [
            "0.0014\n",
            "Mean value of R2 of training set 0.043748290056031834\n",
            "Standard deviation of R2 of training set 0.1820887898559894\n",
            "Mean value of R2 of test set -0.20776506449203005\n",
            "Standard deviation of R2 of test set 0.14207721893899872\n",
            "0.0015\n",
            "Mean value of R2 of training set -0.9012711268113099\n",
            "Standard deviation of R2 of training set 0.9448328945099796\n",
            "Mean value of R2 of test set -1.602528343865047\n",
            "Standard deviation of R2 of test set 1.1922108668266627\n",
            "0.0016\n",
            "Mean value of R2 of training set -1.4767355413899022\n",
            "Standard deviation of R2 of training set 0.9356942251159683\n",
            "Mean value of R2 of test set -1.5101803860711158\n",
            "Standard deviation of R2 of test set 0.7469918752098538\n",
            "0.0017\n",
            "Mean value of R2 of training set -2.059216068849295\n",
            "Standard deviation of R2 of training set 0.7119120289872317\n",
            "Mean value of R2 of test set -2.8888336268724877\n",
            "Standard deviation of R2 of test set 1.3669028978688713\n",
            "0.0018\n",
            "Mean value of R2 of training set -1.0375192265366877\n",
            "Standard deviation of R2 of training set 1.3757122061642504\n",
            "Mean value of R2 of test set -0.8670164182878636\n",
            "Standard deviation of R2 of test set 0.7536850554726315\n",
            "0.0019\n",
            "Mean value of R2 of training set -1.4352432909489836\n",
            "Standard deviation of R2 of training set 1.302456826418986\n",
            "Mean value of R2 of test set -1.678350939276059\n",
            "Standard deviation of R2 of test set 1.0885525451298927\n"
          ],
          "name": "stdout"
        }
      ]
    },
    {
      "cell_type": "code",
      "metadata": {
        "colab": {
          "base_uri": "https://localhost:8080/"
        },
        "id": "o47aodgS8EhS",
        "outputId": "a4303248-62ae-48bd-ed0c-dbab1441b39e"
      },
      "source": [
        "#apply multi-layer perceptron to data\n",
        "from sklearn.neural_network import MLPRegressor\n",
        "# https://scikit-learn.org/stable/modules/neural_networks_supervised.html\n",
        "\n",
        "# TODO: Import 'KFold'\n",
        "from sklearn.model_selection import KFold\n",
        "\n",
        "# TODO Calculate the r2 score between 'y_true' and 'y_predict'\n",
        "from math import sqrt\n",
        "from sklearn import metrics\n",
        "\n",
        "np.random.seed(seed = 154)\n",
        "data['random'] = np.random.random(size = len(data))\n",
        "\n",
        "\n",
        "# Lets split the data into 3 folds.  \n",
        "kf =KFold(n_splits=3, shuffle=True)\n",
        "\n",
        "cnt = 1\n",
        "\n",
        "MAE_train_all=[]\n",
        "MAE_test_all=[]\n",
        "y_train_rmse_all=[]\n",
        "y_test_rmse_all=[]\n",
        "r2_train_all=[]\n",
        "r2_test_all=[]\n",
        "MRE_train_all=[]\n",
        "MRE_test_all=[]\n",
        "y_test_list=[]\n",
        "y_pred_list=[]\n",
        "\n",
        "# split()  method generate indices to split data into training and test set.\n",
        "for train_index, test_index in kf.split(Features, Oil_HHV):\n",
        "    # print(f'Fold:{cnt}, Train set: {len(train_index)}, Test set:{len(test_index)}')\n",
        "    \n",
        "    #fixed by Wenjing\n",
        "    X_train, X_test = Features.iloc[train_index,:],Features.iloc[test_index,:]\n",
        "    y_train, y_test = Oil_HHV.iloc[train_index],Oil_HHV.iloc[test_index]\n",
        "    \n",
        "    #multi-layer perceptron (an example of ANN)\n",
        "    mlpr = MLPRegressor(hidden_layer_sizes=(86,),max_iter=400, \n",
        "                       learning_rate_init=0.001,early_stopping=True)\n",
        "    # Model training\n",
        "    mlpr.fit(X_train,y_train)\n",
        "\n",
        "    # Predict training set and test set\n",
        "    y_train_predict = mlpr.predict(X_train)\n",
        "    y_test_predict = mlpr.predict(X_test)\n",
        "\n",
        "    MAE_train = metrics.mean_absolute_error(y_train, y_train_predict)\n",
        "    MAE_test = metrics.mean_absolute_error(y_test, y_test_predict)\n",
        "\n",
        "    y_train_rmse = sqrt(metrics.mean_squared_error(y_train, y_train_predict))\n",
        "    y_test_rmse = sqrt(metrics.mean_squared_error(y_test, y_test_predict))\n",
        "\n",
        "    r2_train = metrics.r2_score(y_train, y_train_predict)\n",
        "    r2_test = metrics.r2_score(y_test, y_test_predict)\n",
        "\n",
        "    MRE_train = performance_metric(y_train, y_train_predict)\n",
        "    MRE_test = performance_metric(y_test, y_test_predict)\n",
        "\n",
        "    # print(\"Optimal model has MAE of training set:\", MAE_train)\n",
        "    # print(\"Optimal model has MAE of test set:\", MAE_test)\n",
        "    # print(\"Optimal model has RMSE of training set:\", y_train_rmse)\n",
        "    # print(\"Optimal model has RMSE of test set:\", y_test_rmse)\n",
        "    # print(\"Optimal model has R2 score of training set {:,.2f} on training data.\".format(r2_train))\n",
        "    # print(\"Optimal model has R2 score of test set {:,.2f} on test data.\".format(r2_test))\n",
        "    # print(\"Optimal model has MRE of training set:\", MRE_train)\n",
        "    # print(\"Optimal model has MRE of test set:\", MRE_test)\n",
        "    # print(\"\")\n",
        "\n",
        "    cnt += 1\n",
        "\n",
        "    MAE_train_all.append(MAE_train)\n",
        "    MAE_test_all.append(MAE_test)\n",
        "    y_train_rmse_all.append(y_train_rmse)\n",
        "    y_test_rmse_all.append(y_test_rmse)\n",
        "    r2_train_all.append(r2_train)\n",
        "    r2_test_all.append(r2_test)\n",
        "    MRE_train_all.append(MRE_train)\n",
        "    MRE_test_all.append(MRE_test)\n",
        "    y_test_list.append(y_test.values)\n",
        "    y_pred_list.append(y_test_predict)\n",
        "\n",
        "y_test_all=np.concatenate(y_test_list, axis=0)\n",
        "y_pred_all=np.concatenate(y_pred_list, axis=0)\n",
        "\n",
        "print(\"Mean value of MAE of training set\", np.mean(MAE_train_all))\n",
        "print(\"Standard deviation of MAE of training set\", np.std(MAE_train_all))\n",
        "print(\"Mean value of MAE of test set\", np.mean(MAE_test_all))\n",
        "print(\"Standard deviation of MAE of test set\", np.std(MAE_test_all))\n",
        "print(\"\")\n",
        "print(\"Mean value of RMSE of training set\", np.mean(y_train_rmse_all))\n",
        "print(\"Standard deviation of RMSE of training set\", np.std(y_train_rmse_all))\n",
        "print(\"Mean value of RMSE of test set\", np.mean(y_test_rmse_all))\n",
        "print(\"Standard deviation of RMSE of test set\", np.std(y_test_rmse_all))\n",
        "print(\"\")\n",
        "print(\"Mean value of R2 of training set\", np.mean(r2_train_all))\n",
        "print(\"Standard deviation of R2 of training set\", np.std(r2_train_all))\n",
        "print(\"Mean value of R2 of test set\", np.mean(r2_test_all))\n",
        "print(\"Standard deviation of R2 of test set\", np.std(r2_test_all))\n",
        "print(\"\")\n",
        "print(\"Mean value of MRE of training set\", np.mean(MRE_train_all))\n",
        "print(\"Standard deviation of MRE of training set\", np.std(MRE_train_all))\n",
        "print(\"Mean value of MRE of test set\", np.mean(MRE_test_all))\n",
        "print(\"Standard deviation of MRE of test set\", np.std(MRE_test_all))\n",
        "\n",
        "#print(len(np.concatenate(y_test_list, axis=0)))\n",
        "#print(len(np.concatenate(y_pred_list, axis=0)))"
      ],
      "execution_count": 15,
      "outputs": [
        {
          "output_type": "stream",
          "text": [
            "Mean value of MAE of training set 3.451953452805652\n",
            "Standard deviation of MAE of training set 0.3261497103166052\n",
            "Mean value of MAE of test set 4.1173946738682075\n",
            "Standard deviation of MAE of test set 0.6609655731773919\n",
            "\n",
            "Mean value of RMSE of training set 4.841122158524278\n",
            "Standard deviation of RMSE of training set 0.5597064408640585\n",
            "Mean value of RMSE of test set 5.4115095251544645\n",
            "Standard deviation of RMSE of test set 0.8789251768817993\n",
            "\n",
            "Mean value of R2 of training set 0.08543206846200335\n",
            "Standard deviation of R2 of training set 0.1616657542204\n",
            "Mean value of R2 of test set -0.1452573444568915\n",
            "Standard deviation of R2 of test set 0.1768447478691004\n",
            "\n",
            "Mean value of MRE of training set 0.10398134629888361\n",
            "Standard deviation of MRE of training set 0.01058538852000345\n",
            "Mean value of MRE of test set 0.12427037718111343\n",
            "Standard deviation of MRE of test set 0.02184075077252455\n"
          ],
          "name": "stdout"
        }
      ]
    },
    {
      "cell_type": "code",
      "metadata": {
        "colab": {
          "base_uri": "https://localhost:8080/",
          "height": 311
        },
        "id": "_sa7g9CN8TDd",
        "outputId": "3ee01bc0-bfaa-4b99-8d51-de2236f7849b"
      },
      "source": [
        "import matplotlib.pyplot as py\n",
        "py.plot(y_test_all, y_pred_all, 'bo')\n",
        "py.ylim(0, 49)\n",
        "py.xlabel('y_true')\n",
        "py.ylabel('y_pred')\n",
        "py.title('y_pred vs. y_true')"
      ],
      "execution_count": 16,
      "outputs": [
        {
          "output_type": "execute_result",
          "data": {
            "text/plain": [
              "Text(0.5, 1.0, 'y_pred vs. y_true')"
            ]
          },
          "metadata": {
            "tags": []
          },
          "execution_count": 16
        },
        {
          "output_type": "display_data",
          "data": {
            "image/png": "[encoded data removed]",
            "text/plain": [
              "<Figure size 432x288 with 1 Axes>"
            ]
          },
          "metadata": {
            "tags": [],
            "image/png": {
              "width": 383,
              "height": 277
            },
            "needs_background": "light"
          }
        }
      ]
    },
    {
      "cell_type": "code",
      "metadata": {
        "id": "qICUPbfB8XXi"
      },
      "source": [
        "Parity={'Predict Data':y_pred_all,'Test Data':y_test_all}\n",
        "df = pd.DataFrame(Parity, columns= ['Predict Data', 'Test Data'])\n",
        "df.to_csv (r'/content/export_dataframe_HHV_ANN_Opt.csv', index = False, header=True)"
      ],
      "execution_count": null,
      "outputs": []
    }
  ]
}