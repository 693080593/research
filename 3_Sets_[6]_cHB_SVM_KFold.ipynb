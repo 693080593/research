{
  "nbformat": 4,
  "nbformat_minor": 0,
  "metadata": {
    "colab": {
      "name": "3-Sets [6]_cHB_SVM_KFold.ipynb",
      "provenance": [],
      "authorship_tag": "ABX9TyNs8r5EigCGWJanAcFNrT99",
      "include_colab_link": true
    },
    "kernelspec": {
      "name": "python3",
      "display_name": "Python 3"
    }
  },
  "cells": [
    {
      "cell_type": "markdown",
      "metadata": {
        "id": "view-in-github",
        "colab_type": "text"
      },
      "source": [
        "<a href=\"https://colab.research.google.com/github/693080593/research/blob/master/3_Sets_%5B6%5D_cHB_SVM_KFold.ipynb\" target=\"_parent\"><img src=\"https://colab.research.google.com/assets/colab-badge.svg\" alt=\"Open In Colab\"/></a>"
      ]
    },
    {
      "cell_type": "code",
      "metadata": {
        "id": "evBJ1jDFzAPW",
        "colab": {
          "base_uri": "https://localhost:8080/",
          "height": 315
        },
        "outputId": "4c05ac1f-a590-4896-af11-2f7ac6a71c80"
      },
      "source": [
        "# Import libraries necessary for this project\n",
        "import numpy as np\n",
        "import pandas as pd\n",
        "\n",
        "# Import supplementary visualizations code visuals.py\n",
        "import visuals as vs\n",
        "\n",
        "\n",
        "# Pretty display for notebooks\n",
        "%matplotlib inline\n",
        "\n",
        "# Load the dataset\n",
        "data = pd.read_csv('/content/Feed Effect on Biocrude Yield Data ML 080620.csv')\n",
        "Original_Oil_Yields = data['Bio-crude Oil Yield']\n",
        "Original_Features = data.drop('Bio-crude Oil Yield', axis = 1)\n",
        "\n",
        "# Success\n",
        "print (\"Bio-crude dataset has {} data points with {} variables each.\".format(*data.shape))\n",
        "data.shape\n",
        "\n",
        "data[:240:30]\n"
      ],
      "execution_count": 2,
      "outputs": [
        {
          "output_type": "stream",
          "text": [
            "Bio-crude dataset has 225 data points with 8 variables each.\n"
          ],
          "name": "stdout"
        },
        {
          "output_type": "execute_result",
          "data": {
            "text/html": [
              "<div>\n",
              "<style scoped>\n",
              "    .dataframe tbody tr th:only-of-type {\n",
              "        vertical-align: middle;\n",
              "    }\n",
              "\n",
              "    .dataframe tbody tr th {\n",
              "        vertical-align: top;\n",
              "    }\n",
              "\n",
              "    .dataframe thead th {\n",
              "        text-align: right;\n",
              "    }\n",
              "</style>\n",
              "<table border=\"1\" class=\"dataframe\">\n",
              "  <thead>\n",
              "    <tr style=\"text-align: right;\">\n",
              "      <th></th>\n",
              "      <th>Lipid</th>\n",
              "      <th>Protein</th>\n",
              "      <th>Cellulose</th>\n",
              "      <th>Hemicellulose</th>\n",
              "      <th>Carbohydrate</th>\n",
              "      <th>Lignin</th>\n",
              "      <th>Ash</th>\n",
              "      <th>Bio-crude Oil Yield</th>\n",
              "    </tr>\n",
              "  </thead>\n",
              "  <tbody>\n",
              "    <tr>\n",
              "      <th>0</th>\n",
              "      <td>100.0</td>\n",
              "      <td>0.0</td>\n",
              "      <td>0.0</td>\n",
              "      <td>0.0</td>\n",
              "      <td>0.0</td>\n",
              "      <td>0.0</td>\n",
              "      <td>0.0</td>\n",
              "      <td>85.50</td>\n",
              "    </tr>\n",
              "    <tr>\n",
              "      <th>30</th>\n",
              "      <td>30.9</td>\n",
              "      <td>27.3</td>\n",
              "      <td>0.0</td>\n",
              "      <td>0.0</td>\n",
              "      <td>32.7</td>\n",
              "      <td>0.0</td>\n",
              "      <td>9.1</td>\n",
              "      <td>41.00</td>\n",
              "    </tr>\n",
              "    <tr>\n",
              "      <th>60</th>\n",
              "      <td>13.3</td>\n",
              "      <td>25.5</td>\n",
              "      <td>0.0</td>\n",
              "      <td>0.0</td>\n",
              "      <td>38.7</td>\n",
              "      <td>0.0</td>\n",
              "      <td>0.0</td>\n",
              "      <td>27.10</td>\n",
              "    </tr>\n",
              "    <tr>\n",
              "      <th>90</th>\n",
              "      <td>6.5</td>\n",
              "      <td>65.2</td>\n",
              "      <td>0.0</td>\n",
              "      <td>0.0</td>\n",
              "      <td>20.7</td>\n",
              "      <td>0.0</td>\n",
              "      <td>8.0</td>\n",
              "      <td>38.00</td>\n",
              "    </tr>\n",
              "    <tr>\n",
              "      <th>120</th>\n",
              "      <td>1.9</td>\n",
              "      <td>23.4</td>\n",
              "      <td>66.4</td>\n",
              "      <td>0.0</td>\n",
              "      <td>8.0</td>\n",
              "      <td>0.0</td>\n",
              "      <td>0.0</td>\n",
              "      <td>23.60</td>\n",
              "    </tr>\n",
              "    <tr>\n",
              "      <th>150</th>\n",
              "      <td>0.0</td>\n",
              "      <td>0.0</td>\n",
              "      <td>0.0</td>\n",
              "      <td>0.0</td>\n",
              "      <td>100.0</td>\n",
              "      <td>0.0</td>\n",
              "      <td>0.0</td>\n",
              "      <td>1.30</td>\n",
              "    </tr>\n",
              "    <tr>\n",
              "      <th>180</th>\n",
              "      <td>0.0</td>\n",
              "      <td>0.0</td>\n",
              "      <td>39.2</td>\n",
              "      <td>35.1</td>\n",
              "      <td>0.0</td>\n",
              "      <td>20.2</td>\n",
              "      <td>0.0</td>\n",
              "      <td>26.98</td>\n",
              "    </tr>\n",
              "    <tr>\n",
              "      <th>210</th>\n",
              "      <td>0.0</td>\n",
              "      <td>0.0</td>\n",
              "      <td>0.0</td>\n",
              "      <td>100.0</td>\n",
              "      <td>0.0</td>\n",
              "      <td>0.0</td>\n",
              "      <td>0.0</td>\n",
              "      <td>6.50</td>\n",
              "    </tr>\n",
              "  </tbody>\n",
              "</table>\n",
              "</div>"
            ],
            "text/plain": [
              "     Lipid  Protein  Cellulose  ...  Lignin  Ash  Bio-crude Oil Yield\n",
              "0    100.0      0.0        0.0  ...     0.0  0.0                85.50\n",
              "30    30.9     27.3        0.0  ...     0.0  9.1                41.00\n",
              "60    13.3     25.5        0.0  ...     0.0  0.0                27.10\n",
              "90     6.5     65.2        0.0  ...     0.0  8.0                38.00\n",
              "120    1.9     23.4       66.4  ...     0.0  0.0                23.60\n",
              "150    0.0      0.0        0.0  ...     0.0  0.0                 1.30\n",
              "180    0.0      0.0       39.2  ...    20.2  0.0                26.98\n",
              "210    0.0      0.0        0.0  ...     0.0  0.0                 6.50\n",
              "\n",
              "[8 rows x 8 columns]"
            ]
          },
          "metadata": {
            "tags": []
          },
          "execution_count": 2
        }
      ]
    },
    {
      "cell_type": "code",
      "metadata": {
        "id": "7BH3XQcV0Mzl"
      },
      "source": [
        "import numpy as np\n",
        "# The mean relative error (MRE) is commonly used to measure the predictive accuracy of models.\n",
        "\n",
        "def performance_metric(y_true, y_predict):\n",
        "  \"\"\"Calculates and returns the performance score between \n",
        "        true and predicted values based on the metric chosen.\"\"\"\n",
        "  # TODO: Calculate the performance score between 'y_true' and 'y_predict'\n",
        "\n",
        "  return np.mean(np.abs(y_true-y_predict))/np.mean(y_true)"
      ],
      "execution_count": 3,
      "outputs": []
    },
    {
      "cell_type": "code",
      "metadata": {
        "id": "GYSgXp14zlgh",
        "colab": {
          "base_uri": "https://localhost:8080/"
        },
        "outputId": "8733a717-288e-4d55-8969-bcc2f12c81ef"
      },
      "source": [
        "# TODO: Import 'SVM'\n",
        "from sklearn.svm import SVR\n",
        "\n",
        "# TODO: Import 'KFold'\n",
        "from sklearn.model_selection import KFold\n",
        "from sklearn.model_selection import train_test_split\n",
        "\n",
        "# TODO Calculate the r2 score between 'y_true' and 'y_predict'\n",
        "from math import sqrt\n",
        "from sklearn import metrics\n",
        "\n",
        "np.random.seed(seed = 69)\n",
        "data['random'] = np.random.random(size = len(data))\n",
        "\n",
        "# TODO: Shuffle and split the data into training and testing subsets\n",
        "Features, X_valid, Oil_Yields, y_valid = train_test_split(Original_Features, Original_Oil_Yields,test_size = 0.11)\n",
        "\n",
        "# Lets split the data into 5 folds.  \n",
        "kf =KFold(n_splits=5, shuffle=True)\n",
        "\n",
        "cnt = 1\n",
        "\n",
        "MAE_train_all=[]\n",
        "MAE_test_all=[]\n",
        "y_train_rmse_all=[]\n",
        "y_test_rmse_all=[]\n",
        "r2_train_all=[]\n",
        "r2_test_all=[]\n",
        "MRE_train_all=[]\n",
        "MRE_test_all=[]\n",
        "y_test_list=[]\n",
        "y_pred_list=[]\n",
        "\n",
        "# split()  method generate indices to split data into training and test set.\n",
        "for train_index, test_index in kf.split(Features, Oil_Yields):\n",
        "    # print(f'Fold:{cnt}, Train set: {len(train_index)}, Test set:{len(test_index)}')\n",
        "    \n",
        "    #fixed by Wenjing\n",
        "    X_train, X_test = Features.iloc[train_index,:],Features.iloc[test_index,:]\n",
        "    y_train, y_test = Oil_Yields.iloc[train_index],Oil_Yields.iloc[test_index]\n",
        "    \n",
        "    svr = SVR(kernel='linear', C=100, gamma='auto')\n",
        "    svr.fit(X_train, y_train)\n",
        "    \n",
        "    y_train_predict = svr.predict(X_train)\n",
        "    y_test_predict = svr.predict(X_test)\n",
        "    \n",
        "    MAE_train = metrics.mean_absolute_error(y_train, y_train_predict)\n",
        "    MAE_test = metrics.mean_absolute_error(y_test, y_test_predict)\n",
        "\n",
        "    y_train_rmse = sqrt(metrics.mean_squared_error(y_train, y_train_predict))\n",
        "    y_test_rmse = sqrt(metrics.mean_squared_error(y_test, y_test_predict))\n",
        "\n",
        "    r2_train = metrics.r2_score(y_train, y_train_predict)\n",
        "    r2_test = metrics.r2_score(y_test, y_test_predict)\n",
        "\n",
        "    MRE_train = performance_metric(y_train, y_train_predict)\n",
        "    MRE_test = performance_metric(y_test, y_test_predict)\n",
        "\n",
        "    # print(\"Optimal model has MAE of training set:\", MAE_train)\n",
        "    # print(\"Optimal model has MAE of test set:\", MAE_test)\n",
        "    # print(\"Optimal model has RMSE of training set:\", y_train_rmse)\n",
        "    # print(\"Optimal model has RMSE of test set:\", y_test_rmse)\n",
        "    # print(\"Optimal model has R2 score of training set {:,.2f} on training data.\".format(r2_train))\n",
        "    # print(\"Optimal model has R2 score of test set {:,.2f} on test data.\".format(r2_test))\n",
        "    # print(\"Optimal model has MRE of training set:\", MRE_train)\n",
        "    # print(\"Optimal model has MRE of test set:\", MRE_test)\n",
        "    # print(\"\")\n",
        "\n",
        "    cnt += 1\n",
        "\n",
        "    MAE_train_all.append(MAE_train)\n",
        "    MAE_test_all.append(MAE_test)\n",
        "    y_train_rmse_all.append(y_train_rmse)\n",
        "    y_test_rmse_all.append(y_test_rmse)\n",
        "    r2_train_all.append(r2_train)\n",
        "    r2_test_all.append(r2_test)\n",
        "    MRE_train_all.append(MRE_train)\n",
        "    MRE_test_all.append(MRE_test)\n",
        "    y_test_list.append(y_test.values)\n",
        "    y_pred_list.append(y_test_predict)\n",
        "\n",
        "y_test_all=np.concatenate(y_test_list, axis=0)\n",
        "y_pred_all=np.concatenate(y_pred_list, axis=0)\n",
        "\n",
        "print(\"Mean value of MAE of training set\", np.mean(MAE_train_all))\n",
        "print(\"Standard deviation of MAE of training set\", np.std(MAE_train_all))\n",
        "print(\"Mean value of MAE of test set\", np.mean(MAE_test_all))\n",
        "print(\"Standard deviation of MAE of test set\", np.std(MAE_test_all))\n",
        "print(\"\")\n",
        "print(\"Mean value of RMSE of training set\", np.mean(y_train_rmse_all))\n",
        "print(\"Standard deviation of RMSE of training set\", np.std(y_train_rmse_all))\n",
        "print(\"Mean value of RMSE of test set\", np.mean(y_test_rmse_all))\n",
        "print(\"Standard deviation of RMSE of test set\", np.std(y_test_rmse_all))\n",
        "print(\"\")\n",
        "print(\"Mean value of R2 of training set\", np.mean(r2_train_all))\n",
        "print(\"Standard deviation of R2 of training set\", np.std(r2_train_all))\n",
        "print(\"Mean value of R2 of test set\", np.mean(r2_test_all))\n",
        "print(\"Standard deviation of R2 of test set\", np.std(r2_test_all))\n",
        "print(\"\")\n",
        "print(\"Mean value of MRE of training set\", np.mean(MRE_train_all))\n",
        "print(\"Standard deviation of MRE of training set\", np.std(MRE_train_all))\n",
        "print(\"Mean value of MRE of test set\", np.mean(MRE_test_all))\n",
        "print(\"Standard deviation of MRE of test set\", np.std(MRE_test_all))\n",
        "\n",
        "# print(len(np.concatenate(y_test_list, axis=0)))\n",
        "# print(len(np.concatenate(y_pred_list, axis=0)))\n",
        "\n",
        "print(\"\")\n",
        "# Predict validation set\n",
        "y_valid_predict = svr.predict(X_valid)\n",
        "\n",
        "MAE_valid = metrics.mean_absolute_error(y_valid, y_valid_predict)\n",
        "y_valid_rmse = sqrt(metrics.mean_squared_error(y_valid, y_valid_predict))\n",
        "r2_valid = metrics.r2_score(y_valid, y_valid_predict)\n",
        "MRE_valid = performance_metric(y_valid, y_valid_predict)\n",
        "\n",
        "print(\"Optimal model has MAE of valid set:\", MAE_valid)\n",
        "print(\"Optimal model has RMSE of valid set:\", y_valid_rmse)\n",
        "print(\"Optimal model has R2 score of valid set\", r2_valid)\n",
        "print(\"Optimal model has MRE of valid set:\", MRE_valid)"
      ],
      "execution_count": 4,
      "outputs": [
        {
          "output_type": "stream",
          "text": [
            "Mean value of MAE of training set 6.519426223098333\n",
            "Standard deviation of MAE of training set 0.1517617051770887\n",
            "Mean value of MAE of test set 6.975999810706202\n",
            "Standard deviation of MAE of test set 0.6534350227286804\n",
            "\n",
            "Mean value of RMSE of training set 8.739780423998903\n",
            "Standard deviation of RMSE of training set 0.10774068356275825\n",
            "Mean value of RMSE of test set 9.081769849903523\n",
            "Standard deviation of RMSE of test set 0.5135007531316961\n",
            "\n",
            "Mean value of R2 of training set 0.7369795582713701\n",
            "Standard deviation of R2 of training set 0.025996872030717596\n",
            "Mean value of R2 of test set 0.6767376690637289\n",
            "Standard deviation of R2 of test set 0.10173467287013445\n",
            "\n",
            "Mean value of MRE of training set 0.2362072360056131\n",
            "Standard deviation of MRE of training set 0.003616761746910519\n",
            "Mean value of MRE of test set 0.252462880343401\n",
            "Standard deviation of MRE of test set 0.014966369627914913\n",
            "\n",
            "Optimal model has MAE of valid set: 7.266496534402507\n",
            "Optimal model has RMSE of valid set: 9.27969817514256\n",
            "Optimal model has R2 score of valid set 0.4698991750821573\n",
            "Optimal model has MRE of valid set: 0.27800013552450925\n"
          ],
          "name": "stdout"
        }
      ]
    },
    {
      "cell_type": "code",
      "metadata": {
        "colab": {
          "base_uri": "https://localhost:8080/",
          "height": 314
        },
        "id": "y0k9rMeZInHe",
        "outputId": "d96279e2-8b6f-43b7-c24b-87b40680a850"
      },
      "source": [
        "import matplotlib.pyplot as py\n",
        "py.plot(y_test_all, y_pred_all, 'bo')\n",
        "py.ylim(0, 100)\n",
        "py.xlabel('y_true')\n",
        "py.ylabel('y_pred')\n",
        "py.title('y_pred vs. y_true')"
      ],
      "execution_count": 5,
      "outputs": [
        {
          "output_type": "execute_result",
          "data": {
            "text/plain": [
              "Text(0.5, 1.0, 'y_pred vs. y_true')"
            ]
          },
          "metadata": {
            "tags": []
          },
          "execution_count": 5
        },
        {
          "output_type": "display_data",
          "data": {
            "image/png": "[encoded data removed]",
            "text/plain": [
              "<Figure size 432x288 with 1 Axes>"
            ]
          },
          "metadata": {
            "tags": [],
            "needs_background": "light"
          }
        }
      ]
    },
    {
      "cell_type": "code",
      "metadata": {
        "id": "zQlVenz1IqIB"
      },
      "source": [
        "Parity={'Predict Data':y_pred_all,'Test Data':y_test_all}\n",
        "df = pd.DataFrame(Parity, columns= ['Predict Data', 'Test Data'])\n",
        "df.to_csv (r'/content/export_dataframe_SVM.csv', index = False, header=True)"
      ],
      "execution_count": null,
      "outputs": []
    },
    {
      "cell_type": "code",
      "metadata": {
        "id": "iLg5QUS9Is_q",
        "colab": {
          "base_uri": "https://localhost:8080/",
          "height": 314
        },
        "outputId": "cb5f71b4-371e-4706-afe4-d8fb35a95105"
      },
      "source": [
        "import matplotlib.pyplot as py\r\n",
        "py.plot(y_valid, y_valid_predict, 'bo')\r\n",
        "py.ylim(0, 100)\r\n",
        "py.xlabel('y_true')\r\n",
        "py.ylabel('y_pred')\r\n",
        "py.title('y_pred vs. y_true')"
      ],
      "execution_count": 6,
      "outputs": [
        {
          "output_type": "execute_result",
          "data": {
            "text/plain": [
              "Text(0.5, 1.0, 'y_pred vs. y_true')"
            ]
          },
          "metadata": {
            "tags": []
          },
          "execution_count": 6
        },
        {
          "output_type": "display_data",
          "data": {
            "image/png": "[encoded data removed]",
            "text/plain": [
              "<Figure size 432x288 with 1 Axes>"
            ]
          },
          "metadata": {
            "tags": [],
            "needs_background": "light"
          }
        }
      ]
    }
  ]
}