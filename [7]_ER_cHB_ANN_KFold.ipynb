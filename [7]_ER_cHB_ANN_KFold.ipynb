{
  "nbformat": 4,
  "nbformat_minor": 0,
  "metadata": {
    "colab": {
      "name": "[7]_ER_cHB_ANN_KFold.ipynb",
      "provenance": [],
      "include_colab_link": true
    },
    "kernelspec": {
      "display_name": "Python 3",
      "language": "python",
      "name": "python3"
    },
    "language_info": {
      "codemirror_mode": {
        "name": "ipython",
        "version": 3
      },
      "file_extension": ".py",
      "mimetype": "text/x-python",
      "name": "python",
      "nbconvert_exporter": "python",
      "pygments_lexer": "ipython3",
      "version": "3.7.4"
    }
  },
  "cells": [
    {
      "cell_type": "markdown",
      "metadata": {
        "id": "view-in-github",
        "colab_type": "text"
      },
      "source": [
        "<a href=\"https://colab.research.google.com/github/693080593/research/blob/master/%5B7%5D_ER_cHB_ANN_KFold.ipynb\" target=\"_parent\"><img src=\"https://colab.research.google.com/assets/colab-badge.svg\" alt=\"Open In Colab\"/></a>"
      ]
    },
    {
      "cell_type": "code",
      "metadata": {
        "id": "cJxqhn92z_ts",
        "colab": {
          "base_uri": "https://localhost:8080/"
        },
        "outputId": "464d9955-f201-4a6f-d51e-9124ed34d3ee"
      },
      "source": [
        "# Import libraries necessary for this project\n",
        "import numpy as np\n",
        "import pandas as pd\n",
        "\n",
        "# Import supplementary visualizations code visuals.py\n",
        "import visuals as vs\n",
        "\n",
        "\n",
        "# Pretty display for notebooks\n",
        "%matplotlib inline\n",
        "\n",
        "# Load the dataset\n",
        "data = pd.read_csv(r'/content/Feed Effect on Biocrude ER Data ML 111020.csv')\n",
        "Oil_ER = data['Bio-crude Oil ER']\n",
        "Features = data.drop('Bio-crude Oil ER', axis = 1)\n",
        "\n",
        "# Success\n",
        "print (\"Bio-crude ER dataset has {} data points with {} variables each.\".format(*data.shape))\n",
        "data.shape\n",
        "\n",
        "# data[:240:30]\n"
      ],
      "execution_count": 9,
      "outputs": [
        {
          "output_type": "stream",
          "text": [
            "Bio-crude ER dataset has 130 data points with 8 variables each.\n"
          ],
          "name": "stdout"
        },
        {
          "output_type": "execute_result",
          "data": {
            "text/plain": [
              "(130, 8)"
            ]
          },
          "metadata": {
            "tags": []
          },
          "execution_count": 9
        }
      ]
    },
    {
      "cell_type": "code",
      "metadata": {
        "id": "mjjLXjJXJNG2",
        "colab": {
          "base_uri": "https://localhost:8080/",
          "height": 404
        },
        "outputId": "f6a4857e-5abf-4668-9f18-11ced83fc28f"
      },
      "source": [
        "# TODO: Minimum price of the data\n",
        "minimum_Oil_ER = np.min(Oil_ER)\n",
        "\n",
        "# TODO: Maximum price of the data\n",
        "maximum_Oil_ER = np.max(Oil_ER)\n",
        "\n",
        "# TODO: Mean price of the data\n",
        "mean_Oil_ER = np.mean(Oil_ER)\n",
        "\n",
        "# TODO: Median price of the data\n",
        "median_Oil_ER = np.median(Oil_ER)\n",
        "\n",
        "# TODO: Standard deviation of prices of the data\n",
        "std_Oil_ER = np.std(Oil_ER)\n",
        "\n",
        "# Show the calculated statistics\n",
        "\n",
        "print(\"Statistics for bio-crude dataset:\\n\")\n",
        "print(\"Minimum bio-crude oil ER:{: .2f} %\".format(minimum_Oil_ER))\n",
        "print(\"Maximum bio-crude oil ER:{: .2f} %\".format(maximum_Oil_ER))\n",
        "print(\"Mean bio-crude oil ER:{: .2f} %\".format(mean_Oil_ER))\n",
        "print(\"Median bio-crude oil ER:{: .2f} %\".format(median_Oil_ER))\n",
        "print(\"Standard deviation of bio-crude oil ER:{: .2f} %\".format(std_Oil_ER))\n",
        "\n",
        "data.describe()"
      ],
      "execution_count": 10,
      "outputs": [
        {
          "output_type": "stream",
          "text": [
            "Statistics for bio-crude dataset:\n",
            "\n",
            "Minimum bio-crude oil ER: 2.50 %\n",
            "Maximum bio-crude oil ER: 92.00 %\n",
            "Mean bio-crude oil ER: 43.97 %\n",
            "Median bio-crude oil ER: 45.20 %\n",
            "Standard deviation of bio-crude oil ER: 19.91 %\n"
          ],
          "name": "stdout"
        },
        {
          "output_type": "execute_result",
          "data": {
            "text/html": [
              "<div>\n",
              "<style scoped>\n",
              "    .dataframe tbody tr th:only-of-type {\n",
              "        vertical-align: middle;\n",
              "    }\n",
              "\n",
              "    .dataframe tbody tr th {\n",
              "        vertical-align: top;\n",
              "    }\n",
              "\n",
              "    .dataframe thead th {\n",
              "        text-align: right;\n",
              "    }\n",
              "</style>\n",
              "<table border=\"1\" class=\"dataframe\">\n",
              "  <thead>\n",
              "    <tr style=\"text-align: right;\">\n",
              "      <th></th>\n",
              "      <th>Lipid</th>\n",
              "      <th>Protein</th>\n",
              "      <th>Cellulose</th>\n",
              "      <th>Hemicellulose</th>\n",
              "      <th>Carbohydrate</th>\n",
              "      <th>Lignin</th>\n",
              "      <th>Ash</th>\n",
              "      <th>Bio-crude Oil ER</th>\n",
              "    </tr>\n",
              "  </thead>\n",
              "  <tbody>\n",
              "    <tr>\n",
              "      <th>count</th>\n",
              "      <td>130.000000</td>\n",
              "      <td>130.000000</td>\n",
              "      <td>130.000000</td>\n",
              "      <td>130.000000</td>\n",
              "      <td>130.000000</td>\n",
              "      <td>130.000000</td>\n",
              "      <td>130.000000</td>\n",
              "      <td>130.000000</td>\n",
              "    </tr>\n",
              "    <tr>\n",
              "      <th>mean</th>\n",
              "      <td>10.077692</td>\n",
              "      <td>25.000000</td>\n",
              "      <td>18.858462</td>\n",
              "      <td>8.073846</td>\n",
              "      <td>19.490000</td>\n",
              "      <td>8.094615</td>\n",
              "      <td>6.849231</td>\n",
              "      <td>43.970769</td>\n",
              "    </tr>\n",
              "    <tr>\n",
              "      <th>std</th>\n",
              "      <td>19.042308</td>\n",
              "      <td>26.912396</td>\n",
              "      <td>27.227704</td>\n",
              "      <td>16.668829</td>\n",
              "      <td>26.616579</td>\n",
              "      <td>14.239008</td>\n",
              "      <td>11.152323</td>\n",
              "      <td>19.988467</td>\n",
              "    </tr>\n",
              "    <tr>\n",
              "      <th>min</th>\n",
              "      <td>0.000000</td>\n",
              "      <td>0.000000</td>\n",
              "      <td>0.000000</td>\n",
              "      <td>0.000000</td>\n",
              "      <td>0.000000</td>\n",
              "      <td>0.000000</td>\n",
              "      <td>0.000000</td>\n",
              "      <td>2.500000</td>\n",
              "    </tr>\n",
              "    <tr>\n",
              "      <th>25%</th>\n",
              "      <td>0.000000</td>\n",
              "      <td>0.000000</td>\n",
              "      <td>0.000000</td>\n",
              "      <td>0.000000</td>\n",
              "      <td>0.000000</td>\n",
              "      <td>0.000000</td>\n",
              "      <td>0.000000</td>\n",
              "      <td>30.450000</td>\n",
              "    </tr>\n",
              "    <tr>\n",
              "      <th>50%</th>\n",
              "      <td>1.700000</td>\n",
              "      <td>18.350000</td>\n",
              "      <td>0.000000</td>\n",
              "      <td>0.000000</td>\n",
              "      <td>9.900000</td>\n",
              "      <td>0.000000</td>\n",
              "      <td>2.450000</td>\n",
              "      <td>45.200000</td>\n",
              "    </tr>\n",
              "    <tr>\n",
              "      <th>75%</th>\n",
              "      <td>12.175000</td>\n",
              "      <td>44.550000</td>\n",
              "      <td>37.325000</td>\n",
              "      <td>7.975000</td>\n",
              "      <td>27.600000</td>\n",
              "      <td>13.975000</td>\n",
              "      <td>7.150000</td>\n",
              "      <td>58.750000</td>\n",
              "    </tr>\n",
              "    <tr>\n",
              "      <th>max</th>\n",
              "      <td>100.000000</td>\n",
              "      <td>100.000000</td>\n",
              "      <td>100.000000</td>\n",
              "      <td>100.000000</td>\n",
              "      <td>100.000000</td>\n",
              "      <td>100.000000</td>\n",
              "      <td>47.500000</td>\n",
              "      <td>92.000000</td>\n",
              "    </tr>\n",
              "  </tbody>\n",
              "</table>\n",
              "</div>"
            ],
            "text/plain": [
              "            Lipid     Protein  ...         Ash  Bio-crude Oil ER\n",
              "count  130.000000  130.000000  ...  130.000000        130.000000\n",
              "mean    10.077692   25.000000  ...    6.849231         43.970769\n",
              "std     19.042308   26.912396  ...   11.152323         19.988467\n",
              "min      0.000000    0.000000  ...    0.000000          2.500000\n",
              "25%      0.000000    0.000000  ...    0.000000         30.450000\n",
              "50%      1.700000   18.350000  ...    2.450000         45.200000\n",
              "75%     12.175000   44.550000  ...    7.150000         58.750000\n",
              "max    100.000000  100.000000  ...   47.500000         92.000000\n",
              "\n",
              "[8 rows x 8 columns]"
            ]
          },
          "metadata": {
            "tags": []
          },
          "execution_count": 10
        }
      ]
    },
    {
      "cell_type": "code",
      "metadata": {
        "id": "92Ke84sZLagb",
        "colab": {
          "base_uri": "https://localhost:8080/",
          "height": 713
        },
        "outputId": "0c96afaa-c245-4758-a2c3-2572eee592d4"
      },
      "source": [
        "# Load matplotlib\n",
        "import matplotlib.pyplot as plt\n",
        "\n",
        "# Show the figure with higher resolution\n",
        "%config InlineBackend.figure_format = 'retina'\n",
        "\n",
        "# Adjust the size of figure\n",
        "plt.figure(figsize=(12,12))\n",
        "\n",
        "plt.subplot(331)\n",
        "plt.xlabel('Lipid')\n",
        "plt.ylabel('Bio-crude Oil ER (%)')\n",
        "plt.scatter(data['Lipid'],data['Bio-crude Oil ER'],alpha = 0.5)\n",
        "\n",
        "plt.subplot(332)\n",
        "plt.xlabel('Protein')\n",
        "plt.ylabel('Bio-crude Oil ER (%)')\n",
        "plt.scatter(data['Protein'],data['Bio-crude Oil ER'],alpha = 0.5)\n",
        "\n",
        "plt.subplot(333)\n",
        "plt.xlabel('Cellulose')\n",
        "plt.ylabel('Bio-crude Oil ER (%)')\n",
        "plt.scatter(data['Cellulose'],data['Bio-crude Oil ER'],alpha = 0.5)\n",
        "\n",
        "plt.subplot(334)\n",
        "plt.xlabel('Hemicellulose')\n",
        "plt.ylabel('Bio-crude Oil ER (%)')\n",
        "plt.scatter(data['Hemicellulose'],data['Bio-crude Oil ER'],alpha = 0.5)\n",
        "\n",
        "plt.subplot(335)\n",
        "plt.xlabel('Carbohydrate')\n",
        "plt.ylabel('Bio-crude Oil ER (%)')\n",
        "plt.scatter(data['Carbohydrate'],data['Bio-crude Oil ER'],alpha = 0.5)\n",
        "\n",
        "plt.subplot(336)\n",
        "plt.xlabel('Lignin')\n",
        "plt.ylabel('Bio-crude Oil ER (%)')\n",
        "plt.scatter(data['Lignin'],data['Bio-crude Oil ER'],alpha = 0.5)\n",
        "\n",
        "plt.subplot(338)\n",
        "plt.xlabel('Ash')\n",
        "plt.ylabel('Bio-crude Oil ER (%)')\n",
        "plt.scatter(data['Ash'],data['Bio-crude Oil ER'],alpha = 0.5)\n",
        "plt.show()"
      ],
      "execution_count": 11,
      "outputs": [
        {
          "output_type": "display_data",
          "data": {
            "image/png": "[encoded data removed]",
            "text/plain": [
              "<Figure size 864x864 with 7 Axes>"
            ]
          },
          "metadata": {
            "tags": [],
            "image/png": {
              "width": 717,
              "height": 696
            },
            "needs_background": "light"
          }
        }
      ]
    },
    {
      "cell_type": "code",
      "metadata": {
        "id": "4Nq93Ay_Ob5M",
        "colab": {
          "base_uri": "https://localhost:8080/",
          "height": 431
        },
        "outputId": "d386b20b-94cb-4680-bdd3-c14a01540ee0"
      },
      "source": [
        "plt.hist(data['Bio-crude Oil ER'],bins=50,color='orange')"
      ],
      "execution_count": 12,
      "outputs": [
        {
          "output_type": "execute_result",
          "data": {
            "text/plain": [
              "(array([2., 0., 0., 3., 3., 3., 1., 0., 2., 2., 3., 3., 5., 2., 3., 7., 5.,\n",
              "        3., 4., 5., 0., 3., 4., 3., 4., 3., 6., 5., 6., 3., 4., 3., 4., 0.,\n",
              "        4., 4., 3., 3., 3., 0., 4., 1., 0., 0., 1., 1., 0., 0., 1., 1.]),\n",
              " array([ 2.5 ,  4.29,  6.08,  7.87,  9.66, 11.45, 13.24, 15.03, 16.82,\n",
              "        18.61, 20.4 , 22.19, 23.98, 25.77, 27.56, 29.35, 31.14, 32.93,\n",
              "        34.72, 36.51, 38.3 , 40.09, 41.88, 43.67, 45.46, 47.25, 49.04,\n",
              "        50.83, 52.62, 54.41, 56.2 , 57.99, 59.78, 61.57, 63.36, 65.15,\n",
              "        66.94, 68.73, 70.52, 72.31, 74.1 , 75.89, 77.68, 79.47, 81.26,\n",
              "        83.05, 84.84, 86.63, 88.42, 90.21, 92.  ]),\n",
              " <a list of 50 Patch objects>)"
            ]
          },
          "metadata": {
            "tags": []
          },
          "execution_count": 12
        },
        {
          "output_type": "display_data",
          "data": {
            "image/png": "[encoded data removed]",
            "text/plain": [
              "<Figure size 432x288 with 1 Axes>"
            ]
          },
          "metadata": {
            "tags": [],
            "image/png": {
              "width": 362,
              "height": 248
            },
            "needs_background": "light"
          }
        }
      ]
    },
    {
      "cell_type": "code",
      "metadata": {
        "id": "7IR4EyV8PMp3",
        "colab": {
          "base_uri": "https://localhost:8080/",
          "height": 431
        },
        "outputId": "5d4e6fb4-98df-4d7a-aaab-e0134b2d4680"
      },
      "source": [
        "plt.hist(data['Lipid'],bins=50,color='lightgreen')\n"
      ],
      "execution_count": 13,
      "outputs": [
        {
          "output_type": "execute_result",
          "data": {
            "text/plain": [
              "(array([66.,  7.,  9.,  5.,  3.,  7.,  5.,  5.,  1.,  3.,  2.,  3.,  0.,\n",
              "         0.,  1.,  1.,  2.,  0.,  2.,  0.,  1.,  0.,  0.,  0.,  0.,  2.,\n",
              "         0.,  0.,  0.,  1.,  0.,  0.,  0.,  0.,  0.,  0.,  0.,  1.,  0.,\n",
              "         0.,  0.,  0.,  0.,  0.,  0.,  0.,  0.,  0.,  0.,  3.]),\n",
              " array([  0.,   2.,   4.,   6.,   8.,  10.,  12.,  14.,  16.,  18.,  20.,\n",
              "         22.,  24.,  26.,  28.,  30.,  32.,  34.,  36.,  38.,  40.,  42.,\n",
              "         44.,  46.,  48.,  50.,  52.,  54.,  56.,  58.,  60.,  62.,  64.,\n",
              "         66.,  68.,  70.,  72.,  74.,  76.,  78.,  80.,  82.,  84.,  86.,\n",
              "         88.,  90.,  92.,  94.,  96.,  98., 100.]),\n",
              " <a list of 50 Patch objects>)"
            ]
          },
          "metadata": {
            "tags": []
          },
          "execution_count": 13
        },
        {
          "output_type": "display_data",
          "data": {
            "image/png": "[encoded data removed]",
            "text/plain": [
              "<Figure size 432x288 with 1 Axes>"
            ]
          },
          "metadata": {
            "tags": [],
            "image/png": {
              "width": 369,
              "height": 248
            },
            "needs_background": "light"
          }
        }
      ]
    },
    {
      "cell_type": "code",
      "metadata": {
        "id": "gvMgiKh8Pksl",
        "colab": {
          "base_uri": "https://localhost:8080/",
          "height": 716
        },
        "outputId": "03ccf448-642b-4a23-877e-fff2f87ceb7a"
      },
      "source": [
        "# Correlation\n",
        "import seaborn as sns\n",
        "fig=plt.figure(figsize=(12,12))\n",
        "sns.heatmap(data.corr(),vmax=1,square=True,annot=True)\n",
        "plt.show()"
      ],
      "execution_count": 14,
      "outputs": [
        {
          "output_type": "display_data",
          "data": {
            "image/png": "[encoded data removed]",
            "text/plain": [
              "<Figure size 864x864 with 2 Axes>"
            ]
          },
          "metadata": {
            "tags": [],
            "image/png": {
              "width": 735,
              "height": 700
            },
            "needs_background": "light"
          }
        }
      ]
    },
    {
      "cell_type": "code",
      "metadata": {
        "id": "GhbMxqOIQfmS"
      },
      "source": [
        "import numpy as np\n",
        "# The mean relative error (MRE) is commonly used to measure the predictive accuracy of models.\n",
        "\n",
        "def performance_metric(y_true, y_predict):\n",
        "  \"\"\"Calculates and returns the performance score between \n",
        "        true and predicted values based on the metric chosen.\"\"\"\n",
        "  # TODO: Calculate the performance score between 'y_true' and 'y_predict'\n",
        "\n",
        "  return np.mean(np.abs(y_true-y_predict))/np.mean(y_true)"
      ],
      "execution_count": 15,
      "outputs": []
    },
    {
      "cell_type": "code",
      "metadata": {
        "id": "sOgLV3DiqRyF"
      },
      "source": [
        "# No use now.\n",
        "#written by Wenjing.\n",
        "#apply multi-layer perceptron to data\n",
        "from sklearn.neural_network import MLPRegressor\n",
        "from sklearn.ensemble import RandomForestRegressor\n",
        "#https://scikit-learn.org/stable/modules/neural_networks_supervised.html\n",
        "\n",
        "# Lets split the data into 10 folds. \n",
        "from sklearn.model_selection import KFold\n",
        "kf =KFold(n_splits=10, shuffle=True, random_state=262)\n",
        "\n",
        "# R2_all=[]\n",
        "mape_all=[]\n",
        "mape_train_all=[]\n",
        "mape_rfr_all=[]\n",
        "y_test_list=[]\n",
        "y_pred_list=[]\n",
        "for train_index, test_index in kf.split(Features, Oil_Yields):\n",
        "    #fixed by Wenjing\n",
        "    X_train, X_test = Features.iloc[train_index,:],Features.iloc[test_index,:]\n",
        "    y_train, y_test = Oil_Yields.iloc[train_index],Oil_Yields.iloc[test_index]\n",
        "    #random forest regressor\n",
        "    rfr=RandomForestRegressor(max_depth=4, n_estimators=100,random_state=262).fit(X_train, y_train)\n",
        "    y_pred_rfr=rfr.predict(X_test)\n",
        "    mape_rfr=mean_absolute_percentage_error(y_test, y_pred_rfr)\n",
        "    mape_rfr_all.append(mape_rfr)\n",
        "    \n",
        "    #multi-layer perceptron (an example of ANN)\n",
        "    mlpr = MLPRegressor(random_state=262, hidden_layer_sizes=(100,),max_iter=500, \n",
        "                       learning_rate_init=0.001,early_stopping=True).fit(X_train, y_train)\n",
        "    y_pred=mlpr.predict(X_test)\n",
        "#     R2=regr.score(X_test, y_test)\n",
        "#     R2_all.append(R2)\n",
        "    mape=mean_absolute_percentage_error(y_test, y_pred) #test error\n",
        "    mape_all.append(mape) #test error for all folds\n",
        "    mape_train=mean_absolute_percentage_error(y_train, mlpr.predict(X_train)) #training error\n",
        "    mape_train_all.append(mape_train) #training error for all folds\n",
        "    \n",
        "    y_test_list.append(y_test.values)\n",
        "    y_pred_list.append(y_pred)\n",
        "    \n",
        "print(\"MAPE (test) from MLP\",mape_all)\n",
        "print(\"MAPE (train) from MLP\",mape_train_all)\n",
        "\n",
        "y_test_all=np.concatenate(y_test_list, axis=0)\n",
        "y_pred_all=np.concatenate(y_pred_list, axis=0)\n",
        "# print(\"y_true\", y_test_all)\n",
        "# print(\"y_pred\", y_pred_all)"
      ],
      "execution_count": null,
      "outputs": []
    },
    {
      "cell_type": "code",
      "metadata": {
        "colab": {
          "base_uri": "https://localhost:8080/"
        },
        "id": "RdWG4nTCpmy8",
        "outputId": "ff1e92f6-dfc7-445e-c160-7dc1ac3dbd57"
      },
      "source": [
        "#apply multi-layer perceptron to data\n",
        "from sklearn.neural_network import MLPRegressor\n",
        "# https://scikit-learn.org/stable/modules/neural_networks_supervised.html\n",
        "\n",
        "# TODO: Import 'KFold'\n",
        "from sklearn.model_selection import KFold\n",
        "\n",
        "# TODO Calculate the r2 score between 'y_true' and 'y_predict'\n",
        "from math import sqrt\n",
        "from sklearn import metrics\n",
        "\n",
        "np.random.seed(seed = 150)\n",
        "data['random'] = np.random.random(size = len(data))\n",
        "\n",
        "# Lets split the data into 4 folds.  \n",
        "kf =KFold(n_splits=4, shuffle=True)\n",
        "\n",
        "cnt = 1\n",
        "\n",
        "MAE_train_all=[]\n",
        "MAE_test_all=[]\n",
        "y_train_rmse_all=[]\n",
        "y_test_rmse_all=[]\n",
        "r2_train_all=[]\n",
        "r2_test_all=[]\n",
        "MRE_train_all=[]\n",
        "MRE_test_all=[]\n",
        "y_test_list=[]\n",
        "y_pred_list=[]\n",
        "\n",
        "# split()  method generate indices to split data into training and test set.\n",
        "for train_index, test_index in kf.split(Features, Oil_ER):\n",
        "    # print(f'Fold:{cnt}, Train set: {len(train_index)}, Test set:{len(test_index)}')\n",
        "    \n",
        "    #fixed by Wenjing\n",
        "    X_train, X_test = Features.iloc[train_index,:],Features.iloc[test_index,:]\n",
        "    y_train, y_test = Oil_ER.iloc[train_index],Oil_ER.iloc[test_index]\n",
        "    \n",
        "    #multi-layer perceptron (an example of ANN)\n",
        "    mlpr = MLPRegressor(hidden_layer_sizes=(100,),max_iter=500, \n",
        "                       learning_rate_init=0.001,early_stopping=True)\n",
        "    # Model training\n",
        "    mlpr.fit(X_train,y_train)\n",
        "\n",
        "    # Predict training set and test set\n",
        "    y_train_predict = mlpr.predict(X_train)\n",
        "    y_test_predict = mlpr.predict(X_test)\n",
        "\n",
        "    MAE_train = metrics.mean_absolute_error(y_train, y_train_predict)\n",
        "    MAE_test = metrics.mean_absolute_error(y_test, y_test_predict)\n",
        "\n",
        "    y_train_rmse = sqrt(metrics.mean_squared_error(y_train, y_train_predict))\n",
        "    y_test_rmse = sqrt(metrics.mean_squared_error(y_test, y_test_predict))\n",
        "\n",
        "    r2_train = metrics.r2_score(y_train, y_train_predict)\n",
        "    r2_test = metrics.r2_score(y_test, y_test_predict)\n",
        "\n",
        "    MRE_train = performance_metric(y_train, y_train_predict)\n",
        "    MRE_test = performance_metric(y_test, y_test_predict)\n",
        "\n",
        "    # print(\"Optimal model has MAE of training set:\", MAE_train)\n",
        "    # print(\"Optimal model has MAE of test set:\", MAE_test)\n",
        "    # print(\"Optimal model has RMSE of training set:\", y_train_rmse)\n",
        "    # print(\"Optimal model has RMSE of test set:\", y_test_rmse)\n",
        "    # print(\"Optimal model has R2 score of training set {:,.2f} on training data.\".format(r2_train))\n",
        "    # print(\"Optimal model has R2 score of test set {:,.2f} on test data.\".format(r2_test))\n",
        "    # print(\"Optimal model has MRE of training set:\", MRE_train)\n",
        "    # print(\"Optimal model has MRE of test set:\", MRE_test)\n",
        "    # print(\"\")\n",
        "\n",
        "    cnt += 1\n",
        "\n",
        "    MAE_train_all.append(MAE_train)\n",
        "    MAE_test_all.append(MAE_test)\n",
        "    y_train_rmse_all.append(y_train_rmse)\n",
        "    y_test_rmse_all.append(y_test_rmse)\n",
        "    r2_train_all.append(r2_train)\n",
        "    r2_test_all.append(r2_test)\n",
        "    MRE_train_all.append(MRE_train)\n",
        "    MRE_test_all.append(MRE_test)\n",
        "    y_test_list.append(y_test.values)\n",
        "    y_pred_list.append(y_test_predict)\n",
        "\n",
        "y_test_all=np.concatenate(y_test_list, axis=0)\n",
        "y_pred_all=np.concatenate(y_pred_list, axis=0)\n",
        "\n",
        "print(\"Mean value of MAE of training set\", np.mean(MAE_train_all))\n",
        "print(\"Standard deviation of MAE of training set\", np.std(MAE_train_all))\n",
        "print(\"Mean value of MAE of test set\", np.mean(MAE_test_all))\n",
        "print(\"Standard deviation of MAE of test set\", np.std(MAE_test_all))\n",
        "print(\"\")\n",
        "print(\"Mean value of RMSE of training set\", np.mean(y_train_rmse_all))\n",
        "print(\"Standard deviation of RMSE of training set\", np.std(y_train_rmse_all))\n",
        "print(\"Mean value of RMSE of test set\", np.mean(y_test_rmse_all))\n",
        "print(\"Standard deviation of RMSE of test set\", np.std(y_test_rmse_all))\n",
        "print(\"\")\n",
        "print(\"Mean value of R2 of training set\", np.mean(r2_train_all))\n",
        "print(\"Standard deviation of R2 of training set\", np.std(r2_train_all))\n",
        "print(\"Mean value of R2 of test set\", np.mean(r2_test_all))\n",
        "print(\"Standard deviation of R2 of test set\", np.std(r2_test_all))\n",
        "print(\"\")\n",
        "print(\"Mean value of MRE of training set\", np.mean(MRE_train_all))\n",
        "print(\"Standard deviation of MRE of training set\", np.std(MRE_train_all))\n",
        "print(\"Mean value of MRE of test set\", np.mean(MRE_test_all))\n",
        "print(\"Standard deviation of MRE of test set\", np.std(MRE_test_all))\n",
        "\n",
        "#print(len(np.concatenate(y_test_list, axis=0)))\n",
        "#print(len(np.concatenate(y_pred_list, axis=0)))"
      ],
      "execution_count": 16,
      "outputs": [
        {
          "output_type": "stream",
          "text": [
            "Mean value of MAE of training set 14.622980291355711\n",
            "Standard deviation of MAE of training set 3.384688944847906\n",
            "Mean value of MAE of test set 16.773679967277854\n",
            "Standard deviation of MAE of test set 2.034617358956131\n",
            "\n",
            "Mean value of RMSE of training set 18.14270775623316\n",
            "Standard deviation of RMSE of training set 3.889484564139701\n",
            "Mean value of RMSE of test set 20.73428604994266\n",
            "Standard deviation of RMSE of test set 3.15283028678093\n",
            "\n",
            "Mean value of R2 of training set 0.13555375567739403\n",
            "Standard deviation of R2 of training set 0.3383537670231368\n",
            "Mean value of R2 of test set -0.10635597782008074\n",
            "Standard deviation of R2 of test set 0.1827087158341947\n",
            "\n",
            "Mean value of MRE of training set 0.3321499084846356\n",
            "Standard deviation of MRE of training set 0.07559640771753622\n",
            "Mean value of MRE of test set 0.3803288351388545\n",
            "Standard deviation of MRE of test set 0.029894172446908424\n"
          ],
          "name": "stdout"
        }
      ]
    },
    {
      "cell_type": "code",
      "metadata": {
        "colab": {
          "base_uri": "https://localhost:8080/",
          "height": 311
        },
        "id": "TCrlVqOqtAUw",
        "outputId": "2386f1ff-ca25-41c5-e512-45c6d948a406"
      },
      "source": [
        "import matplotlib.pyplot as py\n",
        "py.plot(y_test_all, y_pred_all, 'bo')\n",
        "py.ylim(0, 90)\n",
        "py.xlabel('y_true')\n",
        "py.ylabel('y_pred')\n",
        "py.title('y_pred vs. y_true')"
      ],
      "execution_count": 17,
      "outputs": [
        {
          "output_type": "execute_result",
          "data": {
            "text/plain": [
              "Text(0.5, 1.0, 'y_pred vs. y_true')"
            ]
          },
          "metadata": {
            "tags": []
          },
          "execution_count": 17
        },
        {
          "output_type": "display_data",
          "data": {
            "image/png": "[encoded data removed]",
            "text/plain": [
              "<Figure size 432x288 with 1 Axes>"
            ]
          },
          "metadata": {
            "tags": [],
            "image/png": {
              "width": 383,
              "height": 277
            },
            "needs_background": "light"
          }
        }
      ]
    },
    {
      "cell_type": "code",
      "metadata": {
        "id": "jptmSZpCtCcd"
      },
      "source": [
        "Parity={'Predict Data':y_pred_all,'Test Data':y_test_all}\n",
        "df = pd.DataFrame(Parity, columns= ['Predict Data', 'Test Data'])\n",
        "df.to_csv (r'/content/export_dataframe_ER_ANN.csv', index = False, header=True)"
      ],
      "execution_count": 18,
      "outputs": []
    },
    {
      "cell_type": "code",
      "metadata": {
        "colab": {
          "base_uri": "https://localhost:8080/"
        },
        "id": "3czowfcU18HP",
        "outputId": "7152f3d3-54f0-470a-d2e9-dc0695beb315"
      },
      "source": [
        "# hidden_layer_sizes 参数的最佳取值(1, 201, 1)\n",
        "\n",
        "for i in range(1, 201, 1):\n",
        "  #apply multi-layer perceptron to data\n",
        "  from sklearn.neural_network import MLPRegressor\n",
        "  # https://scikit-learn.org/stable/modules/neural_networks_supervised.html\n",
        "  \n",
        "  # TODO: Import 'KFold'\n",
        "  from sklearn.model_selection import KFold\n",
        "  \n",
        "  # TODO Calculate the r2 score between 'y_true' and 'y_predict'\n",
        "  from math import sqrt\n",
        "  from sklearn import metrics\n",
        "  \n",
        "  np.random.seed(seed = 150)\n",
        "  data['random'] = np.random.random(size = len(data))\n",
        "  \n",
        "  # Lets split the data into 4 folds.  \n",
        "  kf =KFold(n_splits=4, shuffle=True)\n",
        "  \n",
        "  cnt = 1\n",
        "  r2_train_all=[]\n",
        "  r2_test_all=[]\n",
        "  \n",
        "  # split()  method generate indices to split data into training and test set.\n",
        "  for train_index, test_index in kf.split(Features, Oil_ER):\n",
        "    # print(f'Fold:{cnt}, Train set: {len(train_index)}, Test set:{len(test_index)}')\n",
        "    \n",
        "    #fixed by Wenjing\n",
        "    X_train, X_test = Features.iloc[train_index,:],Features.iloc[test_index,:]\n",
        "    y_train, y_test = Oil_ER.iloc[train_index],Oil_ER.iloc[test_index]\n",
        "    \n",
        "    #multi-layer perceptron (an example of ANN)\n",
        "    mlpr = MLPRegressor(hidden_layer_sizes=(i,),max_iter=500, \n",
        "                       learning_rate_init=0.001,early_stopping=True)\n",
        "    # Model training\n",
        "    mlpr.fit(X_train,y_train)\n",
        "    \n",
        "    y_train_predict = mlpr.predict(X_train)\n",
        "    y_test_predict = mlpr.predict(X_test)\n",
        "    \n",
        "    r2_train = metrics.r2_score(y_train, y_train_predict)\n",
        "    r2_test = metrics.r2_score(y_test, y_test_predict)\n",
        "\n",
        "    # print(\"Optimal model has R2 score of training set {:,.2f} on training data.\".format(r2_train))\n",
        "    # print(\"Optimal model has R2 score of test set {:,.2f} on test data.\".format(r2_test))\n",
        "    # print(\"\")\n",
        "\n",
        "    cnt += 1\n",
        "    r2_train_all.append(r2_train)\n",
        "    r2_test_all.append(r2_test)\n",
        "  \n",
        "  print(i)\n",
        "  print(\"Mean value of R2 of training set\", np.mean(r2_train_all))\n",
        "  print(\"Standard deviation of R2 of training set\", np.std(r2_train_all))\n",
        "  print(\"Mean value of R2 of test set\", np.mean(r2_test_all))\n",
        "  print(\"Standard deviation of R2 of test set\", np.std(r2_test_all))"
      ],
      "execution_count": 19,
      "outputs": [
        {
          "output_type": "stream",
          "text": [
            "/usr/local/lib/python3.6/dist-packages/sklearn/neural_network/_multilayer_perceptron.py:571: ConvergenceWarning: Stochastic Optimizer: Maximum iterations (500) reached and the optimization hasn't converged yet.\n",
            "  % self.max_iter, ConvergenceWarning)\n",
            "/usr/local/lib/python3.6/dist-packages/sklearn/neural_network/_multilayer_perceptron.py:571: ConvergenceWarning: Stochastic Optimizer: Maximum iterations (500) reached and the optimization hasn't converged yet.\n",
            "  % self.max_iter, ConvergenceWarning)\n",
            "/usr/local/lib/python3.6/dist-packages/sklearn/neural_network/_multilayer_perceptron.py:571: ConvergenceWarning: Stochastic Optimizer: Maximum iterations (500) reached and the optimization hasn't converged yet.\n",
            "  % self.max_iter, ConvergenceWarning)\n",
            "/usr/local/lib/python3.6/dist-packages/sklearn/neural_network/_multilayer_perceptron.py:571: ConvergenceWarning: Stochastic Optimizer: Maximum iterations (500) reached and the optimization hasn't converged yet.\n",
            "  % self.max_iter, ConvergenceWarning)\n"
          ],
          "name": "stderr"
        },
        {
          "output_type": "stream",
          "text": [
            "1\n",
            "Mean value of R2 of training set -4.904371574518269\n",
            "Standard deviation of R2 of training set 0.7438899277596683\n",
            "Mean value of R2 of test set -5.170379275006534\n",
            "Standard deviation of R2 of test set 1.4384876825427548\n"
          ],
          "name": "stdout"
        },
        {
          "output_type": "stream",
          "text": [
            "/usr/local/lib/python3.6/dist-packages/sklearn/neural_network/_multilayer_perceptron.py:571: ConvergenceWarning: Stochastic Optimizer: Maximum iterations (500) reached and the optimization hasn't converged yet.\n",
            "  % self.max_iter, ConvergenceWarning)\n",
            "/usr/local/lib/python3.6/dist-packages/sklearn/neural_network/_multilayer_perceptron.py:571: ConvergenceWarning: Stochastic Optimizer: Maximum iterations (500) reached and the optimization hasn't converged yet.\n",
            "  % self.max_iter, ConvergenceWarning)\n",
            "/usr/local/lib/python3.6/dist-packages/sklearn/neural_network/_multilayer_perceptron.py:571: ConvergenceWarning: Stochastic Optimizer: Maximum iterations (500) reached and the optimization hasn't converged yet.\n",
            "  % self.max_iter, ConvergenceWarning)\n"
          ],
          "name": "stderr"
        },
        {
          "output_type": "stream",
          "text": [
            "2\n",
            "Mean value of R2 of training set -1.5274269789271866\n",
            "Standard deviation of R2 of training set 1.7958317982060887\n",
            "Mean value of R2 of test set -1.7112924005908559\n",
            "Standard deviation of R2 of test set 1.9196326675289173\n"
          ],
          "name": "stdout"
        },
        {
          "output_type": "stream",
          "text": [
            "/usr/local/lib/python3.6/dist-packages/sklearn/neural_network/_multilayer_perceptron.py:571: ConvergenceWarning: Stochastic Optimizer: Maximum iterations (500) reached and the optimization hasn't converged yet.\n",
            "  % self.max_iter, ConvergenceWarning)\n",
            "/usr/local/lib/python3.6/dist-packages/sklearn/neural_network/_multilayer_perceptron.py:571: ConvergenceWarning: Stochastic Optimizer: Maximum iterations (500) reached and the optimization hasn't converged yet.\n",
            "  % self.max_iter, ConvergenceWarning)\n",
            "/usr/local/lib/python3.6/dist-packages/sklearn/neural_network/_multilayer_perceptron.py:571: ConvergenceWarning: Stochastic Optimizer: Maximum iterations (500) reached and the optimization hasn't converged yet.\n",
            "  % self.max_iter, ConvergenceWarning)\n"
          ],
          "name": "stderr"
        },
        {
          "output_type": "stream",
          "text": [
            "3\n",
            "Mean value of R2 of training set -0.07041723548073048\n",
            "Standard deviation of R2 of training set 0.1885524677569064\n",
            "Mean value of R2 of test set -0.23437549242306632\n",
            "Standard deviation of R2 of test set 0.21430672128442133\n"
          ],
          "name": "stdout"
        },
        {
          "output_type": "stream",
          "text": [
            "/usr/local/lib/python3.6/dist-packages/sklearn/neural_network/_multilayer_perceptron.py:571: ConvergenceWarning: Stochastic Optimizer: Maximum iterations (500) reached and the optimization hasn't converged yet.\n",
            "  % self.max_iter, ConvergenceWarning)\n",
            "/usr/local/lib/python3.6/dist-packages/sklearn/neural_network/_multilayer_perceptron.py:571: ConvergenceWarning: Stochastic Optimizer: Maximum iterations (500) reached and the optimization hasn't converged yet.\n",
            "  % self.max_iter, ConvergenceWarning)\n"
          ],
          "name": "stderr"
        },
        {
          "output_type": "stream",
          "text": [
            "4\n",
            "Mean value of R2 of training set -0.2065384958303758\n",
            "Standard deviation of R2 of training set 0.3571550444863824\n",
            "Mean value of R2 of test set -0.24875246106213295\n",
            "Standard deviation of R2 of test set 0.5730145499482044\n"
          ],
          "name": "stdout"
        },
        {
          "output_type": "stream",
          "text": [
            "/usr/local/lib/python3.6/dist-packages/sklearn/neural_network/_multilayer_perceptron.py:571: ConvergenceWarning: Stochastic Optimizer: Maximum iterations (500) reached and the optimization hasn't converged yet.\n",
            "  % self.max_iter, ConvergenceWarning)\n"
          ],
          "name": "stderr"
        },
        {
          "output_type": "stream",
          "text": [
            "5\n",
            "Mean value of R2 of training set -0.3772326117591343\n",
            "Standard deviation of R2 of training set 0.6906762542848818\n",
            "Mean value of R2 of test set -0.05562697922134646\n",
            "Standard deviation of R2 of test set 0.5626219893317881\n"
          ],
          "name": "stdout"
        },
        {
          "output_type": "stream",
          "text": [
            "/usr/local/lib/python3.6/dist-packages/sklearn/neural_network/_multilayer_perceptron.py:571: ConvergenceWarning: Stochastic Optimizer: Maximum iterations (500) reached and the optimization hasn't converged yet.\n",
            "  % self.max_iter, ConvergenceWarning)\n",
            "/usr/local/lib/python3.6/dist-packages/sklearn/neural_network/_multilayer_perceptron.py:571: ConvergenceWarning: Stochastic Optimizer: Maximum iterations (500) reached and the optimization hasn't converged yet.\n",
            "  % self.max_iter, ConvergenceWarning)\n"
          ],
          "name": "stderr"
        },
        {
          "output_type": "stream",
          "text": [
            "6\n",
            "Mean value of R2 of training set -0.15675972222680726\n",
            "Standard deviation of R2 of training set 0.2755000672635306\n",
            "Mean value of R2 of test set -0.31424295559356763\n",
            "Standard deviation of R2 of test set 0.30173771235122143\n"
          ],
          "name": "stdout"
        },
        {
          "output_type": "stream",
          "text": [
            "/usr/local/lib/python3.6/dist-packages/sklearn/neural_network/_multilayer_perceptron.py:571: ConvergenceWarning: Stochastic Optimizer: Maximum iterations (500) reached and the optimization hasn't converged yet.\n",
            "  % self.max_iter, ConvergenceWarning)\n",
            "/usr/local/lib/python3.6/dist-packages/sklearn/neural_network/_multilayer_perceptron.py:571: ConvergenceWarning: Stochastic Optimizer: Maximum iterations (500) reached and the optimization hasn't converged yet.\n",
            "  % self.max_iter, ConvergenceWarning)\n",
            "/usr/local/lib/python3.6/dist-packages/sklearn/neural_network/_multilayer_perceptron.py:571: ConvergenceWarning: Stochastic Optimizer: Maximum iterations (500) reached and the optimization hasn't converged yet.\n",
            "  % self.max_iter, ConvergenceWarning)\n"
          ],
          "name": "stderr"
        },
        {
          "output_type": "stream",
          "text": [
            "7\n",
            "Mean value of R2 of training set 0.16824838802179493\n",
            "Standard deviation of R2 of training set 0.11344712699872843\n",
            "Mean value of R2 of test set 0.015118595617460984\n",
            "Standard deviation of R2 of test set 0.1920023988349207\n"
          ],
          "name": "stdout"
        },
        {
          "output_type": "stream",
          "text": [
            "/usr/local/lib/python3.6/dist-packages/sklearn/neural_network/_multilayer_perceptron.py:571: ConvergenceWarning: Stochastic Optimizer: Maximum iterations (500) reached and the optimization hasn't converged yet.\n",
            "  % self.max_iter, ConvergenceWarning)\n"
          ],
          "name": "stderr"
        },
        {
          "output_type": "stream",
          "text": [
            "8\n",
            "Mean value of R2 of training set 0.02585778930240812\n",
            "Standard deviation of R2 of training set 0.2945476590158246\n",
            "Mean value of R2 of test set -0.054440320271203796\n",
            "Standard deviation of R2 of test set 0.2618278115367671\n"
          ],
          "name": "stdout"
        },
        {
          "output_type": "stream",
          "text": [
            "/usr/local/lib/python3.6/dist-packages/sklearn/neural_network/_multilayer_perceptron.py:571: ConvergenceWarning: Stochastic Optimizer: Maximum iterations (500) reached and the optimization hasn't converged yet.\n",
            "  % self.max_iter, ConvergenceWarning)\n"
          ],
          "name": "stderr"
        },
        {
          "output_type": "stream",
          "text": [
            "9\n",
            "Mean value of R2 of training set 0.21446230835638658\n",
            "Standard deviation of R2 of training set 0.04585405886014428\n",
            "Mean value of R2 of test set 0.030316236359834492\n",
            "Standard deviation of R2 of test set 0.3215756712922503\n"
          ],
          "name": "stdout"
        },
        {
          "output_type": "stream",
          "text": [
            "/usr/local/lib/python3.6/dist-packages/sklearn/neural_network/_multilayer_perceptron.py:571: ConvergenceWarning: Stochastic Optimizer: Maximum iterations (500) reached and the optimization hasn't converged yet.\n",
            "  % self.max_iter, ConvergenceWarning)\n",
            "/usr/local/lib/python3.6/dist-packages/sklearn/neural_network/_multilayer_perceptron.py:571: ConvergenceWarning: Stochastic Optimizer: Maximum iterations (500) reached and the optimization hasn't converged yet.\n",
            "  % self.max_iter, ConvergenceWarning)\n"
          ],
          "name": "stderr"
        },
        {
          "output_type": "stream",
          "text": [
            "10\n",
            "Mean value of R2 of training set 0.1122204542624767\n",
            "Standard deviation of R2 of training set 0.1839506174037681\n",
            "Mean value of R2 of test set -0.02966662902211195\n",
            "Standard deviation of R2 of test set 0.1320014503406578\n"
          ],
          "name": "stdout"
        },
        {
          "output_type": "stream",
          "text": [
            "/usr/local/lib/python3.6/dist-packages/sklearn/neural_network/_multilayer_perceptron.py:571: ConvergenceWarning: Stochastic Optimizer: Maximum iterations (500) reached and the optimization hasn't converged yet.\n",
            "  % self.max_iter, ConvergenceWarning)\n"
          ],
          "name": "stderr"
        },
        {
          "output_type": "stream",
          "text": [
            "11\n",
            "Mean value of R2 of training set 0.14038203886882428\n",
            "Standard deviation of R2 of training set 0.1611749611533477\n",
            "Mean value of R2 of test set -0.2037093368578677\n",
            "Standard deviation of R2 of test set 0.5821570726494163\n",
            "12\n",
            "Mean value of R2 of training set 0.15853198219877151\n",
            "Standard deviation of R2 of training set 0.07362147918004991\n",
            "Mean value of R2 of test set 0.03461298639593871\n",
            "Standard deviation of R2 of test set 0.08006945039924455\n"
          ],
          "name": "stdout"
        },
        {
          "output_type": "stream",
          "text": [
            "/usr/local/lib/python3.6/dist-packages/sklearn/neural_network/_multilayer_perceptron.py:571: ConvergenceWarning: Stochastic Optimizer: Maximum iterations (500) reached and the optimization hasn't converged yet.\n",
            "  % self.max_iter, ConvergenceWarning)\n",
            "/usr/local/lib/python3.6/dist-packages/sklearn/neural_network/_multilayer_perceptron.py:571: ConvergenceWarning: Stochastic Optimizer: Maximum iterations (500) reached and the optimization hasn't converged yet.\n",
            "  % self.max_iter, ConvergenceWarning)\n"
          ],
          "name": "stderr"
        },
        {
          "output_type": "stream",
          "text": [
            "13\n",
            "Mean value of R2 of training set -0.018834176998237\n",
            "Standard deviation of R2 of training set 0.536058563679945\n",
            "Mean value of R2 of test set -0.16700681142114754\n",
            "Standard deviation of R2 of test set 0.4260935561001691\n"
          ],
          "name": "stdout"
        },
        {
          "output_type": "stream",
          "text": [
            "/usr/local/lib/python3.6/dist-packages/sklearn/neural_network/_multilayer_perceptron.py:571: ConvergenceWarning: Stochastic Optimizer: Maximum iterations (500) reached and the optimization hasn't converged yet.\n",
            "  % self.max_iter, ConvergenceWarning)\n"
          ],
          "name": "stderr"
        },
        {
          "output_type": "stream",
          "text": [
            "14\n",
            "Mean value of R2 of training set 0.0703938934796425\n",
            "Standard deviation of R2 of training set 0.12189722772162988\n",
            "Mean value of R2 of test set -0.2252695759510893\n",
            "Standard deviation of R2 of test set 0.37687432059045756\n",
            "15\n",
            "Mean value of R2 of training set 0.09853799288582657\n",
            "Standard deviation of R2 of training set 0.3165075994973762\n",
            "Mean value of R2 of test set -0.1772323247168137\n",
            "Standard deviation of R2 of test set 0.42184187001835316\n",
            "16\n",
            "Mean value of R2 of training set 0.20788482412809248\n",
            "Standard deviation of R2 of training set 0.09687686429064356\n",
            "Mean value of R2 of test set 0.09930485127784733\n",
            "Standard deviation of R2 of test set 0.2432812330500708\n"
          ],
          "name": "stdout"
        },
        {
          "output_type": "stream",
          "text": [
            "/usr/local/lib/python3.6/dist-packages/sklearn/neural_network/_multilayer_perceptron.py:571: ConvergenceWarning: Stochastic Optimizer: Maximum iterations (500) reached and the optimization hasn't converged yet.\n",
            "  % self.max_iter, ConvergenceWarning)\n"
          ],
          "name": "stderr"
        },
        {
          "output_type": "stream",
          "text": [
            "17\n",
            "Mean value of R2 of training set 0.021071618692565464\n",
            "Standard deviation of R2 of training set 0.413621857533018\n",
            "Mean value of R2 of test set -0.2238759586439575\n",
            "Standard deviation of R2 of test set 0.32752218757313367\n",
            "18\n",
            "Mean value of R2 of training set 0.13630430820054149\n",
            "Standard deviation of R2 of training set 0.21541686298556634\n",
            "Mean value of R2 of test set -0.04113856434141963\n",
            "Standard deviation of R2 of test set 0.24512520218440856\n",
            "19\n",
            "Mean value of R2 of training set 0.044546964505831815\n",
            "Standard deviation of R2 of training set 0.30314859643189573\n",
            "Mean value of R2 of test set -0.10210565369276955\n",
            "Standard deviation of R2 of test set 0.37761819234811117\n"
          ],
          "name": "stdout"
        },
        {
          "output_type": "stream",
          "text": [
            "/usr/local/lib/python3.6/dist-packages/sklearn/neural_network/_multilayer_perceptron.py:571: ConvergenceWarning: Stochastic Optimizer: Maximum iterations (500) reached and the optimization hasn't converged yet.\n",
            "  % self.max_iter, ConvergenceWarning)\n"
          ],
          "name": "stderr"
        },
        {
          "output_type": "stream",
          "text": [
            "20\n",
            "Mean value of R2 of training set 0.1710699022550547\n",
            "Standard deviation of R2 of training set 0.05491965181669372\n",
            "Mean value of R2 of test set 0.14093053903166433\n",
            "Standard deviation of R2 of test set 0.29031416994146164\n"
          ],
          "name": "stdout"
        },
        {
          "output_type": "stream",
          "text": [
            "/usr/local/lib/python3.6/dist-packages/sklearn/neural_network/_multilayer_perceptron.py:571: ConvergenceWarning: Stochastic Optimizer: Maximum iterations (500) reached and the optimization hasn't converged yet.\n",
            "  % self.max_iter, ConvergenceWarning)\n"
          ],
          "name": "stderr"
        },
        {
          "output_type": "stream",
          "text": [
            "21\n",
            "Mean value of R2 of training set 0.3126763469920024\n",
            "Standard deviation of R2 of training set 0.13273278393028004\n",
            "Mean value of R2 of test set 0.12262637965678763\n",
            "Standard deviation of R2 of test set 0.18413497701696557\n"
          ],
          "name": "stdout"
        },
        {
          "output_type": "stream",
          "text": [
            "/usr/local/lib/python3.6/dist-packages/sklearn/neural_network/_multilayer_perceptron.py:571: ConvergenceWarning: Stochastic Optimizer: Maximum iterations (500) reached and the optimization hasn't converged yet.\n",
            "  % self.max_iter, ConvergenceWarning)\n"
          ],
          "name": "stderr"
        },
        {
          "output_type": "stream",
          "text": [
            "22\n",
            "Mean value of R2 of training set 0.2462685263448223\n",
            "Standard deviation of R2 of training set 0.19576717618152512\n",
            "Mean value of R2 of test set 0.02152132089075426\n",
            "Standard deviation of R2 of test set 0.15493767868382283\n"
          ],
          "name": "stdout"
        },
        {
          "output_type": "stream",
          "text": [
            "/usr/local/lib/python3.6/dist-packages/sklearn/neural_network/_multilayer_perceptron.py:571: ConvergenceWarning: Stochastic Optimizer: Maximum iterations (500) reached and the optimization hasn't converged yet.\n",
            "  % self.max_iter, ConvergenceWarning)\n"
          ],
          "name": "stderr"
        },
        {
          "output_type": "stream",
          "text": [
            "23\n",
            "Mean value of R2 of training set 0.250005421191716\n",
            "Standard deviation of R2 of training set 0.03362704656862913\n",
            "Mean value of R2 of test set 0.1336027174029\n",
            "Standard deviation of R2 of test set 0.21517418399729468\n"
          ],
          "name": "stdout"
        },
        {
          "output_type": "stream",
          "text": [
            "/usr/local/lib/python3.6/dist-packages/sklearn/neural_network/_multilayer_perceptron.py:571: ConvergenceWarning: Stochastic Optimizer: Maximum iterations (500) reached and the optimization hasn't converged yet.\n",
            "  % self.max_iter, ConvergenceWarning)\n"
          ],
          "name": "stderr"
        },
        {
          "output_type": "stream",
          "text": [
            "24\n",
            "Mean value of R2 of training set 0.1972671914731019\n",
            "Standard deviation of R2 of training set 0.1694319168558759\n",
            "Mean value of R2 of test set 0.11965331152545347\n",
            "Standard deviation of R2 of test set 0.2553103215524851\n"
          ],
          "name": "stdout"
        },
        {
          "output_type": "stream",
          "text": [
            "/usr/local/lib/python3.6/dist-packages/sklearn/neural_network/_multilayer_perceptron.py:571: ConvergenceWarning: Stochastic Optimizer: Maximum iterations (500) reached and the optimization hasn't converged yet.\n",
            "  % self.max_iter, ConvergenceWarning)\n",
            "/usr/local/lib/python3.6/dist-packages/sklearn/neural_network/_multilayer_perceptron.py:571: ConvergenceWarning: Stochastic Optimizer: Maximum iterations (500) reached and the optimization hasn't converged yet.\n",
            "  % self.max_iter, ConvergenceWarning)\n"
          ],
          "name": "stderr"
        },
        {
          "output_type": "stream",
          "text": [
            "25\n",
            "Mean value of R2 of training set 0.3177411929315206\n",
            "Standard deviation of R2 of training set 0.06785406428501009\n",
            "Mean value of R2 of test set 0.08715214677399197\n",
            "Standard deviation of R2 of test set 0.21827046460103675\n",
            "26\n",
            "Mean value of R2 of training set 0.20494379350627687\n",
            "Standard deviation of R2 of training set 0.22822735205032302\n",
            "Mean value of R2 of test set -0.10652034774856822\n",
            "Standard deviation of R2 of test set 0.5017712224791481\n",
            "27\n",
            "Mean value of R2 of training set 0.2514802886735856\n",
            "Standard deviation of R2 of training set 0.14350406695641135\n",
            "Mean value of R2 of test set 0.033092827671810154\n",
            "Standard deviation of R2 of test set 0.20028884908279085\n"
          ],
          "name": "stdout"
        },
        {
          "output_type": "stream",
          "text": [
            "/usr/local/lib/python3.6/dist-packages/sklearn/neural_network/_multilayer_perceptron.py:571: ConvergenceWarning: Stochastic Optimizer: Maximum iterations (500) reached and the optimization hasn't converged yet.\n",
            "  % self.max_iter, ConvergenceWarning)\n"
          ],
          "name": "stderr"
        },
        {
          "output_type": "stream",
          "text": [
            "28\n",
            "Mean value of R2 of training set 0.279987429989616\n",
            "Standard deviation of R2 of training set 0.10867594103682422\n",
            "Mean value of R2 of test set 0.1056637798154689\n",
            "Standard deviation of R2 of test set 0.17504136972178358\n",
            "29\n",
            "Mean value of R2 of training set 0.22149341781309217\n",
            "Standard deviation of R2 of training set 0.1387105023667685\n",
            "Mean value of R2 of test set 0.03397830918800643\n",
            "Standard deviation of R2 of test set 0.21428737613703353\n",
            "30\n",
            "Mean value of R2 of training set 0.09977770794518778\n",
            "Standard deviation of R2 of training set 0.1309921839421286\n",
            "Mean value of R2 of test set -0.057953309207074005\n",
            "Standard deviation of R2 of test set 0.5089071660194976\n",
            "31\n",
            "Mean value of R2 of training set 0.2039166574051761\n",
            "Standard deviation of R2 of training set 0.08428066441417352\n",
            "Mean value of R2 of test set 0.06552096289852097\n",
            "Standard deviation of R2 of test set 0.23817662404394277\n",
            "32\n",
            "Mean value of R2 of training set 0.22222346746960184\n",
            "Standard deviation of R2 of training set 0.1368163216383216\n",
            "Mean value of R2 of test set 0.09460172512043691\n",
            "Standard deviation of R2 of test set 0.19385335039210266\n"
          ],
          "name": "stdout"
        },
        {
          "output_type": "stream",
          "text": [
            "/usr/local/lib/python3.6/dist-packages/sklearn/neural_network/_multilayer_perceptron.py:571: ConvergenceWarning: Stochastic Optimizer: Maximum iterations (500) reached and the optimization hasn't converged yet.\n",
            "  % self.max_iter, ConvergenceWarning)\n"
          ],
          "name": "stderr"
        },
        {
          "output_type": "stream",
          "text": [
            "33\n",
            "Mean value of R2 of training set 0.18539144057014126\n",
            "Standard deviation of R2 of training set 0.40284943049907074\n",
            "Mean value of R2 of test set -0.09521000523183717\n",
            "Standard deviation of R2 of test set 0.3487062984947973\n"
          ],
          "name": "stdout"
        },
        {
          "output_type": "stream",
          "text": [
            "/usr/local/lib/python3.6/dist-packages/sklearn/neural_network/_multilayer_perceptron.py:571: ConvergenceWarning: Stochastic Optimizer: Maximum iterations (500) reached and the optimization hasn't converged yet.\n",
            "  % self.max_iter, ConvergenceWarning)\n",
            "/usr/local/lib/python3.6/dist-packages/sklearn/neural_network/_multilayer_perceptron.py:571: ConvergenceWarning: Stochastic Optimizer: Maximum iterations (500) reached and the optimization hasn't converged yet.\n",
            "  % self.max_iter, ConvergenceWarning)\n"
          ],
          "name": "stderr"
        },
        {
          "output_type": "stream",
          "text": [
            "34\n",
            "Mean value of R2 of training set 0.29618064802299393\n",
            "Standard deviation of R2 of training set 0.13913509829454096\n",
            "Mean value of R2 of test set 0.05065297487151263\n",
            "Standard deviation of R2 of test set 0.2501023094789883\n",
            "35\n",
            "Mean value of R2 of training set 0.17311116680060298\n",
            "Standard deviation of R2 of training set 0.060665150731542446\n",
            "Mean value of R2 of test set 0.03197018660014017\n",
            "Standard deviation of R2 of test set 0.3603841860411373\n",
            "36\n",
            "Mean value of R2 of training set 0.19889095178739424\n",
            "Standard deviation of R2 of training set 0.16739217264831877\n",
            "Mean value of R2 of test set 0.029987709479689456\n",
            "Standard deviation of R2 of test set 0.10159456411573659\n"
          ],
          "name": "stdout"
        },
        {
          "output_type": "stream",
          "text": [
            "/usr/local/lib/python3.6/dist-packages/sklearn/neural_network/_multilayer_perceptron.py:571: ConvergenceWarning: Stochastic Optimizer: Maximum iterations (500) reached and the optimization hasn't converged yet.\n",
            "  % self.max_iter, ConvergenceWarning)\n"
          ],
          "name": "stderr"
        },
        {
          "output_type": "stream",
          "text": [
            "37\n",
            "Mean value of R2 of training set 0.1422297176949128\n",
            "Standard deviation of R2 of training set 0.21544392647508948\n",
            "Mean value of R2 of test set 0.008481157576784581\n",
            "Standard deviation of R2 of test set 0.17499227692529398\n"
          ],
          "name": "stdout"
        },
        {
          "output_type": "stream",
          "text": [
            "/usr/local/lib/python3.6/dist-packages/sklearn/neural_network/_multilayer_perceptron.py:571: ConvergenceWarning: Stochastic Optimizer: Maximum iterations (500) reached and the optimization hasn't converged yet.\n",
            "  % self.max_iter, ConvergenceWarning)\n"
          ],
          "name": "stderr"
        },
        {
          "output_type": "stream",
          "text": [
            "38\n",
            "Mean value of R2 of training set -0.020633119694476593\n",
            "Standard deviation of R2 of training set 0.43369743864625343\n",
            "Mean value of R2 of test set -0.19137627252220926\n",
            "Standard deviation of R2 of test set 0.565592775798656\n"
          ],
          "name": "stdout"
        },
        {
          "output_type": "stream",
          "text": [
            "/usr/local/lib/python3.6/dist-packages/sklearn/neural_network/_multilayer_perceptron.py:571: ConvergenceWarning: Stochastic Optimizer: Maximum iterations (500) reached and the optimization hasn't converged yet.\n",
            "  % self.max_iter, ConvergenceWarning)\n"
          ],
          "name": "stderr"
        },
        {
          "output_type": "stream",
          "text": [
            "39\n",
            "Mean value of R2 of training set 0.2973282763329896\n",
            "Standard deviation of R2 of training set 0.16270195584111377\n",
            "Mean value of R2 of test set 0.12647858721277325\n",
            "Standard deviation of R2 of test set 0.24431653206348797\n",
            "40\n",
            "Mean value of R2 of training set 0.05866344237184473\n",
            "Standard deviation of R2 of training set 0.3161851448855476\n",
            "Mean value of R2 of test set -0.13136028663254315\n",
            "Standard deviation of R2 of test set 0.348503110489989\n",
            "41\n",
            "Mean value of R2 of training set 0.23604368570212483\n",
            "Standard deviation of R2 of training set 0.16786371382993326\n",
            "Mean value of R2 of test set 0.07544770834351927\n",
            "Standard deviation of R2 of test set 0.1854449207497804\n",
            "42\n",
            "Mean value of R2 of training set 0.197411850259976\n",
            "Standard deviation of R2 of training set 0.23269476719881488\n",
            "Mean value of R2 of test set 0.02140953241955096\n",
            "Standard deviation of R2 of test set 0.33437069912184114\n",
            "43\n",
            "Mean value of R2 of training set 0.23551872205291113\n",
            "Standard deviation of R2 of training set 0.13950372820505397\n",
            "Mean value of R2 of test set 0.14947361278330332\n",
            "Standard deviation of R2 of test set 0.2211663582670776\n",
            "44\n",
            "Mean value of R2 of training set 0.323906492888419\n",
            "Standard deviation of R2 of training set 0.05122427614267466\n",
            "Mean value of R2 of test set 0.0992745566779312\n",
            "Standard deviation of R2 of test set 0.2275128514244231\n",
            "45\n",
            "Mean value of R2 of training set 0.2685136057624564\n",
            "Standard deviation of R2 of training set 0.05723797724839807\n",
            "Mean value of R2 of test set 0.14751643214335225\n",
            "Standard deviation of R2 of test set 0.2405120492180131\n"
          ],
          "name": "stdout"
        },
        {
          "output_type": "stream",
          "text": [
            "/usr/local/lib/python3.6/dist-packages/sklearn/neural_network/_multilayer_perceptron.py:571: ConvergenceWarning: Stochastic Optimizer: Maximum iterations (500) reached and the optimization hasn't converged yet.\n",
            "  % self.max_iter, ConvergenceWarning)\n"
          ],
          "name": "stderr"
        },
        {
          "output_type": "stream",
          "text": [
            "46\n",
            "Mean value of R2 of training set 0.3339249379545053\n",
            "Standard deviation of R2 of training set 0.05818441330260085\n",
            "Mean value of R2 of test set 0.09916706187445937\n",
            "Standard deviation of R2 of test set 0.22570577834923594\n"
          ],
          "name": "stdout"
        },
        {
          "output_type": "stream",
          "text": [
            "/usr/local/lib/python3.6/dist-packages/sklearn/neural_network/_multilayer_perceptron.py:571: ConvergenceWarning: Stochastic Optimizer: Maximum iterations (500) reached and the optimization hasn't converged yet.\n",
            "  % self.max_iter, ConvergenceWarning)\n",
            "/usr/local/lib/python3.6/dist-packages/sklearn/neural_network/_multilayer_perceptron.py:571: ConvergenceWarning: Stochastic Optimizer: Maximum iterations (500) reached and the optimization hasn't converged yet.\n",
            "  % self.max_iter, ConvergenceWarning)\n"
          ],
          "name": "stderr"
        },
        {
          "output_type": "stream",
          "text": [
            "47\n",
            "Mean value of R2 of training set -0.06307876602325474\n",
            "Standard deviation of R2 of training set 0.8417984703334904\n",
            "Mean value of R2 of test set -0.23544394603979754\n",
            "Standard deviation of R2 of test set 0.7033527958167954\n",
            "48\n",
            "Mean value of R2 of training set -0.07846064584935336\n",
            "Standard deviation of R2 of training set 0.29379802826566925\n",
            "Mean value of R2 of test set -0.15160303459984611\n",
            "Standard deviation of R2 of test set 0.20563423342869128\n"
          ],
          "name": "stdout"
        },
        {
          "output_type": "stream",
          "text": [
            "/usr/local/lib/python3.6/dist-packages/sklearn/neural_network/_multilayer_perceptron.py:571: ConvergenceWarning: Stochastic Optimizer: Maximum iterations (500) reached and the optimization hasn't converged yet.\n",
            "  % self.max_iter, ConvergenceWarning)\n",
            "/usr/local/lib/python3.6/dist-packages/sklearn/neural_network/_multilayer_perceptron.py:571: ConvergenceWarning: Stochastic Optimizer: Maximum iterations (500) reached and the optimization hasn't converged yet.\n",
            "  % self.max_iter, ConvergenceWarning)\n"
          ],
          "name": "stderr"
        },
        {
          "output_type": "stream",
          "text": [
            "49\n",
            "Mean value of R2 of training set 0.3211659286137106\n",
            "Standard deviation of R2 of training set 0.22883741115879444\n",
            "Mean value of R2 of test set 0.03668123596211981\n",
            "Standard deviation of R2 of test set 0.27579788450755643\n",
            "50\n",
            "Mean value of R2 of training set 0.14732688958315532\n",
            "Standard deviation of R2 of training set 0.3216676486403647\n",
            "Mean value of R2 of test set -0.06541288298586515\n",
            "Standard deviation of R2 of test set 0.35410077713900184\n",
            "51\n",
            "Mean value of R2 of training set 0.2311891641574235\n",
            "Standard deviation of R2 of training set 0.04395385956332118\n",
            "Mean value of R2 of test set 0.1404783123425324\n",
            "Standard deviation of R2 of test set 0.3026319055976709\n"
          ],
          "name": "stdout"
        },
        {
          "output_type": "stream",
          "text": [
            "/usr/local/lib/python3.6/dist-packages/sklearn/neural_network/_multilayer_perceptron.py:571: ConvergenceWarning: Stochastic Optimizer: Maximum iterations (500) reached and the optimization hasn't converged yet.\n",
            "  % self.max_iter, ConvergenceWarning)\n"
          ],
          "name": "stderr"
        },
        {
          "output_type": "stream",
          "text": [
            "52\n",
            "Mean value of R2 of training set 0.38180466194317053\n",
            "Standard deviation of R2 of training set 0.09690172106657033\n",
            "Mean value of R2 of test set 0.10377977701633859\n",
            "Standard deviation of R2 of test set 0.25666711854337265\n",
            "53\n",
            "Mean value of R2 of training set 0.0873479697793001\n",
            "Standard deviation of R2 of training set 0.28826940001533424\n",
            "Mean value of R2 of test set -0.014830286108892032\n",
            "Standard deviation of R2 of test set 0.316935220840219\n",
            "54\n",
            "Mean value of R2 of training set -0.8340380321293603\n",
            "Standard deviation of R2 of training set 0.7265288299061109\n",
            "Mean value of R2 of test set -0.829220565202287\n",
            "Standard deviation of R2 of test set 0.9771949031932257\n",
            "55\n",
            "Mean value of R2 of training set 0.1433733837951528\n",
            "Standard deviation of R2 of training set 0.20767217184993247\n",
            "Mean value of R2 of test set 0.007254158187177534\n",
            "Standard deviation of R2 of test set 0.10843250254750486\n",
            "56\n",
            "Mean value of R2 of training set 0.15072267776713832\n",
            "Standard deviation of R2 of training set 0.14504441539287294\n",
            "Mean value of R2 of test set -0.0927156157290703\n",
            "Standard deviation of R2 of test set 0.5148692836341885\n"
          ],
          "name": "stdout"
        },
        {
          "output_type": "stream",
          "text": [
            "/usr/local/lib/python3.6/dist-packages/sklearn/neural_network/_multilayer_perceptron.py:571: ConvergenceWarning: Stochastic Optimizer: Maximum iterations (500) reached and the optimization hasn't converged yet.\n",
            "  % self.max_iter, ConvergenceWarning)\n",
            "/usr/local/lib/python3.6/dist-packages/sklearn/neural_network/_multilayer_perceptron.py:571: ConvergenceWarning: Stochastic Optimizer: Maximum iterations (500) reached and the optimization hasn't converged yet.\n",
            "  % self.max_iter, ConvergenceWarning)\n",
            "/usr/local/lib/python3.6/dist-packages/sklearn/neural_network/_multilayer_perceptron.py:571: ConvergenceWarning: Stochastic Optimizer: Maximum iterations (500) reached and the optimization hasn't converged yet.\n",
            "  % self.max_iter, ConvergenceWarning)\n"
          ],
          "name": "stderr"
        },
        {
          "output_type": "stream",
          "text": [
            "57\n",
            "Mean value of R2 of training set 0.4297842167370316\n",
            "Standard deviation of R2 of training set 0.11912840624869807\n",
            "Mean value of R2 of test set 0.12088012483728133\n",
            "Standard deviation of R2 of test set 0.19871792361466434\n",
            "58\n",
            "Mean value of R2 of training set 0.030255049151179297\n",
            "Standard deviation of R2 of training set 0.3636546057840776\n",
            "Mean value of R2 of test set -0.06724408726131476\n",
            "Standard deviation of R2 of test set 0.29485830285385306\n",
            "59\n",
            "Mean value of R2 of training set 0.006067076808336791\n",
            "Standard deviation of R2 of training set 0.38727927055578093\n",
            "Mean value of R2 of test set -0.04114359001707982\n",
            "Standard deviation of R2 of test set 0.37688353839435695\n",
            "60\n",
            "Mean value of R2 of training set 0.11856516393481262\n",
            "Standard deviation of R2 of training set 0.12735042880080327\n",
            "Mean value of R2 of test set 0.006951320698176056\n",
            "Standard deviation of R2 of test set 0.4183269742267888\n",
            "61\n",
            "Mean value of R2 of training set 0.21429117862023878\n",
            "Standard deviation of R2 of training set 0.21157348117170333\n",
            "Mean value of R2 of test set 0.003442713098244621\n",
            "Standard deviation of R2 of test set 0.14997819312144225\n"
          ],
          "name": "stdout"
        },
        {
          "output_type": "stream",
          "text": [
            "/usr/local/lib/python3.6/dist-packages/sklearn/neural_network/_multilayer_perceptron.py:571: ConvergenceWarning: Stochastic Optimizer: Maximum iterations (500) reached and the optimization hasn't converged yet.\n",
            "  % self.max_iter, ConvergenceWarning)\n"
          ],
          "name": "stderr"
        },
        {
          "output_type": "stream",
          "text": [
            "62\n",
            "Mean value of R2 of training set 0.18399827056951806\n",
            "Standard deviation of R2 of training set 0.1854191577459326\n",
            "Mean value of R2 of test set 0.1358927126120641\n",
            "Standard deviation of R2 of test set 0.20753705272094644\n",
            "63\n",
            "Mean value of R2 of training set 0.04587985548061499\n",
            "Standard deviation of R2 of training set 0.2089941903554608\n",
            "Mean value of R2 of test set -0.12334149785296428\n",
            "Standard deviation of R2 of test set 0.35395100666315715\n",
            "64\n",
            "Mean value of R2 of training set 0.36480352128105625\n",
            "Standard deviation of R2 of training set 0.11095686584518144\n",
            "Mean value of R2 of test set 0.16356949982125754\n",
            "Standard deviation of R2 of test set 0.2721280983815517\n",
            "65\n",
            "Mean value of R2 of training set 0.04726768770265674\n",
            "Standard deviation of R2 of training set 0.4031827321397281\n",
            "Mean value of R2 of test set -0.23904301710497167\n",
            "Standard deviation of R2 of test set 0.49111221682299266\n",
            "66\n",
            "Mean value of R2 of training set 0.02712113623790524\n",
            "Standard deviation of R2 of training set 0.24456384713042564\n",
            "Mean value of R2 of test set -0.006701276456829913\n",
            "Standard deviation of R2 of test set 0.2244241125016099\n"
          ],
          "name": "stdout"
        },
        {
          "output_type": "stream",
          "text": [
            "/usr/local/lib/python3.6/dist-packages/sklearn/neural_network/_multilayer_perceptron.py:571: ConvergenceWarning: Stochastic Optimizer: Maximum iterations (500) reached and the optimization hasn't converged yet.\n",
            "  % self.max_iter, ConvergenceWarning)\n"
          ],
          "name": "stderr"
        },
        {
          "output_type": "stream",
          "text": [
            "67\n",
            "Mean value of R2 of training set 0.15096394289574644\n",
            "Standard deviation of R2 of training set 0.2089956569058174\n",
            "Mean value of R2 of test set 0.019971475410281686\n",
            "Standard deviation of R2 of test set 0.3432284565443764\n",
            "68\n",
            "Mean value of R2 of training set 0.17687143475238576\n",
            "Standard deviation of R2 of training set 0.1484727040922898\n",
            "Mean value of R2 of test set 0.10896940860939666\n",
            "Standard deviation of R2 of test set 0.31914129468371066\n",
            "69\n",
            "Mean value of R2 of training set 0.01596321527263106\n",
            "Standard deviation of R2 of training set 0.32558104409246513\n",
            "Mean value of R2 of test set -0.06212933284685007\n",
            "Standard deviation of R2 of test set 0.3066258156696208\n"
          ],
          "name": "stdout"
        },
        {
          "output_type": "stream",
          "text": [
            "/usr/local/lib/python3.6/dist-packages/sklearn/neural_network/_multilayer_perceptron.py:571: ConvergenceWarning: Stochastic Optimizer: Maximum iterations (500) reached and the optimization hasn't converged yet.\n",
            "  % self.max_iter, ConvergenceWarning)\n"
          ],
          "name": "stderr"
        },
        {
          "output_type": "stream",
          "text": [
            "70\n",
            "Mean value of R2 of training set 0.10151332831700727\n",
            "Standard deviation of R2 of training set 0.48441711480625355\n",
            "Mean value of R2 of test set -0.15526520703958746\n",
            "Standard deviation of R2 of test set 0.22255552316790878\n",
            "71\n",
            "Mean value of R2 of training set 0.05536900531343067\n",
            "Standard deviation of R2 of training set 0.2288988929176203\n",
            "Mean value of R2 of test set -0.026887025024418837\n",
            "Standard deviation of R2 of test set 0.29994563014000647\n"
          ],
          "name": "stdout"
        },
        {
          "output_type": "stream",
          "text": [
            "/usr/local/lib/python3.6/dist-packages/sklearn/neural_network/_multilayer_perceptron.py:571: ConvergenceWarning: Stochastic Optimizer: Maximum iterations (500) reached and the optimization hasn't converged yet.\n",
            "  % self.max_iter, ConvergenceWarning)\n"
          ],
          "name": "stderr"
        },
        {
          "output_type": "stream",
          "text": [
            "72\n",
            "Mean value of R2 of training set 0.05195987121972595\n",
            "Standard deviation of R2 of training set 0.39749675293001957\n",
            "Mean value of R2 of test set -0.11093412261309668\n",
            "Standard deviation of R2 of test set 0.2955126109078563\n",
            "73\n",
            "Mean value of R2 of training set 0.3163006659250569\n",
            "Standard deviation of R2 of training set 0.1722281294385829\n",
            "Mean value of R2 of test set 0.04521090385673107\n",
            "Standard deviation of R2 of test set 0.22352886413657969\n",
            "74\n",
            "Mean value of R2 of training set 0.2205322459607938\n",
            "Standard deviation of R2 of training set 0.22090206412082494\n",
            "Mean value of R2 of test set 0.06824536399312112\n",
            "Standard deviation of R2 of test set 0.24502806201740504\n",
            "75\n",
            "Mean value of R2 of training set 0.2902121343905777\n",
            "Standard deviation of R2 of training set 0.1819597978573742\n",
            "Mean value of R2 of test set 0.017638063424538636\n",
            "Standard deviation of R2 of test set 0.2766244892231612\n",
            "76\n",
            "Mean value of R2 of training set 0.3732321457527225\n",
            "Standard deviation of R2 of training set 0.12223102661318734\n",
            "Mean value of R2 of test set 0.09877898428641912\n",
            "Standard deviation of R2 of test set 0.29129414821768407\n"
          ],
          "name": "stdout"
        },
        {
          "output_type": "stream",
          "text": [
            "/usr/local/lib/python3.6/dist-packages/sklearn/neural_network/_multilayer_perceptron.py:571: ConvergenceWarning: Stochastic Optimizer: Maximum iterations (500) reached and the optimization hasn't converged yet.\n",
            "  % self.max_iter, ConvergenceWarning)\n"
          ],
          "name": "stderr"
        },
        {
          "output_type": "stream",
          "text": [
            "77\n",
            "Mean value of R2 of training set 0.34143270384045343\n",
            "Standard deviation of R2 of training set 0.13021073673569164\n",
            "Mean value of R2 of test set 0.04246665183069612\n",
            "Standard deviation of R2 of test set 0.32467930045423665\n",
            "78\n",
            "Mean value of R2 of training set 0.1726551667106033\n",
            "Standard deviation of R2 of training set 0.3375745722691463\n",
            "Mean value of R2 of test set -0.03964079349675942\n",
            "Standard deviation of R2 of test set 0.2217664203476086\n"
          ],
          "name": "stdout"
        },
        {
          "output_type": "stream",
          "text": [
            "/usr/local/lib/python3.6/dist-packages/sklearn/neural_network/_multilayer_perceptron.py:571: ConvergenceWarning: Stochastic Optimizer: Maximum iterations (500) reached and the optimization hasn't converged yet.\n",
            "  % self.max_iter, ConvergenceWarning)\n"
          ],
          "name": "stderr"
        },
        {
          "output_type": "stream",
          "text": [
            "79\n",
            "Mean value of R2 of training set 0.12937798231717865\n",
            "Standard deviation of R2 of training set 0.32178387993465557\n",
            "Mean value of R2 of test set -0.04355068799285461\n",
            "Standard deviation of R2 of test set 0.17575148030615237\n",
            "80\n",
            "Mean value of R2 of training set 0.17892116465815738\n",
            "Standard deviation of R2 of training set 0.24024887189912272\n",
            "Mean value of R2 of test set 0.036569680596280685\n",
            "Standard deviation of R2 of test set 0.30915819828784985\n",
            "81\n",
            "Mean value of R2 of training set 0.20629857787853575\n",
            "Standard deviation of R2 of training set 0.22084910675874103\n",
            "Mean value of R2 of test set -0.032811994659908694\n",
            "Standard deviation of R2 of test set 0.47906178103012514\n",
            "82\n",
            "Mean value of R2 of training set -0.41755742897333314\n",
            "Standard deviation of R2 of training set 0.47416494494349765\n",
            "Mean value of R2 of test set -0.5801798237635959\n",
            "Standard deviation of R2 of test set 0.6291843757939983\n",
            "83\n",
            "Mean value of R2 of training set 0.32869861108885357\n",
            "Standard deviation of R2 of training set 0.1946473177216805\n",
            "Mean value of R2 of test set 0.09064833441537473\n",
            "Standard deviation of R2 of test set 0.25180591347672693\n",
            "84\n",
            "Mean value of R2 of training set 0.31319302474050453\n",
            "Standard deviation of R2 of training set 0.17026256148108387\n",
            "Mean value of R2 of test set 0.05577512617473879\n",
            "Standard deviation of R2 of test set 0.2900299263413793\n",
            "85\n",
            "Mean value of R2 of training set 0.0379659264043786\n",
            "Standard deviation of R2 of training set 0.2718147708701477\n",
            "Mean value of R2 of test set -0.08779592705480863\n",
            "Standard deviation of R2 of test set 0.18852026718739853\n"
          ],
          "name": "stdout"
        },
        {
          "output_type": "stream",
          "text": [
            "/usr/local/lib/python3.6/dist-packages/sklearn/neural_network/_multilayer_perceptron.py:571: ConvergenceWarning: Stochastic Optimizer: Maximum iterations (500) reached and the optimization hasn't converged yet.\n",
            "  % self.max_iter, ConvergenceWarning)\n"
          ],
          "name": "stderr"
        },
        {
          "output_type": "stream",
          "text": [
            "86\n",
            "Mean value of R2 of training set 0.2584123349711709\n",
            "Standard deviation of R2 of training set 0.23395251677874399\n",
            "Mean value of R2 of test set 0.03123703198557723\n",
            "Standard deviation of R2 of test set 0.25826332735504454\n"
          ],
          "name": "stdout"
        },
        {
          "output_type": "stream",
          "text": [
            "/usr/local/lib/python3.6/dist-packages/sklearn/neural_network/_multilayer_perceptron.py:571: ConvergenceWarning: Stochastic Optimizer: Maximum iterations (500) reached and the optimization hasn't converged yet.\n",
            "  % self.max_iter, ConvergenceWarning)\n"
          ],
          "name": "stderr"
        },
        {
          "output_type": "stream",
          "text": [
            "87\n",
            "Mean value of R2 of training set 0.39582633192521754\n",
            "Standard deviation of R2 of training set 0.13755713475395284\n",
            "Mean value of R2 of test set 0.11285278090268164\n",
            "Standard deviation of R2 of test set 0.3073741690318965\n",
            "88\n",
            "Mean value of R2 of training set 0.17866996009294744\n",
            "Standard deviation of R2 of training set 0.12095245299145571\n",
            "Mean value of R2 of test set 0.04179072589565114\n",
            "Standard deviation of R2 of test set 0.24656416146109447\n",
            "89\n",
            "Mean value of R2 of training set 0.16582661746328772\n",
            "Standard deviation of R2 of training set 0.17217090231884433\n",
            "Mean value of R2 of test set 0.047293859052915194\n",
            "Standard deviation of R2 of test set 0.1732741159559634\n",
            "90\n",
            "Mean value of R2 of training set 0.22058567143977312\n",
            "Standard deviation of R2 of training set 0.20735067773387686\n",
            "Mean value of R2 of test set 0.06646242845521894\n",
            "Standard deviation of R2 of test set 0.22470930390856056\n",
            "91\n",
            "Mean value of R2 of training set 0.10099306853312157\n",
            "Standard deviation of R2 of training set 0.22866817548434096\n",
            "Mean value of R2 of test set -0.022772416614402435\n",
            "Standard deviation of R2 of test set 0.22872905154314585\n",
            "92\n",
            "Mean value of R2 of training set 0.31293610412130174\n",
            "Standard deviation of R2 of training set 0.1368695124497817\n",
            "Mean value of R2 of test set 0.12623592932459535\n",
            "Standard deviation of R2 of test set 0.26353172399176034\n",
            "93\n",
            "Mean value of R2 of training set 0.2659526495196951\n",
            "Standard deviation of R2 of training set 0.26353632952685224\n",
            "Mean value of R2 of test set 0.08123628916182732\n",
            "Standard deviation of R2 of test set 0.28752914804044705\n",
            "94\n",
            "Mean value of R2 of training set 0.18541113824576655\n",
            "Standard deviation of R2 of training set 0.21319181692641456\n",
            "Mean value of R2 of test set 0.01362911801118663\n",
            "Standard deviation of R2 of test set 0.1999781027215246\n",
            "95\n",
            "Mean value of R2 of training set 0.26373496506904737\n",
            "Standard deviation of R2 of training set 0.09669760564859103\n",
            "Mean value of R2 of test set 0.06487104386986636\n",
            "Standard deviation of R2 of test set 0.2867736705591259\n",
            "96\n",
            "Mean value of R2 of training set 0.13418397703678955\n",
            "Standard deviation of R2 of training set 0.29819501911030727\n",
            "Mean value of R2 of test set -0.04775435112820314\n",
            "Standard deviation of R2 of test set 0.25127594830459193\n",
            "97\n",
            "Mean value of R2 of training set 0.2230642946322384\n",
            "Standard deviation of R2 of training set 0.19995495746235423\n",
            "Mean value of R2 of test set 0.0028854702384153164\n",
            "Standard deviation of R2 of test set 0.348864577376387\n",
            "98\n",
            "Mean value of R2 of training set -0.05271223020760421\n",
            "Standard deviation of R2 of training set 0.4459715323384464\n",
            "Mean value of R2 of test set -0.32726351783971563\n",
            "Standard deviation of R2 of test set 0.1687138950489376\n",
            "99\n",
            "Mean value of R2 of training set 0.17621912056015143\n",
            "Standard deviation of R2 of training set 0.25152544711774383\n",
            "Mean value of R2 of test set -0.0022983868665927\n",
            "Standard deviation of R2 of test set 0.21687001787848548\n",
            "100\n",
            "Mean value of R2 of training set 0.13555375567739403\n",
            "Standard deviation of R2 of training set 0.3383537670231368\n",
            "Mean value of R2 of test set -0.10635597782008074\n",
            "Standard deviation of R2 of test set 0.1827087158341947\n",
            "101\n",
            "Mean value of R2 of training set 0.23245473581030668\n",
            "Standard deviation of R2 of training set 0.18380824511723343\n",
            "Mean value of R2 of test set 0.066816206810836\n",
            "Standard deviation of R2 of test set 0.26604673819160896\n",
            "102\n",
            "Mean value of R2 of training set 0.22486068498005277\n",
            "Standard deviation of R2 of training set 0.15889632677157634\n",
            "Mean value of R2 of test set -0.007279290887460987\n",
            "Standard deviation of R2 of test set 0.2887138720368557\n",
            "103\n",
            "Mean value of R2 of training set 0.027696156695465157\n",
            "Standard deviation of R2 of training set 0.2523579972094113\n",
            "Mean value of R2 of test set -0.09290880588824726\n",
            "Standard deviation of R2 of test set 0.12937412917730343\n",
            "104\n",
            "Mean value of R2 of training set 0.17039941576963702\n",
            "Standard deviation of R2 of training set 0.2477368636965575\n",
            "Mean value of R2 of test set -0.03812405890550383\n",
            "Standard deviation of R2 of test set 0.4549161709395241\n",
            "105\n",
            "Mean value of R2 of training set -0.031533196726864776\n",
            "Standard deviation of R2 of training set 0.57536026801992\n",
            "Mean value of R2 of test set -0.233047569983927\n",
            "Standard deviation of R2 of test set 0.44729320102504677\n",
            "106\n",
            "Mean value of R2 of training set -0.030095539531698967\n",
            "Standard deviation of R2 of training set 0.5261316915247829\n",
            "Mean value of R2 of test set -0.12836998686505738\n",
            "Standard deviation of R2 of test set 0.6598308354750896\n",
            "107\n",
            "Mean value of R2 of training set 0.3464125134427394\n",
            "Standard deviation of R2 of training set 0.14684773767962314\n",
            "Mean value of R2 of test set 0.090924549467441\n",
            "Standard deviation of R2 of test set 0.25234542401807025\n",
            "108\n",
            "Mean value of R2 of training set -0.17825560884018096\n",
            "Standard deviation of R2 of training set 0.5349095622568012\n",
            "Mean value of R2 of test set -0.3014950817620735\n",
            "Standard deviation of R2 of test set 0.5173848617312945\n",
            "109\n",
            "Mean value of R2 of training set 0.19087993677565154\n",
            "Standard deviation of R2 of training set 0.27383851068471043\n",
            "Mean value of R2 of test set -0.0597263135016958\n",
            "Standard deviation of R2 of test set 0.21329093400198923\n",
            "110\n",
            "Mean value of R2 of training set 0.24699329665943792\n",
            "Standard deviation of R2 of training set 0.10931780846488254\n",
            "Mean value of R2 of test set 0.09610980043278797\n",
            "Standard deviation of R2 of test set 0.25441414811544827\n",
            "111\n",
            "Mean value of R2 of training set -0.2800806869263839\n",
            "Standard deviation of R2 of training set 0.37960803086667994\n",
            "Mean value of R2 of test set -0.42177436548070113\n",
            "Standard deviation of R2 of test set 0.5116526254789575\n",
            "112\n",
            "Mean value of R2 of training set 0.3495767891899271\n",
            "Standard deviation of R2 of training set 0.1392368316490999\n",
            "Mean value of R2 of test set 0.11302836962891227\n",
            "Standard deviation of R2 of test set 0.23275760914248492\n",
            "113\n",
            "Mean value of R2 of training set 0.35480796728519237\n",
            "Standard deviation of R2 of training set 0.11879033777874792\n",
            "Mean value of R2 of test set 0.11837140423837511\n",
            "Standard deviation of R2 of test set 0.2650564423850562\n",
            "114\n",
            "Mean value of R2 of training set 0.043810528021434314\n",
            "Standard deviation of R2 of training set 0.3460992344111376\n",
            "Mean value of R2 of test set -0.09546924324119457\n",
            "Standard deviation of R2 of test set 0.24706937760507977\n",
            "115\n",
            "Mean value of R2 of training set -0.08704445402126851\n",
            "Standard deviation of R2 of training set 0.25806949214964403\n",
            "Mean value of R2 of test set -0.15971120895351962\n",
            "Standard deviation of R2 of test set 0.5095962679604383\n",
            "116\n",
            "Mean value of R2 of training set 0.5066532545869278\n",
            "Standard deviation of R2 of training set 0.038994254434889755\n",
            "Mean value of R2 of test set 0.07847179017144398\n",
            "Standard deviation of R2 of test set 0.19817583117952547\n",
            "117\n",
            "Mean value of R2 of training set 0.2272736950459472\n",
            "Standard deviation of R2 of training set 0.06731191952752612\n",
            "Mean value of R2 of test set 0.09969508080747064\n",
            "Standard deviation of R2 of test set 0.29727259843960324\n"
          ],
          "name": "stdout"
        },
        {
          "output_type": "stream",
          "text": [
            "/usr/local/lib/python3.6/dist-packages/sklearn/neural_network/_multilayer_perceptron.py:571: ConvergenceWarning: Stochastic Optimizer: Maximum iterations (500) reached and the optimization hasn't converged yet.\n",
            "  % self.max_iter, ConvergenceWarning)\n"
          ],
          "name": "stderr"
        },
        {
          "output_type": "stream",
          "text": [
            "118\n",
            "Mean value of R2 of training set 0.43068305867152623\n",
            "Standard deviation of R2 of training set 0.14748343663690938\n",
            "Mean value of R2 of test set 0.1312936550267563\n",
            "Standard deviation of R2 of test set 0.2649087667430714\n",
            "119\n",
            "Mean value of R2 of training set 0.1367517646753725\n",
            "Standard deviation of R2 of training set 0.22043837627560953\n",
            "Mean value of R2 of test set -0.05847081733574713\n",
            "Standard deviation of R2 of test set 0.2956760636744881\n",
            "120\n",
            "Mean value of R2 of training set 0.004282873989040398\n",
            "Standard deviation of R2 of training set 0.2713951499822018\n",
            "Mean value of R2 of test set -0.04780821268204058\n",
            "Standard deviation of R2 of test set 0.24698968044772573\n",
            "121\n",
            "Mean value of R2 of training set -0.09928379616170971\n",
            "Standard deviation of R2 of training set 0.3477274080860854\n",
            "Mean value of R2 of test set -0.2811365930630843\n",
            "Standard deviation of R2 of test set 0.1155324566876289\n",
            "122\n",
            "Mean value of R2 of training set -0.06420125884928854\n",
            "Standard deviation of R2 of training set 0.2863000444525259\n",
            "Mean value of R2 of test set -0.10417175447065621\n",
            "Standard deviation of R2 of test set 0.334836035846435\n",
            "123\n",
            "Mean value of R2 of training set -0.1402000311409895\n",
            "Standard deviation of R2 of training set 0.15309263441812285\n",
            "Mean value of R2 of test set -0.15524443909643726\n",
            "Standard deviation of R2 of test set 0.2998263117661724\n",
            "124\n",
            "Mean value of R2 of training set 0.24520617138636797\n",
            "Standard deviation of R2 of training set 0.3236718827219465\n",
            "Mean value of R2 of test set -0.02426423951231782\n",
            "Standard deviation of R2 of test set 0.279136121877235\n",
            "125\n",
            "Mean value of R2 of training set 0.06366434840814744\n",
            "Standard deviation of R2 of training set 0.20249299259127485\n",
            "Mean value of R2 of test set -0.04655767955561885\n",
            "Standard deviation of R2 of test set 0.2809080763407212\n",
            "126\n",
            "Mean value of R2 of training set 0.07867728224183629\n",
            "Standard deviation of R2 of training set 0.15626377801950198\n",
            "Mean value of R2 of test set -0.01178948347949188\n",
            "Standard deviation of R2 of test set 0.2630168476047128\n",
            "127\n",
            "Mean value of R2 of training set 0.16351689769963346\n",
            "Standard deviation of R2 of training set 0.23170144129514303\n",
            "Mean value of R2 of test set 0.041946662012445235\n",
            "Standard deviation of R2 of test set 0.24483325727093147\n"
          ],
          "name": "stdout"
        },
        {
          "output_type": "stream",
          "text": [
            "/usr/local/lib/python3.6/dist-packages/sklearn/neural_network/_multilayer_perceptron.py:571: ConvergenceWarning: Stochastic Optimizer: Maximum iterations (500) reached and the optimization hasn't converged yet.\n",
            "  % self.max_iter, ConvergenceWarning)\n"
          ],
          "name": "stderr"
        },
        {
          "output_type": "stream",
          "text": [
            "128\n",
            "Mean value of R2 of training set 0.20089111310152188\n",
            "Standard deviation of R2 of training set 0.16746489432868977\n",
            "Mean value of R2 of test set -0.05786823611556377\n",
            "Standard deviation of R2 of test set 0.23301928670160318\n",
            "129\n",
            "Mean value of R2 of training set 0.015523705508466351\n",
            "Standard deviation of R2 of training set 0.3370962970576763\n",
            "Mean value of R2 of test set -0.17295486188193046\n",
            "Standard deviation of R2 of test set 0.2853025097520051\n",
            "130\n",
            "Mean value of R2 of training set 0.1639139841880967\n",
            "Standard deviation of R2 of training set 0.34792614861728094\n",
            "Mean value of R2 of test set -0.02205442760886278\n",
            "Standard deviation of R2 of test set 0.18659983221855783\n",
            "131\n",
            "Mean value of R2 of training set 0.08501717576056489\n",
            "Standard deviation of R2 of training set 0.19532638217107728\n",
            "Mean value of R2 of test set -0.02984514291133833\n",
            "Standard deviation of R2 of test set 0.35761754955250286\n",
            "132\n",
            "Mean value of R2 of training set 0.2423815009797519\n",
            "Standard deviation of R2 of training set 0.15934853578499097\n",
            "Mean value of R2 of test set 0.09646436190968247\n",
            "Standard deviation of R2 of test set 0.21687451491098664\n",
            "133\n",
            "Mean value of R2 of training set 0.29695573989844926\n",
            "Standard deviation of R2 of training set 0.18259084715843363\n",
            "Mean value of R2 of test set -0.01688901679823593\n",
            "Standard deviation of R2 of test set 0.3834443308878721\n",
            "134\n",
            "Mean value of R2 of training set 0.2718085150010364\n",
            "Standard deviation of R2 of training set 0.20793570611978537\n",
            "Mean value of R2 of test set 0.12261484978944831\n",
            "Standard deviation of R2 of test set 0.3050181305530188\n",
            "135\n",
            "Mean value of R2 of training set 0.02838428136391602\n",
            "Standard deviation of R2 of training set 0.1706867235420312\n",
            "Mean value of R2 of test set -0.011092998175758206\n",
            "Standard deviation of R2 of test set 0.19962984436961803\n",
            "136\n",
            "Mean value of R2 of training set 0.07969921039272074\n",
            "Standard deviation of R2 of training set 0.10799173381077232\n",
            "Mean value of R2 of test set -0.03562766227156858\n",
            "Standard deviation of R2 of test set 0.3565933705659535\n"
          ],
          "name": "stdout"
        },
        {
          "output_type": "stream",
          "text": [
            "/usr/local/lib/python3.6/dist-packages/sklearn/neural_network/_multilayer_perceptron.py:571: ConvergenceWarning: Stochastic Optimizer: Maximum iterations (500) reached and the optimization hasn't converged yet.\n",
            "  % self.max_iter, ConvergenceWarning)\n"
          ],
          "name": "stderr"
        },
        {
          "output_type": "stream",
          "text": [
            "137\n",
            "Mean value of R2 of training set 0.2805154209018727\n",
            "Standard deviation of R2 of training set 0.2374342343235557\n",
            "Mean value of R2 of test set -0.01510164384622023\n",
            "Standard deviation of R2 of test set 0.2688512786925404\n",
            "138\n",
            "Mean value of R2 of training set -0.2127028820236181\n",
            "Standard deviation of R2 of training set 0.4215641581218464\n",
            "Mean value of R2 of test set -0.3921850137449247\n",
            "Standard deviation of R2 of test set 0.648267950089508\n",
            "139\n",
            "Mean value of R2 of training set 0.07719624985614001\n",
            "Standard deviation of R2 of training set 0.15913750679273883\n",
            "Mean value of R2 of test set 0.0054921989211885736\n",
            "Standard deviation of R2 of test set 0.2929797579782647\n",
            "140\n",
            "Mean value of R2 of training set -0.043936117474337705\n",
            "Standard deviation of R2 of training set 0.17890417558460894\n",
            "Mean value of R2 of test set -0.1282102810793296\n",
            "Standard deviation of R2 of test set 0.2558563452236021\n",
            "141\n",
            "Mean value of R2 of training set 0.006084017121731372\n",
            "Standard deviation of R2 of training set 0.24758953496974073\n",
            "Mean value of R2 of test set -0.1666220267827993\n",
            "Standard deviation of R2 of test set 0.18634493791634582\n",
            "142\n",
            "Mean value of R2 of training set 0.3048280403092285\n",
            "Standard deviation of R2 of training set 0.12506135219482747\n",
            "Mean value of R2 of test set 0.021022847001691686\n",
            "Standard deviation of R2 of test set 0.2550994467566958\n"
          ],
          "name": "stdout"
        },
        {
          "output_type": "stream",
          "text": [
            "/usr/local/lib/python3.6/dist-packages/sklearn/neural_network/_multilayer_perceptron.py:571: ConvergenceWarning: Stochastic Optimizer: Maximum iterations (500) reached and the optimization hasn't converged yet.\n",
            "  % self.max_iter, ConvergenceWarning)\n"
          ],
          "name": "stderr"
        },
        {
          "output_type": "stream",
          "text": [
            "143\n",
            "Mean value of R2 of training set 0.2938805268398127\n",
            "Standard deviation of R2 of training set 0.3547935779793772\n",
            "Mean value of R2 of test set -0.10473598169986909\n",
            "Standard deviation of R2 of test set 0.16057355213174812\n",
            "144\n",
            "Mean value of R2 of training set 0.24463456653082338\n",
            "Standard deviation of R2 of training set 0.21483443702126478\n",
            "Mean value of R2 of test set 0.01406644956500272\n",
            "Standard deviation of R2 of test set 0.22826861036991664\n",
            "145\n",
            "Mean value of R2 of training set -0.0496526000606764\n",
            "Standard deviation of R2 of training set 0.3930783598222153\n",
            "Mean value of R2 of test set -0.239946075517325\n",
            "Standard deviation of R2 of test set 0.21581180760832394\n",
            "146\n",
            "Mean value of R2 of training set 0.21823672791874554\n",
            "Standard deviation of R2 of training set 0.26365270056292145\n",
            "Mean value of R2 of test set 0.037919113451965386\n",
            "Standard deviation of R2 of test set 0.11017296513272223\n",
            "147\n",
            "Mean value of R2 of training set 0.2353416214423964\n",
            "Standard deviation of R2 of training set 0.08104212756283433\n",
            "Mean value of R2 of test set 0.12367507446163001\n",
            "Standard deviation of R2 of test set 0.2600171187285163\n",
            "148\n",
            "Mean value of R2 of training set 0.16940932687417967\n",
            "Standard deviation of R2 of training set 0.23771259274169484\n",
            "Mean value of R2 of test set 0.06642163585221644\n",
            "Standard deviation of R2 of test set 0.18017186305863683\n",
            "149\n",
            "Mean value of R2 of training set 0.2430173631208854\n",
            "Standard deviation of R2 of training set 0.26596366454251097\n",
            "Mean value of R2 of test set -0.0036200711258614626\n",
            "Standard deviation of R2 of test set 0.24316114441128583\n",
            "150\n",
            "Mean value of R2 of training set 0.37076864793552233\n",
            "Standard deviation of R2 of training set 0.27240362784123795\n",
            "Mean value of R2 of test set -0.028351806712039962\n",
            "Standard deviation of R2 of test set 0.2726895245141491\n"
          ],
          "name": "stdout"
        },
        {
          "output_type": "stream",
          "text": [
            "/usr/local/lib/python3.6/dist-packages/sklearn/neural_network/_multilayer_perceptron.py:571: ConvergenceWarning: Stochastic Optimizer: Maximum iterations (500) reached and the optimization hasn't converged yet.\n",
            "  % self.max_iter, ConvergenceWarning)\n"
          ],
          "name": "stderr"
        },
        {
          "output_type": "stream",
          "text": [
            "151\n",
            "Mean value of R2 of training set 0.21516173192995114\n",
            "Standard deviation of R2 of training set 0.3616797110118705\n",
            "Mean value of R2 of test set 0.0337463836177464\n",
            "Standard deviation of R2 of test set 0.2169800080165174\n",
            "152\n",
            "Mean value of R2 of training set 0.24861187024748882\n",
            "Standard deviation of R2 of training set 0.2951349646047813\n",
            "Mean value of R2 of test set 0.004122441840244628\n",
            "Standard deviation of R2 of test set 0.27599673510442896\n",
            "153\n",
            "Mean value of R2 of training set 0.40545858376260546\n",
            "Standard deviation of R2 of training set 0.057729576684468285\n",
            "Mean value of R2 of test set 0.1313039328053721\n",
            "Standard deviation of R2 of test set 0.18803122833504932\n",
            "154\n",
            "Mean value of R2 of training set 0.05131947524531205\n",
            "Standard deviation of R2 of training set 0.33180935167237796\n",
            "Mean value of R2 of test set -0.06575572790035267\n",
            "Standard deviation of R2 of test set 0.4552417835939759\n"
          ],
          "name": "stdout"
        },
        {
          "output_type": "stream",
          "text": [
            "/usr/local/lib/python3.6/dist-packages/sklearn/neural_network/_multilayer_perceptron.py:571: ConvergenceWarning: Stochastic Optimizer: Maximum iterations (500) reached and the optimization hasn't converged yet.\n",
            "  % self.max_iter, ConvergenceWarning)\n"
          ],
          "name": "stderr"
        },
        {
          "output_type": "stream",
          "text": [
            "155\n",
            "Mean value of R2 of training set 0.3926794580291895\n",
            "Standard deviation of R2 of training set 0.21763701306830105\n",
            "Mean value of R2 of test set 0.023828355322756067\n",
            "Standard deviation of R2 of test set 0.3101838784638616\n",
            "156\n",
            "Mean value of R2 of training set 0.08660869977838045\n",
            "Standard deviation of R2 of training set 0.3370978780574502\n",
            "Mean value of R2 of test set -0.20704166594071916\n",
            "Standard deviation of R2 of test set 0.25544977286888615\n",
            "157\n",
            "Mean value of R2 of training set 0.12131114763295589\n",
            "Standard deviation of R2 of training set 0.10762918769535382\n",
            "Mean value of R2 of test set -0.03634982714407159\n",
            "Standard deviation of R2 of test set 0.2966368969894617\n",
            "158\n",
            "Mean value of R2 of training set 0.24965718100423706\n",
            "Standard deviation of R2 of training set 0.16401171003793238\n",
            "Mean value of R2 of test set 0.029431522528965665\n",
            "Standard deviation of R2 of test set 0.24780911635424055\n",
            "159\n",
            "Mean value of R2 of training set 0.18886521756032895\n",
            "Standard deviation of R2 of training set 0.1813826071017796\n",
            "Mean value of R2 of test set 0.05615116621072411\n",
            "Standard deviation of R2 of test set 0.24623202144899162\n",
            "160\n",
            "Mean value of R2 of training set 0.08451914472843991\n",
            "Standard deviation of R2 of training set 0.08990408852565103\n",
            "Mean value of R2 of test set -0.027822958928217678\n",
            "Standard deviation of R2 of test set 0.3287714048544143\n",
            "161\n",
            "Mean value of R2 of training set 0.058489372710432475\n",
            "Standard deviation of R2 of training set 0.377700894837457\n",
            "Mean value of R2 of test set -0.04947257954629092\n",
            "Standard deviation of R2 of test set 0.319656940743512\n",
            "162\n",
            "Mean value of R2 of training set -0.14251984486181524\n",
            "Standard deviation of R2 of training set 0.22243656473484325\n",
            "Mean value of R2 of test set -0.1806300834639181\n",
            "Standard deviation of R2 of test set 0.260701762549023\n",
            "163\n",
            "Mean value of R2 of training set 0.02496293504132374\n",
            "Standard deviation of R2 of training set 0.22559740016432742\n",
            "Mean value of R2 of test set -0.08018686628766655\n",
            "Standard deviation of R2 of test set 0.24722472308736443\n",
            "164\n",
            "Mean value of R2 of training set 0.16669668076999522\n",
            "Standard deviation of R2 of training set 0.18753043454808824\n",
            "Mean value of R2 of test set -0.0013596913534654198\n",
            "Standard deviation of R2 of test set 0.1830899118395131\n",
            "165\n",
            "Mean value of R2 of training set 0.23108191151472587\n",
            "Standard deviation of R2 of training set 0.1971742524994848\n",
            "Mean value of R2 of test set 0.05632100091426309\n",
            "Standard deviation of R2 of test set 0.27194133109174007\n",
            "166\n",
            "Mean value of R2 of training set 0.1824629647103579\n",
            "Standard deviation of R2 of training set 0.21121470293579545\n",
            "Mean value of R2 of test set -0.04808640065431011\n",
            "Standard deviation of R2 of test set 0.2614190281870067\n",
            "167\n",
            "Mean value of R2 of training set 0.06366820568804668\n",
            "Standard deviation of R2 of training set 0.1897605311745932\n",
            "Mean value of R2 of test set -0.12501449284048677\n",
            "Standard deviation of R2 of test set 0.1466902673383454\n",
            "168\n",
            "Mean value of R2 of training set -0.054580569019393343\n",
            "Standard deviation of R2 of training set 0.5054299114768925\n",
            "Mean value of R2 of test set -0.17924106452453065\n",
            "Standard deviation of R2 of test set 0.39626905630798914\n",
            "169\n",
            "Mean value of R2 of training set 0.06440689366429261\n",
            "Standard deviation of R2 of training set 0.27341265343226895\n",
            "Mean value of R2 of test set -0.05500280106802111\n",
            "Standard deviation of R2 of test set 0.24421953754446163\n",
            "170\n",
            "Mean value of R2 of training set -0.11477511904176987\n",
            "Standard deviation of R2 of training set 0.3585547380818537\n",
            "Mean value of R2 of test set -0.214321873498578\n",
            "Standard deviation of R2 of test set 0.24527757655979204\n",
            "171\n",
            "Mean value of R2 of training set -0.13154049146940916\n",
            "Standard deviation of R2 of training set 0.38412111154049655\n",
            "Mean value of R2 of test set -0.25029754969912843\n",
            "Standard deviation of R2 of test set 0.39141028095962\n",
            "172\n",
            "Mean value of R2 of training set 0.18236999281085844\n",
            "Standard deviation of R2 of training set 0.16381505487982612\n",
            "Mean value of R2 of test set 0.033242479700824196\n",
            "Standard deviation of R2 of test set 0.2996702322969726\n",
            "173\n",
            "Mean value of R2 of training set -0.16085178456309265\n",
            "Standard deviation of R2 of training set 0.34043347487933906\n",
            "Mean value of R2 of test set -0.24266481027103295\n",
            "Standard deviation of R2 of test set 0.20024775714736925\n",
            "174\n",
            "Mean value of R2 of training set -0.08153342744725248\n",
            "Standard deviation of R2 of training set 0.21323626199604162\n",
            "Mean value of R2 of test set -0.2089955462599959\n",
            "Standard deviation of R2 of test set 0.18108883874894444\n",
            "175\n",
            "Mean value of R2 of training set 0.2059486117018214\n",
            "Standard deviation of R2 of training set 0.4037103597411713\n",
            "Mean value of R2 of test set -0.08909681147824633\n",
            "Standard deviation of R2 of test set 0.17289150970242229\n",
            "176\n",
            "Mean value of R2 of training set 0.12020889319350342\n",
            "Standard deviation of R2 of training set 0.318573876965213\n",
            "Mean value of R2 of test set -0.08611101043531033\n",
            "Standard deviation of R2 of test set 0.24568875219729683\n",
            "177\n",
            "Mean value of R2 of training set 0.2233254441276935\n",
            "Standard deviation of R2 of training set 0.05047803257489656\n",
            "Mean value of R2 of test set 0.07919445894785124\n",
            "Standard deviation of R2 of test set 0.30485291469233705\n",
            "178\n",
            "Mean value of R2 of training set 0.29406541650934875\n",
            "Standard deviation of R2 of training set 0.11886298617271168\n",
            "Mean value of R2 of test set 0.07048034551119939\n",
            "Standard deviation of R2 of test set 0.3206736674543113\n",
            "179\n",
            "Mean value of R2 of training set 0.2698235228972102\n",
            "Standard deviation of R2 of training set 0.2404572069669503\n",
            "Mean value of R2 of test set 0.019490331881886036\n",
            "Standard deviation of R2 of test set 0.27609352172268464\n",
            "180\n",
            "Mean value of R2 of training set 0.18942810442760835\n",
            "Standard deviation of R2 of training set 0.41984901544827413\n",
            "Mean value of R2 of test set -0.108734873319627\n",
            "Standard deviation of R2 of test set 0.2858461128234936\n"
          ],
          "name": "stdout"
        },
        {
          "output_type": "stream",
          "text": [
            "/usr/local/lib/python3.6/dist-packages/sklearn/neural_network/_multilayer_perceptron.py:571: ConvergenceWarning: Stochastic Optimizer: Maximum iterations (500) reached and the optimization hasn't converged yet.\n",
            "  % self.max_iter, ConvergenceWarning)\n"
          ],
          "name": "stderr"
        },
        {
          "output_type": "stream",
          "text": [
            "181\n",
            "Mean value of R2 of training set 0.41071016569066454\n",
            "Standard deviation of R2 of training set 0.16074245091826583\n",
            "Mean value of R2 of test set 0.06143007262582367\n",
            "Standard deviation of R2 of test set 0.26483952487758755\n",
            "182\n",
            "Mean value of R2 of training set -0.04175451985093534\n",
            "Standard deviation of R2 of training set 0.364617336741103\n",
            "Mean value of R2 of test set -0.16793320288178798\n",
            "Standard deviation of R2 of test set 0.30093768297153856\n",
            "183\n",
            "Mean value of R2 of training set 0.06085366434330938\n",
            "Standard deviation of R2 of training set 0.3475931960791958\n",
            "Mean value of R2 of test set -0.18135623436880657\n",
            "Standard deviation of R2 of test set 0.38689525074673425\n",
            "184\n",
            "Mean value of R2 of training set 0.18440211241595686\n",
            "Standard deviation of R2 of training set 0.17987789548127972\n",
            "Mean value of R2 of test set 4.987519835839005e-05\n",
            "Standard deviation of R2 of test set 0.3229850760085725\n",
            "185\n",
            "Mean value of R2 of training set -0.005290236906372425\n",
            "Standard deviation of R2 of training set 0.34946203885324456\n",
            "Mean value of R2 of test set -0.139806081938532\n",
            "Standard deviation of R2 of test set 0.14001442331996647\n",
            "186\n",
            "Mean value of R2 of training set 0.21232208985359505\n",
            "Standard deviation of R2 of training set 0.17802514827201044\n",
            "Mean value of R2 of test set 0.038623237778592584\n",
            "Standard deviation of R2 of test set 0.2643566236285014\n",
            "187\n",
            "Mean value of R2 of training set -0.05337537617346272\n",
            "Standard deviation of R2 of training set 0.4060005823894115\n",
            "Mean value of R2 of test set -0.22536098959039438\n",
            "Standard deviation of R2 of test set 0.41732962020766956\n",
            "188\n",
            "Mean value of R2 of training set 0.0636310791876194\n",
            "Standard deviation of R2 of training set 0.05998126084430932\n",
            "Mean value of R2 of test set -0.0035638765521752436\n",
            "Standard deviation of R2 of test set 0.32128060712347045\n",
            "189\n",
            "Mean value of R2 of training set 0.00990653716658968\n",
            "Standard deviation of R2 of training set 0.20377574331316523\n",
            "Mean value of R2 of test set -0.0822199395325188\n",
            "Standard deviation of R2 of test set 0.3440888540272122\n",
            "190\n",
            "Mean value of R2 of training set 0.28075645425608575\n",
            "Standard deviation of R2 of training set 0.29769376428794264\n",
            "Mean value of R2 of test set 0.024956260959563964\n",
            "Standard deviation of R2 of test set 0.24116969920637973\n",
            "191\n",
            "Mean value of R2 of training set 0.1000048142750122\n",
            "Standard deviation of R2 of training set 0.3206739758469572\n",
            "Mean value of R2 of test set -0.09726060947991935\n",
            "Standard deviation of R2 of test set 0.40778005476691687\n",
            "192\n",
            "Mean value of R2 of training set 0.312498042712172\n",
            "Standard deviation of R2 of training set 0.14842730116526348\n",
            "Mean value of R2 of test set 0.08913363540322161\n",
            "Standard deviation of R2 of test set 0.270310231426642\n",
            "193\n",
            "Mean value of R2 of training set 0.1357393557925305\n",
            "Standard deviation of R2 of training set 0.2357456932953763\n",
            "Mean value of R2 of test set -0.06379794753754209\n",
            "Standard deviation of R2 of test set 0.3337923116449349\n",
            "194\n",
            "Mean value of R2 of training set 0.13484315419273438\n",
            "Standard deviation of R2 of training set 0.11855610024653955\n",
            "Mean value of R2 of test set 0.005067400432527819\n",
            "Standard deviation of R2 of test set 0.3309028688298363\n",
            "195\n",
            "Mean value of R2 of training set 0.11351178003785928\n",
            "Standard deviation of R2 of training set 0.17284232009615416\n",
            "Mean value of R2 of test set 0.004568024315441371\n",
            "Standard deviation of R2 of test set 0.317035242694035\n"
          ],
          "name": "stdout"
        },
        {
          "output_type": "stream",
          "text": [
            "/usr/local/lib/python3.6/dist-packages/sklearn/neural_network/_multilayer_perceptron.py:571: ConvergenceWarning: Stochastic Optimizer: Maximum iterations (500) reached and the optimization hasn't converged yet.\n",
            "  % self.max_iter, ConvergenceWarning)\n"
          ],
          "name": "stderr"
        },
        {
          "output_type": "stream",
          "text": [
            "196\n",
            "Mean value of R2 of training set 0.10613283260369577\n",
            "Standard deviation of R2 of training set 0.3453316207363083\n",
            "Mean value of R2 of test set -0.14278628737857732\n",
            "Standard deviation of R2 of test set 0.210891551906862\n",
            "197\n",
            "Mean value of R2 of training set -0.08071124526414067\n",
            "Standard deviation of R2 of training set 0.26236091867284195\n",
            "Mean value of R2 of test set -0.1518874446477885\n",
            "Standard deviation of R2 of test set 0.31321604910336426\n",
            "198\n",
            "Mean value of R2 of training set -0.12390220133967386\n",
            "Standard deviation of R2 of training set 0.3240036011407244\n",
            "Mean value of R2 of test set -0.205048447350001\n",
            "Standard deviation of R2 of test set 0.33608578726001215\n",
            "199\n",
            "Mean value of R2 of training set -0.004447602077732454\n",
            "Standard deviation of R2 of training set 0.2493986432571973\n",
            "Mean value of R2 of test set -0.09964510235452242\n",
            "Standard deviation of R2 of test set 0.3070303275940574\n",
            "200\n",
            "Mean value of R2 of training set -0.10606927071238448\n",
            "Standard deviation of R2 of training set 0.20071212543889774\n",
            "Mean value of R2 of test set -0.14106188522684487\n",
            "Standard deviation of R2 of test set 0.17534364927547333\n"
          ],
          "name": "stdout"
        }
      ]
    },
    {
      "cell_type": "code",
      "metadata": {
        "colab": {
          "base_uri": "https://localhost:8080/"
        },
        "id": "q-BWoXuT6QN8",
        "outputId": "5bf3c03e-2740-4623-d3b3-f3731e5f62f0"
      },
      "source": [
        "# max_iter 参数的最佳取值(100, 1000, 100)\n",
        "\n",
        "for i in range(100, 1000, 100):\n",
        "  #apply multi-layer perceptron to data\n",
        "  from sklearn.neural_network import MLPRegressor\n",
        "  # https://scikit-learn.org/stable/modules/neural_networks_supervised.html\n",
        "  \n",
        "  # TODO: Import 'KFold'\n",
        "  from sklearn.model_selection import KFold\n",
        "  \n",
        "  # TODO Calculate the r2 score between 'y_true' and 'y_predict'\n",
        "  from math import sqrt\n",
        "  from sklearn import metrics\n",
        "  \n",
        "  np.random.seed(seed = 150)\n",
        "  data['random'] = np.random.random(size = len(data))\n",
        "  \n",
        "  # Lets split the data into 4 folds.  \n",
        "  kf =KFold(n_splits=4, shuffle=True)\n",
        "  \n",
        "  cnt = 1\n",
        "  r2_train_all=[]\n",
        "  r2_test_all=[]\n",
        "  \n",
        "  # split()  method generate indices to split data into training and test set.\n",
        "  for train_index, test_index in kf.split(Features, Oil_ER):\n",
        "    # print(f'Fold:{cnt}, Train set: {len(train_index)}, Test set:{len(test_index)}')\n",
        "    \n",
        "    #fixed by Wenjing\n",
        "    X_train, X_test = Features.iloc[train_index,:],Features.iloc[test_index,:]\n",
        "    y_train, y_test = Oil_ER.iloc[train_index],Oil_ER.iloc[test_index]\n",
        "    \n",
        "    #multi-layer perceptron (an example of ANN)\n",
        "    mlpr = MLPRegressor(hidden_layer_sizes=(64,),max_iter=i, \n",
        "                       learning_rate_init=0.001,early_stopping=True)\n",
        "    # Model training\n",
        "    mlpr.fit(X_train,y_train)\n",
        "    \n",
        "    y_train_predict = mlpr.predict(X_train)\n",
        "    y_test_predict = mlpr.predict(X_test)\n",
        "    \n",
        "    r2_train = metrics.r2_score(y_train, y_train_predict)\n",
        "    r2_test = metrics.r2_score(y_test, y_test_predict)\n",
        "\n",
        "    # print(\"Optimal model has R2 score of training set {:,.2f} on training data.\".format(r2_train))\n",
        "    # print(\"Optimal model has R2 score of test set {:,.2f} on test data.\".format(r2_test))\n",
        "    # print(\"\")\n",
        "\n",
        "    cnt += 1\n",
        "    r2_train_all.append(r2_train)\n",
        "    r2_test_all.append(r2_test)\n",
        "  \n",
        "  print(i)\n",
        "  print(\"Mean value of R2 of training set\", np.mean(r2_train_all))\n",
        "  print(\"Standard deviation of R2 of training set\", np.std(r2_train_all))\n",
        "  print(\"Mean value of R2 of test set\", np.mean(r2_test_all))\n",
        "  print(\"Standard deviation of R2 of test set\", np.std(r2_test_all))"
      ],
      "execution_count": 20,
      "outputs": [
        {
          "output_type": "stream",
          "text": [
            "/usr/local/lib/python3.6/dist-packages/sklearn/neural_network/_multilayer_perceptron.py:571: ConvergenceWarning: Stochastic Optimizer: Maximum iterations (100) reached and the optimization hasn't converged yet.\n",
            "  % self.max_iter, ConvergenceWarning)\n",
            "/usr/local/lib/python3.6/dist-packages/sklearn/neural_network/_multilayer_perceptron.py:571: ConvergenceWarning: Stochastic Optimizer: Maximum iterations (100) reached and the optimization hasn't converged yet.\n",
            "  % self.max_iter, ConvergenceWarning)\n",
            "/usr/local/lib/python3.6/dist-packages/sklearn/neural_network/_multilayer_perceptron.py:571: ConvergenceWarning: Stochastic Optimizer: Maximum iterations (100) reached and the optimization hasn't converged yet.\n",
            "  % self.max_iter, ConvergenceWarning)\n",
            "/usr/local/lib/python3.6/dist-packages/sklearn/neural_network/_multilayer_perceptron.py:571: ConvergenceWarning: Stochastic Optimizer: Maximum iterations (100) reached and the optimization hasn't converged yet.\n",
            "  % self.max_iter, ConvergenceWarning)\n"
          ],
          "name": "stderr"
        },
        {
          "output_type": "stream",
          "text": [
            "100\n",
            "Mean value of R2 of training set 0.13452471584606962\n",
            "Standard deviation of R2 of training set 0.0996390673327685\n",
            "Mean value of R2 of test set -0.00433235445047786\n",
            "Standard deviation of R2 of test set 0.3199519325671272\n"
          ],
          "name": "stdout"
        },
        {
          "output_type": "stream",
          "text": [
            "/usr/local/lib/python3.6/dist-packages/sklearn/neural_network/_multilayer_perceptron.py:571: ConvergenceWarning: Stochastic Optimizer: Maximum iterations (200) reached and the optimization hasn't converged yet.\n",
            "  % self.max_iter, ConvergenceWarning)\n",
            "/usr/local/lib/python3.6/dist-packages/sklearn/neural_network/_multilayer_perceptron.py:571: ConvergenceWarning: Stochastic Optimizer: Maximum iterations (200) reached and the optimization hasn't converged yet.\n",
            "  % self.max_iter, ConvergenceWarning)\n"
          ],
          "name": "stderr"
        },
        {
          "output_type": "stream",
          "text": [
            "200\n",
            "Mean value of R2 of training set 0.2395947329446553\n",
            "Standard deviation of R2 of training set 0.16881189483802458\n",
            "Mean value of R2 of test set 0.08396242011952387\n",
            "Standard deviation of R2 of test set 0.25713270015950834\n"
          ],
          "name": "stdout"
        },
        {
          "output_type": "stream",
          "text": [
            "/usr/local/lib/python3.6/dist-packages/sklearn/neural_network/_multilayer_perceptron.py:571: ConvergenceWarning: Stochastic Optimizer: Maximum iterations (300) reached and the optimization hasn't converged yet.\n",
            "  % self.max_iter, ConvergenceWarning)\n",
            "/usr/local/lib/python3.6/dist-packages/sklearn/neural_network/_multilayer_perceptron.py:571: ConvergenceWarning: Stochastic Optimizer: Maximum iterations (300) reached and the optimization hasn't converged yet.\n",
            "  % self.max_iter, ConvergenceWarning)\n"
          ],
          "name": "stderr"
        },
        {
          "output_type": "stream",
          "text": [
            "300\n",
            "Mean value of R2 of training set 0.2587145855426355\n",
            "Standard deviation of R2 of training set 0.10390118575009712\n",
            "Mean value of R2 of test set 0.1111792356976912\n",
            "Standard deviation of R2 of test set 0.20781478966700515\n",
            "400\n",
            "Mean value of R2 of training set 0.36480352128105625\n",
            "Standard deviation of R2 of training set 0.11095686584518144\n",
            "Mean value of R2 of test set 0.16356949982125754\n",
            "Standard deviation of R2 of test set 0.2721280983815517\n",
            "500\n",
            "Mean value of R2 of training set 0.36480352128105625\n",
            "Standard deviation of R2 of training set 0.11095686584518144\n",
            "Mean value of R2 of test set 0.16356949982125754\n",
            "Standard deviation of R2 of test set 0.2721280983815517\n",
            "600\n",
            "Mean value of R2 of training set 0.36480352128105625\n",
            "Standard deviation of R2 of training set 0.11095686584518144\n",
            "Mean value of R2 of test set 0.16356949982125754\n",
            "Standard deviation of R2 of test set 0.2721280983815517\n",
            "700\n",
            "Mean value of R2 of training set 0.36480352128105625\n",
            "Standard deviation of R2 of training set 0.11095686584518144\n",
            "Mean value of R2 of test set 0.16356949982125754\n",
            "Standard deviation of R2 of test set 0.2721280983815517\n",
            "800\n",
            "Mean value of R2 of training set 0.36480352128105625\n",
            "Standard deviation of R2 of training set 0.11095686584518144\n",
            "Mean value of R2 of test set 0.16356949982125754\n",
            "Standard deviation of R2 of test set 0.2721280983815517\n",
            "900\n",
            "Mean value of R2 of training set 0.36480352128105625\n",
            "Standard deviation of R2 of training set 0.11095686584518144\n",
            "Mean value of R2 of test set 0.16356949982125754\n",
            "Standard deviation of R2 of test set 0.2721280983815517\n"
          ],
          "name": "stdout"
        }
      ]
    },
    {
      "cell_type": "code",
      "metadata": {
        "colab": {
          "base_uri": "https://localhost:8080/"
        },
        "id": "xEBc-yEN7S9H",
        "outputId": "2252700d-6330-429f-ebcb-b790e872d5ac"
      },
      "source": [
        "# learning_rate_init 参数的最佳取值(0.0005, 0.002, 0.0001)\n",
        "\n",
        "for i in range(5, 20, 1):\n",
        "  #apply multi-layer perceptron to data\n",
        "  from sklearn.neural_network import MLPRegressor\n",
        "  # https://scikit-learn.org/stable/modules/neural_networks_supervised.html\n",
        "  \n",
        "  # TODO: Import 'KFold'\n",
        "  from sklearn.model_selection import KFold\n",
        "  \n",
        "  # TODO Calculate the r2 score between 'y_true' and 'y_predict'\n",
        "  from math import sqrt\n",
        "  from sklearn import metrics\n",
        "  \n",
        "  np.random.seed(seed = 150)\n",
        "  data['random'] = np.random.random(size = len(data))\n",
        "  \n",
        "  # Lets split the data into 4 folds.  \n",
        "  kf =KFold(n_splits=4, shuffle=True)\n",
        "  \n",
        "  cnt = 1\n",
        "  r2_train_all=[]\n",
        "  r2_test_all=[]\n",
        "  \n",
        "  # split()  method generate indices to split data into training and test set.\n",
        "  for train_index, test_index in kf.split(Features, Oil_ER):\n",
        "    # print(f'Fold:{cnt}, Train set: {len(train_index)}, Test set:{len(test_index)}')\n",
        "    \n",
        "    #fixed by Wenjing\n",
        "    X_train, X_test = Features.iloc[train_index,:],Features.iloc[test_index,:]\n",
        "    y_train, y_test = Oil_ER.iloc[train_index],Oil_ER.iloc[test_index]\n",
        "    \n",
        "    #multi-layer perceptron (an example of ANN)\n",
        "    mlpr = MLPRegressor(hidden_layer_sizes=(64,),max_iter=400, \n",
        "                       learning_rate_init=i/10000,early_stopping=True)\n",
        "    # Model training\n",
        "    mlpr.fit(X_train,y_train)\n",
        "    \n",
        "    y_train_predict = mlpr.predict(X_train)\n",
        "    y_test_predict = mlpr.predict(X_test)\n",
        "    \n",
        "    r2_train = metrics.r2_score(y_train, y_train_predict)\n",
        "    r2_test = metrics.r2_score(y_test, y_test_predict)\n",
        "\n",
        "    # print(\"Optimal model has R2 score of training set {:,.2f} on training data.\".format(r2_train))\n",
        "    # print(\"Optimal model has R2 score of test set {:,.2f} on test data.\".format(r2_test))\n",
        "    # print(\"\")\n",
        "\n",
        "    cnt += 1\n",
        "    r2_train_all.append(r2_train)\n",
        "    r2_test_all.append(r2_test)\n",
        "  \n",
        "  print(i/10000)\n",
        "  print(\"Mean value of R2 of training set\", np.mean(r2_train_all))\n",
        "  print(\"Standard deviation of R2 of training set\", np.std(r2_train_all))\n",
        "  print(\"Mean value of R2 of test set\", np.mean(r2_test_all))\n",
        "  print(\"Standard deviation of R2 of test set\", np.std(r2_test_all))"
      ],
      "execution_count": 21,
      "outputs": [
        {
          "output_type": "stream",
          "text": [
            "/usr/local/lib/python3.6/dist-packages/sklearn/neural_network/_multilayer_perceptron.py:571: ConvergenceWarning: Stochastic Optimizer: Maximum iterations (400) reached and the optimization hasn't converged yet.\n",
            "  % self.max_iter, ConvergenceWarning)\n",
            "/usr/local/lib/python3.6/dist-packages/sklearn/neural_network/_multilayer_perceptron.py:571: ConvergenceWarning: Stochastic Optimizer: Maximum iterations (400) reached and the optimization hasn't converged yet.\n",
            "  % self.max_iter, ConvergenceWarning)\n"
          ],
          "name": "stderr"
        },
        {
          "output_type": "stream",
          "text": [
            "0.0005\n",
            "Mean value of R2 of training set 0.29566417284576607\n",
            "Standard deviation of R2 of training set 0.02492119377901593\n",
            "Mean value of R2 of test set 0.14516458884921865\n",
            "Standard deviation of R2 of test set 0.23110774063247447\n"
          ],
          "name": "stdout"
        },
        {
          "output_type": "stream",
          "text": [
            "/usr/local/lib/python3.6/dist-packages/sklearn/neural_network/_multilayer_perceptron.py:571: ConvergenceWarning: Stochastic Optimizer: Maximum iterations (400) reached and the optimization hasn't converged yet.\n",
            "  % self.max_iter, ConvergenceWarning)\n"
          ],
          "name": "stderr"
        },
        {
          "output_type": "stream",
          "text": [
            "0.0006\n",
            "Mean value of R2 of training set 0.22872212773845702\n",
            "Standard deviation of R2 of training set 0.10720564345203236\n",
            "Mean value of R2 of test set 0.12138015706337646\n",
            "Standard deviation of R2 of test set 0.22017034089342782\n"
          ],
          "name": "stdout"
        },
        {
          "output_type": "stream",
          "text": [
            "/usr/local/lib/python3.6/dist-packages/sklearn/neural_network/_multilayer_perceptron.py:571: ConvergenceWarning: Stochastic Optimizer: Maximum iterations (400) reached and the optimization hasn't converged yet.\n",
            "  % self.max_iter, ConvergenceWarning)\n",
            "/usr/local/lib/python3.6/dist-packages/sklearn/neural_network/_multilayer_perceptron.py:571: ConvergenceWarning: Stochastic Optimizer: Maximum iterations (400) reached and the optimization hasn't converged yet.\n",
            "  % self.max_iter, ConvergenceWarning)\n"
          ],
          "name": "stderr"
        },
        {
          "output_type": "stream",
          "text": [
            "0.0007\n",
            "Mean value of R2 of training set 0.3082301884652052\n",
            "Standard deviation of R2 of training set 0.036447825713366126\n",
            "Mean value of R2 of test set 0.14463766767337385\n",
            "Standard deviation of R2 of test set 0.23785212656603383\n"
          ],
          "name": "stdout"
        },
        {
          "output_type": "stream",
          "text": [
            "/usr/local/lib/python3.6/dist-packages/sklearn/neural_network/_multilayer_perceptron.py:571: ConvergenceWarning: Stochastic Optimizer: Maximum iterations (400) reached and the optimization hasn't converged yet.\n",
            "  % self.max_iter, ConvergenceWarning)\n",
            "/usr/local/lib/python3.6/dist-packages/sklearn/neural_network/_multilayer_perceptron.py:571: ConvergenceWarning: Stochastic Optimizer: Maximum iterations (400) reached and the optimization hasn't converged yet.\n",
            "  % self.max_iter, ConvergenceWarning)\n"
          ],
          "name": "stderr"
        },
        {
          "output_type": "stream",
          "text": [
            "0.0008\n",
            "Mean value of R2 of training set 0.18183880312633485\n",
            "Standard deviation of R2 of training set 0.33785241818696315\n",
            "Mean value of R2 of test set 0.033692362727518854\n",
            "Standard deviation of R2 of test set 0.18892213094210009\n",
            "0.0009\n",
            "Mean value of R2 of training set 0.2249243324783441\n",
            "Standard deviation of R2 of training set 0.14130076295014793\n",
            "Mean value of R2 of test set 0.02192391422916601\n",
            "Standard deviation of R2 of test set 0.2763767378479501\n",
            "0.001\n",
            "Mean value of R2 of training set 0.36480352128105625\n",
            "Standard deviation of R2 of training set 0.11095686584518144\n",
            "Mean value of R2 of test set 0.16356949982125754\n",
            "Standard deviation of R2 of test set 0.2721280983815517\n",
            "0.0011\n",
            "Mean value of R2 of training set 0.3554694376976515\n",
            "Standard deviation of R2 of training set 0.13748174352611206\n",
            "Mean value of R2 of test set 0.14173618176521213\n",
            "Standard deviation of R2 of test set 0.2794325560388348\n",
            "0.0012\n",
            "Mean value of R2 of training set 0.18954325551166634\n",
            "Standard deviation of R2 of training set 0.1744705942504645\n",
            "Mean value of R2 of test set 0.03346684201835573\n",
            "Standard deviation of R2 of test set 0.27787875921941385\n",
            "0.0013\n",
            "Mean value of R2 of training set 0.12499836890612553\n",
            "Standard deviation of R2 of training set 0.19913078795401234\n",
            "Mean value of R2 of test set 0.08887553306186749\n",
            "Standard deviation of R2 of test set 0.32005550293670504\n"
          ],
          "name": "stdout"
        },
        {
          "output_type": "stream",
          "text": [
            "/usr/local/lib/python3.6/dist-packages/sklearn/neural_network/_multilayer_perceptron.py:571: ConvergenceWarning: Stochastic Optimizer: Maximum iterations (400) reached and the optimization hasn't converged yet.\n",
            "  % self.max_iter, ConvergenceWarning)\n"
          ],
          "name": "stderr"
        },
        {
          "output_type": "stream",
          "text": [
            "0.0014\n",
            "Mean value of R2 of training set 0.36307525386543316\n",
            "Standard deviation of R2 of training set 0.0778710229898525\n",
            "Mean value of R2 of test set 0.08291920341718045\n",
            "Standard deviation of R2 of test set 0.29820317868799096\n"
          ],
          "name": "stdout"
        },
        {
          "output_type": "stream",
          "text": [
            "/usr/local/lib/python3.6/dist-packages/sklearn/neural_network/_multilayer_perceptron.py:571: ConvergenceWarning: Stochastic Optimizer: Maximum iterations (400) reached and the optimization hasn't converged yet.\n",
            "  % self.max_iter, ConvergenceWarning)\n"
          ],
          "name": "stderr"
        },
        {
          "output_type": "stream",
          "text": [
            "0.0015\n",
            "Mean value of R2 of training set 0.3829325521518051\n",
            "Standard deviation of R2 of training set 0.15943750715665456\n",
            "Mean value of R2 of test set 0.11422866650701188\n",
            "Standard deviation of R2 of test set 0.2840607462694531\n",
            "0.0016\n",
            "Mean value of R2 of training set -0.009318323116908278\n",
            "Standard deviation of R2 of training set 0.25474899376683996\n",
            "Mean value of R2 of test set -0.1398942670546715\n",
            "Standard deviation of R2 of test set 0.22146759302025945\n",
            "0.0017\n",
            "Mean value of R2 of training set 0.044090905589649176\n",
            "Standard deviation of R2 of training set 0.2037330767428703\n",
            "Mean value of R2 of test set -0.0923399936950722\n",
            "Standard deviation of R2 of test set 0.34070343297387945\n",
            "0.0018\n",
            "Mean value of R2 of training set -0.22243460773197377\n",
            "Standard deviation of R2 of training set 0.41896072971613724\n",
            "Mean value of R2 of test set -0.3911583664847258\n",
            "Standard deviation of R2 of test set 0.45387562999547215\n",
            "0.0019\n",
            "Mean value of R2 of training set 0.1291832892379065\n",
            "Standard deviation of R2 of training set 0.28964656998372124\n",
            "Mean value of R2 of test set -0.0014264983729063152\n",
            "Standard deviation of R2 of test set 0.16195172117108927\n"
          ],
          "name": "stdout"
        }
      ]
    },
    {
      "cell_type": "code",
      "metadata": {
        "colab": {
          "base_uri": "https://localhost:8080/"
        },
        "id": "o47aodgS8EhS",
        "outputId": "ecd61f3a-b468-473d-a43a-21e66848ae6c"
      },
      "source": [
        "#apply multi-layer perceptron to data\n",
        "from sklearn.neural_network import MLPRegressor\n",
        "# https://scikit-learn.org/stable/modules/neural_networks_supervised.html\n",
        "\n",
        "# TODO: Import 'KFold'\n",
        "from sklearn.model_selection import KFold\n",
        "\n",
        "# TODO Calculate the r2 score between 'y_true' and 'y_predict'\n",
        "from math import sqrt\n",
        "from sklearn import metrics\n",
        "\n",
        "np.random.seed(seed = 150)\n",
        "data['random'] = np.random.random(size = len(data))\n",
        "\n",
        "\n",
        "# Lets split the data into 4 folds.  \n",
        "kf =KFold(n_splits=4, shuffle=True)\n",
        "\n",
        "cnt = 1\n",
        "\n",
        "MAE_train_all=[]\n",
        "MAE_test_all=[]\n",
        "y_train_rmse_all=[]\n",
        "y_test_rmse_all=[]\n",
        "r2_train_all=[]\n",
        "r2_test_all=[]\n",
        "MRE_train_all=[]\n",
        "MRE_test_all=[]\n",
        "y_test_list=[]\n",
        "y_pred_list=[]\n",
        "\n",
        "# split()  method generate indices to split data into training and test set.\n",
        "for train_index, test_index in kf.split(Features, Oil_ER):\n",
        "    # print(f'Fold:{cnt}, Train set: {len(train_index)}, Test set:{len(test_index)}')\n",
        "    \n",
        "    #fixed by Wenjing\n",
        "    X_train, X_test = Features.iloc[train_index,:],Features.iloc[test_index,:]\n",
        "    y_train, y_test = Oil_ER.iloc[train_index],Oil_ER.iloc[test_index]\n",
        "    \n",
        "    #multi-layer perceptron (an example of ANN)\n",
        "    mlpr = MLPRegressor(hidden_layer_sizes=(64,),max_iter=400, \n",
        "                       learning_rate_init=0.001,early_stopping=True)\n",
        "    # Model training\n",
        "    mlpr.fit(X_train,y_train)\n",
        "\n",
        "    # Predict training set and test set\n",
        "    y_train_predict = mlpr.predict(X_train)\n",
        "    y_test_predict = mlpr.predict(X_test)\n",
        "\n",
        "    MAE_train = metrics.mean_absolute_error(y_train, y_train_predict)\n",
        "    MAE_test = metrics.mean_absolute_error(y_test, y_test_predict)\n",
        "\n",
        "    y_train_rmse = sqrt(metrics.mean_squared_error(y_train, y_train_predict))\n",
        "    y_test_rmse = sqrt(metrics.mean_squared_error(y_test, y_test_predict))\n",
        "\n",
        "    r2_train = metrics.r2_score(y_train, y_train_predict)\n",
        "    r2_test = metrics.r2_score(y_test, y_test_predict)\n",
        "\n",
        "    MRE_train = performance_metric(y_train, y_train_predict)\n",
        "    MRE_test = performance_metric(y_test, y_test_predict)\n",
        "\n",
        "    # print(\"Optimal model has MAE of training set:\", MAE_train)\n",
        "    # print(\"Optimal model has MAE of test set:\", MAE_test)\n",
        "    # print(\"Optimal model has RMSE of training set:\", y_train_rmse)\n",
        "    # print(\"Optimal model has RMSE of test set:\", y_test_rmse)\n",
        "    # print(\"Optimal model has R2 score of training set {:,.2f} on training data.\".format(r2_train))\n",
        "    # print(\"Optimal model has R2 score of test set {:,.2f} on test data.\".format(r2_test))\n",
        "    # print(\"Optimal model has MRE of training set:\", MRE_train)\n",
        "    # print(\"Optimal model has MRE of test set:\", MRE_test)\n",
        "    # print(\"\")\n",
        "\n",
        "    cnt += 1\n",
        "\n",
        "    MAE_train_all.append(MAE_train)\n",
        "    MAE_test_all.append(MAE_test)\n",
        "    y_train_rmse_all.append(y_train_rmse)\n",
        "    y_test_rmse_all.append(y_test_rmse)\n",
        "    r2_train_all.append(r2_train)\n",
        "    r2_test_all.append(r2_test)\n",
        "    MRE_train_all.append(MRE_train)\n",
        "    MRE_test_all.append(MRE_test)\n",
        "    y_test_list.append(y_test.values)\n",
        "    y_pred_list.append(y_test_predict)\n",
        "\n",
        "y_test_all=np.concatenate(y_test_list, axis=0)\n",
        "y_pred_all=np.concatenate(y_pred_list, axis=0)\n",
        "\n",
        "print(\"Mean value of MAE of training set\", np.mean(MAE_train_all))\n",
        "print(\"Standard deviation of MAE of training set\", np.std(MAE_train_all))\n",
        "print(\"Mean value of MAE of test set\", np.mean(MAE_test_all))\n",
        "print(\"Standard deviation of MAE of test set\", np.std(MAE_test_all))\n",
        "print(\"\")\n",
        "print(\"Mean value of RMSE of training set\", np.mean(y_train_rmse_all))\n",
        "print(\"Standard deviation of RMSE of training set\", np.std(y_train_rmse_all))\n",
        "print(\"Mean value of RMSE of test set\", np.mean(y_test_rmse_all))\n",
        "print(\"Standard deviation of RMSE of test set\", np.std(y_test_rmse_all))\n",
        "print(\"\")\n",
        "print(\"Mean value of R2 of training set\", np.mean(r2_train_all))\n",
        "print(\"Standard deviation of R2 of training set\", np.std(r2_train_all))\n",
        "print(\"Mean value of R2 of test set\", np.mean(r2_test_all))\n",
        "print(\"Standard deviation of R2 of test set\", np.std(r2_test_all))\n",
        "print(\"\")\n",
        "print(\"Mean value of MRE of training set\", np.mean(MRE_train_all))\n",
        "print(\"Standard deviation of MRE of training set\", np.std(MRE_train_all))\n",
        "print(\"Mean value of MRE of test set\", np.mean(MRE_test_all))\n",
        "print(\"Standard deviation of MRE of test set\", np.std(MRE_test_all))\n",
        "\n",
        "#print(len(np.concatenate(y_test_list, axis=0)))\n",
        "#print(len(np.concatenate(y_pred_list, axis=0)))"
      ],
      "execution_count": 22,
      "outputs": [
        {
          "output_type": "stream",
          "text": [
            "Mean value of MAE of training set 12.796568934737822\n",
            "Standard deviation of MAE of training set 1.6361653715161253\n",
            "Mean value of MAE of test set 14.628562393453837\n",
            "Standard deviation of MAE of test set 2.92594110543342\n",
            "\n",
            "Mean value of RMSE of training set 15.808706950103613\n",
            "Standard deviation of RMSE of training set 1.736909442033647\n",
            "Mean value of RMSE of test set 17.883947201972127\n",
            "Standard deviation of RMSE of test set 3.730039822881876\n",
            "\n",
            "Mean value of R2 of training set 0.36480352128105625\n",
            "Standard deviation of R2 of training set 0.11095686584518144\n",
            "Mean value of R2 of test set 0.16356949982125754\n",
            "Standard deviation of R2 of test set 0.2721280983815517\n",
            "\n",
            "Mean value of MRE of training set 0.2906485825630643\n",
            "Standard deviation of MRE of training set 0.03380254839932355\n",
            "Mean value of MRE of test set 0.33117612310393796\n",
            "Standard deviation of MRE of test set 0.05465232953987573\n"
          ],
          "name": "stdout"
        }
      ]
    },
    {
      "cell_type": "code",
      "metadata": {
        "colab": {
          "base_uri": "https://localhost:8080/",
          "height": 311
        },
        "id": "_sa7g9CN8TDd",
        "outputId": "67420e74-28c5-4af7-8c22-6720513bfa7c"
      },
      "source": [
        "import matplotlib.pyplot as py\n",
        "py.plot(y_test_all, y_pred_all, 'bo')\n",
        "py.ylim(0, 90)\n",
        "py.xlabel('y_true')\n",
        "py.ylabel('y_pred')\n",
        "py.title('y_pred vs. y_true')"
      ],
      "execution_count": 24,
      "outputs": [
        {
          "output_type": "execute_result",
          "data": {
            "text/plain": [
              "Text(0.5, 1.0, 'y_pred vs. y_true')"
            ]
          },
          "metadata": {
            "tags": []
          },
          "execution_count": 24
        },
        {
          "output_type": "display_data",
          "data": {
            "image/png": "[encoded data removed]",
            "text/plain": [
              "<Figure size 432x288 with 1 Axes>"
            ]
          },
          "metadata": {
            "tags": [],
            "image/png": {
              "width": 383,
              "height": 277
            },
            "needs_background": "light"
          }
        }
      ]
    },
    {
      "cell_type": "code",
      "metadata": {
        "id": "qICUPbfB8XXi"
      },
      "source": [
        "Parity={'Predict Data':y_pred_all,'Test Data':y_test_all}\n",
        "df = pd.DataFrame(Parity, columns= ['Predict Data', 'Test Data'])\n",
        "df.to_csv (r'/content/export_dataframe_ER_ANN_Opt.csv', index = False, header=True)"
      ],
      "execution_count": 25,
      "outputs": []
    }
  ]
}